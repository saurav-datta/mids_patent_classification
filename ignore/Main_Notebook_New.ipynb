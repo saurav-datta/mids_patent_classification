{
 "cells": [
  {
   "cell_type": "markdown",
   "metadata": {},
   "source": [
    "# Multi-label Patent Classification with Neural Networks"
   ]
  },
  {
   "cell_type": "code",
   "execution_count": 2,
   "metadata": {},
   "outputs": [],
   "source": [
    "# import packages \n",
    "import tensorflow as tf\n",
    "import pandas as pd  \n",
    "import numpy as np \n",
    "import gzip\n",
    "from keras.models import Sequential\n",
    "from keras.layers import LSTM, Dense, Activation, Dropout, Input, Embedding, Reshape, Flatten, Conv1D, Conv2D, MaxPool2D, GlobalMaxPool1D, SpatialDropout1D\n",
    "from keras.preprocessing import text, sequence\n",
    "from keras import utils\n",
    "from keras import optimizers, models\n",
    "from sklearn import model_selection, preprocessing, metrics\n",
    "from keras.utils import to_categorical\n",
    "import matplotlib.pyplot as plt\n",
    "import zipfile\n",
    "import keras_metrics\n",
    "\n",
    "\n",
    "%matplotlib inline"
   ]
  },
  {
   "cell_type": "markdown",
   "metadata": {},
   "source": [
    "### Loading the Data"
   ]
  },
  {
   "cell_type": "markdown",
   "metadata": {},
   "source": [
    "Dataset: \n",
    "\n",
    "https://www.google.com/googlebooks/uspto-patents-grants-text.html#2015\n",
    "\n",
    "The parsing and preprocessing of the patent files can be found here: \n",
    "\n",
    "https://github.com/cpapadimitriou/W266-Final-Project/blob/master/preparation/parse_xml.py"
   ]
  },
  {
   "cell_type": "code",
   "execution_count": 3,
   "metadata": {},
   "outputs": [],
   "source": [
    "# load data \n",
    "\n",
    "# features \n",
    "current_dir = %pwd\n",
    "abstract = pd.read_table(current_dir+'/out_zipped/docNumberToAbsText.txt.gz',compression='gzip', header=None)\n",
    "abstract = abstract[0].str.split('|', expand=True).rename(columns={0:'doc_num',1:'abstract'})\n",
    "\n",
    "claim = pd.read_table(current_dir+'/out_zipped/docNumberToClaimText.txt.gz',compression='gzip',  header=None)\n",
    "claim = claim[0].str.split('|', expand=True).rename(columns={0:'doc_num',1:'claim'})\n",
    "\n",
    "desc = pd.read_table(current_dir+'/out_zipped/docNumberToDescText.txt.gz',compression='gzip', header=None)\n",
    "desc = desc[0].str.split('|', expand=True).rename(columns={0:'doc_num',1:'desc'})\n",
    "\n",
    "title = pd.read_table(current_dir+'/out_zipped/docNumberToInvTitle.txt.gz',compression='gzip', header=None)\n",
    "title = title[0].str.split('|', expand=True).rename(columns={0:'doc_num',1:'title'})\n",
    "\n",
    "# file_name = pd.read_table(current_dir+'/out_zipped/fileNameToDocNumber.txt.gz',compression='gzip', header=None)\n",
    "# file_name = file_name[0].str.split('|', expand=True).rename(columns={0:'file_name',1:'doc_num'})"
   ]
  },
  {
   "cell_type": "code",
   "execution_count": 4,
   "metadata": {},
   "outputs": [],
   "source": [
    "# labels \n",
    "# label_names = pd.read_table(current_dir+'/out_zipped/docNumberToLabelSubClass.txt.gz',compression='gzip', header=None)\n",
    "# label_names = labels[0].str.split('|', expand=True).rename(columns={0:'doc_num'})\n",
    "\n",
    "labels = pd.read_table(current_dir+'/out_zipped/docNumberToLabelSubClassCode.txt.gz',compression='gzip', header=None)\n",
    "labels = labels[0].str.split('|', expand=True).rename(columns={0:'doc_num'})"
   ]
  },
  {
   "cell_type": "markdown",
   "metadata": {},
   "source": [
    "### Data Preparation"
   ]
  },
  {
   "cell_type": "code",
   "execution_count": 9,
   "metadata": {},
   "outputs": [
    {
     "name": "stdout",
     "output_type": "stream",
     "text": [
      "(66353, 4)\n",
      "(66353, 8)\n"
     ]
    }
   ],
   "source": [
    "# joining the datasets\n",
    "X = pd.concat([title.set_index('doc_num'), \n",
    "           abstract.set_index('doc_num'), \n",
    "           claim.set_index('doc_num'), \n",
    "           desc.set_index('doc_num')], axis=1).sort_index() #  join='inner'\n",
    "\n",
    "Y = labels.set_index('doc_num').sort_index() #.set_index(X.index) # fixing the index mismatch\n",
    "Y.columns=[\"label{}\".format(i) for i in range(1,9)] # renaming columns \n",
    "\n",
    "print(X.shape)\n",
    "print(Y.shape)"
   ]
  },
  {
   "cell_type": "code",
   "execution_count": 47,
   "metadata": {},
   "outputs": [
    {
     "data": {
      "text/html": [
       "<div>\n",
       "<style scoped>\n",
       "    .dataframe tbody tr th:only-of-type {\n",
       "        vertical-align: middle;\n",
       "    }\n",
       "\n",
       "    .dataframe tbody tr th {\n",
       "        vertical-align: top;\n",
       "    }\n",
       "\n",
       "    .dataframe thead th {\n",
       "        text-align: right;\n",
       "    }\n",
       "</style>\n",
       "<table border=\"1\" class=\"dataframe\">\n",
       "  <thead>\n",
       "    <tr style=\"text-align: right;\">\n",
       "      <th></th>\n",
       "      <th>title</th>\n",
       "      <th>abstract</th>\n",
       "      <th>claim</th>\n",
       "      <th>desc</th>\n",
       "    </tr>\n",
       "    <tr>\n",
       "      <th>doc_num</th>\n",
       "      <th></th>\n",
       "      <th></th>\n",
       "      <th></th>\n",
       "      <th></th>\n",
       "    </tr>\n",
       "  </thead>\n",
       "  <tbody>\n",
       "    <tr>\n",
       "      <th>0000009</th>\n",
       "      <td>PROCESS AND APPARATUS FOR AGGLOMERATION OF POW...</td>\n",
       "      <td>A process and an apparatus for agglomeration o...</td>\n",
       "      <td>P A T E N T C L,A I M S</td>\n",
       "      <td>Process and apparatus for agglomeration of pow...</td>\n",
       "    </tr>\n",
       "    <tr>\n",
       "      <th>0000098</th>\n",
       "      <td>EXHAUST MIXER AND APPARATUS USING SAME</td>\n",
       "      <td>Disclosed is an exhaust mixer including a pass...</td>\n",
       "      <td></td>\n",
       "      <td>EXHAUST MIXER AND APPARATUS USING SAME CROSS-R...</td>\n",
       "    </tr>\n",
       "    <tr>\n",
       "      <th>0000157</th>\n",
       "      <td>VACUUM CONTROL SYSTEM FOR FOAM DRYING APPARATUS</td>\n",
       "      <td>The present invention is related to a system f...</td>\n",
       "      <td>WHAT IS CLAIMED IS:</td>\n",
       "      <td>VACUUM CONTROL SYSTEM FOR FOAM DRYING APPARATU...</td>\n",
       "    </tr>\n",
       "    <tr>\n",
       "      <th>0000215</th>\n",
       "      <td>MECHANICALLY TEXTURED ALUMINUM ALLOY SHEET</td>\n",
       "      <td>Non-directional and diffuse reflecting photome...</td>\n",
       "      <td></td>\n",
       "      <td>MECHANICALLY TEXTURED ALUMINUM ALLOY SHEET 1. ...</td>\n",
       "    </tr>\n",
       "    <tr>\n",
       "      <th>0000222</th>\n",
       "      <td>FLUSHING COMPOSITION</td>\n",
       "      <td>A flushing composition containing a lubricant ...</td>\n",
       "      <td>Claims</td>\n",
       "      <td>FLUSHING COMPOSITION This invention relates to...</td>\n",
       "    </tr>\n",
       "  </tbody>\n",
       "</table>\n",
       "</div>"
      ],
      "text/plain": [
       "                                                     title  \\\n",
       "doc_num                                                      \n",
       "0000009  PROCESS AND APPARATUS FOR AGGLOMERATION OF POW...   \n",
       "0000098             EXHAUST MIXER AND APPARATUS USING SAME   \n",
       "0000157    VACUUM CONTROL SYSTEM FOR FOAM DRYING APPARATUS   \n",
       "0000215         MECHANICALLY TEXTURED ALUMINUM ALLOY SHEET   \n",
       "0000222                               FLUSHING COMPOSITION   \n",
       "\n",
       "                                                  abstract  \\\n",
       "doc_num                                                      \n",
       "0000009  A process and an apparatus for agglomeration o...   \n",
       "0000098  Disclosed is an exhaust mixer including a pass...   \n",
       "0000157  The present invention is related to a system f...   \n",
       "0000215  Non-directional and diffuse reflecting photome...   \n",
       "0000222  A flushing composition containing a lubricant ...   \n",
       "\n",
       "                           claim  \\\n",
       "doc_num                            \n",
       "0000009  P A T E N T C L,A I M S   \n",
       "0000098                            \n",
       "0000157      WHAT IS CLAIMED IS:   \n",
       "0000215                            \n",
       "0000222                   Claims   \n",
       "\n",
       "                                                      desc  \n",
       "doc_num                                                     \n",
       "0000009  Process and apparatus for agglomeration of pow...  \n",
       "0000098  EXHAUST MIXER AND APPARATUS USING SAME CROSS-R...  \n",
       "0000157  VACUUM CONTROL SYSTEM FOR FOAM DRYING APPARATU...  \n",
       "0000215  MECHANICALLY TEXTURED ALUMINUM ALLOY SHEET 1. ...  \n",
       "0000222  FLUSHING COMPOSITION This invention relates to...  "
      ]
     },
     "execution_count": 47,
     "metadata": {},
     "output_type": "execute_result"
    }
   ],
   "source": [
    "X.head()"
   ]
  },
  {
   "cell_type": "code",
   "execution_count": 49,
   "metadata": {},
   "outputs": [
    {
     "data": {
      "text/html": [
       "<div>\n",
       "<style scoped>\n",
       "    .dataframe tbody tr th:only-of-type {\n",
       "        vertical-align: middle;\n",
       "    }\n",
       "\n",
       "    .dataframe tbody tr th {\n",
       "        vertical-align: top;\n",
       "    }\n",
       "\n",
       "    .dataframe thead th {\n",
       "        text-align: right;\n",
       "    }\n",
       "</style>\n",
       "<table border=\"1\" class=\"dataframe\">\n",
       "  <thead>\n",
       "    <tr style=\"text-align: right;\">\n",
       "      <th></th>\n",
       "      <th>label1</th>\n",
       "      <th>label2</th>\n",
       "      <th>label3</th>\n",
       "      <th>label4</th>\n",
       "      <th>label5</th>\n",
       "      <th>label6</th>\n",
       "      <th>label7</th>\n",
       "      <th>label8</th>\n",
       "    </tr>\n",
       "    <tr>\n",
       "      <th>doc_num</th>\n",
       "      <th></th>\n",
       "      <th></th>\n",
       "      <th></th>\n",
       "      <th></th>\n",
       "      <th></th>\n",
       "      <th></th>\n",
       "      <th></th>\n",
       "      <th></th>\n",
       "    </tr>\n",
       "  </thead>\n",
       "  <tbody>\n",
       "    <tr>\n",
       "      <th>0000009</th>\n",
       "      <td>F26B</td>\n",
       "      <td>None</td>\n",
       "      <td>None</td>\n",
       "      <td>None</td>\n",
       "      <td>None</td>\n",
       "      <td>None</td>\n",
       "      <td>None</td>\n",
       "      <td>None</td>\n",
       "    </tr>\n",
       "    <tr>\n",
       "      <th>0000098</th>\n",
       "      <td>F02K</td>\n",
       "      <td>None</td>\n",
       "      <td>None</td>\n",
       "      <td>None</td>\n",
       "      <td>None</td>\n",
       "      <td>None</td>\n",
       "      <td>None</td>\n",
       "      <td>None</td>\n",
       "    </tr>\n",
       "    <tr>\n",
       "      <th>0000157</th>\n",
       "      <td>F26B</td>\n",
       "      <td>F04B</td>\n",
       "      <td>None</td>\n",
       "      <td>None</td>\n",
       "      <td>None</td>\n",
       "      <td>None</td>\n",
       "      <td>None</td>\n",
       "      <td>None</td>\n",
       "    </tr>\n",
       "    <tr>\n",
       "      <th>0000215</th>\n",
       "      <td>F21V</td>\n",
       "      <td>None</td>\n",
       "      <td>None</td>\n",
       "      <td>None</td>\n",
       "      <td>None</td>\n",
       "      <td>None</td>\n",
       "      <td>None</td>\n",
       "      <td>None</td>\n",
       "    </tr>\n",
       "    <tr>\n",
       "      <th>0000222</th>\n",
       "      <td>F25B</td>\n",
       "      <td>F28G</td>\n",
       "      <td>None</td>\n",
       "      <td>None</td>\n",
       "      <td>None</td>\n",
       "      <td>None</td>\n",
       "      <td>None</td>\n",
       "      <td>None</td>\n",
       "    </tr>\n",
       "  </tbody>\n",
       "</table>\n",
       "</div>"
      ],
      "text/plain": [
       "        label1 label2 label3 label4 label5 label6 label7 label8\n",
       "doc_num                                                        \n",
       "0000009   F26B   None   None   None   None   None   None   None\n",
       "0000098   F02K   None   None   None   None   None   None   None\n",
       "0000157   F26B   F04B   None   None   None   None   None   None\n",
       "0000215   F21V   None   None   None   None   None   None   None\n",
       "0000222   F25B   F28G   None   None   None   None   None   None"
      ]
     },
     "execution_count": 49,
     "metadata": {},
     "output_type": "execute_result"
    }
   ],
   "source": [
    "Y.head()"
   ]
  },
  {
   "cell_type": "code",
   "execution_count": 10,
   "metadata": {},
   "outputs": [
    {
     "name": "stdout",
     "output_type": "stream",
     "text": [
      "0 documents with null title\n",
      "0 documents with null claims\n",
      "0 documents with null abstract\n",
      "0 documents with null description\n"
     ]
    }
   ],
   "source": [
    "# data cleaning \n",
    "assert Y['label1'].isnull().sum() == 0 # there is no document with \n",
    "\n",
    "print(\"{} documents with null title\".format(X['title'].isnull().sum()))\n",
    "print(\"{} documents with null claims\".format(X['claim'].isnull().sum()))\n",
    "print(\"{} documents with null abstract\".format(X['abstract'].isnull().sum()))\n",
    "print(\"{} documents with null description\".format(X['desc'].isnull().sum()))\n",
    "\n",
    "# remove documents with null sections (title and abstract)\n",
    "X_clean = X.dropna(how='any')\n",
    "null_idx = X[~X.index.isin(X_clean.index)].index # storing the removed indices (i.e. document numbers)\n",
    "assert X.shape[0] - null_idx.shape[0] == X_clean.shape[0] # making sure the row counts match\n",
    "\n",
    "# removing the documents with null sections from the labels as well \n",
    "Y_clean = Y.loc[X_clean.index]\n",
    "\n",
    "# some checks\n",
    "assert X_clean.shape[0] == Y_clean.shape[0]\n",
    "assert ((Y_clean.index == X_clean.index)*1).sum() == X_clean.shape[0]\n",
    "\n",
    "# lower-casing everything\n",
    "X_clean = X_clean.apply(lambda x: x.str.lower())\n",
    "Y_clean = Y_clean.apply(lambda x: x.str.lower())"
   ]
  },
  {
   "cell_type": "code",
   "execution_count": 11,
   "metadata": {},
   "outputs": [
    {
     "name": "stdout",
     "output_type": "stream",
     "text": [
      "(66353, 4)\n",
      "(66353, 8)\n"
     ]
    }
   ],
   "source": [
    "print(X_clean.shape)\n",
    "print(Y_clean.shape)"
   ]
  },
  {
   "cell_type": "code",
   "execution_count": 12,
   "metadata": {},
   "outputs": [
    {
     "data": {
      "text/html": [
       "<div>\n",
       "<style scoped>\n",
       "    .dataframe tbody tr th:only-of-type {\n",
       "        vertical-align: middle;\n",
       "    }\n",
       "\n",
       "    .dataframe tbody tr th {\n",
       "        vertical-align: top;\n",
       "    }\n",
       "\n",
       "    .dataframe thead th {\n",
       "        text-align: right;\n",
       "    }\n",
       "</style>\n",
       "<table border=\"1\" class=\"dataframe\">\n",
       "  <thead>\n",
       "    <tr style=\"text-align: right;\">\n",
       "      <th></th>\n",
       "      <th>title</th>\n",
       "      <th>abstract</th>\n",
       "      <th>claim</th>\n",
       "      <th>desc</th>\n",
       "    </tr>\n",
       "    <tr>\n",
       "      <th>doc_num</th>\n",
       "      <th></th>\n",
       "      <th></th>\n",
       "      <th></th>\n",
       "      <th></th>\n",
       "    </tr>\n",
       "  </thead>\n",
       "  <tbody>\n",
       "    <tr>\n",
       "      <th>0000009</th>\n",
       "      <td>process and apparatus for agglomeration of pow...</td>\n",
       "      <td>a process and an apparatus for agglomeration o...</td>\n",
       "      <td>p a t e n t c l,a i m s</td>\n",
       "      <td>process and apparatus for agglomeration of pow...</td>\n",
       "    </tr>\n",
       "    <tr>\n",
       "      <th>0000098</th>\n",
       "      <td>exhaust mixer and apparatus using same</td>\n",
       "      <td>disclosed is an exhaust mixer including a pass...</td>\n",
       "      <td></td>\n",
       "      <td>exhaust mixer and apparatus using same cross-r...</td>\n",
       "    </tr>\n",
       "    <tr>\n",
       "      <th>0000157</th>\n",
       "      <td>vacuum control system for foam drying apparatus</td>\n",
       "      <td>the present invention is related to a system f...</td>\n",
       "      <td>what is claimed is:</td>\n",
       "      <td>vacuum control system for foam drying apparatu...</td>\n",
       "    </tr>\n",
       "    <tr>\n",
       "      <th>0000215</th>\n",
       "      <td>mechanically textured aluminum alloy sheet</td>\n",
       "      <td>non-directional and diffuse reflecting photome...</td>\n",
       "      <td></td>\n",
       "      <td>mechanically textured aluminum alloy sheet 1. ...</td>\n",
       "    </tr>\n",
       "    <tr>\n",
       "      <th>0000222</th>\n",
       "      <td>flushing composition</td>\n",
       "      <td>a flushing composition containing a lubricant ...</td>\n",
       "      <td>claims</td>\n",
       "      <td>flushing composition this invention relates to...</td>\n",
       "    </tr>\n",
       "  </tbody>\n",
       "</table>\n",
       "</div>"
      ],
      "text/plain": [
       "                                                     title  \\\n",
       "doc_num                                                      \n",
       "0000009  process and apparatus for agglomeration of pow...   \n",
       "0000098             exhaust mixer and apparatus using same   \n",
       "0000157    vacuum control system for foam drying apparatus   \n",
       "0000215         mechanically textured aluminum alloy sheet   \n",
       "0000222                               flushing composition   \n",
       "\n",
       "                                                  abstract  \\\n",
       "doc_num                                                      \n",
       "0000009  a process and an apparatus for agglomeration o...   \n",
       "0000098  disclosed is an exhaust mixer including a pass...   \n",
       "0000157  the present invention is related to a system f...   \n",
       "0000215  non-directional and diffuse reflecting photome...   \n",
       "0000222  a flushing composition containing a lubricant ...   \n",
       "\n",
       "                           claim  \\\n",
       "doc_num                            \n",
       "0000009  p a t e n t c l,a i m s   \n",
       "0000098                            \n",
       "0000157      what is claimed is:   \n",
       "0000215                            \n",
       "0000222                   claims   \n",
       "\n",
       "                                                      desc  \n",
       "doc_num                                                     \n",
       "0000009  process and apparatus for agglomeration of pow...  \n",
       "0000098  exhaust mixer and apparatus using same cross-r...  \n",
       "0000157  vacuum control system for foam drying apparatu...  \n",
       "0000215  mechanically textured aluminum alloy sheet 1. ...  \n",
       "0000222  flushing composition this invention relates to...  "
      ]
     },
     "execution_count": 12,
     "metadata": {},
     "output_type": "execute_result"
    }
   ],
   "source": [
    "X_clean.head()"
   ]
  },
  {
   "cell_type": "code",
   "execution_count": 13,
   "metadata": {},
   "outputs": [
    {
     "data": {
      "text/html": [
       "<div>\n",
       "<style scoped>\n",
       "    .dataframe tbody tr th:only-of-type {\n",
       "        vertical-align: middle;\n",
       "    }\n",
       "\n",
       "    .dataframe tbody tr th {\n",
       "        vertical-align: top;\n",
       "    }\n",
       "\n",
       "    .dataframe thead th {\n",
       "        text-align: right;\n",
       "    }\n",
       "</style>\n",
       "<table border=\"1\" class=\"dataframe\">\n",
       "  <thead>\n",
       "    <tr style=\"text-align: right;\">\n",
       "      <th></th>\n",
       "      <th>label1</th>\n",
       "      <th>label2</th>\n",
       "      <th>label3</th>\n",
       "      <th>label4</th>\n",
       "      <th>label5</th>\n",
       "      <th>label6</th>\n",
       "      <th>label7</th>\n",
       "      <th>label8</th>\n",
       "    </tr>\n",
       "    <tr>\n",
       "      <th>doc_num</th>\n",
       "      <th></th>\n",
       "      <th></th>\n",
       "      <th></th>\n",
       "      <th></th>\n",
       "      <th></th>\n",
       "      <th></th>\n",
       "      <th></th>\n",
       "      <th></th>\n",
       "    </tr>\n",
       "  </thead>\n",
       "  <tbody>\n",
       "    <tr>\n",
       "      <th>0000009</th>\n",
       "      <td>f26b</td>\n",
       "      <td>None</td>\n",
       "      <td>None</td>\n",
       "      <td>None</td>\n",
       "      <td>None</td>\n",
       "      <td>None</td>\n",
       "      <td>None</td>\n",
       "      <td>None</td>\n",
       "    </tr>\n",
       "    <tr>\n",
       "      <th>0000098</th>\n",
       "      <td>f02k</td>\n",
       "      <td>None</td>\n",
       "      <td>None</td>\n",
       "      <td>None</td>\n",
       "      <td>None</td>\n",
       "      <td>None</td>\n",
       "      <td>None</td>\n",
       "      <td>None</td>\n",
       "    </tr>\n",
       "    <tr>\n",
       "      <th>0000157</th>\n",
       "      <td>f26b</td>\n",
       "      <td>f04b</td>\n",
       "      <td>None</td>\n",
       "      <td>None</td>\n",
       "      <td>None</td>\n",
       "      <td>None</td>\n",
       "      <td>None</td>\n",
       "      <td>None</td>\n",
       "    </tr>\n",
       "    <tr>\n",
       "      <th>0000215</th>\n",
       "      <td>f21v</td>\n",
       "      <td>None</td>\n",
       "      <td>None</td>\n",
       "      <td>None</td>\n",
       "      <td>None</td>\n",
       "      <td>None</td>\n",
       "      <td>None</td>\n",
       "      <td>None</td>\n",
       "    </tr>\n",
       "    <tr>\n",
       "      <th>0000222</th>\n",
       "      <td>f25b</td>\n",
       "      <td>f28g</td>\n",
       "      <td>None</td>\n",
       "      <td>None</td>\n",
       "      <td>None</td>\n",
       "      <td>None</td>\n",
       "      <td>None</td>\n",
       "      <td>None</td>\n",
       "    </tr>\n",
       "  </tbody>\n",
       "</table>\n",
       "</div>"
      ],
      "text/plain": [
       "        label1 label2 label3 label4 label5 label6 label7 label8\n",
       "doc_num                                                        \n",
       "0000009   f26b   None   None   None   None   None   None   None\n",
       "0000098   f02k   None   None   None   None   None   None   None\n",
       "0000157   f26b   f04b   None   None   None   None   None   None\n",
       "0000215   f21v   None   None   None   None   None   None   None\n",
       "0000222   f25b   f28g   None   None   None   None   None   None"
      ]
     },
     "execution_count": 13,
     "metadata": {},
     "output_type": "execute_result"
    }
   ],
   "source": [
    "Y_clean.head()"
   ]
  },
  {
   "cell_type": "code",
   "execution_count": 14,
   "metadata": {},
   "outputs": [],
   "source": [
    "# Creating dataset \n",
    "data = pd.DataFrame()\n",
    "\n",
    "# concat the text of all patent sections and join the labels\n",
    "data['full_text'] = X_clean['title'] + \" \" + X_clean['claim'] + \" \" + X_clean['abstract'] + \" \" + X_clean['desc']\n",
    "\n",
    "# using only the first label  \n",
    "data['label1'] = Y_clean['label1'] \n",
    "\n",
    "# using all labels, merging them in a list and removing None values\n",
    "data['labels'] = Y_clean.values.tolist()\n",
    "data['labels'] = data['labels'].apply(lambda x: list(filter(None, x)))"
   ]
  },
  {
   "cell_type": "code",
   "execution_count": 15,
   "metadata": {
    "scrolled": true
   },
   "outputs": [
    {
     "data": {
      "text/html": [
       "<div>\n",
       "<style scoped>\n",
       "    .dataframe tbody tr th:only-of-type {\n",
       "        vertical-align: middle;\n",
       "    }\n",
       "\n",
       "    .dataframe tbody tr th {\n",
       "        vertical-align: top;\n",
       "    }\n",
       "\n",
       "    .dataframe thead th {\n",
       "        text-align: right;\n",
       "    }\n",
       "</style>\n",
       "<table border=\"1\" class=\"dataframe\">\n",
       "  <thead>\n",
       "    <tr style=\"text-align: right;\">\n",
       "      <th></th>\n",
       "      <th>full_text</th>\n",
       "      <th>label1</th>\n",
       "      <th>labels</th>\n",
       "    </tr>\n",
       "    <tr>\n",
       "      <th>doc_num</th>\n",
       "      <th></th>\n",
       "      <th></th>\n",
       "      <th></th>\n",
       "    </tr>\n",
       "  </thead>\n",
       "  <tbody>\n",
       "    <tr>\n",
       "      <th>0000009</th>\n",
       "      <td>process and apparatus for agglomeration of pow...</td>\n",
       "      <td>f26b</td>\n",
       "      <td>[f26b]</td>\n",
       "    </tr>\n",
       "    <tr>\n",
       "      <th>0000098</th>\n",
       "      <td>exhaust mixer and apparatus using same  disclo...</td>\n",
       "      <td>f02k</td>\n",
       "      <td>[f02k]</td>\n",
       "    </tr>\n",
       "    <tr>\n",
       "      <th>0000157</th>\n",
       "      <td>vacuum control system for foam drying apparatu...</td>\n",
       "      <td>f26b</td>\n",
       "      <td>[f26b, f04b]</td>\n",
       "    </tr>\n",
       "    <tr>\n",
       "      <th>0000215</th>\n",
       "      <td>mechanically textured aluminum alloy sheet  no...</td>\n",
       "      <td>f21v</td>\n",
       "      <td>[f21v]</td>\n",
       "    </tr>\n",
       "    <tr>\n",
       "      <th>0000222</th>\n",
       "      <td>flushing composition claims a flushing composi...</td>\n",
       "      <td>f25b</td>\n",
       "      <td>[f25b, f28g]</td>\n",
       "    </tr>\n",
       "  </tbody>\n",
       "</table>\n",
       "</div>"
      ],
      "text/plain": [
       "                                                 full_text label1  \\\n",
       "doc_num                                                             \n",
       "0000009  process and apparatus for agglomeration of pow...   f26b   \n",
       "0000098  exhaust mixer and apparatus using same  disclo...   f02k   \n",
       "0000157  vacuum control system for foam drying apparatu...   f26b   \n",
       "0000215  mechanically textured aluminum alloy sheet  no...   f21v   \n",
       "0000222  flushing composition claims a flushing composi...   f25b   \n",
       "\n",
       "               labels  \n",
       "doc_num                \n",
       "0000009        [f26b]  \n",
       "0000098        [f02k]  \n",
       "0000157  [f26b, f04b]  \n",
       "0000215        [f21v]  \n",
       "0000222  [f25b, f28g]  "
      ]
     },
     "execution_count": 15,
     "metadata": {},
     "output_type": "execute_result"
    }
   ],
   "source": [
    "data.head()"
   ]
  },
  {
   "cell_type": "code",
   "execution_count": 21,
   "metadata": {},
   "outputs": [
    {
     "data": {
      "image/png": "[encoded data removed]",
      "text/plain": [
       "<matplotlib.figure.Figure at 0x7f4bd39ef358>"
      ]
     },
     "metadata": {},
     "output_type": "display_data"
    }
   ],
   "source": [
    "# histogram of document length \n",
    "doc_lenghts = data.full_text.str.split().apply(lambda x: len(x))\n",
    "plt.figure(figsize=(12,5))\n",
    "plt.hist(doc_lenghts, bins=100)\n",
    "plt.xlim((0,40000))\n",
    "plt.xlabel('Document Length')\n",
    "plt.ylabel('Frequency')\n",
    "plt.show()"
   ]
  },
  {
   "cell_type": "code",
   "execution_count": 37,
   "metadata": {},
   "outputs": [],
   "source": [
    "# Bokeh for plotting.\n",
    "import bokeh.plotting as bp\n",
    "from bokeh.models import HoverTool\n",
    "bp.output_notebook()\n",
    "\n",
    "# Helper code for plotting histograms\n",
    "def plot_length_histogram(lengths, x_range=[0,40000], bins=40, normed=False):\n",
    "    hist, bin_edges = np.histogram(a=lengths, bins=bins, normed=normed, range=x_range)\n",
    "    bin_centers = (bin_edges[1:] + bin_edges[:-1])/2\n",
    "    bin_widths =  (bin_edges[1:] - bin_edges[:-1])\n",
    "\n",
    "    hover = HoverTool(tooltips=[(\"bucket\", \"@x\"), (\"count\", \"@top\")], mode=\"vline\")\n",
    "    fig = bp.figure(plot_width=800, plot_height=400, tools=[hover])\n",
    "    fig.vbar(x=bin_centers, width=bin_widths, top=hist, hover_fill_color=\"firebrick\")\n",
    "    fig.y_range.start = 0\n",
    "    fig.x_range.start = 0\n",
    "    fig.xaxis.axis_label = \"Document Length\"\n",
    "    fig.yaxis.axis_label = \"Frequency\"\n",
    "    output_file(\"hist.html\")\n",
    "    bp.show(fig)\n",
    "    \n",
    "plot_length_histogram(doc_lenghts)"
   ]
  },
  {
   "cell_type": "code",
   "execution_count": 22,
   "metadata": {},
   "outputs": [
    {
     "name": "stdout",
     "output_type": "stream",
     "text": [
      "Average document length: 4205 words\n",
      "Median document length: 3355.0 words\n",
      "Max document length: 172749 words\n",
      "Min document length: 17 words\n"
     ]
    }
   ],
   "source": [
    "# examing the document length \n",
    "print(\"Average document length: {} words\".format(round(np.mean(doc_lenghts))))\n",
    "print(\"Median document length: {} words\".format(round(np.median(doc_lenghts))))\n",
    "print(\"Max document length: {} words\".format(round(np.max(doc_lenghts))))\n",
    "print(\"Min document length: {} words\".format(round(np.min(doc_lenghts))))"
   ]
  },
  {
   "cell_type": "code",
   "execution_count": 18,
   "metadata": {},
   "outputs": [
    {
     "name": "stdout",
     "output_type": "stream",
     "text": [
      "Avg. number of labels in dataset: 1.3957771314032523\n"
     ]
    }
   ],
   "source": [
    "# average number of labels per document \n",
    "print(\"Avg. number of labels in dataset: {}\".format(data['labels'].apply(lambda x: len(x)).mean()))"
   ]
  },
  {
   "cell_type": "markdown",
   "metadata": {},
   "source": [
    "### Encoding Labels with MultiLabelBinarizer"
   ]
  },
  {
   "cell_type": "code",
   "execution_count": 23,
   "metadata": {
    "scrolled": true
   },
   "outputs": [
    {
     "data": {
      "text/plain": [
       "doc_num\n",
       "0000009          [f26b]\n",
       "0000098          [f02k]\n",
       "0000157    [f26b, f04b]\n",
       "0000215          [f21v]\n",
       "0000222    [f25b, f28g]\n",
       "Name: labels, dtype: object"
      ]
     },
     "execution_count": 23,
     "metadata": {},
     "output_type": "execute_result"
    }
   ],
   "source": [
    "data['labels'].head()"
   ]
  },
  {
   "cell_type": "code",
   "execution_count": 24,
   "metadata": {},
   "outputs": [],
   "source": [
    "# converting labels into a binarized matrix with the labels as columns \n",
    "# and each patent document represented in one row\n",
    "mlb = preprocessing.MultiLabelBinarizer()\n",
    "labels = mlb.fit_transform(data['labels'])\n",
    "\n",
    "# checking that the conversion worked as desired by verifying the counts of labels for each document prior and post \n",
    "assert data['labels'].apply(lambda x: len(x)).values.sum() == np.array(pd.DataFrame(labels).apply(lambda x: x.sum(),axis=1)).sum()"
   ]
  },
  {
   "cell_type": "code",
   "execution_count": 464,
   "metadata": {
    "scrolled": true
   },
   "outputs": [
    {
     "data": {
      "text/plain": [
       "transmission of digital information, e.g. telegraphic communication     1300\n",
       "dtype: int64"
      ]
     },
     "execution_count": 464,
     "metadata": {},
     "output_type": "execute_result"
    }
   ],
   "source": [
    "labels_df.iloc[:,[538]].sum()   #470"
   ]
  },
  {
   "cell_type": "code",
   "execution_count": 25,
   "metadata": {
    "scrolled": false
   },
   "outputs": [
    {
     "data": {
      "text/html": [
       "<div>\n",
       "<style scoped>\n",
       "    .dataframe tbody tr th:only-of-type {\n",
       "        vertical-align: middle;\n",
       "    }\n",
       "\n",
       "    .dataframe tbody tr th {\n",
       "        vertical-align: top;\n",
       "    }\n",
       "\n",
       "    .dataframe thead th {\n",
       "        text-align: right;\n",
       "    }\n",
       "</style>\n",
       "<table border=\"1\" class=\"dataframe\">\n",
       "  <thead>\n",
       "    <tr style=\"text-align: right;\">\n",
       "      <th></th>\n",
       "      <th>f01b</th>\n",
       "      <th>f01c</th>\n",
       "      <th>f01d</th>\n",
       "      <th>f01k</th>\n",
       "      <th>f01l</th>\n",
       "      <th>f01m</th>\n",
       "      <th>f01n</th>\n",
       "      <th>f01p</th>\n",
       "      <th>f02b</th>\n",
       "      <th>f02c</th>\n",
       "      <th>...</th>\n",
       "      <th>f41a</th>\n",
       "      <th>f41b</th>\n",
       "      <th>f41c</th>\n",
       "      <th>f41f</th>\n",
       "      <th>f41g</th>\n",
       "      <th>f41h</th>\n",
       "      <th>f41j</th>\n",
       "      <th>f42b</th>\n",
       "      <th>f42c</th>\n",
       "      <th>f42d</th>\n",
       "    </tr>\n",
       "  </thead>\n",
       "  <tbody>\n",
       "    <tr>\n",
       "      <th>0</th>\n",
       "      <td>0</td>\n",
       "      <td>0</td>\n",
       "      <td>0</td>\n",
       "      <td>0</td>\n",
       "      <td>0</td>\n",
       "      <td>0</td>\n",
       "      <td>0</td>\n",
       "      <td>0</td>\n",
       "      <td>0</td>\n",
       "      <td>0</td>\n",
       "      <td>...</td>\n",
       "      <td>0</td>\n",
       "      <td>0</td>\n",
       "      <td>0</td>\n",
       "      <td>0</td>\n",
       "      <td>0</td>\n",
       "      <td>0</td>\n",
       "      <td>0</td>\n",
       "      <td>0</td>\n",
       "      <td>0</td>\n",
       "      <td>0</td>\n",
       "    </tr>\n",
       "    <tr>\n",
       "      <th>1</th>\n",
       "      <td>0</td>\n",
       "      <td>0</td>\n",
       "      <td>0</td>\n",
       "      <td>0</td>\n",
       "      <td>0</td>\n",
       "      <td>0</td>\n",
       "      <td>0</td>\n",
       "      <td>0</td>\n",
       "      <td>0</td>\n",
       "      <td>0</td>\n",
       "      <td>...</td>\n",
       "      <td>0</td>\n",
       "      <td>0</td>\n",
       "      <td>0</td>\n",
       "      <td>0</td>\n",
       "      <td>0</td>\n",
       "      <td>0</td>\n",
       "      <td>0</td>\n",
       "      <td>0</td>\n",
       "      <td>0</td>\n",
       "      <td>0</td>\n",
       "    </tr>\n",
       "    <tr>\n",
       "      <th>2</th>\n",
       "      <td>0</td>\n",
       "      <td>0</td>\n",
       "      <td>0</td>\n",
       "      <td>0</td>\n",
       "      <td>0</td>\n",
       "      <td>0</td>\n",
       "      <td>0</td>\n",
       "      <td>0</td>\n",
       "      <td>0</td>\n",
       "      <td>0</td>\n",
       "      <td>...</td>\n",
       "      <td>0</td>\n",
       "      <td>0</td>\n",
       "      <td>0</td>\n",
       "      <td>0</td>\n",
       "      <td>0</td>\n",
       "      <td>0</td>\n",
       "      <td>0</td>\n",
       "      <td>0</td>\n",
       "      <td>0</td>\n",
       "      <td>0</td>\n",
       "    </tr>\n",
       "    <tr>\n",
       "      <th>3</th>\n",
       "      <td>0</td>\n",
       "      <td>0</td>\n",
       "      <td>0</td>\n",
       "      <td>0</td>\n",
       "      <td>0</td>\n",
       "      <td>0</td>\n",
       "      <td>0</td>\n",
       "      <td>0</td>\n",
       "      <td>0</td>\n",
       "      <td>0</td>\n",
       "      <td>...</td>\n",
       "      <td>0</td>\n",
       "      <td>0</td>\n",
       "      <td>0</td>\n",
       "      <td>0</td>\n",
       "      <td>0</td>\n",
       "      <td>0</td>\n",
       "      <td>0</td>\n",
       "      <td>0</td>\n",
       "      <td>0</td>\n",
       "      <td>0</td>\n",
       "    </tr>\n",
       "    <tr>\n",
       "      <th>4</th>\n",
       "      <td>0</td>\n",
       "      <td>0</td>\n",
       "      <td>0</td>\n",
       "      <td>0</td>\n",
       "      <td>0</td>\n",
       "      <td>0</td>\n",
       "      <td>0</td>\n",
       "      <td>0</td>\n",
       "      <td>0</td>\n",
       "      <td>0</td>\n",
       "      <td>...</td>\n",
       "      <td>0</td>\n",
       "      <td>0</td>\n",
       "      <td>0</td>\n",
       "      <td>0</td>\n",
       "      <td>0</td>\n",
       "      <td>0</td>\n",
       "      <td>0</td>\n",
       "      <td>0</td>\n",
       "      <td>0</td>\n",
       "      <td>0</td>\n",
       "    </tr>\n",
       "  </tbody>\n",
       "</table>\n",
       "<p>5 rows × 96 columns</p>\n",
       "</div>"
      ],
      "text/plain": [
       "   f01b  f01c  f01d  f01k  f01l  f01m  f01n  f01p  f02b  f02c  ...   f41a  \\\n",
       "0     0     0     0     0     0     0     0     0     0     0  ...      0   \n",
       "1     0     0     0     0     0     0     0     0     0     0  ...      0   \n",
       "2     0     0     0     0     0     0     0     0     0     0  ...      0   \n",
       "3     0     0     0     0     0     0     0     0     0     0  ...      0   \n",
       "4     0     0     0     0     0     0     0     0     0     0  ...      0   \n",
       "\n",
       "   f41b  f41c  f41f  f41g  f41h  f41j  f42b  f42c  f42d  \n",
       "0     0     0     0     0     0     0     0     0     0  \n",
       "1     0     0     0     0     0     0     0     0     0  \n",
       "2     0     0     0     0     0     0     0     0     0  \n",
       "3     0     0     0     0     0     0     0     0     0  \n",
       "4     0     0     0     0     0     0     0     0     0  \n",
       "\n",
       "[5 rows x 96 columns]"
      ]
     },
     "execution_count": 25,
     "metadata": {},
     "output_type": "execute_result"
    }
   ],
   "source": [
    "labels_df = pd.DataFrame(labels, columns=mlb.classes_)  #.apply(lambda x: x.sum(),axis=1)\n",
    "labels_df.head()"
   ]
  },
  {
   "cell_type": "code",
   "execution_count": 28,
   "metadata": {},
   "outputs": [
    {
     "name": "stdout",
     "output_type": "stream",
     "text": [
      "We have 96 classes\n"
     ]
    }
   ],
   "source": [
    "print(\"We have {} classes\".format(len(mlb.classes_)))\n",
    "# print(\"\")\n",
    "# for i in mlb.classes_: \n",
    "#     print(i)"
   ]
  },
  {
   "cell_type": "code",
   "execution_count": 29,
   "metadata": {
    "scrolled": true
   },
   "outputs": [
    {
     "data": {
      "text/plain": [
       "f16h    5265\n",
       "f16l    4513\n",
       "f02b    4381\n",
       "f02d    4011\n",
       "f16k    3824\n",
       "f02m    3684\n",
       "f16d    3642\n",
       "f16c    3097\n",
       "f16b    2905\n",
       "f04b    2871\n",
       "f16f    2530\n",
       "f25b    2199\n",
       "f16j    2112\n",
       "f21v    2104\n",
       "f01n    2037\n",
       "f01d    1989\n",
       "f04d    1846\n",
       "f28f    1803\n",
       "f15b    1684\n",
       "f02c    1662\n",
       "f24f    1625\n",
       "f28d    1536\n",
       "f01l    1518\n",
       "f04c    1413\n",
       "f25d    1410\n",
       "f02f    1284\n",
       "f27d    1071\n",
       "f23d    1018\n",
       "f21s    1000\n",
       "f24c     995\n",
       "        ... \n",
       "f25c     202\n",
       "f03d     192\n",
       "f42c     189\n",
       "f03b     172\n",
       "f04f     163\n",
       "f16p     148\n",
       "f28g     148\n",
       "f15c     145\n",
       "f41b     136\n",
       "f24b     129\n",
       "f42d     120\n",
       "f21w     120\n",
       "f28c     117\n",
       "f03c     113\n",
       "f21l     105\n",
       "f15d     104\n",
       "f21k     103\n",
       "f41j      89\n",
       "f28b      84\n",
       "f41c      82\n",
       "f16t      69\n",
       "f41f      64\n",
       "f03h      50\n",
       "f22d      47\n",
       "f16s      43\n",
       "f23h      35\n",
       "f22g      32\n",
       "f23b      17\n",
       "f21h       5\n",
       "f17b       3\n",
       "Length: 96, dtype: int64"
      ]
     },
     "execution_count": 29,
     "metadata": {},
     "output_type": "execute_result"
    }
   ],
   "source": [
    "# checking how many times does each label (i.e. class) appear in the data \n",
    "# we observe that the classes are a little unbalanced \n",
    "pl = labels_df.apply(lambda x: x.sum(),axis=0).sort_values(ascending=False)  #.plot.bar()\n",
    "pl"
   ]
  },
  {
   "cell_type": "code",
   "execution_count": null,
   "metadata": {},
   "outputs": [],
   "source": [
    "from bokeh.io import show, output_file\n",
    "from bokeh.plotting import figure\n",
    "import bokeh.plotting as bp\n",
    "bp.output_notebook()\n",
    "\n",
    "output_file(\"bars.html\")\n",
    "p = figure(x_range=list(pl.index), plot_height=250, title=\"Label Counts\",\n",
    "           toolbar_location=None, tools=\"\")\n",
    "p.vbar(x=list(pl.index), top=pl.values, width=0.1)\n",
    "p.xgrid.grid_line_color = None\n",
    "p.y_range.start = 0\n",
    "show(p)"
   ]
  },
  {
   "cell_type": "markdown",
   "metadata": {},
   "source": [
    "### Train Test Split"
   ]
  },
  {
   "cell_type": "code",
   "execution_count": 40,
   "metadata": {
    "scrolled": true
   },
   "outputs": [
    {
     "name": "stdout",
     "output_type": "stream",
     "text": [
      "(53082,)\n",
      "(13271,)\n",
      "(53082, 96)\n",
      "(13271, 96)\n"
     ]
    }
   ],
   "source": [
    "# train test split \n",
    "# you can change to data['label1'] to include only the first label \n",
    "X_train, X_test, Y_train, Y_test = model_selection.train_test_split(data['full_text'], labels, test_size=0.2)\n",
    "\n",
    "print(X_train.shape)\n",
    "print(X_test.shape)\n",
    "print(Y_train.shape)\n",
    "print(Y_test.shape)"
   ]
  },
  {
   "cell_type": "code",
   "execution_count": 41,
   "metadata": {
    "scrolled": true
   },
   "outputs": [
    {
     "data": {
      "text/plain": [
       "doc_num\n",
       "95922722    oil balancing operation control device for an ...\n",
       "01127828    resiliently extensible flexible coiled hose an...\n",
       "90311634    centrifugal blood pump. 1. a disposable pumpin...\n",
       "04000193    low friction variable valve actuation device a...\n",
       "9615634     cleaning ambient air by the movement of a vehi...\n",
       "Name: full_text, dtype: object"
      ]
     },
     "execution_count": 41,
     "metadata": {},
     "output_type": "execute_result"
    }
   ],
   "source": [
    "X_train.head()"
   ]
  },
  {
   "cell_type": "code",
   "execution_count": 379,
   "metadata": {
    "scrolled": true
   },
   "outputs": [],
   "source": [
    "# print(\"Avg. number of labels in train set: {}\".format(Y_train.apply(lambda x: len(x)).mean()))\n",
    "# print(\"Avg. number of labels in test set: {}\".format(Y_test.apply(lambda x: len(x)).mean()))"
   ]
  },
  {
   "cell_type": "markdown",
   "metadata": {},
   "source": [
    "### Word Embeddings"
   ]
  },
  {
   "cell_type": "markdown",
   "metadata": {},
   "source": [
    "**Load the pre-trained embeddings using this command:**\n",
    "\n",
    "`nohup curl -O https://s3-us-west-1.amazonaws.com/fasttext-vectors/wiki-news-300d-1M.vec.zip > curl.nohup.out 2>&1 &`\n",
    "\n",
    "Check loading progress with this: `cat curl.nohup.out`\n",
    "\n",
    "Unzipping the file with python: "
   ]
  },
  {
   "cell_type": "code",
   "execution_count": 50,
   "metadata": {},
   "outputs": [
    {
     "data": {
      "text/plain": [
       "'/home/c.papadimitriou/W266-Final-Project'"
      ]
     },
     "execution_count": 50,
     "metadata": {},
     "output_type": "execute_result"
    }
   ],
   "source": [
    "current_dir"
   ]
  },
  {
   "cell_type": "code",
   "execution_count": 70,
   "metadata": {},
   "outputs": [],
   "source": [
    "zip_ref = zipfile.ZipFile('/home/c.papadimitriou/wiki-news-300d-1M.vec.zip', 'r')\n",
    "zip_ref.extractall('/home/c.papadimitriou/')\n",
    "zip_ref.close()"
   ]
  },
  {
   "cell_type": "code",
   "execution_count": 51,
   "metadata": {},
   "outputs": [],
   "source": [
    "# sequence length is set to 600 (we will choose the 600 most frequent words in each document)\n",
    "sequence_length = 600\n",
    "embedding_dim = 300"
   ]
  },
  {
   "cell_type": "code",
   "execution_count": 52,
   "metadata": {},
   "outputs": [],
   "source": [
    "# word-embeddings: representing documents using a dense vector representation\n",
    "# Word embeddings can be trained using the input corpus itself or \n",
    "# can be generated using pre-trained word embeddings such as Glove, FastText, and Word2Vec\n",
    "\n",
    "# step 1. Loading the pretrained word embeddings\n",
    "embeddings_index = {}\n",
    "for i, line in enumerate(open('../wiki-news-300d-1M.vec')):\n",
    "    values = line.split()\n",
    "    embeddings_index[values[0]] = np.asarray(values[1:], dtype='float32')"
   ]
  },
  {
   "cell_type": "markdown",
   "metadata": {},
   "source": [
    "Link to Tokenizer keras object: https://keras.io/preprocessing/text/\n",
    "\n",
    "This takes care of:\n",
    "- num of words to keep based on frequency (`num_words`).\n",
    "- filtering out punctuation: The **default** is all punctuation, plus tabs and line breaks, minus the ' character.\n",
    "- lower-casing: convert the texts to lowercase."
   ]
  },
  {
   "cell_type": "code",
   "execution_count": 53,
   "metadata": {},
   "outputs": [],
   "source": [
    "# step 2. Creating a tokenizer object using Keras preprocessing object\n",
    "# the tokenizer has a default filter that removes all punctuation, plus tabs and line breaks, minus the ' character.\n",
    "token = text.Tokenizer(num_words=sequence_length, lower=True)\n",
    "token.fit_on_texts(data['full_text'])\n",
    "word_index = token.word_index"
   ]
  },
  {
   "cell_type": "code",
   "execution_count": 481,
   "metadata": {
    "scrolled": true
   },
   "outputs": [],
   "source": [
    "#word_index"
   ]
  },
  {
   "cell_type": "code",
   "execution_count": 54,
   "metadata": {},
   "outputs": [
    {
     "name": "stdout",
     "output_type": "stream",
     "text": [
      "Number of words in our vocabulary: 375171\n"
     ]
    }
   ],
   "source": [
    "print('Number of words in our vocabulary: {}'.format(len(word_index.keys())))"
   ]
  },
  {
   "cell_type": "code",
   "execution_count": 55,
   "metadata": {},
   "outputs": [],
   "source": [
    "# step 3. Transforming text documents to sequence of tokens and padding them to ensure equal length vectors\n",
    "# choosing the median document length as max length for padding \n",
    "X_train_seq = sequence.pad_sequences(token.texts_to_sequences(X_train), maxlen=sequence_length)\n",
    "X_test_seq = sequence.pad_sequences(token.texts_to_sequences(X_test), maxlen=sequence_length)"
   ]
  },
  {
   "cell_type": "code",
   "execution_count": 56,
   "metadata": {},
   "outputs": [
    {
     "name": "stdout",
     "output_type": "stream",
     "text": [
      "(53082, 600)\n",
      "(13271, 600)\n"
     ]
    }
   ],
   "source": [
    "print(X_train_seq.shape)\n",
    "print(X_test_seq.shape)"
   ]
  },
  {
   "cell_type": "code",
   "execution_count": 57,
   "metadata": {},
   "outputs": [],
   "source": [
    "# step 4. Creating a mapping of tokens and their respective embeddings\n",
    "embedding_matrix = np.zeros((len(word_index) + 1, embedding_dim))\n",
    "for word, i in word_index.items():\n",
    "    embedding_vector = embeddings_index.get(word)\n",
    "    if embedding_vector is not None:\n",
    "        # words not found in embedding index will be all-zeros.\n",
    "        embedding_matrix[i] = embedding_vector"
   ]
  },
  {
   "cell_type": "code",
   "execution_count": 58,
   "metadata": {},
   "outputs": [
    {
     "data": {
      "text/plain": [
       "(375172, 300)"
      ]
     },
     "execution_count": 58,
     "metadata": {},
     "output_type": "execute_result"
    }
   ],
   "source": [
    "embedding_matrix.shape"
   ]
  },
  {
   "cell_type": "markdown",
   "metadata": {},
   "source": [
    "### Evaluation Metrics"
   ]
  },
  {
   "cell_type": "markdown",
   "metadata": {},
   "source": [
    "**True Positives (TP)**: the number of labels predicted by our approach (prediction labels) that\n",
    "matched the IPC labels (true labels), without taking the exact order into account.\n",
    "\n",
    "**False Positives (FP)**: the labels predicted by our approach (prediction labels) that do not match the true IPC labels. \n",
    "\n",
    "**False Negatives (FN)**: the labels that should have been predicted by our approach, but were not.\n",
    "\n",
    "**True Negatives (TN)**: the labels that, correctly, were not predicted by our approach. \n",
    "\n",
    "\n",
    "$$ Precision = \\frac{TP}{TP + FP} = \\frac{trueLabels \\cap predictionLabels}{predictionLabels} $$\n",
    "\n",
    "$$ Recall = \\frac{TP}{TP + FN} = \\frac{trueLabels \\cap predictionLabels}{trueLabels} $$\n",
    "\n",
    "**Precision** shows the ratio of the predicted labels that are true labels.\n",
    "\n",
    "**Recall** shows the ratio of the true labels that were predicted correctly. \n",
    "\n",
    "After calculating the above metrics for each patent document, we calculate the final Precision, Recall and F1-score across all documents as follows: \n",
    "\n",
    "$$Precision_{total} = \\frac{1}{TotalSamples} \\sum_{n=i}^{TotalSamples} Precision_i$$\n",
    "\n",
    "$$Recall_{total} = \\frac{1}{TotalSamples} \\sum_{n=i}^{TotalSamples} Recall_i$$\n",
    "\n",
    "$$F1_{total} = 2* \\frac{Precision_{total}*Recall_{total}}{Precision_{total}+Recall_{total}}  $$"
   ]
  },
  {
   "cell_type": "code",
   "execution_count": 59,
   "metadata": {},
   "outputs": [],
   "source": [
    "import keras.backend as K\n",
    "\n",
    "def precision(y_true, y_pred): \n",
    "    \"\"\"Precision metric. Only computes a batch-wise average of precision.  \n",
    "     Computes the precision, a metric for multi-label classification of \n",
    "     how many selected items are relevant. \n",
    "     \"\"\" \n",
    "    true_positives = K.sum(K.round(K.clip(y_true * y_pred, 0, 1))) \n",
    "    predicted_positives = K.sum(K.round(K.clip(y_pred, 0, 1))) \n",
    "    precision = true_positives / (predicted_positives + K.epsilon()) \n",
    "    return precision \n",
    "\n",
    "def recall(y_true, y_pred): \n",
    "    \"\"\"Recall metric. \n",
    "     Only computes a batch-wise average of recall. \n",
    "     Computes the recall, a metric for multi-label classification of \n",
    "     how many relevant items are selected. \n",
    "     \"\"\" \n",
    "    true_positives = K.sum(K.round(K.clip(y_true * y_pred, 0, 1))) \n",
    "    possible_positives = K.sum(K.round(K.clip(y_true, 0, 1))) \n",
    "    recall = true_positives / (possible_positives + K.epsilon()) \n",
    "    return recall \n",
    "\n",
    "def f1(y_true, y_pred):\n",
    "    def recall(y_true, y_pred):\n",
    "        \"\"\"Recall metric.\n",
    "\n",
    "        Only computes a batch-wise average of recall.\n",
    "\n",
    "        Computes the recall, a metric for multi-label classification of\n",
    "        how many relevant items are selected.\n",
    "        \"\"\"\n",
    "        true_positives = K.sum(K.round(K.clip(y_true * y_pred, 0, 1)))\n",
    "        possible_positives = K.sum(K.round(K.clip(y_true, 0, 1)))\n",
    "        recall = true_positives / (possible_positives + K.epsilon())\n",
    "        return recall\n",
    "\n",
    "    def precision(y_true, y_pred):\n",
    "        \"\"\"Precision metric.\n",
    "\n",
    "        Only computes a batch-wise average of precision.\n",
    "\n",
    "        Computes the precision, a metric for multi-label classification of\n",
    "        how many selected items are relevant.\n",
    "        \"\"\"\n",
    "        true_positives = K.sum(K.round(K.clip(y_true * y_pred, 0, 1)))\n",
    "        predicted_positives = K.sum(K.round(K.clip(y_pred, 0, 1)))\n",
    "        precision = true_positives / (predicted_positives + K.epsilon())\n",
    "        return precision\n",
    "    precision = precision(y_true, y_pred)\n",
    "    recall = recall(y_true, y_pred)\n",
    "    return 2*((precision*recall)/(precision+recall+K.epsilon()))"
   ]
  },
  {
   "cell_type": "markdown",
   "metadata": {},
   "source": [
    "## Definining Models"
   ]
  },
  {
   "cell_type": "markdown",
   "metadata": {},
   "source": [
    "**Note:** if we want to train our own embeddings we can try the `embeddings_initializer=\"uniform\"` parameter instead of `weights=[embedding_matrix]` in the embedding layer."
   ]
  },
  {
   "cell_type": "markdown",
   "metadata": {},
   "source": [
    "### CNN model"
   ]
  },
  {
   "cell_type": "code",
   "execution_count": 60,
   "metadata": {},
   "outputs": [],
   "source": [
    "# CNN Model Hyper-parameters \n",
    "vocabulary_size = len(word_index) + 1\n",
    "sequence_length = sequence_length\n",
    "embedding_dim = embedding_dim\n",
    "num_filters = 100\n",
    "#filter_sizes = [3]\n",
    "kernel_size = 3  \n",
    "\n",
    "units = Y_train.shape[1]  # we need the output nodes to equal the number of classes (96)\n",
    "\n",
    "learning_rate = 1e-4"
   ]
  },
  {
   "cell_type": "code",
   "execution_count": 68,
   "metadata": {},
   "outputs": [],
   "source": [
    "def CNN_model():    \n",
    "    \n",
    "    # Input Layer\n",
    "    input_layer = Input(shape=(sequence_length,), dtype='int32')\n",
    "\n",
    "    # Word embedding Layer\n",
    "    embedding_layer = Embedding(input_dim=vocabulary_size, output_dim=embedding_dim, input_length=sequence_length, \n",
    "                                weights=[embedding_matrix], trainable=False)(input_layer)\n",
    "    embedding_layer = SpatialDropout1D(0.3)(embedding_layer)\n",
    "\n",
    "    # Convolutional Layer\n",
    "    conv_layer = Conv1D(num_filters, kernel_size=kernel_size, activation=\"relu\")(embedding_layer)\n",
    "\n",
    "    # Pooling Layer\n",
    "    pooling_layer = GlobalMaxPool1D()(conv_layer)\n",
    "\n",
    "    # Output Layers\n",
    "    output_layer1 = Dense(50, activation=\"relu\")(pooling_layer)\n",
    "    output_layer1 = Dropout(0.25)(output_layer1)\n",
    "    output_layer2 = Dense(units= units, activation=\"sigmoid\")(output_layer1) \n",
    "\n",
    "    # Compile the model\n",
    "    # NOTE: we compile the model using binary cross entropy rather than categorical CE, since the goal \n",
    "    # is to treat each output labels as an independent Bernoulli distribution \n",
    "    model = models.Model(inputs=input_layer, outputs=output_layer2,)\n",
    "    model.compile(optimizer=optimizers.Adam(lr=learning_rate), \n",
    "                  loss='binary_crossentropy', \n",
    "                  metrics=['accuracy', recall, precision, f1]) # 'f1score', 'precision', 'recall'\n",
    "\n",
    "    return model "
   ]
  },
  {
   "cell_type": "markdown",
   "metadata": {},
   "source": [
    "### LSTM model"
   ]
  },
  {
   "cell_type": "code",
   "execution_count": 62,
   "metadata": {},
   "outputs": [],
   "source": [
    "# LSTM Model Hyper-parameters \n",
    "vocabulary_size = len(word_index) + 1\n",
    "sequence_length = sequence_length\n",
    "embedding_dim = embedding_dim\n",
    "lstm_units = 100\n",
    "units = Y_train.shape[1] \n",
    "\n",
    "learning_rate = 1e-4"
   ]
  },
  {
   "cell_type": "code",
   "execution_count": 66,
   "metadata": {},
   "outputs": [],
   "source": [
    "def LSTM_model():\n",
    "\n",
    "    # Input Layer\n",
    "    input_layer = Input(shape=(sequence_length,), dtype='int32')\n",
    "\n",
    "    # Word embedding Layer\n",
    "    embedding_layer = Embedding(input_dim=vocabulary_size, output_dim=embedding_dim, input_length=sequence_length, \n",
    "                                weights=[embedding_matrix], trainable=False)(input_layer)\n",
    "    embedding_layer = SpatialDropout1D(0.3)(embedding_layer)\n",
    "\n",
    "    # Add the LSTM Layer\n",
    "    lstm_layer = LSTM(lstm_units)(embedding_layer)\n",
    "\n",
    "    # Add the output Layers\n",
    "    output_layer1 = Dense(50, activation=\"relu\")(lstm_layer)\n",
    "    output_layer1 = Dropout(0.25)(output_layer1)\n",
    "    output_layer2 = Dense(units= units, activation=\"sigmoid\")(output_layer1)\n",
    "\n",
    "    # Compile the model\n",
    "    model = models.Model(inputs=input_layer, outputs=output_layer2)\n",
    "    model.compile(optimizer=optimizers.Adam(lr=learning_rate), \n",
    "                  loss='binary_crossentropy', \n",
    "                  metrics=['accuracy', recall, precision, f1]) # 'f1score', 'precision', 'recall'\n",
    "\n",
    "    return model\n"
   ]
  },
  {
   "cell_type": "markdown",
   "metadata": {},
   "source": [
    "## Training"
   ]
  },
  {
   "cell_type": "code",
   "execution_count": 69,
   "metadata": {},
   "outputs": [
    {
     "name": "stdout",
     "output_type": "stream",
     "text": [
      "_________________________________________________________________\n",
      "Layer (type)                 Output Shape              Param #   \n",
      "=================================================================\n",
      "input_4 (InputLayer)         (None, 600)               0         \n",
      "_________________________________________________________________\n",
      "embedding_4 (Embedding)      (None, 600, 300)          112551600 \n",
      "_________________________________________________________________\n",
      "spatial_dropout1d_4 (Spatial (None, 600, 300)          0         \n",
      "_________________________________________________________________\n",
      "lstm_2 (LSTM)                (None, 100)               160400    \n",
      "_________________________________________________________________\n",
      "dense_7 (Dense)              (None, 50)                5050      \n",
      "_________________________________________________________________\n",
      "dropout_4 (Dropout)          (None, 50)                0         \n",
      "_________________________________________________________________\n",
      "dense_8 (Dense)              (None, 96)                4896      \n",
      "=================================================================\n",
      "Total params: 112,721,946\n",
      "Trainable params: 170,346\n",
      "Non-trainable params: 112,551,600\n",
      "_________________________________________________________________\n"
     ]
    }
   ],
   "source": [
    "# Define Training Parameters \n",
    "batch_size = 100\n",
    "epochs = 5\n",
    "\n",
    "# Choosing Model \n",
    "model = LSTM_model()  # CNN_model()\n",
    "model.summary()"
   ]
  },
  {
   "cell_type": "code",
   "execution_count": 70,
   "metadata": {
    "scrolled": true
   },
   "outputs": [
    {
     "name": "stdout",
     "output_type": "stream",
     "text": [
      "Train on 47773 samples, validate on 5309 samples\n",
      "Epoch 1/5\n",
      "47773/47773 [==============================] - 502s 11ms/step - loss: 0.2701 - acc: 0.8909 - recall: 0.0772 - precision: 0.0130 - f1: 0.0155 - val_loss: 0.0733 - val_acc: 0.9855 - val_recall: 0.0000e+00 - val_precision: 0.0000e+00 - val_f1: 0.0000e+00\n",
      "Epoch 2/5\n",
      "47773/47773 [==============================] - 503s 11ms/step - loss: 0.0869 - acc: 0.9836 - recall: 0.0037 - precision: 0.0293 - f1: 0.0064 - val_loss: 0.0692 - val_acc: 0.9855 - val_recall: 0.0000e+00 - val_precision: 0.0000e+00 - val_f1: 0.0000e+00\n",
      "Epoch 3/5\n",
      "47773/47773 [==============================] - 494s 10ms/step - loss: 0.0795 - acc: 0.9850 - recall: 0.0012 - precision: 0.0302 - f1: 0.0023 - val_loss: 0.0682 - val_acc: 0.9855 - val_recall: 0.0000e+00 - val_precision: 0.0000e+00 - val_f1: 0.0000e+00\n",
      "Epoch 4/5\n",
      "47773/47773 [==============================] - 500s 10ms/step - loss: 0.0763 - acc: 0.9853 - recall: 4.5978e-04 - precision: 0.0269 - f1: 8.9949e-04 - val_loss: 0.0678 - val_acc: 0.9855 - val_recall: 0.0000e+00 - val_precision: 0.0000e+00 - val_f1: 0.0000e+00\n",
      "Epoch 5/5\n",
      "47773/47773 [==============================] - 483s 10ms/step - loss: 0.0745 - acc: 0.9854 - recall: 9.0369e-05 - precision: 0.0115 - f1: 1.7923e-04 - val_loss: 0.0675 - val_acc: 0.9855 - val_recall: 0.0000e+00 - val_precision: 0.0000e+00 - val_f1: 0.0000e+00\n"
     ]
    }
   ],
   "source": [
    "# Training LSTM\n",
    "history = model.fit(X_train_seq, Y_train,\n",
    "                    batch_size=batch_size,\n",
    "                    epochs=epochs,\n",
    "                    verbose=1,\n",
    "                    validation_split=0.1)"
   ]
  },
  {
   "cell_type": "code",
   "execution_count": 671,
   "metadata": {},
   "outputs": [
    {
     "name": "stdout",
     "output_type": "stream",
     "text": [
      "_________________________________________________________________\n",
      "Layer (type)                 Output Shape              Param #   \n",
      "=================================================================\n",
      "input_42 (InputLayer)        (None, 480)               0         \n",
      "_________________________________________________________________\n",
      "embedding_42 (Embedding)     (None, 480, 300)          21634200  \n",
      "_________________________________________________________________\n",
      "spatial_dropout1d_42 (Spatia (None, 480, 300)          0         \n",
      "_________________________________________________________________\n",
      "conv1d_26 (Conv1D)           (None, 478, 100)          90100     \n",
      "_________________________________________________________________\n",
      "global_max_pooling1d_26 (Glo (None, 100)               0         \n",
      "_________________________________________________________________\n",
      "dense_69 (Dense)             (None, 50)                5050      \n",
      "_________________________________________________________________\n",
      "dropout_35 (Dropout)         (None, 50)                0         \n",
      "_________________________________________________________________\n",
      "dense_70 (Dense)             (None, 590)               30090     \n",
      "=================================================================\n",
      "Total params: 21,759,440\n",
      "Trainable params: 125,240\n",
      "Non-trainable params: 21,634,200\n",
      "_________________________________________________________________\n"
     ]
    }
   ],
   "source": [
    "# Define Training Parameters \n",
    "batch_size = 100\n",
    "epochs = 40\n",
    "\n",
    "# Choosing Model \n",
    "model = CNN_model() \n",
    "model.summary()"
   ]
  },
  {
   "cell_type": "code",
   "execution_count": 672,
   "metadata": {},
   "outputs": [
    {
     "name": "stdout",
     "output_type": "stream",
     "text": [
      "Train on 18000 samples, validate on 2000 samples\n",
      "Epoch 1/40\n",
      "18000/18000 [==============================] - 36s 2ms/step - loss: 0.5048 - acc: 0.7867 - recall: 0.2158 - precision: 0.0032 - f1: 0.0062 - val_loss: 0.1662 - val_acc: 0.9941 - val_recall: 0.0043 - val_precision: 0.0051 - val_f1: 0.0047\n",
      "Epoch 2/40\n",
      "18000/18000 [==============================] - 33s 2ms/step - loss: 0.0666 - acc: 0.9949 - recall: 0.0024 - precision: 0.0032 - f1: 0.0019 - val_loss: 0.0248 - val_acc: 0.9968 - val_recall: 0.0000e+00 - val_precision: 0.0000e+00 - val_f1: 0.0000e+00\n",
      "Epoch 3/40\n",
      "18000/18000 [==============================] - 33s 2ms/step - loss: 0.0260 - acc: 0.9967 - recall: 1.1734e-04 - precision: 0.0088 - f1: 2.3127e-04 - val_loss: 0.0201 - val_acc: 0.9968 - val_recall: 0.0000e+00 - val_precision: 0.0000e+00 - val_f1: 0.0000e+00\n",
      "Epoch 4/40\n",
      "18000/18000 [==============================] - 33s 2ms/step - loss: 0.0227 - acc: 0.9968 - recall: 1.5047e-04 - precision: 0.0194 - f1: 2.9842e-04 - val_loss: 0.0194 - val_acc: 0.9968 - val_recall: 0.0000e+00 - val_precision: 0.0000e+00 - val_f1: 0.0000e+00\n",
      "Epoch 5/40\n",
      "18000/18000 [==============================] - 33s 2ms/step - loss: 0.0218 - acc: 0.9968 - recall: 6.0403e-05 - precision: 0.0046 - f1: 1.1918e-04 - val_loss: 0.0192 - val_acc: 0.9968 - val_recall: 0.0000e+00 - val_precision: 0.0000e+00 - val_f1: 0.0000e+00\n",
      "Epoch 6/40\n",
      "18000/18000 [==============================] - 33s 2ms/step - loss: 0.0214 - acc: 0.9968 - recall: 0.0000e+00 - precision: 0.0000e+00 - f1: 0.0000e+00 - val_loss: 0.0190 - val_acc: 0.9968 - val_recall: 0.0000e+00 - val_precision: 0.0000e+00 - val_f1: 0.0000e+00\n",
      "Epoch 7/40\n",
      "18000/18000 [==============================] - 33s 2ms/step - loss: 0.0212 - acc: 0.9968 - recall: 1.1185e-04 - precision: 0.0222 - f1: 2.2257e-04 - val_loss: 0.0189 - val_acc: 0.9968 - val_recall: 0.0000e+00 - val_precision: 0.0000e+00 - val_f1: 0.0000e+00\n",
      "Epoch 8/40\n",
      "18000/18000 [==============================] - 33s 2ms/step - loss: 0.0210 - acc: 0.9968 - recall: 0.0000e+00 - precision: 0.0000e+00 - f1: 0.0000e+00 - val_loss: 0.0189 - val_acc: 0.9968 - val_recall: 0.0000e+00 - val_precision: 0.0000e+00 - val_f1: 0.0000e+00\n",
      "Epoch 9/40\n",
      "18000/18000 [==============================] - 33s 2ms/step - loss: 0.0209 - acc: 0.9968 - recall: 5.6813e-05 - precision: 0.0111 - f1: 1.1305e-04 - val_loss: 0.0188 - val_acc: 0.9968 - val_recall: 0.0000e+00 - val_precision: 0.0000e+00 - val_f1: 0.0000e+00\n",
      "Epoch 10/40\n",
      "18000/18000 [==============================] - 33s 2ms/step - loss: 0.0207 - acc: 0.9968 - recall: 2.6082e-05 - precision: 0.0056 - f1: 5.1921e-05 - val_loss: 0.0188 - val_acc: 0.9968 - val_recall: 0.0000e+00 - val_precision: 0.0000e+00 - val_f1: 0.0000e+00\n",
      "Epoch 11/40\n",
      "18000/18000 [==============================] - 33s 2ms/step - loss: 0.0206 - acc: 0.9968 - recall: 0.0000e+00 - precision: 0.0000e+00 - f1: 0.0000e+00 - val_loss: 0.0188 - val_acc: 0.9968 - val_recall: 0.0000e+00 - val_precision: 0.0000e+00 - val_f1: 0.0000e+00\n",
      "Epoch 12/40\n",
      "18000/18000 [==============================] - 33s 2ms/step - loss: 0.0205 - acc: 0.9968 - recall: 0.0000e+00 - precision: 0.0000e+00 - f1: 0.0000e+00 - val_loss: 0.0187 - val_acc: 0.9968 - val_recall: 0.0000e+00 - val_precision: 0.0000e+00 - val_f1: 0.0000e+00\n",
      "Epoch 13/40\n",
      "18000/18000 [==============================] - 33s 2ms/step - loss: 0.0204 - acc: 0.9968 - recall: 0.0000e+00 - precision: 0.0000e+00 - f1: 0.0000e+00 - val_loss: 0.0187 - val_acc: 0.9968 - val_recall: 0.0000e+00 - val_precision: 0.0000e+00 - val_f1: 0.0000e+00\n",
      "Epoch 14/40\n",
      "18000/18000 [==============================] - 33s 2ms/step - loss: 0.0203 - acc: 0.9968 - recall: 0.0000e+00 - precision: 0.0000e+00 - f1: 0.0000e+00 - val_loss: 0.0187 - val_acc: 0.9968 - val_recall: 0.0000e+00 - val_precision: 0.0000e+00 - val_f1: 0.0000e+00\n",
      "Epoch 15/40\n",
      "18000/18000 [==============================] - 33s 2ms/step - loss: 0.0202 - acc: 0.9968 - recall: 0.0000e+00 - precision: 0.0000e+00 - f1: 0.0000e+00 - val_loss: 0.0187 - val_acc: 0.9968 - val_recall: 0.0000e+00 - val_precision: 0.0000e+00 - val_f1: 0.0000e+00\n",
      "Epoch 16/40\n",
      "18000/18000 [==============================] - 33s 2ms/step - loss: 0.0201 - acc: 0.9968 - recall: 0.0000e+00 - precision: 0.0000e+00 - f1: 0.0000e+00 - val_loss: 0.0187 - val_acc: 0.9968 - val_recall: 0.0000e+00 - val_precision: 0.0000e+00 - val_f1: 0.0000e+00\n",
      "Epoch 17/40\n",
      "18000/18000 [==============================] - 33s 2ms/step - loss: 0.0200 - acc: 0.9968 - recall: 0.0000e+00 - precision: 0.0000e+00 - f1: 0.0000e+00 - val_loss: 0.0186 - val_acc: 0.9968 - val_recall: 0.0000e+00 - val_precision: 0.0000e+00 - val_f1: 0.0000e+00\n",
      "Epoch 18/40\n",
      "18000/18000 [==============================] - 33s 2ms/step - loss: 0.0200 - acc: 0.9968 - recall: 0.0000e+00 - precision: 0.0000e+00 - f1: 0.0000e+00 - val_loss: 0.0186 - val_acc: 0.9968 - val_recall: 0.0000e+00 - val_precision: 0.0000e+00 - val_f1: 0.0000e+00\n",
      "Epoch 19/40\n",
      "18000/18000 [==============================] - 33s 2ms/step - loss: 0.0199 - acc: 0.9968 - recall: 0.0000e+00 - precision: 0.0000e+00 - f1: 0.0000e+00 - val_loss: 0.0186 - val_acc: 0.9968 - val_recall: 0.0000e+00 - val_precision: 0.0000e+00 - val_f1: 0.0000e+00\n",
      "Epoch 20/40\n",
      "18000/18000 [==============================] - 33s 2ms/step - loss: 0.0198 - acc: 0.9968 - recall: 0.0000e+00 - precision: 0.0000e+00 - f1: 0.0000e+00 - val_loss: 0.0186 - val_acc: 0.9968 - val_recall: 0.0000e+00 - val_precision: 0.0000e+00 - val_f1: 0.0000e+00\n",
      "Epoch 21/40\n",
      "18000/18000 [==============================] - 33s 2ms/step - loss: 0.0198 - acc: 0.9968 - recall: 0.0000e+00 - precision: 0.0000e+00 - f1: 0.0000e+00 - val_loss: 0.0186 - val_acc: 0.9968 - val_recall: 0.0000e+00 - val_precision: 0.0000e+00 - val_f1: 0.0000e+00\n",
      "Epoch 22/40\n",
      "18000/18000 [==============================] - 33s 2ms/step - loss: 0.0197 - acc: 0.9968 - recall: 0.0000e+00 - precision: 0.0000e+00 - f1: 0.0000e+00 - val_loss: 0.0186 - val_acc: 0.9968 - val_recall: 0.0000e+00 - val_precision: 0.0000e+00 - val_f1: 0.0000e+00\n",
      "Epoch 23/40\n",
      "18000/18000 [==============================] - 33s 2ms/step - loss: 0.0197 - acc: 0.9968 - recall: 0.0000e+00 - precision: 0.0000e+00 - f1: 0.0000e+00 - val_loss: 0.0186 - val_acc: 0.9968 - val_recall: 0.0000e+00 - val_precision: 0.0000e+00 - val_f1: 0.0000e+00\n",
      "Epoch 24/40\n",
      "18000/18000 [==============================] - 33s 2ms/step - loss: 0.0196 - acc: 0.9968 - recall: 0.0000e+00 - precision: 0.0000e+00 - f1: 0.0000e+00 - val_loss: 0.0186 - val_acc: 0.9968 - val_recall: 0.0000e+00 - val_precision: 0.0000e+00 - val_f1: 0.0000e+00\n",
      "Epoch 25/40\n",
      "18000/18000 [==============================] - 33s 2ms/step - loss: 0.0196 - acc: 0.9968 - recall: 0.0000e+00 - precision: 0.0000e+00 - f1: 0.0000e+00 - val_loss: 0.0186 - val_acc: 0.9968 - val_recall: 0.0000e+00 - val_precision: 0.0000e+00 - val_f1: 0.0000e+00\n",
      "Epoch 26/40\n",
      "18000/18000 [==============================] - 33s 2ms/step - loss: 0.0196 - acc: 0.9968 - recall: 0.0000e+00 - precision: 0.0000e+00 - f1: 0.0000e+00 - val_loss: 0.0186 - val_acc: 0.9968 - val_recall: 0.0000e+00 - val_precision: 0.0000e+00 - val_f1: 0.0000e+00\n",
      "Epoch 27/40\n",
      "18000/18000 [==============================] - 33s 2ms/step - loss: 0.0195 - acc: 0.9968 - recall: 0.0000e+00 - precision: 0.0000e+00 - f1: 0.0000e+00 - val_loss: 0.0186 - val_acc: 0.9968 - val_recall: 0.0000e+00 - val_precision: 0.0000e+00 - val_f1: 0.0000e+00\n",
      "Epoch 28/40\n",
      "18000/18000 [==============================] - 33s 2ms/step - loss: 0.0195 - acc: 0.9968 - recall: 0.0000e+00 - precision: 0.0000e+00 - f1: 0.0000e+00 - val_loss: 0.0186 - val_acc: 0.9968 - val_recall: 0.0000e+00 - val_precision: 0.0000e+00 - val_f1: 0.0000e+00\n",
      "Epoch 29/40\n",
      "18000/18000 [==============================] - 33s 2ms/step - loss: 0.0194 - acc: 0.9968 - recall: 0.0000e+00 - precision: 0.0000e+00 - f1: 0.0000e+00 - val_loss: 0.0186 - val_acc: 0.9968 - val_recall: 0.0000e+00 - val_precision: 0.0000e+00 - val_f1: 0.0000e+00\n",
      "Epoch 30/40\n",
      "18000/18000 [==============================] - 33s 2ms/step - loss: 0.0194 - acc: 0.9968 - recall: 0.0000e+00 - precision: 0.0000e+00 - f1: 0.0000e+00 - val_loss: 0.0186 - val_acc: 0.9968 - val_recall: 0.0000e+00 - val_precision: 0.0000e+00 - val_f1: 0.0000e+00\n"
     ]
    },
    {
     "name": "stdout",
     "output_type": "stream",
     "text": [
      "Epoch 31/40\n",
      "18000/18000 [==============================] - 33s 2ms/step - loss: 0.0194 - acc: 0.9968 - recall: 0.0000e+00 - precision: 0.0000e+00 - f1: 0.0000e+00 - val_loss: 0.0185 - val_acc: 0.9968 - val_recall: 0.0000e+00 - val_precision: 0.0000e+00 - val_f1: 0.0000e+00\n",
      "Epoch 32/40\n",
      "18000/18000 [==============================] - 33s 2ms/step - loss: 0.0194 - acc: 0.9968 - recall: 0.0000e+00 - precision: 0.0000e+00 - f1: 0.0000e+00 - val_loss: 0.0185 - val_acc: 0.9968 - val_recall: 0.0000e+00 - val_precision: 0.0000e+00 - val_f1: 0.0000e+00\n",
      "Epoch 33/40\n",
      "18000/18000 [==============================] - 33s 2ms/step - loss: 0.0193 - acc: 0.9968 - recall: 0.0000e+00 - precision: 0.0000e+00 - f1: 0.0000e+00 - val_loss: 0.0185 - val_acc: 0.9968 - val_recall: 0.0000e+00 - val_precision: 0.0000e+00 - val_f1: 0.0000e+00\n",
      "Epoch 34/40\n",
      "18000/18000 [==============================] - 33s 2ms/step - loss: 0.0193 - acc: 0.9968 - recall: 0.0000e+00 - precision: 0.0000e+00 - f1: 0.0000e+00 - val_loss: 0.0185 - val_acc: 0.9968 - val_recall: 0.0000e+00 - val_precision: 0.0000e+00 - val_f1: 0.0000e+00\n",
      "Epoch 35/40\n",
      "18000/18000 [==============================] - 33s 2ms/step - loss: 0.0193 - acc: 0.9968 - recall: 0.0000e+00 - precision: 0.0000e+00 - f1: 0.0000e+00 - val_loss: 0.0185 - val_acc: 0.9968 - val_recall: 0.0000e+00 - val_precision: 0.0000e+00 - val_f1: 0.0000e+00\n",
      "Epoch 36/40\n",
      "18000/18000 [==============================] - 33s 2ms/step - loss: 0.0193 - acc: 0.9968 - recall: 0.0000e+00 - precision: 0.0000e+00 - f1: 0.0000e+00 - val_loss: 0.0185 - val_acc: 0.9968 - val_recall: 0.0000e+00 - val_precision: 0.0000e+00 - val_f1: 0.0000e+00\n",
      "Epoch 37/40\n",
      "18000/18000 [==============================] - 33s 2ms/step - loss: 0.0193 - acc: 0.9968 - recall: 0.0000e+00 - precision: 0.0000e+00 - f1: 0.0000e+00 - val_loss: 0.0185 - val_acc: 0.9968 - val_recall: 0.0000e+00 - val_precision: 0.0000e+00 - val_f1: 0.0000e+00\n",
      "Epoch 38/40\n",
      "18000/18000 [==============================] - 33s 2ms/step - loss: 0.0192 - acc: 0.9968 - recall: 0.0000e+00 - precision: 0.0000e+00 - f1: 0.0000e+00 - val_loss: 0.0185 - val_acc: 0.9968 - val_recall: 0.0000e+00 - val_precision: 0.0000e+00 - val_f1: 0.0000e+00\n",
      "Epoch 39/40\n",
      "18000/18000 [==============================] - 33s 2ms/step - loss: 0.0192 - acc: 0.9968 - recall: 0.0000e+00 - precision: 0.0000e+00 - f1: 0.0000e+00 - val_loss: 0.0185 - val_acc: 0.9968 - val_recall: 0.0000e+00 - val_precision: 0.0000e+00 - val_f1: 0.0000e+00\n",
      "Epoch 40/40\n",
      "18000/18000 [==============================] - 33s 2ms/step - loss: 0.0192 - acc: 0.9968 - recall: 0.0000e+00 - precision: 0.0000e+00 - f1: 0.0000e+00 - val_loss: 0.0185 - val_acc: 0.9968 - val_recall: 0.0000e+00 - val_precision: 0.0000e+00 - val_f1: 0.0000e+00\n"
     ]
    }
   ],
   "source": [
    "# Training CNN\n",
    "history = model.fit(X_train_seq, Y_train,\n",
    "                    batch_size=batch_size,\n",
    "                    epochs=epochs,\n",
    "                    verbose=1,\n",
    "                    validation_split=0.1)"
   ]
  },
  {
   "cell_type": "code",
   "execution_count": null,
   "metadata": {},
   "outputs": [],
   "source": [
    "# score = model.evaluate(X_test_seq, Y_test, verbose=0)\n",
    "# print('Test score:', score[0])\n",
    "# print('Test accuracy:', score[1])"
   ]
  },
  {
   "cell_type": "markdown",
   "metadata": {},
   "source": [
    "### LSTM Model Results"
   ]
  },
  {
   "cell_type": "code",
   "execution_count": 71,
   "metadata": {},
   "outputs": [],
   "source": [
    "def get_pred_classes(X_test_seq, number_of_labels = 1):\n",
    "\n",
    "    preds = np.zeros(shape=model.predict(X_test_seq).shape)\n",
    "    pred_proba = model.predict(X_test_seq)\n",
    "\n",
    "    for i in range(pred_proba.shape[0]): \n",
    "        idxs = np.argsort(pred_proba[i])[::-1][:number_of_labels]\n",
    "        preds[i][idxs] = 1\n",
    "    \n",
    "    return preds"
   ]
  },
  {
   "cell_type": "markdown",
   "metadata": {},
   "source": [
    "#### Top 1 label prediction"
   ]
  },
  {
   "cell_type": "code",
   "execution_count": 72,
   "metadata": {},
   "outputs": [
    {
     "name": "stdout",
     "output_type": "stream",
     "text": [
      "precision: 0.07527691959912591\n",
      "recall: 0.0633235375379901\n",
      "f1: 0.06706603370758293\n"
     ]
    }
   ],
   "source": [
    "# average = samples : Calculate metrics for each instance, \n",
    "# and find their average (only meaningful for multilabel classification)\n",
    "pred_classes = get_pred_classes(X_test_seq, number_of_labels = 1)\n",
    "print(\"precision:\" , metrics.precision_score(Y_test, pred_classes, average = 'samples'))\n",
    "print(\"recall:\" , metrics.recall_score(Y_test, pred_classes, average = 'samples'))\n",
    "print(\"f1:\" , metrics.f1_score(Y_test, pred_classes, average = 'samples'))"
   ]
  },
  {
   "cell_type": "markdown",
   "metadata": {},
   "source": [
    "#### Top 2 labels prediction"
   ]
  },
  {
   "cell_type": "code",
   "execution_count": 73,
   "metadata": {},
   "outputs": [
    {
     "name": "stdout",
     "output_type": "stream",
     "text": [
      "precision: 0.0707934594228016\n",
      "recall: 0.12150679426318037\n",
      "f1: 0.08730242454905254\n"
     ]
    }
   ],
   "source": [
    "pred_classes = get_pred_classes(X_test_seq, number_of_labels = 2)\n",
    "print(\"precision:\" , metrics.precision_score(Y_test, pred_classes, average = 'samples'))\n",
    "print(\"recall:\" , metrics.recall_score(Y_test, pred_classes, average = 'samples'))\n",
    "print(\"f1:\" , metrics.f1_score(Y_test, pred_classes, average = 'samples'))"
   ]
  },
  {
   "cell_type": "markdown",
   "metadata": {},
   "source": [
    "#### Top 10 labels prediction"
   ]
  },
  {
   "cell_type": "code",
   "execution_count": 74,
   "metadata": {},
   "outputs": [
    {
     "name": "stdout",
     "output_type": "stream",
     "text": [
      "precision: 0.05664983799261547\n",
      "recall: 0.4285057644487981\n",
      "f1: 0.09789515422662888\n"
     ]
    }
   ],
   "source": [
    "pred_classes = get_pred_classes(X_test_seq, number_of_labels = 10)\n",
    "print(\"precision:\" , metrics.precision_score(Y_test, pred_classes, average = 'samples'))\n",
    "print(\"recall:\" , metrics.recall_score(Y_test, pred_classes, average = 'samples'))\n",
    "print(\"f1:\" , metrics.f1_score(Y_test, pred_classes, average = 'samples'))"
   ]
  },
  {
   "cell_type": "code",
   "execution_count": 75,
   "metadata": {},
   "outputs": [
    {
     "data": {
      "text/plain": [
       "<matplotlib.legend.Legend at 0x7f4bc57431d0>"
      ]
     },
     "execution_count": 75,
     "metadata": {},
     "output_type": "execute_result"
    },
    {
     "data": {
      "image/png": "[encoded data removed]",
      "text/plain": [
       "<matplotlib.figure.Figure at 0x7f4bc6b133c8>"
      ]
     },
     "metadata": {},
     "output_type": "display_data"
    }
   ],
   "source": [
    "# Ploting the loss \n",
    "#history.history[\"loss\"]\n",
    "\n",
    "plt.figure(figsize=(15,5))\n",
    "N = epochs\n",
    "plt.plot(np.arange(0, N), history.history[\"loss\"], label=\"train_loss\")\n",
    "plt.plot(np.arange(0, N), history.history[\"val_loss\"], label=\"val_loss\")\n",
    "# plt.plot(np.arange(0, N), history.history[\"acc\"], label=\"train_acc\")\n",
    "# plt.plot(np.arange(0, N), history.history[\"val_acc\"], label=\"val_acc\")\n",
    "# plt.plot(np.arange(0, N), history.history[\"precision\"], label=\"train_precision\")\n",
    "# plt.plot(np.arange(0, N), history.history[\"val_precision\"], label=\"val_precision\")\n",
    "# plt.plot(np.arange(0, N), history.history[\"recall\"], label=\"train_recall\")\n",
    "# plt.plot(np.arange(0, N), history.history[\"val_recall\"], label=\"val_recall\")\n",
    "# plt.plot(np.arange(0, N), history.history[\"f1\"], label=\"train_f1\")\n",
    "# plt.plot(np.arange(0, N), history.history[\"val_f1\"], label=\"val_f1\")\n",
    "plt.title(\"Training Loss (LSTM)\")\n",
    "plt.xlabel(\"Epochs\")\n",
    "plt.grid()\n",
    "#plt.ylabel(\"Loss/Accuracy\")\n",
    "plt.legend(loc=\"upper right\")"
   ]
  },
  {
   "cell_type": "markdown",
   "metadata": {},
   "source": [
    "### CNN Model Results"
   ]
  },
  {
   "cell_type": "markdown",
   "metadata": {},
   "source": [
    "#### Top 1 label prediction"
   ]
  },
  {
   "cell_type": "code",
   "execution_count": 673,
   "metadata": {},
   "outputs": [
    {
     "name": "stdout",
     "output_type": "stream",
     "text": [
      "precision: 0.0618\n",
      "recall: 0.03695666666666666\n",
      "f1: 0.04381523809523809\n"
     ]
    }
   ],
   "source": [
    "pred_classes = get_pred_classes(X_test_seq, number_of_labels = 1)\n",
    "print(\"precision:\" , metrics.precision_score(Y_test, pred_classes, average = 'samples'))\n",
    "print(\"recall:\" , metrics.recall_score(Y_test, pred_classes, average = 'samples'))\n",
    "print(\"f1:\" , metrics.f1_score(Y_test, pred_classes, average = 'samples'))"
   ]
  },
  {
   "cell_type": "markdown",
   "metadata": {},
   "source": [
    "#### Top 2 labels prediction"
   ]
  },
  {
   "cell_type": "code",
   "execution_count": 674,
   "metadata": {},
   "outputs": [
    {
     "name": "stdout",
     "output_type": "stream",
     "text": [
      "precision: 0.0612\n",
      "recall: 0.07405\n",
      "f1: 0.06286857142857143\n"
     ]
    }
   ],
   "source": [
    "pred_classes = get_pred_classes(X_test_seq, number_of_labels = 2)\n",
    "print(\"precision:\" , metrics.precision_score(Y_test, pred_classes, average = 'samples'))\n",
    "print(\"recall:\" , metrics.recall_score(Y_test, pred_classes, average = 'samples'))\n",
    "print(\"f1:\" , metrics.f1_score(Y_test, pred_classes, average = 'samples'))"
   ]
  },
  {
   "cell_type": "markdown",
   "metadata": {},
   "source": [
    "#### Top 10 labels prediction"
   ]
  },
  {
   "cell_type": "code",
   "execution_count": 675,
   "metadata": {},
   "outputs": [
    {
     "name": "stdout",
     "output_type": "stream",
     "text": [
      "precision: 0.04088\n",
      "recall: 0.23202833333333336\n",
      "f1: 0.06686597742127154\n"
     ]
    }
   ],
   "source": [
    "pred_classes = get_pred_classes(X_test_seq, number_of_labels = 10)\n",
    "print(\"precision:\" , metrics.precision_score(Y_test, pred_classes, average = 'samples'))\n",
    "print(\"recall:\" , metrics.recall_score(Y_test, pred_classes, average = 'samples'))\n",
    "print(\"f1:\" , metrics.f1_score(Y_test, pred_classes, average = 'samples'))"
   ]
  },
  {
   "cell_type": "code",
   "execution_count": 676,
   "metadata": {},
   "outputs": [
    {
     "data": {
      "text/plain": [
       "<matplotlib.legend.Legend at 0x7f41fcbb7588>"
      ]
     },
     "execution_count": 676,
     "metadata": {},
     "output_type": "execute_result"
    },
    {
     "data": {
      "image/png": "[encoded data removed]",
      "text/plain": [
       "<matplotlib.figure.Figure at 0x7f41fcbad358>"
      ]
     },
     "metadata": {},
     "output_type": "display_data"
    }
   ],
   "source": [
    "# Ploting the loss \n",
    "#history.history[\"loss\"]\n",
    "\n",
    "plt.figure(figsize=(15,5))\n",
    "N = epochs\n",
    "plt.plot(np.arange(0, N), history.history[\"loss\"], label=\"train_loss\")\n",
    "plt.plot(np.arange(0, N), history.history[\"val_loss\"], label=\"val_loss\")\n",
    "# plt.plot(np.arange(0, N), history.history[\"acc\"], label=\"train_acc\")\n",
    "# plt.plot(np.arange(0, N), history.history[\"val_acc\"], label=\"val_acc\")\n",
    "# plt.plot(np.arange(0, N), history.history[\"precision\"], label=\"train_precision\")\n",
    "# plt.plot(np.arange(0, N), history.history[\"val_precision\"], label=\"val_precision\")\n",
    "# plt.plot(np.arange(0, N), history.history[\"recall\"], label=\"train_recall\")\n",
    "# plt.plot(np.arange(0, N), history.history[\"val_recall\"], label=\"val_recall\")\n",
    "# plt.plot(np.arange(0, N), history.history[\"f1\"], label=\"train_f1\")\n",
    "# plt.plot(np.arange(0, N), history.history[\"val_f1\"], label=\"val_f1\")\n",
    "plt.title(\"Training Loss (CNN)\")\n",
    "plt.xlabel(\"Epochs\")\n",
    "plt.grid()\n",
    "#plt.ylabel(\"Loss/Accuracy\")\n",
    "plt.legend(loc=\"upper right\")"
   ]
  },
  {
   "cell_type": "markdown",
   "metadata": {},
   "source": [
    "\n"
   ]
  },
  {
   "cell_type": "markdown",
   "metadata": {},
   "source": [
    "### Error Analysis"
   ]
  },
  {
   "cell_type": "code",
   "execution_count": 466,
   "metadata": {},
   "outputs": [
    {
     "data": {
      "text/plain": [
       "array([5.92865341e-04, 3.01415334e-04, 2.36083064e-02, 6.84909802e-03,\n",
       "       9.69777757e-04, 8.47762823e-03, 7.70767638e-03, 6.92555564e-04,\n",
       "       2.57148349e-04, 9.47743189e-04, 2.81866686e-03, 5.77301905e-03,\n",
       "       3.49867769e-04, 2.39308528e-03, 1.62545344e-04, 6.92318659e-03,\n",
       "       1.71949179e-03, 5.31390356e-03, 2.17994233e-03, 5.59421256e-03,\n",
       "       2.58543016e-03, 8.55640756e-05, 6.04117662e-03, 2.04578438e-03,\n",
       "       3.60888866e-04, 2.58674641e-04, 5.48834563e-04, 1.56376103e-04,\n",
       "       1.56002294e-03, 9.74122714e-03, 4.52442886e-03, 1.04114627e-02,\n",
       "       2.77904794e-04, 9.63926213e-05, 3.41320527e-03, 9.22729159e-05,\n",
       "       3.09929572e-04, 6.09268136e-05, 3.77434219e-04, 2.31152866e-03,\n",
       "       7.49768806e-05, 8.60306682e-05, 3.09764146e-04, 8.04160663e-04,\n",
       "       8.35152750e-04, 1.29920649e-04, 6.88550994e-04, 1.70716114e-04,\n",
       "       2.07651546e-03, 1.42738718e-04, 9.65562795e-05, 7.05370185e-05,\n",
       "       3.47676600e-04, 6.63173487e-05, 2.58693646e-04, 5.16995694e-03,\n",
       "       1.18405779e-03, 1.87690533e-03, 3.60155944e-04, 1.00924168e-03,\n",
       "       2.64767092e-03, 7.18245655e-03, 4.48911946e-04, 2.79276003e-03,\n",
       "       5.32591890e-04, 4.91092494e-03, 2.03859876e-03, 8.68038449e-04,\n",
       "       4.70378931e-04, 2.69417535e-03, 6.69741305e-04, 5.55293914e-03,\n",
       "       3.30527988e-03, 1.20800885e-03, 3.36221798e-04, 2.03072233e-03,\n",
       "       3.17042768e-02, 2.79998076e-05, 1.00022502e-04, 9.37184595e-05,\n",
       "       3.75938346e-03, 5.28931618e-03, 2.43816921e-03, 1.60098207e-04,\n",
       "       5.08085534e-04, 2.05412004e-02, 1.69128589e-02, 3.80296749e-03,\n",
       "       1.60668697e-02, 4.28243773e-04, 6.86607277e-03, 1.13445264e-03,\n",
       "       1.53584348e-03, 1.79937370e-02, 2.70810234e-03, 4.01631114e-04,\n",
       "       8.59363936e-04, 1.27969746e-04, 1.00667914e-03, 4.77080327e-03,\n",
       "       1.45131396e-03, 2.18502741e-04, 8.83612884e-05, 2.95981597e-02,\n",
       "       3.10759875e-03, 1.05076761e-03, 1.77542365e-03, 6.01890450e-03,\n",
       "       3.11442814e-03, 1.32807102e-02, 2.28840057e-04, 1.11254212e-03,\n",
       "       1.95025947e-04, 1.91374018e-03, 4.01092781e-04, 4.95828176e-03,\n",
       "       9.90494445e-05, 2.95289909e-03, 1.21900754e-03, 5.64496091e-04,\n",
       "       3.35493241e-04, 1.03606645e-03, 4.08782111e-03, 2.52993172e-03,\n",
       "       1.52189969e-04, 9.98186995e-04, 3.89907067e-03, 2.78271991e-03,\n",
       "       2.33112811e-03, 1.84033960e-02, 2.22799456e-04, 1.40933273e-03,\n",
       "       2.40918226e-03, 1.59763935e-04, 2.18352157e-04, 4.09519905e-03,\n",
       "       3.27651127e-04, 1.15877984e-03, 5.21549257e-03, 5.14797354e-03,\n",
       "       6.70380759e-05, 2.99369241e-03, 1.37678646e-02, 1.60172826e-03,\n",
       "       1.19339180e-04, 7.89608900e-03, 8.19621608e-03, 2.46994896e-04,\n",
       "       1.69493444e-02, 1.04471634e-03, 4.82389471e-03, 7.75035296e-04,\n",
       "       5.80282765e-04, 5.36769221e-05, 3.60523001e-03, 1.54508371e-03,\n",
       "       3.52744508e-04, 3.04213911e-03, 7.06947059e-04, 5.54181112e-04,\n",
       "       7.26044038e-03, 3.52356257e-03, 2.56593409e-03, 3.09287943e-03,\n",
       "       6.81412369e-02, 1.51554486e-02, 1.17806857e-02, 6.28964743e-04,\n",
       "       6.66125328e-04, 7.72095891e-03, 3.47132646e-02, 7.36467866e-03,\n",
       "       6.10725896e-04, 1.00137317e-03, 8.90527444e-04, 1.98377599e-03,\n",
       "       3.60094314e-03, 2.04097317e-03, 1.56637412e-04, 1.60356704e-03,\n",
       "       8.03243383e-05, 7.42943550e-04, 8.95275618e-04, 4.53718909e-04,\n",
       "       3.17084370e-04, 6.15368946e-04, 2.14044223e-04, 6.25427172e-04,\n",
       "       1.04507562e-02, 4.27238643e-04, 4.85381861e-05, 3.14809906e-04,\n",
       "       1.16662430e-02, 1.42494071e-04, 1.23478728e-03, 1.94022694e-04,\n",
       "       3.24450404e-04, 2.64562084e-03, 2.49665638e-04, 1.79143785e-03,\n",
       "       1.43263547e-04, 1.31308576e-02, 4.11958055e-04, 1.14961097e-03,\n",
       "       6.79108896e-04, 7.92190258e-04, 9.66368010e-04, 2.01222385e-04,\n",
       "       2.07597995e-03, 1.23050297e-03, 1.18683463e-04, 4.23553953e-04,\n",
       "       1.14121511e-04, 1.17064039e-04, 7.31947972e-03, 5.35917422e-03,\n",
       "       1.13255170e-03, 1.00338273e-02, 2.49706744e-03, 6.51501352e-03,\n",
       "       6.70544803e-04, 8.19567766e-04, 5.69457770e-04, 9.89661319e-04,\n",
       "       6.06448666e-05, 1.62047669e-04, 7.51216139e-04, 1.66701467e-03,\n",
       "       8.44867784e-04, 5.19796857e-04, 9.34479001e-04, 7.22237339e-04,\n",
       "       8.42579175e-03, 3.22055491e-03, 5.93858167e-05, 1.73866481e-03,\n",
       "       6.31225354e-04, 3.69505608e-04, 3.24837281e-03, 2.20545437e-02,\n",
       "       1.10063562e-03, 1.53109722e-03, 6.11365365e-04, 2.93962704e-03,\n",
       "       2.21483744e-04, 1.81490078e-03, 1.20959980e-04, 4.02592472e-04,\n",
       "       2.67815834e-04, 3.25847464e-03, 1.93774868e-02, 4.36411193e-03,\n",
       "       1.02973520e-03, 1.94146659e-03, 1.00947532e-03, 1.93313556e-03,\n",
       "       5.51307900e-03, 3.08838207e-04, 1.20966091e-04, 3.84011231e-02,\n",
       "       1.24815837e-04, 2.66240141e-03, 4.16243827e-04, 9.68927704e-03,\n",
       "       2.73125190e-02, 1.90436828e-03, 4.09703149e-04, 3.12139234e-03,\n",
       "       9.57873766e-04, 7.18302850e-04, 9.70724504e-05, 4.38899704e-04,\n",
       "       1.35955296e-03, 1.33680915e-02, 6.92224930e-05, 2.17569730e-04,\n",
       "       6.30226219e-03, 2.26781191e-03, 4.03396972e-03, 1.11029643e-04,\n",
       "       2.96656648e-03, 7.70475162e-05, 2.98171560e-03, 1.92140439e-03,\n",
       "       2.45631411e-04, 8.73541794e-05, 1.19149860e-04, 2.36638865e-04,\n",
       "       1.01502475e-04, 1.11008715e-03, 6.39594998e-03, 8.92086100e-05,\n",
       "       5.18657733e-03, 6.32530428e-04, 1.52665759e-02, 2.07692869e-02,\n",
       "       3.89448833e-04, 5.52157965e-03, 1.37111114e-03, 1.76498594e-04,\n",
       "       5.90072013e-04, 1.39579497e-04, 1.25515842e-04, 3.18927232e-05,\n",
       "       4.93070809e-04, 1.35877010e-04, 1.78407470e-03, 2.14746633e-05,\n",
       "       2.21468834e-03, 2.48088618e-04, 1.13235132e-04, 3.16089572e-04,\n",
       "       8.23151553e-04, 1.06770301e-03, 1.16592251e-04, 2.79448135e-03,\n",
       "       7.66791272e-05, 1.09443918e-03, 2.06300669e-04, 1.06151467e-02,\n",
       "       2.75605795e-04, 3.98492254e-03, 8.12602404e-04, 1.47429248e-03,\n",
       "       7.87706859e-03, 8.15263484e-03, 1.58008293e-03, 8.59328639e-03,\n",
       "       3.83024872e-03, 2.76946393e-03, 9.42161493e-03, 1.03192916e-03,\n",
       "       1.99821568e-03, 4.27668536e-04, 5.99967607e-05, 1.84755132e-04,\n",
       "       1.36904695e-04, 4.50393476e-04, 7.66780460e-04, 1.60102180e-04,\n",
       "       1.22714016e-04, 2.78138323e-04, 1.04433869e-03, 1.03851976e-02,\n",
       "       2.13588573e-04, 3.08849737e-02, 9.70764144e-04, 4.16709721e-04,\n",
       "       2.34807158e-04, 6.14601234e-03, 3.64426407e-04, 2.34504370e-03,\n",
       "       1.94658656e-04, 5.60593838e-03, 2.08155904e-02, 5.26522228e-04,\n",
       "       7.54881912e-05, 1.16401876e-03, 7.12899346e-05, 1.92508474e-03,\n",
       "       7.66971707e-03, 1.01482472e-03, 6.70389785e-03, 4.13533859e-03,\n",
       "       1.22927391e-04, 1.87876076e-03, 6.45724358e-05, 1.10208253e-04,\n",
       "       5.29031204e-05, 2.62916666e-02, 3.99360387e-03, 5.96546801e-04,\n",
       "       1.16813858e-03, 2.95637455e-03, 2.00013933e-03, 1.44543097e-04,\n",
       "       1.37260649e-03, 1.59928314e-02, 5.58431784e-04, 8.24557152e-04,\n",
       "       5.91842574e-04, 5.33345483e-05, 2.22742310e-04, 1.32522201e-02,\n",
       "       1.19446991e-02, 1.01109815e-03, 2.23113006e-04, 6.47923127e-02,\n",
       "       2.30225589e-04, 5.56257926e-03, 2.65774084e-03, 3.55813914e-04,\n",
       "       2.57051713e-03, 5.08602301e-04, 2.13085185e-03, 3.32725409e-04,\n",
       "       1.89497636e-03, 2.27709592e-04, 8.98300856e-03, 5.80953201e-04,\n",
       "       1.56893322e-04, 6.36313780e-05, 7.77849171e-04, 2.45774072e-03,\n",
       "       3.66726927e-02, 2.42164242e-04, 1.97188147e-05, 5.52333985e-03,\n",
       "       1.13750156e-03, 1.91924931e-03, 2.48264093e-02, 4.20331163e-03,\n",
       "       2.46687722e-03, 1.50773516e-02, 4.09220299e-03, 4.88459226e-03,\n",
       "       1.73819368e-04, 5.50446857e-04, 1.47075811e-03, 1.12410565e-03,\n",
       "       1.45518174e-02, 8.98047074e-05, 3.83601408e-04, 7.49882951e-04,\n",
       "       6.07591879e-04, 1.68532031e-04, 1.13967014e-03, 5.66787366e-03,\n",
       "       2.26626731e-03, 7.39430601e-04, 1.77659575e-04, 1.05335948e-03,\n",
       "       2.10732105e-04, 3.37382575e-04, 1.80724508e-03, 3.43307707e-04,\n",
       "       1.35711697e-03, 3.02452478e-03, 6.17200695e-03, 1.94713793e-04,\n",
       "       2.42853290e-04, 8.80114676e-04, 7.21978536e-03, 1.63671037e-04,\n",
       "       5.61086163e-05, 7.09645392e-04, 1.74497031e-02, 8.96210968e-03,\n",
       "       3.09665734e-03, 1.59959309e-03, 1.33410480e-03, 5.97976788e-04,\n",
       "       1.44206773e-04, 1.06375653e-03, 2.14256300e-03, 2.99082487e-03,\n",
       "       9.78885219e-04, 6.34661468e-04, 5.56779385e-04, 2.02082586e-03,\n",
       "       3.08265473e-04, 1.45169077e-04, 1.33499547e-04, 7.74358399e-04,\n",
       "       5.45891744e-05, 1.19463331e-03, 9.46193992e-04, 5.33657265e-04,\n",
       "       1.83791577e-04, 2.16726605e-02, 5.61181344e-02, 5.43080270e-04,\n",
       "       4.22899728e-04, 2.57677287e-02, 7.12605251e-04, 1.62924116e-04,\n",
       "       3.11100972e-04, 6.47647120e-03, 4.23641177e-04, 2.06548581e-03,\n",
       "       1.56811625e-02, 1.26882293e-03, 1.29805732e-04, 4.56304610e-04,\n",
       "       7.88587859e-05, 7.70719431e-04, 1.28358416e-03, 4.29084525e-03,\n",
       "       3.29931919e-03, 7.54260109e-04, 3.39677848e-04, 1.29910492e-04,\n",
       "       1.69082356e-04, 1.13974349e-03, 7.55314389e-03, 2.32596905e-03,\n",
       "       5.19628229e-04, 5.67469047e-04, 1.62875198e-03, 1.64166931e-02,\n",
       "       5.98565862e-03, 1.34563865e-03, 5.09419618e-03, 3.25965899e-04,\n",
       "       4.45314217e-03, 2.81102810e-04, 4.04673768e-03, 2.60749657e-04,\n",
       "       1.36249349e-03, 3.85710853e-04, 1.08508179e-02, 3.10471049e-04,\n",
       "       1.45744809e-04, 6.15534955e-05, 9.88993095e-04, 8.39112792e-04,\n",
       "       7.33917230e-04, 2.53660604e-04, 9.37930541e-04, 4.69245110e-03,\n",
       "       1.08890487e-02, 4.47217654e-03, 2.81821401e-03, 7.83097697e-04,\n",
       "       1.50432752e-03, 2.39976891e-03, 1.98083986e-02, 4.12560813e-03,\n",
       "       2.28974925e-04, 8.42170382e-04, 1.63306738e-03, 1.68365496e-03,\n",
       "       2.66732561e-04, 1.73526653e-03, 3.10799479e-03, 9.23002546e-04,\n",
       "       5.09480760e-03, 4.03553806e-02, 7.46003389e-02, 9.17880388e-04,\n",
       "       6.94315089e-03, 2.30525783e-03, 5.48731303e-04, 5.08725003e-04,\n",
       "       2.22270680e-03, 1.62934375e-04, 6.88522495e-03, 3.02709814e-04,\n",
       "       2.93218321e-03, 1.98407518e-03, 1.23374094e-03, 2.88506853e-03,\n",
       "       4.50396352e-02, 1.04372930e-02, 7.85334408e-03, 3.69163207e-03,\n",
       "       1.62551703e-04, 3.31370439e-03, 1.28794194e-03, 6.99939579e-03,\n",
       "       9.08723858e-04, 1.50943513e-03, 1.30013970e-04, 1.33920554e-02,\n",
       "       7.91910279e-04, 3.48035101e-04, 3.09350668e-04, 7.07819359e-04,\n",
       "       3.46019988e-05, 1.24891161e-03, 5.84996073e-03, 1.78499555e-04,\n",
       "       9.11484531e-05, 8.55199993e-04, 1.93868284e-04, 5.20891324e-03,\n",
       "       1.51982589e-04, 1.55882137e-02, 2.80824304e-03, 4.13557485e-04,\n",
       "       2.58456974e-04, 4.86637140e-03, 5.53167076e-04, 4.47685074e-04,\n",
       "       1.45879822e-04, 2.35000516e-05, 1.00632319e-02, 1.33973692e-04,\n",
       "       2.92156707e-03, 1.28416065e-03], dtype=float32)"
      ]
     },
     "execution_count": 466,
     "metadata": {},
     "output_type": "execute_result"
    }
   ],
   "source": [
    "model.predict(X_test_seq)[100]"
   ]
  },
  {
   "cell_type": "code",
   "execution_count": 494,
   "metadata": {
    "scrolled": true
   },
   "outputs": [
    {
     "name": "stdout",
     "output_type": "stream",
     "text": [
      "373\n",
      "117\n",
      "117\n",
      "373\n",
      "373\n"
     ]
    }
   ],
   "source": [
    "for i in range(5):\n",
    "    print(model.predict(X_test_seq)[i].argmax())\n",
    "#model.predict(X_test_seq)[4].argmax()"
   ]
  },
  {
   "cell_type": "code",
   "execution_count": null,
   "metadata": {},
   "outputs": [],
   "source": []
  }
 ],
 "metadata": {
  "kernelspec": {
   "display_name": "Python 3",
   "language": "python",
   "name": "python3"
  },
  "language_info": {
   "codemirror_mode": {
    "name": "ipython",
    "version": 3
   },
   "file_extension": ".py",
   "mimetype": "text/x-python",
   "name": "python",
   "nbconvert_exporter": "python",
   "pygments_lexer": "ipython3",
   "version": "3.6.4"
  }
 },
 "nbformat": 4,
 "nbformat_minor": 2
}
