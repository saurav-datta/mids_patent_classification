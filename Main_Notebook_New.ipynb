{
 "cells": [
  {
   "cell_type": "markdown",
   "metadata": {},
   "source": [
    "# Multi-label Patent Classification with Neural Networks"
   ]
  },
  {
   "cell_type": "code",
   "execution_count": 3,
   "metadata": {
    "ExecuteTime": {
     "end_time": "2018-07-31T07:53:16.970611Z",
     "start_time": "2018-07-31T07:52:51.054841Z"
    }
   },
   "outputs": [
    {
     "name": "stderr",
     "output_type": "stream",
     "text": [
      "/Users/arganesa/anaconda3/lib/python3.6/site-packages/h5py/__init__.py:36: FutureWarning: Conversion of the second argument of issubdtype from `float` to `np.floating` is deprecated. In future, it will be treated as `np.float64 == np.dtype(float).type`.\n",
      "  from ._conv import register_converters as _register_converters\n",
      "Using TensorFlow backend.\n"
     ]
    }
   ],
   "source": [
    "# import packages \n",
    "import tensorflow as tf\n",
    "import pandas as pd  \n",
    "import numpy as np \n",
    "import gzip\n",
    "from keras.models import Sequential\n",
    "from keras.layers import LSTM, GRU, Dense, Activation, Dropout, Input, Embedding, Bidirectional, Reshape, Flatten, Conv1D, MaxPooling1D, MaxPool1D, GlobalMaxPool1D, SpatialDropout1D\n",
    "from keras.layers import concatenate\n",
    "from keras.preprocessing import text, sequence\n",
    "from keras import utils\n",
    "from keras import callbacks\n",
    "from keras import optimizers, models\n",
    "from sklearn import model_selection, preprocessing, metrics\n",
    "from keras.utils import to_categorical\n",
    "import matplotlib.pyplot as plt\n",
    "import zipfile\n",
    "import keras_metrics\n",
    "\n",
    "import nltk\n",
    "import re\n",
    "\n",
    "import warnings\n",
    "warnings.filterwarnings('ignore')\n",
    "\n",
    "%matplotlib inline"
   ]
  },
  {
   "cell_type": "markdown",
   "metadata": {},
   "source": [
    "### Loading the Data"
   ]
  },
  {
   "cell_type": "markdown",
   "metadata": {},
   "source": [
    "Dataset: \n",
    "\n",
    "https://www.google.com/googlebooks/uspto-patents-grants-text.html#2015\n",
    "\n",
    "The parsing and preprocessing of the patent files can be found here: \n",
    "\n",
    "https://github.com/cpapadimitriou/W266-Final-Project/blob/master/preparation/parse_xml.py"
   ]
  },
  {
   "cell_type": "code",
   "execution_count": 5,
   "metadata": {
    "ExecuteTime": {
     "end_time": "2018-07-31T08:44:20.369588Z",
     "start_time": "2018-07-31T08:43:41.438721Z"
    }
   },
   "outputs": [],
   "source": [
    "# load data \n",
    "\n",
    "# features \n",
    "current_dir = %pwd\n",
    "abstract = pd.read_table(current_dir+'/out_zipped/docNumberToAbsText.txt.gz',compression='gzip', header=None)\n",
    "abstract = abstract[0].str.split('|', expand=True).rename(columns={0:'doc_num',1:'abstract'})\n",
    "\n",
    "claim = pd.read_table(current_dir+'/out_zipped/docNumberToClaimText.txt.gz',compression='gzip',  header=None)\n",
    "claim = claim[0].str.split('|', expand=True).rename(columns={0:'doc_num',1:'claim'})\n",
    "\n",
    "desc = pd.read_table(current_dir+'/out_zipped/docNumberToDescText.txt.gz',compression='gzip', header=None)\n",
    "desc = desc[0].str.split('|', expand=True).rename(columns={0:'doc_num',1:'desc'})\n",
    "\n",
    "title = pd.read_table(current_dir+'/out_zipped/docNumberToInvTitle.txt.gz',compression='gzip', header=None)\n",
    "title = title[0].str.split('|', expand=True).rename(columns={0:'doc_num',1:'title'})\n",
    "\n",
    "# file_name = pd.read_table(current_dir+'/out_zipped/fileNameToDocNumber.txt.gz',compression='gzip', header=None)\n",
    "# file_name = file_name[0].str.split('|', expand=True).rename(columns={0:'file_name',1:'doc_num'})"
   ]
  },
  {
   "cell_type": "code",
   "execution_count": 6,
   "metadata": {
    "ExecuteTime": {
     "end_time": "2018-07-31T08:45:19.685079Z",
     "start_time": "2018-07-31T08:45:19.377164Z"
    }
   },
   "outputs": [],
   "source": [
    "# labels \n",
    "# label_names = pd.read_table(current_dir+'/out_zipped/docNumberToLabelSubClass.txt.gz',compression='gzip', header=None)\n",
    "# label_names = labels[0].str.split('|', expand=True).rename(columns={0:'doc_num'})\n",
    "\n",
    "labels = pd.read_table(current_dir+'/out_zipped/docNumberToLabelSubClassCode.txt.gz',compression='gzip', header=None)\n",
    "labels = labels[0].str.split('|', expand=True).rename(columns={0:'doc_num'})"
   ]
  },
  {
   "cell_type": "markdown",
   "metadata": {},
   "source": [
    "### Data Preparation"
   ]
  },
  {
   "cell_type": "code",
   "execution_count": 7,
   "metadata": {
    "ExecuteTime": {
     "end_time": "2018-07-31T08:45:24.760483Z",
     "start_time": "2018-07-31T08:45:24.483901Z"
    }
   },
   "outputs": [
    {
     "name": "stdout",
     "output_type": "stream",
     "text": [
      "(78372, 4)\n",
      "(78372, 8)\n"
     ]
    }
   ],
   "source": [
    "# joining the datasets\n",
    "X = pd.concat([title.set_index('doc_num'), \n",
    "           abstract.set_index('doc_num'), \n",
    "           claim.set_index('doc_num'), \n",
    "           desc.set_index('doc_num')], axis=1).sort_index() #  join='inner'\n",
    "\n",
    "Y = labels.set_index('doc_num').sort_index() #.set_index(X.index) # fixing the index mismatch\n",
    "Y.columns=[\"label{}\".format(i) for i in range(1,9)] # renaming columns \n",
    "\n",
    "print(X.shape)\n",
    "print(Y.shape)"
   ]
  },
  {
   "cell_type": "code",
   "execution_count": 8,
   "metadata": {
    "ExecuteTime": {
     "end_time": "2018-07-31T07:53:47.730733Z",
     "start_time": "2018-07-31T07:53:47.703285Z"
    }
   },
   "outputs": [
    {
     "data": {
      "text/html": [
       "<div>\n",
       "<style scoped>\n",
       "    .dataframe tbody tr th:only-of-type {\n",
       "        vertical-align: middle;\n",
       "    }\n",
       "\n",
       "    .dataframe tbody tr th {\n",
       "        vertical-align: top;\n",
       "    }\n",
       "\n",
       "    .dataframe thead th {\n",
       "        text-align: right;\n",
       "    }\n",
       "</style>\n",
       "<table border=\"1\" class=\"dataframe\">\n",
       "  <thead>\n",
       "    <tr style=\"text-align: right;\">\n",
       "      <th></th>\n",
       "      <th>title</th>\n",
       "      <th>abstract</th>\n",
       "      <th>claim</th>\n",
       "      <th>desc</th>\n",
       "    </tr>\n",
       "    <tr>\n",
       "      <th>doc_num</th>\n",
       "      <th></th>\n",
       "      <th></th>\n",
       "      <th></th>\n",
       "      <th></th>\n",
       "    </tr>\n",
       "  </thead>\n",
       "  <tbody>\n",
       "    <tr>\n",
       "      <th>0000001</th>\n",
       "      <td>INTEGRAL MULTIFUNCTIONAL SYSTEM FOR MOTOR VEHICLE</td>\n",
       "      <td>The system finds application with the motor ve...</td>\n",
       "      <td>CLAIMS 1. Integral multifunctional system for ...</td>\n",
       "      <td>INTEGRAL MULTIFUNCTIONAL SYSTEM FOR MOTOR VEHI...</td>\n",
       "    </tr>\n",
       "    <tr>\n",
       "      <th>0000002</th>\n",
       "      <td>TURBINE DRIVEN WITH A FLUID MEDIUM</td>\n",
       "      <td>Turbine driven by a flowing medium to generate...</td>\n",
       "      <td>Claims 1. Turbine driven by a flowing medium t...</td>\n",
       "      <td>TURBINE DRIVEN WITH A FLUID MEDIUM. Technical ...</td>\n",
       "    </tr>\n",
       "    <tr>\n",
       "      <th>0000003</th>\n",
       "      <td>METHOD TO REMOVE LEAKAGE PROBLEMS IN PIPES PRO...</td>\n",
       "      <td>Method to remove leakage problems in pipes pro...</td>\n",
       "      <td>CLAIMS Claim 1 ) A new method in which choke a...</td>\n",
       "      <td>SPECIFICATION METHOD TO REMOVE LEAKAGE PROBLEM...</td>\n",
       "    </tr>\n",
       "    <tr>\n",
       "      <th>0000004</th>\n",
       "      <td>PRESSURE RELEASE VALVE</td>\n",
       "      <td>A pressure release valve is disclosed ideally ...</td>\n",
       "      <td>CLAIMS 1. A pressure release valve comprising ...</td>\n",
       "      <td>Pressure Release Valve This invention relates ...</td>\n",
       "    </tr>\n",
       "    <tr>\n",
       "      <th>0000005</th>\n",
       "      <td>ROLL-OVER MECHANISM FOR A PRESSURE RELEASE VALVE</td>\n",
       "      <td>A rollover mechanism for a pressure valve is d...</td>\n",
       "      <td>CLAIMS 1. A roll-over mechanism for a valve, s...</td>\n",
       "      <td>Roll-over mechanism for a pressure release val...</td>\n",
       "    </tr>\n",
       "  </tbody>\n",
       "</table>\n",
       "</div>"
      ],
      "text/plain": [
       "                                                     title  \\\n",
       "doc_num                                                      \n",
       "0000001  INTEGRAL MULTIFUNCTIONAL SYSTEM FOR MOTOR VEHICLE   \n",
       "0000002                 TURBINE DRIVEN WITH A FLUID MEDIUM   \n",
       "0000003  METHOD TO REMOVE LEAKAGE PROBLEMS IN PIPES PRO...   \n",
       "0000004                             PRESSURE RELEASE VALVE   \n",
       "0000005   ROLL-OVER MECHANISM FOR A PRESSURE RELEASE VALVE   \n",
       "\n",
       "                                                  abstract  \\\n",
       "doc_num                                                      \n",
       "0000001  The system finds application with the motor ve...   \n",
       "0000002  Turbine driven by a flowing medium to generate...   \n",
       "0000003  Method to remove leakage problems in pipes pro...   \n",
       "0000004  A pressure release valve is disclosed ideally ...   \n",
       "0000005  A rollover mechanism for a pressure valve is d...   \n",
       "\n",
       "                                                     claim  \\\n",
       "doc_num                                                      \n",
       "0000001  CLAIMS 1. Integral multifunctional system for ...   \n",
       "0000002  Claims 1. Turbine driven by a flowing medium t...   \n",
       "0000003  CLAIMS Claim 1 ) A new method in which choke a...   \n",
       "0000004  CLAIMS 1. A pressure release valve comprising ...   \n",
       "0000005  CLAIMS 1. A roll-over mechanism for a valve, s...   \n",
       "\n",
       "                                                      desc  \n",
       "doc_num                                                     \n",
       "0000001  INTEGRAL MULTIFUNCTIONAL SYSTEM FOR MOTOR VEHI...  \n",
       "0000002  TURBINE DRIVEN WITH A FLUID MEDIUM. Technical ...  \n",
       "0000003  SPECIFICATION METHOD TO REMOVE LEAKAGE PROBLEM...  \n",
       "0000004  Pressure Release Valve This invention relates ...  \n",
       "0000005  Roll-over mechanism for a pressure release val...  "
      ]
     },
     "execution_count": 8,
     "metadata": {},
     "output_type": "execute_result"
    }
   ],
   "source": [
    "X.head()"
   ]
  },
  {
   "cell_type": "code",
   "execution_count": 9,
   "metadata": {
    "ExecuteTime": {
     "end_time": "2018-07-31T07:53:47.754717Z",
     "start_time": "2018-07-31T07:53:47.732575Z"
    }
   },
   "outputs": [
    {
     "data": {
      "text/html": [
       "<div>\n",
       "<style scoped>\n",
       "    .dataframe tbody tr th:only-of-type {\n",
       "        vertical-align: middle;\n",
       "    }\n",
       "\n",
       "    .dataframe tbody tr th {\n",
       "        vertical-align: top;\n",
       "    }\n",
       "\n",
       "    .dataframe thead th {\n",
       "        text-align: right;\n",
       "    }\n",
       "</style>\n",
       "<table border=\"1\" class=\"dataframe\">\n",
       "  <thead>\n",
       "    <tr style=\"text-align: right;\">\n",
       "      <th></th>\n",
       "      <th>label1</th>\n",
       "      <th>label2</th>\n",
       "      <th>label3</th>\n",
       "      <th>label4</th>\n",
       "      <th>label5</th>\n",
       "      <th>label6</th>\n",
       "      <th>label7</th>\n",
       "      <th>label8</th>\n",
       "    </tr>\n",
       "    <tr>\n",
       "      <th>doc_num</th>\n",
       "      <th></th>\n",
       "      <th></th>\n",
       "      <th></th>\n",
       "      <th></th>\n",
       "      <th></th>\n",
       "      <th></th>\n",
       "      <th></th>\n",
       "      <th></th>\n",
       "    </tr>\n",
       "  </thead>\n",
       "  <tbody>\n",
       "    <tr>\n",
       "      <th>0000001</th>\n",
       "      <td>F02B</td>\n",
       "      <td>None</td>\n",
       "      <td>None</td>\n",
       "      <td>None</td>\n",
       "      <td>None</td>\n",
       "      <td>None</td>\n",
       "      <td>None</td>\n",
       "      <td>None</td>\n",
       "    </tr>\n",
       "    <tr>\n",
       "      <th>0000002</th>\n",
       "      <td>F03D</td>\n",
       "      <td>F03B</td>\n",
       "      <td>None</td>\n",
       "      <td>None</td>\n",
       "      <td>None</td>\n",
       "      <td>None</td>\n",
       "      <td>None</td>\n",
       "      <td>None</td>\n",
       "    </tr>\n",
       "    <tr>\n",
       "      <th>0000003</th>\n",
       "      <td>F16L</td>\n",
       "      <td>None</td>\n",
       "      <td>None</td>\n",
       "      <td>None</td>\n",
       "      <td>None</td>\n",
       "      <td>None</td>\n",
       "      <td>None</td>\n",
       "      <td>None</td>\n",
       "    </tr>\n",
       "    <tr>\n",
       "      <th>0000004</th>\n",
       "      <td>F16K</td>\n",
       "      <td>None</td>\n",
       "      <td>None</td>\n",
       "      <td>None</td>\n",
       "      <td>None</td>\n",
       "      <td>None</td>\n",
       "      <td>None</td>\n",
       "      <td>None</td>\n",
       "    </tr>\n",
       "    <tr>\n",
       "      <th>0000005</th>\n",
       "      <td>F16K</td>\n",
       "      <td>None</td>\n",
       "      <td>None</td>\n",
       "      <td>None</td>\n",
       "      <td>None</td>\n",
       "      <td>None</td>\n",
       "      <td>None</td>\n",
       "      <td>None</td>\n",
       "    </tr>\n",
       "  </tbody>\n",
       "</table>\n",
       "</div>"
      ],
      "text/plain": [
       "        label1 label2 label3 label4 label5 label6 label7 label8\n",
       "doc_num                                                        \n",
       "0000001   F02B   None   None   None   None   None   None   None\n",
       "0000002   F03D   F03B   None   None   None   None   None   None\n",
       "0000003   F16L   None   None   None   None   None   None   None\n",
       "0000004   F16K   None   None   None   None   None   None   None\n",
       "0000005   F16K   None   None   None   None   None   None   None"
      ]
     },
     "execution_count": 9,
     "metadata": {},
     "output_type": "execute_result"
    }
   ],
   "source": [
    "Y.head()"
   ]
  },
  {
   "cell_type": "code",
   "execution_count": 10,
   "metadata": {
    "ExecuteTime": {
     "end_time": "2018-07-31T08:45:39.260209Z",
     "start_time": "2018-07-31T08:45:30.465906Z"
    }
   },
   "outputs": [
    {
     "name": "stdout",
     "output_type": "stream",
     "text": [
      "0 documents with null title\n",
      "0 documents with null claims\n",
      "0 documents with null abstract\n",
      "0 documents with null description\n"
     ]
    }
   ],
   "source": [
    "# data cleaning \n",
    "assert Y['label1'].isnull().sum() == 0 # there is no document with \n",
    "\n",
    "print(\"{} documents with null title\".format(X['title'].isnull().sum()))\n",
    "print(\"{} documents with null claims\".format(X['claim'].isnull().sum()))\n",
    "print(\"{} documents with null abstract\".format(X['abstract'].isnull().sum()))\n",
    "print(\"{} documents with null description\".format(X['desc'].isnull().sum()))\n",
    "\n",
    "# remove documents with null sections (title and abstract)\n",
    "X_clean = X.dropna(how='any')\n",
    "null_idx = X[~X.index.isin(X_clean.index)].index # storing the removed indices (i.e. document numbers)\n",
    "assert X.shape[0] - null_idx.shape[0] == X_clean.shape[0] # making sure the row counts match\n",
    "\n",
    "# removing the documents with null sections from the labels as well \n",
    "Y_clean = Y.loc[X_clean.index]\n",
    "\n",
    "# some checks\n",
    "assert X_clean.shape[0] == Y_clean.shape[0]\n",
    "assert ((Y_clean.index == X_clean.index)*1).sum() == X_clean.shape[0]\n",
    "\n",
    "# lower-casing everything\n",
    "X_clean = X_clean.apply(lambda x: x.str.lower())\n",
    "Y_clean = Y_clean.apply(lambda x: x.str.lower())"
   ]
  },
  {
   "cell_type": "code",
   "execution_count": 11,
   "metadata": {
    "ExecuteTime": {
     "end_time": "2018-07-31T08:45:40.290069Z",
     "start_time": "2018-07-31T08:45:40.287155Z"
    }
   },
   "outputs": [
    {
     "name": "stdout",
     "output_type": "stream",
     "text": [
      "(78372, 4)\n",
      "(78372, 8)\n"
     ]
    }
   ],
   "source": [
    "print(X_clean.shape)\n",
    "print(Y_clean.shape)"
   ]
  },
  {
   "cell_type": "code",
   "execution_count": 12,
   "metadata": {
    "ExecuteTime": {
     "end_time": "2018-07-31T07:53:54.685593Z",
     "start_time": "2018-07-31T07:53:54.660732Z"
    }
   },
   "outputs": [
    {
     "data": {
      "text/html": [
       "<div>\n",
       "<style scoped>\n",
       "    .dataframe tbody tr th:only-of-type {\n",
       "        vertical-align: middle;\n",
       "    }\n",
       "\n",
       "    .dataframe tbody tr th {\n",
       "        vertical-align: top;\n",
       "    }\n",
       "\n",
       "    .dataframe thead th {\n",
       "        text-align: right;\n",
       "    }\n",
       "</style>\n",
       "<table border=\"1\" class=\"dataframe\">\n",
       "  <thead>\n",
       "    <tr style=\"text-align: right;\">\n",
       "      <th></th>\n",
       "      <th>title</th>\n",
       "      <th>abstract</th>\n",
       "      <th>claim</th>\n",
       "      <th>desc</th>\n",
       "    </tr>\n",
       "    <tr>\n",
       "      <th>doc_num</th>\n",
       "      <th></th>\n",
       "      <th></th>\n",
       "      <th></th>\n",
       "      <th></th>\n",
       "    </tr>\n",
       "  </thead>\n",
       "  <tbody>\n",
       "    <tr>\n",
       "      <th>0000001</th>\n",
       "      <td>integral multifunctional system for motor vehicle</td>\n",
       "      <td>the system finds application with the motor ve...</td>\n",
       "      <td>claims 1. integral multifunctional system for ...</td>\n",
       "      <td>integral multifunctional system for motor vehi...</td>\n",
       "    </tr>\n",
       "    <tr>\n",
       "      <th>0000002</th>\n",
       "      <td>turbine driven with a fluid medium</td>\n",
       "      <td>turbine driven by a flowing medium to generate...</td>\n",
       "      <td>claims 1. turbine driven by a flowing medium t...</td>\n",
       "      <td>turbine driven with a fluid medium. technical ...</td>\n",
       "    </tr>\n",
       "    <tr>\n",
       "      <th>0000003</th>\n",
       "      <td>method to remove leakage problems in pipes pro...</td>\n",
       "      <td>method to remove leakage problems in pipes pro...</td>\n",
       "      <td>claims claim 1 ) a new method in which choke a...</td>\n",
       "      <td>specification method to remove leakage problem...</td>\n",
       "    </tr>\n",
       "    <tr>\n",
       "      <th>0000004</th>\n",
       "      <td>pressure release valve</td>\n",
       "      <td>a pressure release valve is disclosed ideally ...</td>\n",
       "      <td>claims 1. a pressure release valve comprising ...</td>\n",
       "      <td>pressure release valve this invention relates ...</td>\n",
       "    </tr>\n",
       "    <tr>\n",
       "      <th>0000005</th>\n",
       "      <td>roll-over mechanism for a pressure release valve</td>\n",
       "      <td>a rollover mechanism for a pressure valve is d...</td>\n",
       "      <td>claims 1. a roll-over mechanism for a valve, s...</td>\n",
       "      <td>roll-over mechanism for a pressure release val...</td>\n",
       "    </tr>\n",
       "  </tbody>\n",
       "</table>\n",
       "</div>"
      ],
      "text/plain": [
       "                                                     title  \\\n",
       "doc_num                                                      \n",
       "0000001  integral multifunctional system for motor vehicle   \n",
       "0000002                 turbine driven with a fluid medium   \n",
       "0000003  method to remove leakage problems in pipes pro...   \n",
       "0000004                             pressure release valve   \n",
       "0000005   roll-over mechanism for a pressure release valve   \n",
       "\n",
       "                                                  abstract  \\\n",
       "doc_num                                                      \n",
       "0000001  the system finds application with the motor ve...   \n",
       "0000002  turbine driven by a flowing medium to generate...   \n",
       "0000003  method to remove leakage problems in pipes pro...   \n",
       "0000004  a pressure release valve is disclosed ideally ...   \n",
       "0000005  a rollover mechanism for a pressure valve is d...   \n",
       "\n",
       "                                                     claim  \\\n",
       "doc_num                                                      \n",
       "0000001  claims 1. integral multifunctional system for ...   \n",
       "0000002  claims 1. turbine driven by a flowing medium t...   \n",
       "0000003  claims claim 1 ) a new method in which choke a...   \n",
       "0000004  claims 1. a pressure release valve comprising ...   \n",
       "0000005  claims 1. a roll-over mechanism for a valve, s...   \n",
       "\n",
       "                                                      desc  \n",
       "doc_num                                                     \n",
       "0000001  integral multifunctional system for motor vehi...  \n",
       "0000002  turbine driven with a fluid medium. technical ...  \n",
       "0000003  specification method to remove leakage problem...  \n",
       "0000004  pressure release valve this invention relates ...  \n",
       "0000005  roll-over mechanism for a pressure release val...  "
      ]
     },
     "execution_count": 12,
     "metadata": {},
     "output_type": "execute_result"
    }
   ],
   "source": [
    "X_clean.head()"
   ]
  },
  {
   "cell_type": "code",
   "execution_count": 13,
   "metadata": {
    "ExecuteTime": {
     "end_time": "2018-07-31T07:53:54.710387Z",
     "start_time": "2018-07-31T07:53:54.687511Z"
    }
   },
   "outputs": [
    {
     "data": {
      "text/html": [
       "<div>\n",
       "<style scoped>\n",
       "    .dataframe tbody tr th:only-of-type {\n",
       "        vertical-align: middle;\n",
       "    }\n",
       "\n",
       "    .dataframe tbody tr th {\n",
       "        vertical-align: top;\n",
       "    }\n",
       "\n",
       "    .dataframe thead th {\n",
       "        text-align: right;\n",
       "    }\n",
       "</style>\n",
       "<table border=\"1\" class=\"dataframe\">\n",
       "  <thead>\n",
       "    <tr style=\"text-align: right;\">\n",
       "      <th></th>\n",
       "      <th>label1</th>\n",
       "      <th>label2</th>\n",
       "      <th>label3</th>\n",
       "      <th>label4</th>\n",
       "      <th>label5</th>\n",
       "      <th>label6</th>\n",
       "      <th>label7</th>\n",
       "      <th>label8</th>\n",
       "    </tr>\n",
       "    <tr>\n",
       "      <th>doc_num</th>\n",
       "      <th></th>\n",
       "      <th></th>\n",
       "      <th></th>\n",
       "      <th></th>\n",
       "      <th></th>\n",
       "      <th></th>\n",
       "      <th></th>\n",
       "      <th></th>\n",
       "    </tr>\n",
       "  </thead>\n",
       "  <tbody>\n",
       "    <tr>\n",
       "      <th>0000001</th>\n",
       "      <td>f02b</td>\n",
       "      <td>None</td>\n",
       "      <td>None</td>\n",
       "      <td>None</td>\n",
       "      <td>None</td>\n",
       "      <td>None</td>\n",
       "      <td>None</td>\n",
       "      <td>None</td>\n",
       "    </tr>\n",
       "    <tr>\n",
       "      <th>0000002</th>\n",
       "      <td>f03d</td>\n",
       "      <td>f03b</td>\n",
       "      <td>None</td>\n",
       "      <td>None</td>\n",
       "      <td>None</td>\n",
       "      <td>None</td>\n",
       "      <td>None</td>\n",
       "      <td>None</td>\n",
       "    </tr>\n",
       "    <tr>\n",
       "      <th>0000003</th>\n",
       "      <td>f16l</td>\n",
       "      <td>None</td>\n",
       "      <td>None</td>\n",
       "      <td>None</td>\n",
       "      <td>None</td>\n",
       "      <td>None</td>\n",
       "      <td>None</td>\n",
       "      <td>None</td>\n",
       "    </tr>\n",
       "    <tr>\n",
       "      <th>0000004</th>\n",
       "      <td>f16k</td>\n",
       "      <td>None</td>\n",
       "      <td>None</td>\n",
       "      <td>None</td>\n",
       "      <td>None</td>\n",
       "      <td>None</td>\n",
       "      <td>None</td>\n",
       "      <td>None</td>\n",
       "    </tr>\n",
       "    <tr>\n",
       "      <th>0000005</th>\n",
       "      <td>f16k</td>\n",
       "      <td>None</td>\n",
       "      <td>None</td>\n",
       "      <td>None</td>\n",
       "      <td>None</td>\n",
       "      <td>None</td>\n",
       "      <td>None</td>\n",
       "      <td>None</td>\n",
       "    </tr>\n",
       "  </tbody>\n",
       "</table>\n",
       "</div>"
      ],
      "text/plain": [
       "        label1 label2 label3 label4 label5 label6 label7 label8\n",
       "doc_num                                                        \n",
       "0000001   f02b   None   None   None   None   None   None   None\n",
       "0000002   f03d   f03b   None   None   None   None   None   None\n",
       "0000003   f16l   None   None   None   None   None   None   None\n",
       "0000004   f16k   None   None   None   None   None   None   None\n",
       "0000005   f16k   None   None   None   None   None   None   None"
      ]
     },
     "execution_count": 13,
     "metadata": {},
     "output_type": "execute_result"
    }
   ],
   "source": [
    "Y_clean.head()"
   ]
  },
  {
   "cell_type": "code",
   "execution_count": 14,
   "metadata": {
    "ExecuteTime": {
     "end_time": "2018-07-31T08:45:49.668809Z",
     "start_time": "2018-07-31T08:45:46.504307Z"
    }
   },
   "outputs": [],
   "source": [
    "# Creating dataset \n",
    "data = pd.DataFrame()\n",
    "data = X_clean\n",
    "\n",
    "# concat the text of all patent sections and join the labels\n",
    "#data['full_text'] = X_clean['title'] + \" \" + X_clean['claim'] + \" \" + X_clean['abstract'] + \" \" + X_clean['desc']\n",
    "\n",
    "# using only the first label  \n",
    "data['label1'] = Y_clean['label1'] \n",
    "\n",
    "# using all labels, merging them in a list and removing None values\n",
    "data['labels'] = Y_clean.values.tolist()\n",
    "data['labels'] = data['labels'].apply(lambda x: list(filter(None, x)))"
   ]
  },
  {
   "cell_type": "code",
   "execution_count": 15,
   "metadata": {
    "ExecuteTime": {
     "end_time": "2018-07-31T07:53:58.998564Z",
     "start_time": "2018-07-31T07:53:58.987926Z"
    },
    "scrolled": true
   },
   "outputs": [
    {
     "data": {
      "text/html": [
       "<div>\n",
       "<style scoped>\n",
       "    .dataframe tbody tr th:only-of-type {\n",
       "        vertical-align: middle;\n",
       "    }\n",
       "\n",
       "    .dataframe tbody tr th {\n",
       "        vertical-align: top;\n",
       "    }\n",
       "\n",
       "    .dataframe thead th {\n",
       "        text-align: right;\n",
       "    }\n",
       "</style>\n",
       "<table border=\"1\" class=\"dataframe\">\n",
       "  <thead>\n",
       "    <tr style=\"text-align: right;\">\n",
       "      <th></th>\n",
       "      <th>title</th>\n",
       "      <th>abstract</th>\n",
       "      <th>claim</th>\n",
       "      <th>desc</th>\n",
       "      <th>label1</th>\n",
       "      <th>labels</th>\n",
       "    </tr>\n",
       "    <tr>\n",
       "      <th>doc_num</th>\n",
       "      <th></th>\n",
       "      <th></th>\n",
       "      <th></th>\n",
       "      <th></th>\n",
       "      <th></th>\n",
       "      <th></th>\n",
       "    </tr>\n",
       "  </thead>\n",
       "  <tbody>\n",
       "    <tr>\n",
       "      <th>0000001</th>\n",
       "      <td>integral multifunctional system for motor vehicle</td>\n",
       "      <td>the system finds application with the motor ve...</td>\n",
       "      <td>claims 1. integral multifunctional system for ...</td>\n",
       "      <td>integral multifunctional system for motor vehi...</td>\n",
       "      <td>f02b</td>\n",
       "      <td>[f02b]</td>\n",
       "    </tr>\n",
       "    <tr>\n",
       "      <th>0000002</th>\n",
       "      <td>turbine driven with a fluid medium</td>\n",
       "      <td>turbine driven by a flowing medium to generate...</td>\n",
       "      <td>claims 1. turbine driven by a flowing medium t...</td>\n",
       "      <td>turbine driven with a fluid medium. technical ...</td>\n",
       "      <td>f03d</td>\n",
       "      <td>[f03d, f03b]</td>\n",
       "    </tr>\n",
       "    <tr>\n",
       "      <th>0000003</th>\n",
       "      <td>method to remove leakage problems in pipes pro...</td>\n",
       "      <td>method to remove leakage problems in pipes pro...</td>\n",
       "      <td>claims claim 1 ) a new method in which choke a...</td>\n",
       "      <td>specification method to remove leakage problem...</td>\n",
       "      <td>f16l</td>\n",
       "      <td>[f16l]</td>\n",
       "    </tr>\n",
       "    <tr>\n",
       "      <th>0000004</th>\n",
       "      <td>pressure release valve</td>\n",
       "      <td>a pressure release valve is disclosed ideally ...</td>\n",
       "      <td>claims 1. a pressure release valve comprising ...</td>\n",
       "      <td>pressure release valve this invention relates ...</td>\n",
       "      <td>f16k</td>\n",
       "      <td>[f16k]</td>\n",
       "    </tr>\n",
       "    <tr>\n",
       "      <th>0000005</th>\n",
       "      <td>roll-over mechanism for a pressure release valve</td>\n",
       "      <td>a rollover mechanism for a pressure valve is d...</td>\n",
       "      <td>claims 1. a roll-over mechanism for a valve, s...</td>\n",
       "      <td>roll-over mechanism for a pressure release val...</td>\n",
       "      <td>f16k</td>\n",
       "      <td>[f16k]</td>\n",
       "    </tr>\n",
       "  </tbody>\n",
       "</table>\n",
       "</div>"
      ],
      "text/plain": [
       "                                                     title  \\\n",
       "doc_num                                                      \n",
       "0000001  integral multifunctional system for motor vehicle   \n",
       "0000002                 turbine driven with a fluid medium   \n",
       "0000003  method to remove leakage problems in pipes pro...   \n",
       "0000004                             pressure release valve   \n",
       "0000005   roll-over mechanism for a pressure release valve   \n",
       "\n",
       "                                                  abstract  \\\n",
       "doc_num                                                      \n",
       "0000001  the system finds application with the motor ve...   \n",
       "0000002  turbine driven by a flowing medium to generate...   \n",
       "0000003  method to remove leakage problems in pipes pro...   \n",
       "0000004  a pressure release valve is disclosed ideally ...   \n",
       "0000005  a rollover mechanism for a pressure valve is d...   \n",
       "\n",
       "                                                     claim  \\\n",
       "doc_num                                                      \n",
       "0000001  claims 1. integral multifunctional system for ...   \n",
       "0000002  claims 1. turbine driven by a flowing medium t...   \n",
       "0000003  claims claim 1 ) a new method in which choke a...   \n",
       "0000004  claims 1. a pressure release valve comprising ...   \n",
       "0000005  claims 1. a roll-over mechanism for a valve, s...   \n",
       "\n",
       "                                                      desc label1  \\\n",
       "doc_num                                                             \n",
       "0000001  integral multifunctional system for motor vehi...   f02b   \n",
       "0000002  turbine driven with a fluid medium. technical ...   f03d   \n",
       "0000003  specification method to remove leakage problem...   f16l   \n",
       "0000004  pressure release valve this invention relates ...   f16k   \n",
       "0000005  roll-over mechanism for a pressure release val...   f16k   \n",
       "\n",
       "               labels  \n",
       "doc_num                \n",
       "0000001        [f02b]  \n",
       "0000002  [f03d, f03b]  \n",
       "0000003        [f16l]  \n",
       "0000004        [f16k]  \n",
       "0000005        [f16k]  "
      ]
     },
     "execution_count": 15,
     "metadata": {},
     "output_type": "execute_result"
    }
   ],
   "source": [
    "data.head()"
   ]
  },
  {
   "cell_type": "markdown",
   "metadata": {},
   "source": [
    "### Encoding Labels with MultiLabelBinarizer"
   ]
  },
  {
   "cell_type": "code",
   "execution_count": 17,
   "metadata": {
    "ExecuteTime": {
     "end_time": "2018-07-31T07:54:38.796900Z",
     "start_time": "2018-07-31T07:54:38.782931Z"
    },
    "scrolled": true
   },
   "outputs": [
    {
     "data": {
      "text/plain": [
       "doc_num\n",
       "0000001          [f02b]\n",
       "0000002    [f03d, f03b]\n",
       "0000003          [f16l]\n",
       "0000004          [f16k]\n",
       "0000005          [f16k]\n",
       "Name: labels, dtype: object"
      ]
     },
     "execution_count": 17,
     "metadata": {},
     "output_type": "execute_result"
    }
   ],
   "source": [
    "data['labels'].head()"
   ]
  },
  {
   "cell_type": "code",
   "execution_count": 18,
   "metadata": {
    "ExecuteTime": {
     "end_time": "2018-07-31T08:58:19.948400Z",
     "start_time": "2018-07-31T08:58:13.002631Z"
    }
   },
   "outputs": [],
   "source": [
    "# converting labels into a binarized matrix with the labels as columns \n",
    "# and each patent document represented in one row\n",
    "mlb = preprocessing.MultiLabelBinarizer()\n",
    "labels = mlb.fit_transform(data['labels'])\n",
    "\n",
    "# checking that the conversion worked as desired by verifying the counts of labels for each document prior and post \n",
    "assert data['labels'].apply(lambda x: len(x)).values.sum() == np.array(pd.DataFrame(labels).apply(lambda x: x.sum(),axis=1)).sum()"
   ]
  },
  {
   "cell_type": "code",
   "execution_count": 19,
   "metadata": {
    "ExecuteTime": {
     "end_time": "2018-07-31T07:54:44.731188Z",
     "start_time": "2018-07-31T07:54:44.700691Z"
    },
    "scrolled": false
   },
   "outputs": [
    {
     "data": {
      "text/html": [
       "<div>\n",
       "<style scoped>\n",
       "    .dataframe tbody tr th:only-of-type {\n",
       "        vertical-align: middle;\n",
       "    }\n",
       "\n",
       "    .dataframe tbody tr th {\n",
       "        vertical-align: top;\n",
       "    }\n",
       "\n",
       "    .dataframe thead th {\n",
       "        text-align: right;\n",
       "    }\n",
       "</style>\n",
       "<table border=\"1\" class=\"dataframe\">\n",
       "  <thead>\n",
       "    <tr style=\"text-align: right;\">\n",
       "      <th></th>\n",
       "      <th>f01b</th>\n",
       "      <th>f01c</th>\n",
       "      <th>f01d</th>\n",
       "      <th>f01k</th>\n",
       "      <th>f01l</th>\n",
       "      <th>f01m</th>\n",
       "      <th>f01n</th>\n",
       "      <th>f01p</th>\n",
       "      <th>f02b</th>\n",
       "      <th>f02c</th>\n",
       "      <th>...</th>\n",
       "      <th>f41a</th>\n",
       "      <th>f41b</th>\n",
       "      <th>f41c</th>\n",
       "      <th>f41f</th>\n",
       "      <th>f41g</th>\n",
       "      <th>f41h</th>\n",
       "      <th>f41j</th>\n",
       "      <th>f42b</th>\n",
       "      <th>f42c</th>\n",
       "      <th>f42d</th>\n",
       "    </tr>\n",
       "  </thead>\n",
       "  <tbody>\n",
       "    <tr>\n",
       "      <th>0</th>\n",
       "      <td>0</td>\n",
       "      <td>0</td>\n",
       "      <td>0</td>\n",
       "      <td>0</td>\n",
       "      <td>0</td>\n",
       "      <td>0</td>\n",
       "      <td>0</td>\n",
       "      <td>0</td>\n",
       "      <td>1</td>\n",
       "      <td>0</td>\n",
       "      <td>...</td>\n",
       "      <td>0</td>\n",
       "      <td>0</td>\n",
       "      <td>0</td>\n",
       "      <td>0</td>\n",
       "      <td>0</td>\n",
       "      <td>0</td>\n",
       "      <td>0</td>\n",
       "      <td>0</td>\n",
       "      <td>0</td>\n",
       "      <td>0</td>\n",
       "    </tr>\n",
       "    <tr>\n",
       "      <th>1</th>\n",
       "      <td>0</td>\n",
       "      <td>0</td>\n",
       "      <td>0</td>\n",
       "      <td>0</td>\n",
       "      <td>0</td>\n",
       "      <td>0</td>\n",
       "      <td>0</td>\n",
       "      <td>0</td>\n",
       "      <td>0</td>\n",
       "      <td>0</td>\n",
       "      <td>...</td>\n",
       "      <td>0</td>\n",
       "      <td>0</td>\n",
       "      <td>0</td>\n",
       "      <td>0</td>\n",
       "      <td>0</td>\n",
       "      <td>0</td>\n",
       "      <td>0</td>\n",
       "      <td>0</td>\n",
       "      <td>0</td>\n",
       "      <td>0</td>\n",
       "    </tr>\n",
       "    <tr>\n",
       "      <th>2</th>\n",
       "      <td>0</td>\n",
       "      <td>0</td>\n",
       "      <td>0</td>\n",
       "      <td>0</td>\n",
       "      <td>0</td>\n",
       "      <td>0</td>\n",
       "      <td>0</td>\n",
       "      <td>0</td>\n",
       "      <td>0</td>\n",
       "      <td>0</td>\n",
       "      <td>...</td>\n",
       "      <td>0</td>\n",
       "      <td>0</td>\n",
       "      <td>0</td>\n",
       "      <td>0</td>\n",
       "      <td>0</td>\n",
       "      <td>0</td>\n",
       "      <td>0</td>\n",
       "      <td>0</td>\n",
       "      <td>0</td>\n",
       "      <td>0</td>\n",
       "    </tr>\n",
       "    <tr>\n",
       "      <th>3</th>\n",
       "      <td>0</td>\n",
       "      <td>0</td>\n",
       "      <td>0</td>\n",
       "      <td>0</td>\n",
       "      <td>0</td>\n",
       "      <td>0</td>\n",
       "      <td>0</td>\n",
       "      <td>0</td>\n",
       "      <td>0</td>\n",
       "      <td>0</td>\n",
       "      <td>...</td>\n",
       "      <td>0</td>\n",
       "      <td>0</td>\n",
       "      <td>0</td>\n",
       "      <td>0</td>\n",
       "      <td>0</td>\n",
       "      <td>0</td>\n",
       "      <td>0</td>\n",
       "      <td>0</td>\n",
       "      <td>0</td>\n",
       "      <td>0</td>\n",
       "    </tr>\n",
       "    <tr>\n",
       "      <th>4</th>\n",
       "      <td>0</td>\n",
       "      <td>0</td>\n",
       "      <td>0</td>\n",
       "      <td>0</td>\n",
       "      <td>0</td>\n",
       "      <td>0</td>\n",
       "      <td>0</td>\n",
       "      <td>0</td>\n",
       "      <td>0</td>\n",
       "      <td>0</td>\n",
       "      <td>...</td>\n",
       "      <td>0</td>\n",
       "      <td>0</td>\n",
       "      <td>0</td>\n",
       "      <td>0</td>\n",
       "      <td>0</td>\n",
       "      <td>0</td>\n",
       "      <td>0</td>\n",
       "      <td>0</td>\n",
       "      <td>0</td>\n",
       "      <td>0</td>\n",
       "    </tr>\n",
       "  </tbody>\n",
       "</table>\n",
       "<p>5 rows × 96 columns</p>\n",
       "</div>"
      ],
      "text/plain": [
       "   f01b  f01c  f01d  f01k  f01l  f01m  f01n  f01p  f02b  f02c  ...   f41a  \\\n",
       "0     0     0     0     0     0     0     0     0     1     0  ...      0   \n",
       "1     0     0     0     0     0     0     0     0     0     0  ...      0   \n",
       "2     0     0     0     0     0     0     0     0     0     0  ...      0   \n",
       "3     0     0     0     0     0     0     0     0     0     0  ...      0   \n",
       "4     0     0     0     0     0     0     0     0     0     0  ...      0   \n",
       "\n",
       "   f41b  f41c  f41f  f41g  f41h  f41j  f42b  f42c  f42d  \n",
       "0     0     0     0     0     0     0     0     0     0  \n",
       "1     0     0     0     0     0     0     0     0     0  \n",
       "2     0     0     0     0     0     0     0     0     0  \n",
       "3     0     0     0     0     0     0     0     0     0  \n",
       "4     0     0     0     0     0     0     0     0     0  \n",
       "\n",
       "[5 rows x 96 columns]"
      ]
     },
     "execution_count": 19,
     "metadata": {},
     "output_type": "execute_result"
    }
   ],
   "source": [
    "labels_df = pd.DataFrame(labels, columns=mlb.classes_)  #.apply(lambda x: x.sum(),axis=1)\n",
    "labels_df.head()"
   ]
  },
  {
   "cell_type": "code",
   "execution_count": 20,
   "metadata": {
    "ExecuteTime": {
     "end_time": "2018-07-31T08:58:27.567411Z",
     "start_time": "2018-07-31T08:58:27.563179Z"
    }
   },
   "outputs": [
    {
     "name": "stdout",
     "output_type": "stream",
     "text": [
      "We have 96 classes\n"
     ]
    }
   ],
   "source": [
    "print(\"We have {} classes\".format(len(mlb.classes_)))\n"
   ]
  },
  {
   "cell_type": "code",
   "execution_count": 23,
   "metadata": {},
   "outputs": [
    {
     "data": {
      "text/plain": [
       "f16h    6040\n",
       "f16l    5620\n",
       "f02b    5219\n",
       "f16k    4540\n",
       "f02d    4506\n",
       "f16d    4273\n",
       "f02m    4270\n",
       "f16c    3556\n",
       "f16b    3461\n",
       "f04b    3316\n",
       "f16f    2932\n",
       "f21v    2544\n",
       "f25b    2491\n",
       "f16j    2472\n",
       "f01n    2371\n",
       "f28f    2196\n",
       "f01d    2172\n",
       "f04d    2142\n",
       "f24f    2012\n",
       "f15b    1985\n",
       "f28d    1893\n",
       "f02c    1838\n",
       "f01l    1698\n",
       "f25d    1688\n",
       "f04c    1637\n",
       "f02f    1465\n",
       "f27d    1299\n",
       "f26b    1270\n",
       "f21s    1244\n",
       "f23d    1165\n",
       "        ... \n",
       "f23m     255\n",
       "f25c     254\n",
       "f03b     251\n",
       "f42c     234\n",
       "f04f     205\n",
       "f16p     186\n",
       "f28g     181\n",
       "f15c     167\n",
       "f41b     167\n",
       "f42d     160\n",
       "f24b     155\n",
       "f03c     147\n",
       "f21w     139\n",
       "f15d     134\n",
       "f21l     134\n",
       "f28c     132\n",
       "f41j     125\n",
       "f21k     123\n",
       "f41c      98\n",
       "f28b      94\n",
       "f41f      84\n",
       "f16t      77\n",
       "f22d      58\n",
       "f03h      52\n",
       "f23h      51\n",
       "f16s      47\n",
       "f22g      40\n",
       "f23b      34\n",
       "f21h       6\n",
       "f17b       6\n",
       "Length: 96, dtype: int64"
      ]
     },
     "execution_count": 23,
     "metadata": {},
     "output_type": "execute_result"
    }
   ],
   "source": [
    "# checking how many times does each label (i.e. class) appear in the data \n",
    "# we observe that the classes are a little unbalanced \n",
    "pl = labels_df.apply(lambda x: x.sum(),axis=0).sort_values(ascending=False)  #.plot.bar()\n",
    "pl"
   ]
  },
  {
   "cell_type": "markdown",
   "metadata": {},
   "source": [
    "### Advanced text processing and TF_IDF \n",
    "The following processing was applied to `data['full_text']`:\n",
    "\n",
    "- removing punctuation \n",
    "- lowercasing (happened earlier no need to do it here)\n",
    "- ** Detect and Remove non-english documents - TO DO **\n",
    "- removing stop words \n",
    "- romoving common / rare words (did not run this)\n",
    "- lemmatization or stemming (we chose lemmatization)\n",
    "- remove digits\n",
    "- filtering 600 best words in each document based on tf_idf algorithm "
   ]
  },
  {
   "cell_type": "markdown",
   "metadata": {},
   "source": [
    "### 1. Advanced Processing"
   ]
  },
  {
   "cell_type": "code",
   "execution_count": 22,
   "metadata": {},
   "outputs": [],
   "source": [
    "# removing punctuation \n",
    "import re, string, timeit\n",
    "\n",
    "regex = re.compile('[%s]' % re.escape(string.punctuation), re.MULTILINE)\n",
    "\n",
    "\n",
    "data['title'] = data['title'].apply(lambda x : regex.sub(\"\", x))\n",
    "data['abstract'] = data['abstract'].apply(lambda x : regex.sub(\"\", x))\n",
    "data['claim'] = data['claim'].apply(lambda x : regex.sub(\"\", x))\n",
    "data['desc'] = data['desc'].apply(lambda x : regex.sub(\"\", x))\n",
    "\n",
    "\n",
    "\n",
    "\n",
    "\n",
    "#data['full_text_proc'] = data['full_text'].str.replace('[^\\w\\s]','')\n",
    "#data['full_text_proc'].head(10)"
   ]
  },
  {
   "cell_type": "code",
   "execution_count": 24,
   "metadata": {},
   "outputs": [],
   "source": [
    "# remove whitespace\n",
    "r = re.compile(r\"^\\s+\", re.MULTILINE)\n",
    "data['title'] = data['title'].apply(lambda x : r.sub(\"\", x))\n",
    "data['abstract'] = data['abstract'].apply(lambda x : r.sub(\"\", x))\n",
    "data['claim'] = data['claim'].apply(lambda x : r.sub(\"\", x))\n",
    "data['desc'] = data['desc'].apply(lambda x : r.sub(\"\", x))"
   ]
  },
  {
   "cell_type": "code",
   "execution_count": 25,
   "metadata": {
    "scrolled": true
   },
   "outputs": [],
   "source": [
    "# Convert to lower - casing \n",
    "\n",
    "data['title'] = data['title'].apply(lambda x : x.lower())\n",
    "data['abstract'] = data['abstract'].apply(lambda x : x.lower())\n",
    "data['claim'] = data['claim'].apply(lambda x : x.lower())\n",
    "data['desc'] = data['desc'].apply(lambda x : x.lower())\n",
    "\n",
    "#data['full_text_proc'] = data['full_text_proc'].apply(lambda x: \" \".join(x.lower() for x in x.split()))"
   ]
  },
  {
   "cell_type": "code",
   "execution_count": 26,
   "metadata": {},
   "outputs": [],
   "source": [
    "# Remove URLs\n",
    "\n",
    "re_url = re.compile(r'^http\\S+', re.MULTILINE|re.UNICODE)\n",
    "\n",
    "data['title'] = data['title'].apply(lambda x : re_url.sub(\"\", x))\n",
    "data['abstract'] = data['abstract'].apply(lambda x : re_url.sub(\"\", x))\n",
    "data['claim'] = data['claim'].apply(lambda x : re_url.sub(\"\", x))\n",
    "data['desc'] = data['desc'].apply(lambda x : re_url.sub(\"\", x))\n"
   ]
  },
  {
   "cell_type": "code",
   "execution_count": 27,
   "metadata": {},
   "outputs": [],
   "source": [
    "# Remove text that has claim and a number\n",
    "\n",
    "r1 = re.compile(r'(?:claim\\S\\d+|claim\\S \\d+|claim \\d+|claims?)', re.MULTILINE|re.UNICODE)\n",
    "\n",
    "\n",
    "data['title'] = data['title'].apply(lambda x : r1.sub(\"\", x))\n",
    "data['abstract'] = data['abstract'].apply(lambda x : r1.sub(\"\", x))\n",
    "data['claim'] = data['claim'].apply(lambda x : r1.sub(\"\", x))\n",
    "data['desc'] = data['desc'].apply(lambda x : r1.sub(\"\", x))\n"
   ]
  },
  {
   "cell_type": "code",
   "execution_count": 28,
   "metadata": {},
   "outputs": [],
   "source": [
    "# Introduce space on either side of new line\n",
    "\n",
    "r2 = re.compile(r'.\\n', re.MULTILINE|re.UNICODE)\n",
    "\n",
    "data['title'] = data['title'].apply(lambda x : r2.sub(\" \\n \", x))\n",
    "data['abstract'] = data['abstract'].apply(lambda x : r2.sub(\" \\n \", x))\n",
    "data['claim'] = data['claim'].apply(lambda x : r2.sub(\" \\n \", x))\n",
    "data['desc'] = data['desc'].apply(lambda x : r2.sub(\" \\n \", x))"
   ]
  },
  {
   "cell_type": "code",
   "execution_count": 29,
   "metadata": {},
   "outputs": [],
   "source": [
    "# remove temperature data such as 105°\n",
    "\n",
    "r2 = re.compile(r\"\\d+°?\", re.MULTILINE)\n",
    "\n",
    "data['title'] = data['title'].apply(lambda x : r2.sub(\"\", x))\n",
    "data['abstract'] = data['abstract'].apply(lambda x : r2.sub(\"\", x))\n",
    "data['claim'] = data['claim'].apply(lambda x : r2.sub(\"\", x))\n",
    "data['desc'] = data['desc'].apply(lambda x : r2.sub(\"\", x))"
   ]
  },
  {
   "cell_type": "code",
   "execution_count": 30,
   "metadata": {},
   "outputs": [],
   "source": [
    "# remove special characters \\xad\n",
    "\n",
    "r2 = re.compile(r\"\\xad\", re.MULTILINE)\n",
    "\n",
    "data['title'] = data['title'].apply(lambda x : r2.sub(\"\", x))\n",
    "data['abstract'] = data['abstract'].apply(lambda x : r2.sub(\"\", x))\n",
    "data['claim'] = data['claim'].apply(lambda x : r2.sub(\"\", x))\n",
    "data['desc'] = data['desc'].apply(lambda x : r2.sub(\"\", x))"
   ]
  },
  {
   "cell_type": "code",
   "execution_count": 31,
   "metadata": {},
   "outputs": [],
   "source": [
    "#Remove special characters - '', and ¬,\n",
    "\n",
    "data['title'] = data['title'].str.replace('\\'','')\n",
    "data['abstract'] = data['abstract'].str.replace('\\'','')\n",
    "data['claim'] = data['claim'].str.replace('\\'','')\n",
    "data['desc'] = data['desc'].str.replace('\\'','')\n",
    "\n",
    "data['title'] = data['title'].str.replace('¬','')\n",
    "data['abstract'] = data['abstract'].str.replace('¬','')\n",
    "data['claim'] = data['claim'].str.replace('¬','')\n",
    "data['desc'] = data['desc'].str.replace('¬','')\n"
   ]
  },
  {
   "cell_type": "code",
   "execution_count": 32,
   "metadata": {},
   "outputs": [],
   "source": [
    "# Remove special characters \"' and ¬\"\n",
    "\n",
    "r2 = re.compile(r\"[']\", re.MULTILINE)\n",
    "\n",
    "data['title'] = data['title'].apply(lambda x : r2.sub(\"\", x))\n",
    "data['abstract'] = data['abstract'].apply(lambda x : r2.sub(\"\", x))\n",
    "data['claim'] = data['claim'].apply(lambda x : r2.sub(\"\", x))\n",
    "data['desc'] = data['desc'].apply(lambda x : r2.sub(\"\", x))\n",
    "\n",
    "r2 = re.compile(r\"[¬]\", re.MULTILINE)\n",
    "\n",
    "data['title'] = data['title'].apply(lambda x : r2.sub(\"\", x))\n",
    "data['abstract'] = data['abstract'].apply(lambda x : r2.sub(\"\", x))\n",
    "data['claim'] = data['claim'].apply(lambda x : r2.sub(\"\", x))\n",
    "data['desc'] = data['desc'].apply(lambda x : r2.sub(\"\", x))"
   ]
  },
  {
   "cell_type": "code",
   "execution_count": 33,
   "metadata": {},
   "outputs": [],
   "source": [
    "# Remove dots from the data\n",
    "\n",
    "r2 = re.compile(r\"[.]\", re.MULTILINE)\n",
    "\n",
    "data['title'] = data['title'].apply(lambda x : r2.sub(\"\", x))\n",
    "data['abstract'] = data['abstract'].apply(lambda x : r2.sub(\"\", x))\n",
    "data['claim'] = data['claim'].apply(lambda x : r2.sub(\"\", x))\n",
    "data['desc'] = data['desc'].apply(lambda x : r2.sub(\"\", x))"
   ]
  },
  {
   "cell_type": "code",
   "execution_count": 34,
   "metadata": {},
   "outputs": [
    {
     "data": {
      "text/plain": [
       "doc_num\n",
       "0000001    integral multifunctional system for motor vehi...\n",
       "0000002    turbine driven with a fluid medium \\n  turbine...\n",
       "0000003    method to remove leakage problems in pipes pro...\n",
       "0000004    pressure release valve \\n  a pressure release ...\n",
       "0000005    rollover mechanism for a pressure release valv...\n",
       "Name: full_text1, dtype: object"
      ]
     },
     "execution_count": 34,
     "metadata": {},
     "output_type": "execute_result"
    }
   ],
   "source": [
    "# Merge all the four sections\n",
    "\n",
    "data['full_text1'] = X_clean['title'] + \" \\n \" + X_clean['claim'] + \" \\n \" + X_clean['abstract'] + \" \\n \" + X_clean['desc']\n",
    "\n",
    "\n",
    "data['full_text1'].head()"
   ]
  },
  {
   "cell_type": "markdown",
   "metadata": {},
   "source": [
    "## Use Keras tokenizer to create sequences / tokens of the text"
   ]
  },
  {
   "cell_type": "code",
   "execution_count": 35,
   "metadata": {},
   "outputs": [
    {
     "name": "stdout",
     "output_type": "stream",
     "text": [
      "Number of words in our vocabulary: 581702\n"
     ]
    }
   ],
   "source": [
    "token = text.Tokenizer(filters='.°™\\'¯⊘■®') # num_words=sequence_length lower=True\n",
    "#d_text = ['The blue sky is blue and orange\\n The world is new','black and blue new color']\n",
    "token.fit_on_texts(data['full_text1'])\n",
    "word_index = token.word_index\n",
    "print('Number of words in our vocabulary: {}'.format(len(word_index.keys())))"
   ]
  },
  {
   "cell_type": "code",
   "execution_count": 36,
   "metadata": {},
   "outputs": [],
   "source": [
    "# convert the full text to sequences and then back to text.\n",
    "# This helps in getting the cleaned text after applying filters that used in the keras tokenizer\n",
    "data_full_text_seq = token.texts_to_sequences(data['full_text1'])\n",
    "data_full_text_txt = token.sequences_to_texts(data_full_text_seq)\n",
    "\n"
   ]
  },
  {
   "cell_type": "markdown",
   "metadata": {},
   "source": [
    "## Create Word embeddings using CBOW (Word2vec)"
   ]
  },
  {
   "cell_type": "markdown",
   "metadata": {},
   "source": [
    "### Create input text for the word embedding algorithm"
   ]
  },
  {
   "cell_type": "code",
   "execution_count": 42,
   "metadata": {},
   "outputs": [
    {
     "name": "stderr",
     "output_type": "stream",
     "text": [
      "100%|██████████| 78372/78372 [03:49<00:00, 341.10it/s]\n"
     ]
    }
   ],
   "source": [
    "from nltk.tokenize import WordPunctTokenizer\n",
    "from collections import Counter\n",
    "from string import punctuation, ascii_lowercase\n",
    "import re\n",
    "from tqdm import tqdm\n",
    "vocab = Counter()\n",
    "tokenizer_word = WordPunctTokenizer()\n",
    "\n",
    "\n",
    "def text_to_wordlist(text):\n",
    "    \n",
    "   # Tokenize\n",
    "    text = tokenizer_word.tokenize(text)\n",
    "    \n",
    "   # Return a list of words\n",
    "    vocab.update(text)\n",
    "    return text\n",
    "\n",
    "def process_comments(list_sentences, lower=False):\n",
    "    comments = []\n",
    "    for text in tqdm(list_sentences):\n",
    "        txt = text_to_wordlist(text)\n",
    "        comments.append(txt)\n",
    "    return comments\n",
    "CBOW_input_full_text = process_comments(data_full_text_txt)"
   ]
  },
  {
   "cell_type": "markdown",
   "metadata": {},
   "source": [
    "### Gensim Word2Vec - CBOW Model"
   ]
  },
  {
   "cell_type": "code",
   "execution_count": 59,
   "metadata": {},
   "outputs": [
    {
     "name": "stdout",
     "output_type": "stream",
     "text": [
      "2018-08-07 16:12:21.357433\n",
      "2018-08-07 16:40:30.565568\n",
      "Number of word vectors: 572817\n"
     ]
    }
   ],
   "source": [
    "import datetime\n",
    "from gensim.models import Word2Vec\n",
    "\n",
    "print(datetime.datetime.now())\n",
    "model1 = Word2Vec(CBOW_input_full_text, size=100, window=5, min_count=0, workers=16, sg=0)\n",
    "word_vectors1 = model1.wv\n",
    "print(datetime.datetime.now())\n",
    "print(\"Number of word vectors: {}\".format(len(word_vectors1.vocab)))"
   ]
  },
  {
   "cell_type": "code",
   "execution_count": 40,
   "metadata": {},
   "outputs": [
    {
     "name": "stdout",
     "output_type": "stream",
     "text": [
      "Number of word vectors: 572817\n"
     ]
    }
   ],
   "source": [
    "from gensim.models import Word2Vec\n",
    "\n",
    "\n",
    "#model1.save(\"word2vec_cbow.model\")\n",
    "# model1 = Word2Vec.load(\"word2vec_cbow.model\")\n",
    "# word_vectors1 = model1.wv\n",
    "# print(\"Number of word vectors: {}\".format(len(word_vectors1.vocab)))"
   ]
  },
  {
   "cell_type": "markdown",
   "metadata": {},
   "source": [
    "### Create embedding matrix"
   ]
  },
  {
   "cell_type": "code",
   "execution_count": 43,
   "metadata": {},
   "outputs": [],
   "source": [
    "# Create embedding matrix\n",
    "embedding_dim = 100\n",
    "embedding_matrix = np.zeros((len(word_index) + 1, embedding_dim))\n",
    "for word, i in word_index.items():\n",
    "    if word in vocab:    \n",
    "        embedding_vector = word_vectors1[word]\n",
    "    else:\n",
    "        embedding_vector = None\n",
    "    \n",
    "    if embedding_vector is not None:\n",
    "        # words not found in embedding index will be all-zeros.\n",
    "        embedding_matrix[i] = embedding_vector"
   ]
  },
  {
   "cell_type": "code",
   "execution_count": 44,
   "metadata": {},
   "outputs": [
    {
     "data": {
      "text/plain": [
       "(581703, 100)"
      ]
     },
     "execution_count": 44,
     "metadata": {},
     "output_type": "execute_result"
    }
   ],
   "source": [
    "embedding_matrix.shape"
   ]
  },
  {
   "cell_type": "markdown",
   "metadata": {},
   "source": [
    "## TF IDF Methodology to extract important words"
   ]
  },
  {
   "cell_type": "code",
   "execution_count": 45,
   "metadata": {},
   "outputs": [],
   "source": [
    "# Initialize a TFIDF Vecxtorizer and pass the preprocessed full text\n",
    "\n",
    "from sklearn.feature_extraction.text import TfidfVectorizer\n",
    "\n",
    "\n",
    "\n",
    "tfidf = TfidfVectorizer(lowercase=True, analyzer='word', smooth_idf=False, sublinear_tf=False, norm=None,\n",
    "                        stop_words='english', ngram_range=(1,1)) \n",
    "\n",
    "text_transformed = tfidf.fit_transform(data['full_text1'])\n"
   ]
  },
  {
   "cell_type": "code",
   "execution_count": 46,
   "metadata": {},
   "outputs": [],
   "source": [
    "# Transform the data for title, claim, abstract and description using TFIDF model \n",
    "# store the TFIDF values for the words for each of the sections\n",
    "\n",
    "title_tfidf =  tfidf.transform(data['title'])\n",
    "claim_tfidf =  tfidf.transform(data['claim'])\n",
    "abstract_tfidf =  tfidf.transform(data['abstract'])\n",
    "desc_tfidf =  tfidf.transform(data['desc'])"
   ]
  },
  {
   "cell_type": "code",
   "execution_count": 47,
   "metadata": {},
   "outputs": [],
   "source": [
    "# Initialize dataframes to store top words based on TF IDF for each of the sections.\n",
    "col_names =  ['i','top_words']\n",
    "max_length = 150\n",
    "title_top_words  = pd.DataFrame(columns = col_names)\n",
    "claim_top_words  = pd.DataFrame(columns = col_names)\n",
    "abstract_top_words  = pd.DataFrame(columns = col_names)\n",
    "desc_top_words  = pd.DataFrame(columns = col_names)"
   ]
  },
  {
   "cell_type": "markdown",
   "metadata": {},
   "source": [
    "### Get top words for Title using TFIDF"
   ]
  },
  {
   "cell_type": "code",
   "execution_count": 48,
   "metadata": {},
   "outputs": [
    {
     "name": "stderr",
     "output_type": "stream",
     "text": [
      "100%|██████████| 78372/78372 [15:47<00:00, 82.67it/s] \n"
     ]
    }
   ],
   "source": [
    "\n",
    "feature_names = np.array(tfidf.get_feature_names())\n",
    "\n",
    "for i in tqdm(range(text_transformed.shape[0])):\n",
    "    f_index = title_tfidf[i,:].nonzero()[1]\n",
    "    tfid_score = zip(f_index,[title_tfidf[i,x] for x in f_index])\n",
    "   \n",
    "    word = []\n",
    "    score = []\n",
    "\n",
    "    for w,s in [(feature_names[i],s) for i,s in tfid_score]:\n",
    "        word.append(w)\n",
    "        score.append(s)\n",
    "        \n",
    "    score = np.array(score)\n",
    "    word = np.array(word)\n",
    "    txt = \" \".join(word[(-score).argsort()[:max_length]])\n",
    "    title_top_words.loc[len(title_top_words)] = [i,txt]\n",
    "    \n",
    "    \n",
    "    \n",
    "\n",
    "\n",
    "\n"
   ]
  },
  {
   "cell_type": "code",
   "execution_count": 49,
   "metadata": {},
   "outputs": [
    {
     "data": {
      "text/html": [
       "<div>\n",
       "<style scoped>\n",
       "    .dataframe tbody tr th:only-of-type {\n",
       "        vertical-align: middle;\n",
       "    }\n",
       "\n",
       "    .dataframe tbody tr th {\n",
       "        vertical-align: top;\n",
       "    }\n",
       "\n",
       "    .dataframe thead th {\n",
       "        text-align: right;\n",
       "    }\n",
       "</style>\n",
       "<table border=\"1\" class=\"dataframe\">\n",
       "  <thead>\n",
       "    <tr style=\"text-align: right;\">\n",
       "      <th></th>\n",
       "      <th>i</th>\n",
       "      <th>top_words</th>\n",
       "    </tr>\n",
       "  </thead>\n",
       "  <tbody>\n",
       "    <tr>\n",
       "      <th>0</th>\n",
       "      <td>0</td>\n",
       "      <td>multifunctional integral vehicle motor</td>\n",
       "    </tr>\n",
       "    <tr>\n",
       "      <th>1</th>\n",
       "      <td>1</td>\n",
       "      <td>turbine medium driven fluid</td>\n",
       "    </tr>\n",
       "    <tr>\n",
       "      <th>2</th>\n",
       "      <td>2</td>\n",
       "      <td>plasticbase pipes leakage remove materials pro...</td>\n",
       "    </tr>\n",
       "    <tr>\n",
       "      <th>3</th>\n",
       "      <td>3</td>\n",
       "      <td>release valve pressure</td>\n",
       "    </tr>\n",
       "    <tr>\n",
       "      <th>4</th>\n",
       "      <td>4</td>\n",
       "      <td>rollover release mechanism valve pressure</td>\n",
       "    </tr>\n",
       "  </tbody>\n",
       "</table>\n",
       "</div>"
      ],
      "text/plain": [
       "   i                                          top_words\n",
       "0  0             multifunctional integral vehicle motor\n",
       "1  1                        turbine medium driven fluid\n",
       "2  2  plasticbase pipes leakage remove materials pro...\n",
       "3  3                             release valve pressure\n",
       "4  4          rollover release mechanism valve pressure"
      ]
     },
     "execution_count": 49,
     "metadata": {},
     "output_type": "execute_result"
    }
   ],
   "source": [
    "title_top_words.head()"
   ]
  },
  {
   "cell_type": "markdown",
   "metadata": {},
   "source": [
    "### Get top words for claim using TFIDF"
   ]
  },
  {
   "cell_type": "code",
   "execution_count": 50,
   "metadata": {},
   "outputs": [
    {
     "name": "stderr",
     "output_type": "stream",
     "text": [
      "100%|██████████| 78372/78372 [21:53<00:00, 59.65it/s] \n"
     ]
    }
   ],
   "source": [
    "for i in tqdm(range(text_transformed.shape[0])):\n",
    "    f_index = claim_tfidf[i,:].nonzero()[1]\n",
    "    tfid_score = zip(f_index,[claim_tfidf[i,x] for x in f_index])\n",
    "   \n",
    "    word = []\n",
    "    score = []\n",
    "\n",
    "    for w,s in [(feature_names[i],s) for i,s in tfid_score]:\n",
    "        word.append(w)\n",
    "        score.append(s)\n",
    "        \n",
    "    score = np.array(score)\n",
    "    word = np.array(word)\n",
    "    txt = \" \".join(word[(-score).argsort()[:max_length]])\n",
    "    claim_top_words.loc[len(claim_top_words)] = [i,txt]"
   ]
  },
  {
   "cell_type": "markdown",
   "metadata": {},
   "source": [
    "### Get top words for description using TFIDF"
   ]
  },
  {
   "cell_type": "code",
   "execution_count": 51,
   "metadata": {},
   "outputs": [
    {
     "name": "stderr",
     "output_type": "stream",
     "text": [
      "100%|██████████| 78372/78372 [38:26<00:00, 33.98it/s]\n"
     ]
    }
   ],
   "source": [
    "for i in tqdm(range(text_transformed.shape[0])):\n",
    "    f_index = desc_tfidf[i,:].nonzero()[1]\n",
    "    tfid_score = zip(f_index,[desc_tfidf[i,x] for x in f_index])\n",
    "   \n",
    "    word = []\n",
    "    score = []\n",
    "\n",
    "    for w,s in [(feature_names[i],s) for i,s in tfid_score]:\n",
    "        word.append(w)\n",
    "        score.append(s)\n",
    "        \n",
    "    score = np.array(score)\n",
    "    word = np.array(word)\n",
    "    txt = \" \".join(word[(-score).argsort()[:max_length]])\n",
    "    desc_top_words.loc[len(desc_top_words)] = [i,txt]"
   ]
  },
  {
   "cell_type": "code",
   "execution_count": 52,
   "metadata": {},
   "outputs": [
    {
     "data": {
      "text/html": [
       "<div>\n",
       "<style scoped>\n",
       "    .dataframe tbody tr th:only-of-type {\n",
       "        vertical-align: middle;\n",
       "    }\n",
       "\n",
       "    .dataframe tbody tr th {\n",
       "        vertical-align: top;\n",
       "    }\n",
       "\n",
       "    .dataframe thead th {\n",
       "        text-align: right;\n",
       "    }\n",
       "</style>\n",
       "<table border=\"1\" class=\"dataframe\">\n",
       "  <thead>\n",
       "    <tr style=\"text-align: right;\">\n",
       "      <th></th>\n",
       "      <th>i</th>\n",
       "      <th>top_words</th>\n",
       "    </tr>\n",
       "  </thead>\n",
       "  <tbody>\n",
       "    <tr>\n",
       "      <th>0</th>\n",
       "      <td>0</td>\n",
       "      <td>hydraulic multifunctional connected accumulato...</td>\n",
       "    </tr>\n",
       "    <tr>\n",
       "      <th>1</th>\n",
       "      <td>1</td>\n",
       "      <td>foil turbine characterised longitual foils dis...</td>\n",
       "    </tr>\n",
       "    <tr>\n",
       "      <th>2</th>\n",
       "      <td>2</td>\n",
       "      <td>muff clampcoupling clampsystem choke latch mal...</td>\n",
       "    </tr>\n",
       "    <tr>\n",
       "      <th>3</th>\n",
       "      <td>3</td>\n",
       "      <td>valve magnetic characterised attraction plunge...</td>\n",
       "    </tr>\n",
       "    <tr>\n",
       "      <th>4</th>\n",
       "      <td>4</td>\n",
       "      <td>pendulum characterised means rollover tanker m...</td>\n",
       "    </tr>\n",
       "  </tbody>\n",
       "</table>\n",
       "</div>"
      ],
      "text/plain": [
       "   i                                          top_words\n",
       "0  0  hydraulic multifunctional connected accumulato...\n",
       "1  1  foil turbine characterised longitual foils dis...\n",
       "2  2  muff clampcoupling clampsystem choke latch mal...\n",
       "3  3  valve magnetic characterised attraction plunge...\n",
       "4  4  pendulum characterised means rollover tanker m..."
      ]
     },
     "execution_count": 52,
     "metadata": {},
     "output_type": "execute_result"
    }
   ],
   "source": [
    "claim_top_words.head()"
   ]
  },
  {
   "cell_type": "code",
   "execution_count": 53,
   "metadata": {},
   "outputs": [
    {
     "data": {
      "text/html": [
       "<div>\n",
       "<style scoped>\n",
       "    .dataframe tbody tr th:only-of-type {\n",
       "        vertical-align: middle;\n",
       "    }\n",
       "\n",
       "    .dataframe tbody tr th {\n",
       "        vertical-align: top;\n",
       "    }\n",
       "\n",
       "    .dataframe thead th {\n",
       "        text-align: right;\n",
       "    }\n",
       "</style>\n",
       "<table border=\"1\" class=\"dataframe\">\n",
       "  <thead>\n",
       "    <tr style=\"text-align: right;\">\n",
       "      <th></th>\n",
       "      <th>i</th>\n",
       "      <th>top_words</th>\n",
       "    </tr>\n",
       "  </thead>\n",
       "  <tbody>\n",
       "    <tr>\n",
       "      <th>0</th>\n",
       "      <td>0</td>\n",
       "      <td>hydraulic accumulator liquid machine engine mi...</td>\n",
       "    </tr>\n",
       "    <tr>\n",
       "      <th>1</th>\n",
       "      <td>1</td>\n",
       "      <td>foils foil turbine longitual discoidal angel s...</td>\n",
       "    </tr>\n",
       "    <tr>\n",
       "      <th>2</th>\n",
       "      <td>2</td>\n",
       "      <td>muff plasticbase pipes gasket clampcoupling ch...</td>\n",
       "    </tr>\n",
       "    <tr>\n",
       "      <th>3</th>\n",
       "      <td>3</td>\n",
       "      <td>tanker rollover valve plunger petrol pressure ...</td>\n",
       "    </tr>\n",
       "    <tr>\n",
       "      <th>4</th>\n",
       "      <td>4</td>\n",
       "      <td>tanker rollover petrol float valve pendulum me...</td>\n",
       "    </tr>\n",
       "  </tbody>\n",
       "</table>\n",
       "</div>"
      ],
      "text/plain": [
       "   i                                          top_words\n",
       "0  0  hydraulic accumulator liquid machine engine mi...\n",
       "1  1  foils foil turbine longitual discoidal angel s...\n",
       "2  2  muff plasticbase pipes gasket clampcoupling ch...\n",
       "3  3  tanker rollover valve plunger petrol pressure ...\n",
       "4  4  tanker rollover petrol float valve pendulum me..."
      ]
     },
     "execution_count": 53,
     "metadata": {},
     "output_type": "execute_result"
    }
   ],
   "source": [
    "desc_top_words.head()"
   ]
  },
  {
   "cell_type": "markdown",
   "metadata": {},
   "source": [
    "### Get top words for abstract using TFIDF"
   ]
  },
  {
   "cell_type": "code",
   "execution_count": 54,
   "metadata": {},
   "outputs": [
    {
     "name": "stderr",
     "output_type": "stream",
     "text": [
      "100%|██████████| 78372/78372 [18:22<00:00, 71.10it/s] \n"
     ]
    }
   ],
   "source": [
    "for i in tqdm(range(text_transformed.shape[0])):\n",
    "    f_index = abstract_tfidf[i,:].nonzero()[1]\n",
    "    tfid_score = zip(f_index,[abstract_tfidf[i,x] for x in f_index])\n",
    "   \n",
    "    word = []\n",
    "    score = []\n",
    "\n",
    "    for w,s in [(feature_names[i],s) for i,s in tfid_score]:\n",
    "        word.append(w)\n",
    "        score.append(s)\n",
    "        \n",
    "    score = np.array(score)\n",
    "    word = np.array(word)\n",
    "    txt = \" \".join(word[(-score).argsort()[:max_length]])\n",
    "    abstract_top_words.loc[len(abstract_top_words)] = [i,txt]"
   ]
  },
  {
   "cell_type": "markdown",
   "metadata": {},
   "source": [
    "##  Create new datatable to store the top 150 words from each of the 4 sections"
   ]
  },
  {
   "cell_type": "code",
   "execution_count": 55,
   "metadata": {},
   "outputs": [
    {
     "data": {
      "text/html": [
       "<div>\n",
       "<style scoped>\n",
       "    .dataframe tbody tr th:only-of-type {\n",
       "        vertical-align: middle;\n",
       "    }\n",
       "\n",
       "    .dataframe tbody tr th {\n",
       "        vertical-align: top;\n",
       "    }\n",
       "\n",
       "    .dataframe thead th {\n",
       "        text-align: right;\n",
       "    }\n",
       "</style>\n",
       "<table border=\"1\" class=\"dataframe\">\n",
       "  <thead>\n",
       "    <tr style=\"text-align: right;\">\n",
       "      <th></th>\n",
       "      <th>i</th>\n",
       "      <th>top_words</th>\n",
       "    </tr>\n",
       "  </thead>\n",
       "  <tbody>\n",
       "    <tr>\n",
       "      <th>0</th>\n",
       "      <td>0</td>\n",
       "      <td>hydraulic accumulator engine auxiliary microco...</td>\n",
       "    </tr>\n",
       "    <tr>\n",
       "      <th>1</th>\n",
       "      <td>1</td>\n",
       "      <td>foil foils abolute connectec shaft discoidal f...</td>\n",
       "    </tr>\n",
       "    <tr>\n",
       "      <th>2</th>\n",
       "      <td>2</td>\n",
       "      <td>plasticbase muff clampsystem tightcoupling but...</td>\n",
       "    </tr>\n",
       "    <tr>\n",
       "      <th>3</th>\n",
       "      <td>3</td>\n",
       "      <td>rollover tanker valve plunger attraction magne...</td>\n",
       "    </tr>\n",
       "    <tr>\n",
       "      <th>4</th>\n",
       "      <td>4</td>\n",
       "      <td>rollover tanker valve tankers pendulous seat f...</td>\n",
       "    </tr>\n",
       "  </tbody>\n",
       "</table>\n",
       "</div>"
      ],
      "text/plain": [
       "   i                                          top_words\n",
       "0  0  hydraulic accumulator engine auxiliary microco...\n",
       "1  1  foil foils abolute connectec shaft discoidal f...\n",
       "2  2  plasticbase muff clampsystem tightcoupling but...\n",
       "3  3  rollover tanker valve plunger attraction magne...\n",
       "4  4  rollover tanker valve tankers pendulous seat f..."
      ]
     },
     "execution_count": 55,
     "metadata": {},
     "output_type": "execute_result"
    }
   ],
   "source": [
    "abstract_top_words.head()"
   ]
  },
  {
   "cell_type": "code",
   "execution_count": 56,
   "metadata": {},
   "outputs": [
    {
     "data": {
      "text/html": [
       "<div>\n",
       "<style scoped>\n",
       "    .dataframe tbody tr th:only-of-type {\n",
       "        vertical-align: middle;\n",
       "    }\n",
       "\n",
       "    .dataframe tbody tr th {\n",
       "        vertical-align: top;\n",
       "    }\n",
       "\n",
       "    .dataframe thead th {\n",
       "        text-align: right;\n",
       "    }\n",
       "</style>\n",
       "<table border=\"1\" class=\"dataframe\">\n",
       "  <thead>\n",
       "    <tr style=\"text-align: right;\">\n",
       "      <th></th>\n",
       "      <th>title</th>\n",
       "      <th>abstract</th>\n",
       "      <th>claim</th>\n",
       "      <th>desc</th>\n",
       "    </tr>\n",
       "  </thead>\n",
       "  <tbody>\n",
       "    <tr>\n",
       "      <th>0</th>\n",
       "      <td>multifunctional integral vehicle motor</td>\n",
       "      <td>hydraulic accumulator engine auxiliary microco...</td>\n",
       "      <td>hydraulic multifunctional connected accumulato...</td>\n",
       "      <td>hydraulic accumulator liquid machine engine mi...</td>\n",
       "    </tr>\n",
       "    <tr>\n",
       "      <th>1</th>\n",
       "      <td>turbine medium driven fluid</td>\n",
       "      <td>foil foils abolute connectec shaft discoidal f...</td>\n",
       "      <td>foil turbine characterised longitual foils dis...</td>\n",
       "      <td>foils foil turbine longitual discoidal angel s...</td>\n",
       "    </tr>\n",
       "    <tr>\n",
       "      <th>2</th>\n",
       "      <td>plasticbase pipes leakage remove materials pro...</td>\n",
       "      <td>plasticbase muff clampsystem tightcoupling but...</td>\n",
       "      <td>muff clampcoupling clampsystem choke latch mal...</td>\n",
       "      <td>muff plasticbase pipes gasket clampcoupling ch...</td>\n",
       "    </tr>\n",
       "    <tr>\n",
       "      <th>3</th>\n",
       "      <td>release valve pressure</td>\n",
       "      <td>rollover tanker valve plunger attraction magne...</td>\n",
       "      <td>valve magnetic characterised attraction plunge...</td>\n",
       "      <td>tanker rollover valve plunger petrol pressure ...</td>\n",
       "    </tr>\n",
       "    <tr>\n",
       "      <th>4</th>\n",
       "      <td>rollover release mechanism valve pressure</td>\n",
       "      <td>rollover tanker valve tankers pendulous seat f...</td>\n",
       "      <td>pendulum characterised means rollover tanker m...</td>\n",
       "      <td>tanker rollover petrol float valve pendulum me...</td>\n",
       "    </tr>\n",
       "  </tbody>\n",
       "</table>\n",
       "</div>"
      ],
      "text/plain": [
       "                                               title  \\\n",
       "0             multifunctional integral vehicle motor   \n",
       "1                        turbine medium driven fluid   \n",
       "2  plasticbase pipes leakage remove materials pro...   \n",
       "3                             release valve pressure   \n",
       "4          rollover release mechanism valve pressure   \n",
       "\n",
       "                                            abstract  \\\n",
       "0  hydraulic accumulator engine auxiliary microco...   \n",
       "1  foil foils abolute connectec shaft discoidal f...   \n",
       "2  plasticbase muff clampsystem tightcoupling but...   \n",
       "3  rollover tanker valve plunger attraction magne...   \n",
       "4  rollover tanker valve tankers pendulous seat f...   \n",
       "\n",
       "                                               claim  \\\n",
       "0  hydraulic multifunctional connected accumulato...   \n",
       "1  foil turbine characterised longitual foils dis...   \n",
       "2  muff clampcoupling clampsystem choke latch mal...   \n",
       "3  valve magnetic characterised attraction plunge...   \n",
       "4  pendulum characterised means rollover tanker m...   \n",
       "\n",
       "                                                desc  \n",
       "0  hydraulic accumulator liquid machine engine mi...  \n",
       "1  foils foil turbine longitual discoidal angel s...  \n",
       "2  muff plasticbase pipes gasket clampcoupling ch...  \n",
       "3  tanker rollover valve plunger petrol pressure ...  \n",
       "4  tanker rollover petrol float valve pendulum me...  "
      ]
     },
     "execution_count": 56,
     "metadata": {},
     "output_type": "execute_result"
    }
   ],
   "source": [
    "title_top_words.columns = ['title_no','title']\n",
    "abstract_top_words.columns = ['abstract_no','abstract']\n",
    "desc_top_words.columns = ['desc_no','desc']\n",
    "claim_top_words.columns = ['claim_no','claim']\n",
    "\n",
    "\n",
    "Data_Final = pd.concat([title_top_words['title'], \n",
    "           abstract_top_words['abstract'], \n",
    "           claim_top_words['claim'], \n",
    "           desc_top_words['desc']], axis=1).sort_index() \n",
    "\n",
    "Data_Final.head()"
   ]
  },
  {
   "cell_type": "code",
   "execution_count": 65,
   "metadata": {},
   "outputs": [],
   "source": [
    "Data_Final.to_pickle('./saved_df_zipped/Data_Final.pkl.gz', compression='gzip')\n"
   ]
  },
  {
   "cell_type": "markdown",
   "metadata": {},
   "source": [
    "## Test Train split"
   ]
  },
  {
   "cell_type": "code",
   "execution_count": 57,
   "metadata": {},
   "outputs": [
    {
     "name": "stdout",
     "output_type": "stream",
     "text": [
      "(62697, 4)\n",
      "(15675, 4)\n",
      "(62697, 96)\n",
      "(15675, 96)\n"
     ]
    }
   ],
   "source": [
    "# train test split \n",
    "# you can change to data['label1'] to include only the first label \n",
    "X_train, X_test, Y_train, Y_test = model_selection.train_test_split(Data_Final, labels, test_size=0.2)\n",
    "\n",
    "print(X_train.shape)\n",
    "print(X_test.shape)\n",
    "print(Y_train.shape)\n",
    "print(Y_test.shape)"
   ]
  },
  {
   "cell_type": "markdown",
   "metadata": {},
   "source": [
    "## Padding train and test data and converting them to sequences"
   ]
  },
  {
   "cell_type": "code",
   "execution_count": 58,
   "metadata": {},
   "outputs": [
    {
     "name": "stdout",
     "output_type": "stream",
     "text": [
      "(62697, 150)\n",
      "(15675, 150)\n"
     ]
    }
   ],
   "source": [
    "# step 3. Transforming text documents to sequence of tokens and padding them to ensure equal length vectors\n",
    "# choosing the median document length as max length for padding \n",
    "sequence_length = 150\n",
    "\n",
    "# Create Input matricx for the four sections for train and test\n",
    "\n",
    "X_train_title_seq = sequence.pad_sequences(token.texts_to_sequences(X_train['title']), maxlen=sequence_length)\n",
    "X_train_claim_seq = sequence.pad_sequences(token.texts_to_sequences(X_train['claim']), maxlen=sequence_length)\n",
    "\n",
    "X_train_desc_seq = sequence.pad_sequences(token.texts_to_sequences(X_train['desc']), maxlen=sequence_length)\n",
    "\n",
    "X_train_abstract_seq = sequence.pad_sequences(token.texts_to_sequences(X_train['abstract']), maxlen=sequence_length)\n",
    "\n",
    "\n",
    "\n",
    "X_test_title_seq = sequence.pad_sequences(token.texts_to_sequences(X_test['title']), maxlen=sequence_length)\n",
    "X_test_claim_seq = sequence.pad_sequences(token.texts_to_sequences(X_test['claim']), maxlen=sequence_length)\n",
    "\n",
    "X_test_desc_seq = sequence.pad_sequences(token.texts_to_sequences(X_test['desc']), maxlen=sequence_length)\n",
    "\n",
    "X_test_abstract_seq = sequence.pad_sequences(token.texts_to_sequences(X_test['abstract']), maxlen=sequence_length)\n",
    "\n",
    "\n",
    "\n",
    "print(X_train_claim_seq.shape)\n",
    "print(X_test_claim_seq.shape)"
   ]
  },
  {
   "cell_type": "markdown",
   "metadata": {},
   "source": [
    "## Hyper parameters for CNN - BILSTM Model"
   ]
  },
  {
   "cell_type": "code",
   "execution_count": 59,
   "metadata": {},
   "outputs": [],
   "source": [
    "vocabulary_size = embedding_matrix.shape[0]\n",
    "sequence_length = sequence_length\n",
    "embedding_dim = embedding_matrix.shape[1]\n",
    "num_filters = 128\n",
    "kernel_size = 3\n",
    "pool_size = 4\n",
    "units = Y_train.shape[1]  # we need the output nodes to equal the number of classes (96)\n",
    "lstm_units = 128\n",
    "\n",
    "learning_rate = 0.001\n",
    "\n",
    "# Define Training Parameters \n",
    "batch_size = 100\n",
    "epochs = 20\n",
    "\n"
   ]
  },
  {
   "cell_type": "markdown",
   "metadata": {},
   "source": [
    "## CNN - BILSTM Model"
   ]
  },
  {
   "cell_type": "code",
   "execution_count": 60,
   "metadata": {},
   "outputs": [],
   "source": [
    "def CNN_BiLSTM_model():\n",
    "    \n",
    "    # Title Channel\n",
    "    \n",
    "    # Input Layer\n",
    "    input_layer1 = Input(shape=(sequence_length,), dtype='int32')\n",
    "\n",
    "    # Word embedding Layer\n",
    "    embedding_layer1 = Embedding(input_dim=vocabulary_size, output_dim=embedding_dim, input_length=sequence_length,\n",
    "                                weights=[embedding_matrix], trainable=False)(input_layer1) # embedding_matrix\n",
    "    #embedding_layer = SpatialDropout1D(0.2)(embedding_layer)\n",
    "    #embedding_layer = Dropout(0.2)(embedding_layer)\n",
    "\n",
    "    # Convolutional Layer\n",
    "    conv_layer1 = Conv1D(num_filters, kernel_size=kernel_size, activation=\"relu\")(embedding_layer1)\n",
    "\n",
    "    # The paper doesn't include a pooling layer !!!\n",
    "    # Pooling Layer\n",
    "    #pooling_layer = GlobalMaxPool1D()(conv_layer)\n",
    "    #pooling_layer = MaxPooling1D(pool_size=4)(conv_layer) #default pool size is 2\n",
    "\n",
    "    # Claim Channel\n",
    "    \n",
    "    # Input Layer\n",
    "    input_layer2 = Input(shape=(sequence_length,), dtype='int32')\n",
    "\n",
    "    # Word embedding Layer\n",
    "    embedding_layer2 = Embedding(input_dim=vocabulary_size, output_dim=embedding_dim, input_length=sequence_length,\n",
    "                                weights=[embedding_matrix], trainable=False)(input_layer2) # embedding_matrix\n",
    "\n",
    "    # Convolutional Layer\n",
    "    conv_layer2 = Conv1D(num_filters, kernel_size=kernel_size, activation=\"relu\")(embedding_layer2)\n",
    "    \n",
    "    # abstract Channel\n",
    "    \n",
    "    # Input Layer\n",
    "    input_layer3 = Input(shape=(sequence_length,), dtype='int32')\n",
    "\n",
    "    # Word embedding Layer\n",
    "    embedding_layer3 = Embedding(input_dim=vocabulary_size, output_dim=embedding_dim, input_length=sequence_length,\n",
    "                                weights=[embedding_matrix], trainable=False)(input_layer3) # embedding_matrix\n",
    "\n",
    "    # Convolutional Layer\n",
    "    conv_layer3 = Conv1D(num_filters, kernel_size=kernel_size, activation=\"relu\")(embedding_layer3)   \n",
    "    \n",
    "    # desc Channel\n",
    "    \n",
    "    # Input Layer\n",
    "    input_layer4 = Input(shape=(sequence_length,), dtype='int32')\n",
    "\n",
    "    # Word embedding Layer\n",
    "    embedding_layer4 = Embedding(input_dim=vocabulary_size, output_dim=embedding_dim, input_length=sequence_length,\n",
    "                                weights=[embedding_matrix], trainable=False)(input_layer4) # embedding_matrix\n",
    "\n",
    "    # Convolutional Layer\n",
    "    conv_layer4 = Conv1D(num_filters, kernel_size=kernel_size, activation=\"relu\")(embedding_layer4)      \n",
    "    \n",
    "    #concatenation\n",
    "    merged_concat = concatenate([conv_layer1, conv_layer2, conv_layer3,conv_layer4],axis=1)\n",
    "    \n",
    "    #Maximum\n",
    "    #merged_max = maximum([conv_layer1, conv_layer2, conv_layer3,conv_layer4])\n",
    "    \n",
    "    #Average\n",
    "    #merged_avg = average([conv_layer1, conv_layer2, conv_layer3,conv_layer4])\n",
    "    \n",
    "    #Summation\n",
    "    #merged_sum = add([conv_layer1, conv_layer2, conv_layer3,conv_layer4])\n",
    "\n",
    "    \n",
    "    \n",
    "    # bi-LSTM layer1\n",
    "    bilstm_layer1 = Bidirectional(LSTM(lstm_units))(merged_concat)\n",
    "    \n",
    "     # bi-LSTM layer2\n",
    "    #bilstm_layer1 = Bidirectional(LSTM(lstm_units))(merged_max)\n",
    "    \n",
    "     # bi-LSTM layer3\n",
    "    #bilstm_layer1 = Bidirectional(LSTM(lstm_units))(merged_avg)\n",
    "    \n",
    "     # bi-LSTM layer4\n",
    "    #bilstm_layer1 = Bidirectional(LSTM(lstm_units))(merged_sum)\n",
    "\n",
    "    # Output layer\n",
    "    # output_layer1 = Dense(50, activation=\"relu\")(pooling_layer)\n",
    "    #output_layer1 = Dropout(0.25)(bilstm_layer)\n",
    "    #output_layer2 = Dense(units=units, activation=\"sigmoid\")(output_layer1)\n",
    "    output_layer1 = Dense(units=units, activation=\"sigmoid\")(bilstm_layer1)\n",
    "\n",
    "    # Compile the model\n",
    "    # NOTE: we compile the model using binary cross entropy rather than categorical CE, since the goal\n",
    "    # is to treat each output labels as an independent Bernoulli distribution\n",
    "    model = models.Model(inputs=[input_layer1,input_layer2,input_layer3,input_layer4], outputs=output_layer1,)\n",
    "   \n",
    "    model.compile(optimizer=optimizers.Adam(lr=learning_rate),\n",
    "                  loss='binary_crossentropy',\n",
    "                  metrics=['accuracy']) # 'f1score', 'precision', 'recall' ,  recall, precision, f1\n",
    "\n",
    "    return model"
   ]
  },
  {
   "cell_type": "code",
   "execution_count": 61,
   "metadata": {},
   "outputs": [],
   "source": [
    "# Choosing Model \n",
    "model = CNN_BiLSTM_model() "
   ]
  },
  {
   "cell_type": "code",
   "execution_count": 62,
   "metadata": {},
   "outputs": [
    {
     "name": "stdout",
     "output_type": "stream",
     "text": [
      "Train on 56427 samples, validate on 6270 samples\n",
      "Epoch 1/20\n",
      "56427/56427 [==============================] - 925s 16ms/step - loss: 0.0762 - acc: 0.9828 - val_loss: 0.0576 - val_acc: 0.9854\n",
      "Epoch 2/20\n",
      "56427/56427 [==============================] - 897s 16ms/step - loss: 0.0501 - acc: 0.9861 - val_loss: 0.0439 - val_acc: 0.9868\n",
      "Epoch 3/20\n",
      "56427/56427 [==============================] - 890s 16ms/step - loss: 0.0408 - acc: 0.9878 - val_loss: 0.0380 - val_acc: 0.9884\n",
      "Epoch 4/20\n",
      "56427/56427 [==============================] - 867s 15ms/step - loss: 0.0356 - acc: 0.9890 - val_loss: 0.0342 - val_acc: 0.9893\n",
      "Epoch 5/20\n",
      "56427/56427 [==============================] - 860s 15ms/step - loss: 0.0321 - acc: 0.9900 - val_loss: 0.0327 - val_acc: 0.9897\n",
      "Epoch 6/20\n",
      "56427/56427 [==============================] - 868s 15ms/step - loss: 0.0301 - acc: 0.9906 - val_loss: 0.0317 - val_acc: 0.9900\n",
      "Epoch 7/20\n",
      "56427/56427 [==============================] - 867s 15ms/step - loss: 0.0282 - acc: 0.9911 - val_loss: 0.0304 - val_acc: 0.9904\n",
      "Epoch 8/20\n",
      "56427/56427 [==============================] - 843s 15ms/step - loss: 0.0264 - acc: 0.9916 - val_loss: 0.0300 - val_acc: 0.9907\n",
      "Epoch 9/20\n",
      "56427/56427 [==============================] - 862s 15ms/step - loss: 0.0252 - acc: 0.9919 - val_loss: 0.0295 - val_acc: 0.9908\n",
      "Epoch 10/20\n",
      "56427/56427 [==============================] - 870s 15ms/step - loss: 0.0238 - acc: 0.9923 - val_loss: 0.0295 - val_acc: 0.9907\n",
      "Epoch 11/20\n",
      "56427/56427 [==============================] - 874s 15ms/step - loss: 0.0225 - acc: 0.9926 - val_loss: 0.0295 - val_acc: 0.9908\n",
      "Epoch 12/20\n",
      "56427/56427 [==============================] - 873s 15ms/step - loss: 0.0216 - acc: 0.9929 - val_loss: 0.0295 - val_acc: 0.9907\n",
      "Epoch 13/20\n",
      "56427/56427 [==============================] - 875s 16ms/step - loss: 0.0206 - acc: 0.9932 - val_loss: 0.0297 - val_acc: 0.9909\n",
      "Epoch 14/20\n",
      "56427/56427 [==============================] - 854s 15ms/step - loss: 0.0197 - acc: 0.9935 - val_loss: 0.0303 - val_acc: 0.9906\n",
      "Epoch 15/20\n",
      "56427/56427 [==============================] - 856s 15ms/step - loss: 0.0190 - acc: 0.9936 - val_loss: 0.0303 - val_acc: 0.9908\n",
      "Epoch 16/20\n",
      "56427/56427 [==============================] - 859s 15ms/step - loss: 0.0182 - acc: 0.9939 - val_loss: 0.0309 - val_acc: 0.9906\n",
      "Epoch 17/20\n",
      "56427/56427 [==============================] - 882s 16ms/step - loss: 0.0174 - acc: 0.9942 - val_loss: 0.0309 - val_acc: 0.9906\n",
      "Epoch 18/20\n",
      "56427/56427 [==============================] - 863s 15ms/step - loss: 0.0170 - acc: 0.9943 - val_loss: 0.0313 - val_acc: 0.9906\n",
      "Epoch 19/20\n",
      "56427/56427 [==============================] - 864s 15ms/step - loss: 0.0162 - acc: 0.9945 - val_loss: 0.0319 - val_acc: 0.9905\n",
      "Epoch 20/20\n",
      "56427/56427 [==============================] - 982s 17ms/step - loss: 0.0158 - acc: 0.9947 - val_loss: 0.0320 - val_acc: 0.9905\n"
     ]
    }
   ],
   "source": [
    "# Training CNN-BiLSTM with our own embeddings \n",
    "history = model.fit([X_train_title_seq,X_train_claim_seq,X_train_abstract_seq,X_train_desc_seq], Y_train,  # class_weight=class_weight_dict,\n",
    "                   batch_size=batch_size,\n",
    "                   epochs=epochs,\n",
    "                   verbose=1,\n",
    "                   validation_split=0.1)"
   ]
  },
  {
   "cell_type": "code",
   "execution_count": 64,
   "metadata": {},
   "outputs": [],
   "source": [
    "from keras.models import load_model\n",
    "\n",
    "# Creates a HDF5 file 'my_model.h5'\n",
    "model.save('my_model.h5')\n",
    "\n",
    "# Deletes the existing model\n",
    "#del model  \n",
    "\n",
    "# Returns a compiled model identical to the previous one\n",
    "#model = load_model('my_model.h5')"
   ]
  },
  {
   "cell_type": "markdown",
   "metadata": {},
   "source": [
    "### Evaluation Metrics"
   ]
  },
  {
   "cell_type": "markdown",
   "metadata": {},
   "source": [
    "**True Positives (TP)**: the number of labels predicted by our approach (prediction labels) that\n",
    "matched the IPC labels (true labels), without taking the exact order into account.\n",
    "\n",
    "**False Positives (FP)**: the labels predicted by our approach (prediction labels) that do not match the true IPC labels. \n",
    "\n",
    "**False Negatives (FN)**: the labels that should have been predicted by our approach, but were not.\n",
    "\n",
    "**True Negatives (TN)**: the labels that, correctly, were not predicted by our approach. \n",
    "\n",
    "\n",
    "$$ Precision = \\frac{TP}{TP + FP} = \\frac{trueLabels \\cap predictionLabels}{predictionLabels} $$\n",
    "\n",
    "$$ Recall = \\frac{TP}{TP + FN} = \\frac{trueLabels \\cap predictionLabels}{trueLabels} $$\n",
    "\n",
    "**Precision** shows the ratio of the predicted labels that are true labels.\n",
    "\n",
    "**Recall** shows the ratio of the true labels that were predicted correctly. \n",
    "\n",
    "After calculating the above metrics for each patent document, we calculate the final Precision, Recall and F1-score across all documents as follows: \n",
    "\n",
    "$$Precision_{total} = \\frac{1}{TotalSamples} \\sum_{n=i}^{TotalSamples} Precision_i$$\n",
    "\n",
    "$$Recall_{total} = \\frac{1}{TotalSamples} \\sum_{n=i}^{TotalSamples} Recall_i$$\n",
    "\n",
    "$$F1_{total} = 2* \\frac{Precision_{total}*Recall_{total}}{Precision_{total}+Recall_{total}}  $$"
   ]
  },
  {
   "cell_type": "markdown",
   "metadata": {},
   "source": [
    "## Evaluation"
   ]
  },
  {
   "cell_type": "code",
   "execution_count": 113,
   "metadata": {},
   "outputs": [],
   "source": [
    "def model_predict(model,X_test):\n",
    "    pred_proba = model.predict(X_test)\n",
    "    return (pred_proba)\n",
    "\n",
    "def get_pred_classes(pred_proba, number_of_labels = 1):\n",
    "\n",
    "    preds = np.zeros(shape=pred_proba.shape)\n",
    "    pred_prob_label=[]\n",
    "    #pred_proba = model.predict(X_test_seq)\n",
    "\n",
    "    for i in range(pred_proba.shape[0]): \n",
    "        idxs = np.argsort(pred_proba[i])[::-1][:number_of_labels]\n",
    "        pred_prob_label.append(pred_proba[i,idxs])\n",
    "        preds[i][idxs] = 1       \n",
    "    return pred_prob_label,preds\n"
   ]
  },
  {
   "cell_type": "code",
   "execution_count": 67,
   "metadata": {},
   "outputs": [],
   "source": [
    "pred_proba = model_predict(model,[X_test_title_seq,X_test_claim_seq,X_test_abstract_seq,X_test_desc_seq])"
   ]
  },
  {
   "cell_type": "code",
   "execution_count": 71,
   "metadata": {},
   "outputs": [],
   "source": [
    "pred_prob_label,preds = get_pred_classes(pred_proba, number_of_labels = 1)"
   ]
  },
  {
   "cell_type": "markdown",
   "metadata": {},
   "source": [
    "### CNN+BiLSTM Model Results with our trained word2vec embeddings"
   ]
  },
  {
   "cell_type": "markdown",
   "metadata": {},
   "source": [
    "#### Top 1 label prediction"
   ]
  },
  {
   "cell_type": "code",
   "execution_count": 171,
   "metadata": {},
   "outputs": [
    {
     "name": "stdout",
     "output_type": "stream",
     "text": [
      "precision: 0.719170653907496\n",
      "recall: 0.5920931875142402\n",
      "f1: 0.6302160451634136\n"
     ]
    }
   ],
   "source": [
    "pred_classes = get_pred_classes([X_test_title_seq,X_test_claim_seq,X_test_abstract_seq,X_test_desc_seq], number_of_labels = 1)\n",
    "print(\"precision:\" , metrics.precision_score(Y_test, pred_classes, average = 'samples'))\n",
    "print(\"recall:\" , metrics.recall_score(Y_test, pred_classes, average = 'samples'))\n",
    "print(\"f1:\" , metrics.f1_score(Y_test, pred_classes, average = 'samples'))"
   ]
  },
  {
   "cell_type": "markdown",
   "metadata": {},
   "source": [
    "#### Top 2 labels prediction"
   ]
  },
  {
   "cell_type": "code",
   "execution_count": 172,
   "metadata": {},
   "outputs": [
    {
     "name": "stdout",
     "output_type": "stream",
     "text": [
      "precision: 0.4767145135566188\n",
      "recall: 0.736738057264373\n",
      "f1: 0.5570777954988482\n"
     ]
    }
   ],
   "source": [
    "pred_classes = get_pred_classes([X_test_title_seq,X_test_claim_seq,X_test_abstract_seq,X_test_desc_seq], number_of_labels = 2)\n",
    "print(\"precision:\" , metrics.precision_score(Y_test, pred_classes, average = 'samples'))\n",
    "print(\"recall:\" , metrics.recall_score(Y_test, pred_classes, average = 'samples'))\n",
    "print(\"f1:\" , metrics.f1_score(Y_test, pred_classes, average = 'samples'))"
   ]
  },
  {
   "cell_type": "markdown",
   "metadata": {},
   "source": [
    "#### Top 10 labels prediction"
   ]
  },
  {
   "cell_type": "code",
   "execution_count": 173,
   "metadata": {},
   "outputs": [
    {
     "name": "stdout",
     "output_type": "stream",
     "text": [
      "precision: 0.12815948963317386\n",
      "recall: 0.9296799574694312\n",
      "f1: 0.2199084980337443\n"
     ]
    }
   ],
   "source": [
    "pred_classes = get_pred_classes([X_test_title_seq,X_test_claim_seq,X_test_abstract_seq,X_test_desc_seq], number_of_labels = 10)\n",
    "print(\"precision:\" , metrics.precision_score(Y_test, pred_classes, average = 'samples'))\n",
    "print(\"recall:\" , metrics.recall_score(Y_test, pred_classes, average = 'samples'))\n",
    "print(\"f1:\" , metrics.f1_score(Y_test, pred_classes, average = 'samples'))"
   ]
  },
  {
   "cell_type": "code",
   "execution_count": 160,
   "metadata": {},
   "outputs": [
    {
     "data": {
      "text/plain": [
       "<matplotlib.legend.Legend at 0x1f7b889e10>"
      ]
     },
     "execution_count": 160,
     "metadata": {},
     "output_type": "execute_result"
    },
    {
     "data": {
      "image/png": "[encoded data removed]",
      "text/plain": [
       "<matplotlib.figure.Figure at 0x1f7d18ea20>"
      ]
     },
     "metadata": {},
     "output_type": "display_data"
    }
   ],
   "source": [
    "# Ploting the loss \n",
    "\n",
    "plt.figure(figsize=(15,5))\n",
    "N = epochs\n",
    "plt.plot(np.arange(0, N), history.history[\"loss\"], label=\"train_loss\")\n",
    "plt.plot(np.arange(0, N), history.history[\"val_loss\"], label=\"val_loss\")\n",
    "plt.title(\"Training Loss\")\n",
    "plt.xlabel(\"Epochs\")\n",
    "plt.grid()\n",
    "plt.ylabel(\"Cross-Entropy Loss\")\n",
    "plt.legend(loc=\"upper right\")"
   ]
  },
  {
   "cell_type": "markdown",
   "metadata": {},
   "source": [
    "\n"
   ]
  },
  {
   "cell_type": "markdown",
   "metadata": {},
   "source": [
    "### Error Analysis"
   ]
  },
  {
   "cell_type": "code",
   "execution_count": 116,
   "metadata": {},
   "outputs": [],
   "source": [
    "def get_df_with_results(pred_proba,labels=1):\n",
    "    #pred_proba = model.predict([X_test_title_seq,X_test_claim_seq,X_test_abstract_seq,X_test_desc_seq])\n",
    "    all_labels = mlb.classes_\n",
    "    pred_prob_label,pred_classes = get_pred_classes(pred_proba, number_of_labels = labels)\n",
    "\n",
    "    # Getting the predicted and actual labels in each patent in the test set\n",
    "    predicted_labels = [all_labels[np.argsort(pred_proba[i])[::-1][:labels]] for i in tqdm(range(pred_proba.shape[0]))]\n",
    "    actual_labels = [list(mlb.inverse_transform(Y_test)[i]) for i in tqdm(range(pred_proba.shape[0]))]\n",
    "\n",
    "    # Getting the individual precisions and recalls\n",
    "    precisions = [metrics.precision_score(Y_test[i], pred_classes[i]) for i in tqdm(range(pred_proba.shape[0]))]\n",
    "    recalls = [metrics.recall_score(Y_test[i], pred_classes[i]) for i in tqdm(range(pred_proba.shape[0]))]\n",
    "    \n",
    "    # Creating a dataframe with all the results\n",
    "    df_with_results = pd.DataFrame({'predicted_labels':predicted_labels,'pred_probability': pred_prob_label,\n",
    "                                  'actual_labels':actual_labels, \n",
    "                                  'precision':precisions, \n",
    "                                  'recall':recalls}, columns = ['predicted_labels','pred_probability','actual_labels','precision','recall'])\n",
    "    \n",
    "    return df_with_results\n",
    "\n",
    "\n",
    "def calculate_total_scores(df_with_results):\n",
    "    total_prec = round(df_with_results.precision.mean(),3)\n",
    "    total_recall = round(df_with_results.recall.mean(),3)\n",
    "    total_f1 = round(2*(total_prec*total_recall)/(total_prec+total_recall),3)\n",
    "    return print(\"Precision: {}, Recall: {}, F1-score: {}\".format(total_prec, total_recall, total_f1))"
   ]
  },
  {
   "cell_type": "markdown",
   "metadata": {},
   "source": [
    "### CNN + BiLSTM"
   ]
  },
  {
   "cell_type": "markdown",
   "metadata": {},
   "source": [
    "### Top 1 Label - Precision, Recall and F1-score"
   ]
  },
  {
   "cell_type": "code",
   "execution_count": 117,
   "metadata": {},
   "outputs": [
    {
     "name": "stderr",
     "output_type": "stream",
     "text": [
      "\r",
      "  0%|          | 0/15675 [00:00<?, ?it/s]"
     ]
    },
    {
     "name": "stdout",
     "output_type": "stream",
     "text": [
      "2018-08-10 08:01:57.430897\n"
     ]
    },
    {
     "name": "stderr",
     "output_type": "stream",
     "text": [
      "100%|██████████| 15675/15675 [00:00<00:00, 137202.34it/s]\n",
      "100%|██████████| 15675/15675 [16:05<00:00, 16.24it/s]\n",
      "100%|██████████| 15675/15675 [00:06<00:00, 2452.29it/s]\n",
      "100%|██████████| 15675/15675 [00:06<00:00, 2490.22it/s]\n"
     ]
    },
    {
     "name": "stdout",
     "output_type": "stream",
     "text": [
      "Precision: 0.712, Recall: 0.584, F1-score: 0.642\n",
      "2018-08-10 08:18:15.516838\n"
     ]
    }
   ],
   "source": [
    "import datetime\n",
    "print(datetime.datetime.now())\n",
    "df_with_results = get_df_with_results(pred_proba,labels=1)\n",
    "calculate_total_scores(df_with_results)\n",
    "print(datetime.datetime.now())"
   ]
  },
  {
   "cell_type": "code",
   "execution_count": 118,
   "metadata": {},
   "outputs": [
    {
     "data": {
      "text/html": [
       "<div>\n",
       "<style scoped>\n",
       "    .dataframe tbody tr th:only-of-type {\n",
       "        vertical-align: middle;\n",
       "    }\n",
       "\n",
       "    .dataframe tbody tr th {\n",
       "        vertical-align: top;\n",
       "    }\n",
       "\n",
       "    .dataframe thead th {\n",
       "        text-align: right;\n",
       "    }\n",
       "</style>\n",
       "<table border=\"1\" class=\"dataframe\">\n",
       "  <thead>\n",
       "    <tr style=\"text-align: right;\">\n",
       "      <th></th>\n",
       "      <th>predicted_labels</th>\n",
       "      <th>pred_probability</th>\n",
       "      <th>actual_labels</th>\n",
       "      <th>precision</th>\n",
       "      <th>recall</th>\n",
       "    </tr>\n",
       "  </thead>\n",
       "  <tbody>\n",
       "    <tr>\n",
       "      <th>0</th>\n",
       "      <td>[f24c]</td>\n",
       "      <td>[0.9930559]</td>\n",
       "      <td>[f24c]</td>\n",
       "      <td>1.0</td>\n",
       "      <td>1.0</td>\n",
       "    </tr>\n",
       "    <tr>\n",
       "      <th>1</th>\n",
       "      <td>[f16h]</td>\n",
       "      <td>[0.97874373]</td>\n",
       "      <td>[f16d]</td>\n",
       "      <td>0.0</td>\n",
       "      <td>0.0</td>\n",
       "    </tr>\n",
       "    <tr>\n",
       "      <th>2</th>\n",
       "      <td>[f17c]</td>\n",
       "      <td>[0.83396316]</td>\n",
       "      <td>[f17c]</td>\n",
       "      <td>1.0</td>\n",
       "      <td>1.0</td>\n",
       "    </tr>\n",
       "    <tr>\n",
       "      <th>3</th>\n",
       "      <td>[f16k]</td>\n",
       "      <td>[0.8456981]</td>\n",
       "      <td>[f16f]</td>\n",
       "      <td>0.0</td>\n",
       "      <td>0.0</td>\n",
       "    </tr>\n",
       "    <tr>\n",
       "      <th>4</th>\n",
       "      <td>[f02m]</td>\n",
       "      <td>[0.9167052]</td>\n",
       "      <td>[f02m]</td>\n",
       "      <td>1.0</td>\n",
       "      <td>1.0</td>\n",
       "    </tr>\n",
       "  </tbody>\n",
       "</table>\n",
       "</div>"
      ],
      "text/plain": [
       "  predicted_labels pred_probability actual_labels  precision  recall\n",
       "0           [f24c]      [0.9930559]        [f24c]        1.0     1.0\n",
       "1           [f16h]     [0.97874373]        [f16d]        0.0     0.0\n",
       "2           [f17c]     [0.83396316]        [f17c]        1.0     1.0\n",
       "3           [f16k]      [0.8456981]        [f16f]        0.0     0.0\n",
       "4           [f02m]      [0.9167052]        [f02m]        1.0     1.0"
      ]
     },
     "execution_count": 118,
     "metadata": {},
     "output_type": "execute_result"
    }
   ],
   "source": [
    "df_with_results.head()"
   ]
  },
  {
   "cell_type": "markdown",
   "metadata": {},
   "source": [
    "### Top 2 Label - Precision, Recall and F1-score"
   ]
  },
  {
   "cell_type": "code",
   "execution_count": 120,
   "metadata": {},
   "outputs": [
    {
     "name": "stderr",
     "output_type": "stream",
     "text": [
      "100%|██████████| 15675/15675 [00:00<00:00, 126294.42it/s]\n",
      "100%|██████████| 15675/15675 [16:20<00:00, 15.98it/s]\n",
      "100%|██████████| 15675/15675 [00:06<00:00, 2503.11it/s]\n",
      "100%|██████████| 15675/15675 [00:06<00:00, 2561.57it/s]"
     ]
    },
    {
     "name": "stdout",
     "output_type": "stream",
     "text": [
      "Precision: 0.712, Recall: 0.584, F1-score: 0.642\n"
     ]
    },
    {
     "name": "stderr",
     "output_type": "stream",
     "text": [
      "\n"
     ]
    }
   ],
   "source": [
    "df_with_results_2 = get_df_with_results(pred_proba,labels=2)\n",
    "calculate_total_scores(df_with_results)"
   ]
  },
  {
   "cell_type": "code",
   "execution_count": 121,
   "metadata": {},
   "outputs": [
    {
     "data": {
      "text/html": [
       "<div>\n",
       "<style scoped>\n",
       "    .dataframe tbody tr th:only-of-type {\n",
       "        vertical-align: middle;\n",
       "    }\n",
       "\n",
       "    .dataframe tbody tr th {\n",
       "        vertical-align: top;\n",
       "    }\n",
       "\n",
       "    .dataframe thead th {\n",
       "        text-align: right;\n",
       "    }\n",
       "</style>\n",
       "<table border=\"1\" class=\"dataframe\">\n",
       "  <thead>\n",
       "    <tr style=\"text-align: right;\">\n",
       "      <th></th>\n",
       "      <th>predicted_labels</th>\n",
       "      <th>pred_probability</th>\n",
       "      <th>actual_labels</th>\n",
       "      <th>precision</th>\n",
       "      <th>recall</th>\n",
       "    </tr>\n",
       "  </thead>\n",
       "  <tbody>\n",
       "    <tr>\n",
       "      <th>0</th>\n",
       "      <td>[f24c, f24b]</td>\n",
       "      <td>[0.9930559, 0.050835688]</td>\n",
       "      <td>[f24c]</td>\n",
       "      <td>0.5</td>\n",
       "      <td>1.0</td>\n",
       "    </tr>\n",
       "    <tr>\n",
       "      <th>1</th>\n",
       "      <td>[f16h, f16d]</td>\n",
       "      <td>[0.97874373, 0.13972674]</td>\n",
       "      <td>[f16d]</td>\n",
       "      <td>0.5</td>\n",
       "      <td>1.0</td>\n",
       "    </tr>\n",
       "    <tr>\n",
       "      <th>2</th>\n",
       "      <td>[f17c, f23n]</td>\n",
       "      <td>[0.83396316, 0.28601876]</td>\n",
       "      <td>[f17c]</td>\n",
       "      <td>0.5</td>\n",
       "      <td>1.0</td>\n",
       "    </tr>\n",
       "    <tr>\n",
       "      <th>3</th>\n",
       "      <td>[f16k, f16f]</td>\n",
       "      <td>[0.8456981, 0.415055]</td>\n",
       "      <td>[f16f]</td>\n",
       "      <td>0.5</td>\n",
       "      <td>1.0</td>\n",
       "    </tr>\n",
       "    <tr>\n",
       "      <th>4</th>\n",
       "      <td>[f02m, f04b]</td>\n",
       "      <td>[0.9167052, 0.5984968]</td>\n",
       "      <td>[f02m]</td>\n",
       "      <td>0.5</td>\n",
       "      <td>1.0</td>\n",
       "    </tr>\n",
       "  </tbody>\n",
       "</table>\n",
       "</div>"
      ],
      "text/plain": [
       "  predicted_labels          pred_probability actual_labels  precision  recall\n",
       "0     [f24c, f24b]  [0.9930559, 0.050835688]        [f24c]        0.5     1.0\n",
       "1     [f16h, f16d]  [0.97874373, 0.13972674]        [f16d]        0.5     1.0\n",
       "2     [f17c, f23n]  [0.83396316, 0.28601876]        [f17c]        0.5     1.0\n",
       "3     [f16k, f16f]     [0.8456981, 0.415055]        [f16f]        0.5     1.0\n",
       "4     [f02m, f04b]    [0.9167052, 0.5984968]        [f02m]        0.5     1.0"
      ]
     },
     "execution_count": 121,
     "metadata": {},
     "output_type": "execute_result"
    }
   ],
   "source": [
    "df_with_results_2.head()"
   ]
  },
  {
   "cell_type": "markdown",
   "metadata": {},
   "source": [
    "### Top 10 Label - Precision, Recall and F1-score"
   ]
  },
  {
   "cell_type": "code",
   "execution_count": 122,
   "metadata": {},
   "outputs": [
    {
     "name": "stderr",
     "output_type": "stream",
     "text": [
      "100%|██████████| 15675/15675 [00:00<00:00, 109000.31it/s]\n",
      "100%|██████████| 15675/15675 [16:16<00:00, 16.05it/s]\n",
      "100%|██████████| 15675/15675 [00:06<00:00, 2486.91it/s]\n",
      "100%|██████████| 15675/15675 [00:06<00:00, 2518.69it/s]"
     ]
    },
    {
     "name": "stdout",
     "output_type": "stream",
     "text": [
      "Precision: 0.712, Recall: 0.584, F1-score: 0.642\n"
     ]
    },
    {
     "name": "stderr",
     "output_type": "stream",
     "text": [
      "\n"
     ]
    }
   ],
   "source": [
    "df_with_results_3 = get_df_with_results(pred_proba,labels=10)\n",
    "calculate_total_scores(df_with_results)"
   ]
  },
  {
   "cell_type": "code",
   "execution_count": 123,
   "metadata": {},
   "outputs": [
    {
     "data": {
      "text/html": [
       "<div>\n",
       "<style scoped>\n",
       "    .dataframe tbody tr th:only-of-type {\n",
       "        vertical-align: middle;\n",
       "    }\n",
       "\n",
       "    .dataframe tbody tr th {\n",
       "        vertical-align: top;\n",
       "    }\n",
       "\n",
       "    .dataframe thead th {\n",
       "        text-align: right;\n",
       "    }\n",
       "</style>\n",
       "<table border=\"1\" class=\"dataframe\">\n",
       "  <thead>\n",
       "    <tr style=\"text-align: right;\">\n",
       "      <th></th>\n",
       "      <th>predicted_labels</th>\n",
       "      <th>pred_probability</th>\n",
       "      <th>actual_labels</th>\n",
       "      <th>precision</th>\n",
       "      <th>recall</th>\n",
       "    </tr>\n",
       "  </thead>\n",
       "  <tbody>\n",
       "    <tr>\n",
       "      <th>0</th>\n",
       "      <td>[f24c, f24b, f26b, f03d, f21v, f24j, f16m, f23...</td>\n",
       "      <td>[0.9930559, 0.050835688, 0.048431005, 0.030249...</td>\n",
       "      <td>[f24c]</td>\n",
       "      <td>0.1</td>\n",
       "      <td>1.0</td>\n",
       "    </tr>\n",
       "    <tr>\n",
       "      <th>1</th>\n",
       "      <td>[f16h, f16d, f15b, f16n, f04c, f16c, f16b, f16...</td>\n",
       "      <td>[0.97874373, 0.13972674, 0.0078129275, 0.00311...</td>\n",
       "      <td>[f16d]</td>\n",
       "      <td>0.1</td>\n",
       "      <td>1.0</td>\n",
       "    </tr>\n",
       "    <tr>\n",
       "      <th>2</th>\n",
       "      <td>[f17c, f23n, f23k, f24h, f17d, f24d, f02m, f04...</td>\n",
       "      <td>[0.83396316, 0.28601876, 0.20103882, 0.1430117...</td>\n",
       "      <td>[f17c]</td>\n",
       "      <td>0.1</td>\n",
       "      <td>1.0</td>\n",
       "    </tr>\n",
       "    <tr>\n",
       "      <th>3</th>\n",
       "      <td>[f16k, f16f, f01l, f15b, f04b, f15c, f16b, f16...</td>\n",
       "      <td>[0.8456981, 0.415055, 0.33630595, 0.17949843, ...</td>\n",
       "      <td>[f16f]</td>\n",
       "      <td>0.1</td>\n",
       "      <td>1.0</td>\n",
       "    </tr>\n",
       "    <tr>\n",
       "      <th>4</th>\n",
       "      <td>[f02m, f04b, f02b, f04c, f01m, f02d, f16n, f01...</td>\n",
       "      <td>[0.9167052, 0.5984968, 0.36131454, 0.059601825...</td>\n",
       "      <td>[f02m]</td>\n",
       "      <td>0.1</td>\n",
       "      <td>1.0</td>\n",
       "    </tr>\n",
       "  </tbody>\n",
       "</table>\n",
       "</div>"
      ],
      "text/plain": [
       "                                    predicted_labels  \\\n",
       "0  [f24c, f24b, f26b, f03d, f21v, f24j, f16m, f23...   \n",
       "1  [f16h, f16d, f15b, f16n, f04c, f16c, f16b, f16...   \n",
       "2  [f17c, f23n, f23k, f24h, f17d, f24d, f02m, f04...   \n",
       "3  [f16k, f16f, f01l, f15b, f04b, f15c, f16b, f16...   \n",
       "4  [f02m, f04b, f02b, f04c, f01m, f02d, f16n, f01...   \n",
       "\n",
       "                                    pred_probability actual_labels  precision  \\\n",
       "0  [0.9930559, 0.050835688, 0.048431005, 0.030249...        [f24c]        0.1   \n",
       "1  [0.97874373, 0.13972674, 0.0078129275, 0.00311...        [f16d]        0.1   \n",
       "2  [0.83396316, 0.28601876, 0.20103882, 0.1430117...        [f17c]        0.1   \n",
       "3  [0.8456981, 0.415055, 0.33630595, 0.17949843, ...        [f16f]        0.1   \n",
       "4  [0.9167052, 0.5984968, 0.36131454, 0.059601825...        [f02m]        0.1   \n",
       "\n",
       "   recall  \n",
       "0     1.0  \n",
       "1     1.0  \n",
       "2     1.0  \n",
       "3     1.0  \n",
       "4     1.0  "
      ]
     },
     "execution_count": 123,
     "metadata": {},
     "output_type": "execute_result"
    }
   ],
   "source": [
    "df_with_results_3.head()"
   ]
  },
  {
   "cell_type": "code",
   "execution_count": 125,
   "metadata": {},
   "outputs": [],
   "source": [
    "df_with_results.to_pickle('./saved_df_zipped/df_with_results.pkl.gz', compression='gzip')\n",
    "\n",
    "df_with_results_2.to_pickle('./saved_df_zipped/df_with_results_2.pkl.gz', compression='gzip')\n",
    "\n",
    "\n",
    "df_with_results_3.to_pickle('./saved_df_zipped/df_with_results_3.pkl.gz', compression='gzip')\n",
    "\n"
   ]
  },
  {
   "cell_type": "code",
   "execution_count": 312,
   "metadata": {
    "scrolled": true
   },
   "outputs": [],
   "source": [
    "# Get the list of labels that were misclassified for each document\n",
    "\n",
    "delta = []\n",
    "for i in range(df_with_results.shape[0]):\n",
    "    \n",
    "    delta.append(list(set(df_with_results.iloc[i].actual_labels).difference(set(df_with_results.iloc[i].predicted_labels))))\n",
    "\n",
    "erroneous_labels = Counter()\n",
    "\n",
    "for i in delta:\n",
    "    if i is not None:\n",
    "            erroneous_labels.update(i)"
   ]
  },
  {
   "cell_type": "code",
   "execution_count": 314,
   "metadata": {},
   "outputs": [],
   "source": [
    "# # Get the list of labels that were classified correctly for each document\n",
    "\n",
    "delta_correct = []\n",
    "for i in range(df_with_results.shape[0]):\n",
    "    \n",
    "    delta_correct.append(list(set(df_with_results.iloc[i].predicted_labels).intersection(set(df_with_results.iloc[i].actual_labels))))\n",
    "\n",
    "correct_labels = Counter()\n",
    "\n",
    "for i in delta_correct:\n",
    "    if i is not None:\n",
    "            correct_labels.update(i)"
   ]
  },
  {
   "cell_type": "code",
   "execution_count": 410,
   "metadata": {},
   "outputs": [],
   "source": [
    "# Get the error rate, no of training documents, no of test documents for each sub class\n",
    "\n",
    "import seaborn as sns\n",
    "Result_analysis = pd.DataFrame([[k,correct_labels[k],erroneous_labels[k],erroneous_labels[k]*100/(erroneous_labels[k]+correct_labels[k]),correct_labels[k]+erroneous_labels[k],pl[k]- (correct_labels[k]+erroneous_labels[k])] for k in erroneous_labels],\n",
    "              columns=['Sub_Class','Correct_predictions','Erroneous_Predictions','Error_percentage','no_of_test_documents','no_of_training_documents']) \\\n",
    " .sort_values(by='Error_percentage',ascending=False)\n",
    "\n",
    "\n",
    "#Result_analysis[Result_analysis.Error_percentage > 50]"
   ]
  },
  {
   "cell_type": "code",
   "execution_count": 412,
   "metadata": {},
   "outputs": [
    {
     "data": {
      "image/png": "[encoded data removed]",
      "text/plain": [
       "<matplotlib.figure.Figure at 0x1acf4ed470>"
      ]
     },
     "metadata": {},
     "output_type": "display_data"
    }
   ],
   "source": [
    "fig, ax = plt.subplots()\n",
    "fig.set_size_inches(15, 10)\n",
    "g = sns.barplot(y=\"no_of_training_documents\",x=\"Sub_Class\",edgecolor=\".6\",\n",
    "            data=Result_analysis[Result_analysis.Error_percentage > 50],ax=ax)\n",
    "\n",
    "g1 = g.set_xticklabels(g.get_xticklabels(),rotation=90)\n",
    "\n",
    "g2 = g.set_title('No of Training Documents by subclass')\n",
    "\n"
   ]
  },
  {
   "cell_type": "markdown",
   "metadata": {},
   "source": [
    "The figure above shows that has most of these classes has fewer than 500 documents. Of course there are a few exceptions such as ‘f02b’, ‘f16j’, etc for which there was a reasonable number of training data.\n",
    "\n",
    "Let’s zoom in on these exceptions. The figure below is a list of classes that has more than 1000 documents and error rate of more than 50%.\n"
   ]
  },
  {
   "cell_type": "code",
   "execution_count": 367,
   "metadata": {},
   "outputs": [
    {
     "data": {
      "image/png": "[encoded data removed]",
      "text/plain": [
       "<matplotlib.figure.Figure at 0x1acd6fc1d0>"
      ]
     },
     "metadata": {},
     "output_type": "display_data"
    }
   ],
   "source": [
    "fig, ax = plt.subplots()\n",
    "fig.set_size_inches(15, 10)\n",
    "g = sns.barplot(y=\"no_of_training_documents\",x=\"Sub_Class\",edgecolor=\".6\",\n",
    "            data=Result_analysis[(Result_analysis.Error_percentage > 50) & (Result_analysis.no_of_training_documents > 1000)],ax=ax)\n",
    "\n",
    "g1 = g.set_xticklabels(g.get_xticklabels(),rotation=90)\n",
    "\n",
    "g2 = g.set_title('No of Training Documents by subclass')"
   ]
  },
  {
   "cell_type": "markdown",
   "metadata": {},
   "source": [
    "Let’s take the example of ‘f02b’, which has decent training data and hone in on a specific example.\n",
    "\n",
    "Patent document -> https://patents.google.com/patent/US6572956/en\n",
    "\n",
    "Patent title : Weatherable multilayer resinous articles and method for their preparation\n",
    "\n",
    "This patent is classified across multiple subclasses. These subclasses are also across multiple categories -  B [“PERFORMING OPERATIONS; TRANSPORTING”] and F [MECHANICAL].\n",
    "\n",
    "Since our scope was to classify only F [MECHANICAL], we dropped subclasses from other categories.\n",
    "In our CLEF dataset, this patent was assigned to the subclass  ‘f02b’ but the predicted class was ‘f16l’. The subclass ‘f02b’ pertains to internal combustion engine and related ignition methods. The predicted subclass ‘f16l’ pertains to pipes, joints, fitting, protective coating, etc. It turns out that this patent is grossly misclassified in the CLEF dataset (2011) even at the class level as this has nothing to do with internal combustion engine. But this patent does deal with a substance for coating and thus got classified as ‘f16l’. In this case, our model’s prediction was much more in alignment with the actual class of B.\n",
    "\n",
    "There were some of the other factors that also contributed to error:\n",
    "\n",
    "Patent documents are often complex and technical details and language are sometimes intentionally vague in order to minimize the chance of a rejection. This means that lot of times, the patents could be assigned an incorrect sub-class.\n",
    "\n",
    "Some of the documents had german or french language despite the fact that these patent documents had english as the language in the xml metadata.\n"
   ]
  },
  {
   "cell_type": "code",
   "execution_count": 411,
   "metadata": {},
   "outputs": [
    {
     "data": {
      "text/html": [
       "<div>\n",
       "<style scoped>\n",
       "    .dataframe tbody tr th:only-of-type {\n",
       "        vertical-align: middle;\n",
       "    }\n",
       "\n",
       "    .dataframe tbody tr th {\n",
       "        vertical-align: top;\n",
       "    }\n",
       "\n",
       "    .dataframe thead th {\n",
       "        text-align: right;\n",
       "    }\n",
       "</style>\n",
       "<table border=\"1\" class=\"dataframe\">\n",
       "  <thead>\n",
       "    <tr style=\"text-align: right;\">\n",
       "      <th></th>\n",
       "      <th>predicted_labels</th>\n",
       "      <th>pred_probability</th>\n",
       "      <th>actual_labels</th>\n",
       "      <th>precision</th>\n",
       "      <th>recall</th>\n",
       "    </tr>\n",
       "  </thead>\n",
       "  <tbody>\n",
       "    <tr>\n",
       "      <th>14</th>\n",
       "      <td>[f02d]</td>\n",
       "      <td>[0.47923818]</td>\n",
       "      <td>[f02b, f02d]</td>\n",
       "      <td>1.0</td>\n",
       "      <td>0.500000</td>\n",
       "    </tr>\n",
       "    <tr>\n",
       "      <th>17</th>\n",
       "      <td>[f16f]</td>\n",
       "      <td>[0.7491671]</td>\n",
       "      <td>[f02b, f16f]</td>\n",
       "      <td>1.0</td>\n",
       "      <td>0.500000</td>\n",
       "    </tr>\n",
       "    <tr>\n",
       "      <th>89</th>\n",
       "      <td>[f01n]</td>\n",
       "      <td>[0.99354255]</td>\n",
       "      <td>[f01n, f02b]</td>\n",
       "      <td>1.0</td>\n",
       "      <td>0.500000</td>\n",
       "    </tr>\n",
       "    <tr>\n",
       "      <th>95</th>\n",
       "      <td>[f16f]</td>\n",
       "      <td>[0.9993222]</td>\n",
       "      <td>[f02b, f16f, f16m]</td>\n",
       "      <td>1.0</td>\n",
       "      <td>0.333333</td>\n",
       "    </tr>\n",
       "    <tr>\n",
       "      <th>167</th>\n",
       "      <td>[f01d]</td>\n",
       "      <td>[0.49667957]</td>\n",
       "      <td>[f01d, f02b, f02c]</td>\n",
       "      <td>1.0</td>\n",
       "      <td>0.333333</td>\n",
       "    </tr>\n",
       "    <tr>\n",
       "      <th>203</th>\n",
       "      <td>[f16h]</td>\n",
       "      <td>[0.10141861]</td>\n",
       "      <td>[f02b]</td>\n",
       "      <td>0.0</td>\n",
       "      <td>0.000000</td>\n",
       "    </tr>\n",
       "    <tr>\n",
       "      <th>251</th>\n",
       "      <td>[f01n]</td>\n",
       "      <td>[0.984985]</td>\n",
       "      <td>[f01n, f02b, f02d, f02m]</td>\n",
       "      <td>1.0</td>\n",
       "      <td>0.250000</td>\n",
       "    </tr>\n",
       "    <tr>\n",
       "      <th>263</th>\n",
       "      <td>[f02d]</td>\n",
       "      <td>[0.9955876]</td>\n",
       "      <td>[f02b, f02d]</td>\n",
       "      <td>1.0</td>\n",
       "      <td>0.500000</td>\n",
       "    </tr>\n",
       "    <tr>\n",
       "      <th>288</th>\n",
       "      <td>[f01l]</td>\n",
       "      <td>[0.9822666]</td>\n",
       "      <td>[f01l, f02b]</td>\n",
       "      <td>1.0</td>\n",
       "      <td>0.500000</td>\n",
       "    </tr>\n",
       "    <tr>\n",
       "      <th>293</th>\n",
       "      <td>[f01d]</td>\n",
       "      <td>[0.8282038]</td>\n",
       "      <td>[f02b]</td>\n",
       "      <td>0.0</td>\n",
       "      <td>0.000000</td>\n",
       "    </tr>\n",
       "  </tbody>\n",
       "</table>\n",
       "</div>"
      ],
      "text/plain": [
       "    predicted_labels pred_probability             actual_labels  precision  \\\n",
       "14            [f02d]     [0.47923818]              [f02b, f02d]        1.0   \n",
       "17            [f16f]      [0.7491671]              [f02b, f16f]        1.0   \n",
       "89            [f01n]     [0.99354255]              [f01n, f02b]        1.0   \n",
       "95            [f16f]      [0.9993222]        [f02b, f16f, f16m]        1.0   \n",
       "167           [f01d]     [0.49667957]        [f01d, f02b, f02c]        1.0   \n",
       "203           [f16h]     [0.10141861]                    [f02b]        0.0   \n",
       "251           [f01n]       [0.984985]  [f01n, f02b, f02d, f02m]        1.0   \n",
       "263           [f02d]      [0.9955876]              [f02b, f02d]        1.0   \n",
       "288           [f01l]      [0.9822666]              [f01l, f02b]        1.0   \n",
       "293           [f01d]      [0.8282038]                    [f02b]        0.0   \n",
       "\n",
       "       recall  \n",
       "14   0.500000  \n",
       "17   0.500000  \n",
       "89   0.500000  \n",
       "95   0.333333  \n",
       "167  0.333333  \n",
       "203  0.000000  \n",
       "251  0.250000  \n",
       "263  0.500000  \n",
       "288  0.500000  \n",
       "293  0.000000  "
      ]
     },
     "execution_count": 411,
     "metadata": {},
     "output_type": "execute_result"
    }
   ],
   "source": [
    "# Getting some examples on the classfication for the class 'f02b'\n",
    "\n",
    "delta_incorrect_f02b=[]\n",
    "for i,d in enumerate(delta):\n",
    "    if 'f02b' in d:\n",
    "        delta_incorrect_f02b.append(i)\n",
    "\n",
    "\n",
    "df_with_results.iloc[delta_incorrect_f02b].head(10)"
   ]
  },
  {
   "cell_type": "markdown",
   "metadata": {},
   "source": [
    "#### There were some of the other factors that also contributed to error:\n",
    "#### Patent documents are often complex and technical details and language are sometimes intentionally vague in order to minimize the chance of a rejection. This means that lot of times, the patents could be assigned an incorrect sub-class.\n",
    "\n",
    "\n",
    "\n",
    "#### Also patents are sometimes classified across multiple sub-classes but they are truly only applicable for one of the classes. Consider the following record:\n",
    "\n",
    "\n",
    "`X_test['title'].iloc[288]`\n"
   ]
  },
  {
   "cell_type": "code",
   "execution_count": 418,
   "metadata": {},
   "outputs": [
    {
     "name": "stdout",
     "output_type": "stream",
     "text": [
      "combustion engine valve operating internal\n",
      "relief pressure valve air chamber common passage chambers intakeside engine control exhaustside embodiment volume revolution cylinders detecting cylinder accumulator member defining intake cam supply connected valves invention fig hole rotatbly leading operating internal combustion number value portion shows head passages connect thereof present check sealability intermediate detected casing set transitional regulator secured responsiveness annular pistons openings obliqued provided piston exhaust shaft oil plurality received figs unit operational bolt portions controlled tenth projection ninth structure slidably members end ceiling eighth commonly operation sleeves state followability multistages equal connecting means changing seventh airsupply cylindrical partition sixth respect bearing block operatively releasing poor precisely described swiftly step complicated fifth controlling avoided embodiments supplied hinders object joint interposed lifter slide previous pressurized type utmost release wasteful released stage bottomed referring deviated fourcylinder fourth ringlike defines leaked largediameter opening return closing saved multicylinder opened variations mounted port subtracting restrain difference inputted seal achieve furthermore systems\n"
     ]
    }
   ],
   "source": [
    "print(X_test['title'].iloc[288])\n",
    "\n",
    "print(X_test['desc'].iloc[288])"
   ]
  },
  {
   "cell_type": "markdown",
   "metadata": {},
   "source": [
    "#### This patent really deals with valves,air chambers, pistons and not related to the overall workings of an internal combustion engine.\n",
    "\n",
    "#### Our model predicts the class to be 'f01l'['CYCLICALLY OPERATING VALVES FOR MACHINES OR ENGINES'] correctly. But it is also classfied as 'f02b'.But as mentioned, 'f02b' has to do with internal combustion engines from a fuel injection standpoint. "
   ]
  },
  {
   "cell_type": "markdown",
   "metadata": {},
   "source": [
    "#### Some of the documents had german or french language despite the fact that these patent documents had english as the language in the xml metadata. We can perhaps try other ways to clean up this language problem rather thasn just relying on the xml data."
   ]
  },
  {
   "cell_type": "code",
   "execution_count": null,
   "metadata": {},
   "outputs": [],
   "source": []
  }
 ],
 "metadata": {
  "kernelspec": {
   "display_name": "Python 3",
   "language": "python",
   "name": "python3"
  },
  "notify_time": "0",
  "varInspector": {
   "cols": {
    "lenName": 16,
    "lenType": 16,
    "lenVar": 40
   },
   "kernels_config": {
    "python": {
     "delete_cmd_postfix": "",
     "delete_cmd_prefix": "del ",
     "library": "var_list.py",
     "varRefreshCmd": "print(var_dic_list())"
    },
    "r": {
     "delete_cmd_postfix": ") ",
     "delete_cmd_prefix": "rm(",
     "library": "var_list.r",
     "varRefreshCmd": "cat(var_dic_list()) "
    }
   },
   "types_to_exclude": [
    "module",
    "function",
    "builtin_function_or_method",
    "instance",
    "_Feature"
   ],
   "window_display": false
  }
 },
 "nbformat": 4,
 "nbformat_minor": 2
}
