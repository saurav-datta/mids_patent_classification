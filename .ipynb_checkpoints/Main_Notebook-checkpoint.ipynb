{
 "cells": [
  {
   "cell_type": "markdown",
   "metadata": {},
   "source": [
    "# Multi-class Multi-label Patent Classification with Hybrid Neural Networks"
   ]
  },
  {
   "cell_type": "markdown",
   "metadata": {},
   "source": [
    "### *Saurav Datta, Arvindh Ganesan, Christina Papadimitriou*\n",
    "*August 7th, 2018*"
   ]
  },
  {
   "cell_type": "code",
   "execution_count": 2,
   "metadata": {
    "ExecuteTime": {
     "end_time": "2018-07-31T07:53:16.970611Z",
     "start_time": "2018-07-31T07:52:51.054841Z"
    }
   },
   "outputs": [
    {
     "name": "stdout",
     "output_type": "stream",
     "text": [
      "The memory_profiler extension is already loaded. To reload it, use:\n",
      "  %reload_ext memory_profiler\n"
     ]
    }
   ],
   "source": [
    "# import packages \n",
    "import tensorflow as tf\n",
    "import pandas as pd  \n",
    "import numpy as np \n",
    "import gzip\n",
    "from keras.models import Sequential\n",
    "from keras.layers import LSTM, GRU, Dense, Activation, Dropout, Input, Embedding, Bidirectional, Reshape, Flatten, Conv1D, MaxPooling1D, MaxPool1D, GlobalMaxPool1D, SpatialDropout1D\n",
    "from keras.preprocessing import text, sequence\n",
    "from keras import utils\n",
    "from keras import callbacks\n",
    "from keras import optimizers, models\n",
    "from sklearn import model_selection, preprocessing, metrics\n",
    "from keras.utils import to_categorical\n",
    "import matplotlib.pyplot as plt\n",
    "import zipfile\n",
    "import keras_metrics\n",
    "\n",
    "import nltk\n",
    "import re\n",
    "\n",
    "import warnings\n",
    "warnings.filterwarnings('ignore')\n",
    "\n",
    "%matplotlib inline\n",
    "%load_ext memory_profiler"
   ]
  },
  {
   "cell_type": "markdown",
   "metadata": {},
   "source": [
    "### Loading the Data"
   ]
  },
  {
   "cell_type": "markdown",
   "metadata": {},
   "source": [
    "Dataset: \n",
    "\n",
    "https://www.google.com/googlebooks/uspto-patents-grants-text.html#2015\n",
    "\n",
    "The parsing and preprocessing of the patent files can be found here: \n",
    "\n",
    "https://github.com/cpapadimitriou/W266-Final-Project/blob/master/preparation/parse_xml.py"
   ]
  },
  {
   "cell_type": "code",
   "execution_count": 3,
   "metadata": {
    "ExecuteTime": {
     "end_time": "2018-07-31T08:44:20.369588Z",
     "start_time": "2018-07-31T08:43:41.438721Z"
    }
   },
   "outputs": [],
   "source": [
    "# load data \n",
    "\n",
    "# features \n",
    "current_dir = %pwd\n",
    "abstract = pd.read_table(current_dir+'/out_zipped/docNumberToAbsText.txt.gz',compression='gzip', header=None)\n",
    "abstract = abstract[0].str.split('|', expand=True).rename(columns={0:'doc_num',1:'abstract'})\n",
    "\n",
    "claim = pd.read_table(current_dir+'/out_zipped/docNumberToClaimText.txt.gz',compression='gzip',  header=None)\n",
    "claim = claim[0].str.split('|', expand=True).rename(columns={0:'doc_num',1:'claim'})\n",
    "\n",
    "desc = pd.read_table(current_dir+'/out_zipped/docNumberToDescText.txt.gz',compression='gzip', header=None)\n",
    "desc = desc[0].str.split('|', expand=True).rename(columns={0:'doc_num',1:'desc'})\n",
    "\n",
    "title = pd.read_table(current_dir+'/out_zipped/docNumberToInvTitle.txt.gz',compression='gzip', header=None)\n",
    "title = title[0].str.split('|', expand=True).rename(columns={0:'doc_num',1:'title'})\n",
    "\n",
    "# file_name = pd.read_table(current_dir+'/out_zipped/fileNameToDocNumber.txt.gz',compression='gzip', header=None)\n",
    "# file_name = file_name[0].str.split('|', expand=True).rename(columns={0:'file_name',1:'doc_num'})"
   ]
  },
  {
   "cell_type": "code",
   "execution_count": 4,
   "metadata": {
    "ExecuteTime": {
     "end_time": "2018-07-31T08:45:19.685079Z",
     "start_time": "2018-07-31T08:45:19.377164Z"
    }
   },
   "outputs": [],
   "source": [
    "# labels \n",
    "# label_names = pd.read_table(current_dir+'/out_zipped/docNumberToLabelSubClass.txt.gz',compression='gzip', header=None)\n",
    "# label_names = labels[0].str.split('|', expand=True).rename(columns={0:'doc_num'})\n",
    "\n",
    "labels = pd.read_table(current_dir+'/out_zipped/docNumberToLabelSubClassCode.txt.gz',compression='gzip', header=None)\n",
    "labels = labels[0].str.split('|', expand=True).rename(columns={0:'doc_num'})"
   ]
  },
  {
   "cell_type": "markdown",
   "metadata": {},
   "source": [
    "### Data Preparation"
   ]
  },
  {
   "cell_type": "code",
   "execution_count": 5,
   "metadata": {
    "ExecuteTime": {
     "end_time": "2018-07-31T08:45:24.760483Z",
     "start_time": "2018-07-31T08:45:24.483901Z"
    }
   },
   "outputs": [
    {
     "name": "stdout",
     "output_type": "stream",
     "text": [
      "(78372, 4)\n",
      "(78372, 8)\n"
     ]
    }
   ],
   "source": [
    "# joining the datasets\n",
    "X = pd.concat([title.set_index('doc_num'), \n",
    "           abstract.set_index('doc_num'), \n",
    "           claim.set_index('doc_num'), \n",
    "           desc.set_index('doc_num')], axis=1).sort_index() #  join='inner'\n",
    "\n",
    "Y = labels.set_index('doc_num').sort_index() #.set_index(X.index) # fixing the index mismatch\n",
    "Y.columns=[\"label{}\".format(i) for i in range(1,9)] # renaming columns \n",
    "\n",
    "print(X.shape)\n",
    "print(Y.shape)"
   ]
  },
  {
   "cell_type": "code",
   "execution_count": 6,
   "metadata": {
    "ExecuteTime": {
     "end_time": "2018-07-31T07:53:47.730733Z",
     "start_time": "2018-07-31T07:53:47.703285Z"
    }
   },
   "outputs": [
    {
     "data": {
      "text/html": [
       "<div>\n",
       "<style scoped>\n",
       "    .dataframe tbody tr th:only-of-type {\n",
       "        vertical-align: middle;\n",
       "    }\n",
       "\n",
       "    .dataframe tbody tr th {\n",
       "        vertical-align: top;\n",
       "    }\n",
       "\n",
       "    .dataframe thead th {\n",
       "        text-align: right;\n",
       "    }\n",
       "</style>\n",
       "<table border=\"1\" class=\"dataframe\">\n",
       "  <thead>\n",
       "    <tr style=\"text-align: right;\">\n",
       "      <th></th>\n",
       "      <th>title</th>\n",
       "      <th>abstract</th>\n",
       "      <th>claim</th>\n",
       "      <th>desc</th>\n",
       "    </tr>\n",
       "    <tr>\n",
       "      <th>doc_num</th>\n",
       "      <th></th>\n",
       "      <th></th>\n",
       "      <th></th>\n",
       "      <th></th>\n",
       "    </tr>\n",
       "  </thead>\n",
       "  <tbody>\n",
       "    <tr>\n",
       "      <th>0000001</th>\n",
       "      <td>INTEGRAL MULTIFUNCTIONAL SYSTEM FOR MOTOR VEHICLE</td>\n",
       "      <td>The system finds application with the motor ve...</td>\n",
       "      <td>CLAIMS 1. Integral multifunctional system for ...</td>\n",
       "      <td>INTEGRAL MULTIFUNCTIONAL SYSTEM FOR MOTOR VEHI...</td>\n",
       "    </tr>\n",
       "    <tr>\n",
       "      <th>0000002</th>\n",
       "      <td>TURBINE DRIVEN WITH A FLUID MEDIUM</td>\n",
       "      <td>Turbine driven by a flowing medium to generate...</td>\n",
       "      <td>Claims 1. Turbine driven by a flowing medium t...</td>\n",
       "      <td>TURBINE DRIVEN WITH A FLUID MEDIUM. Technical ...</td>\n",
       "    </tr>\n",
       "    <tr>\n",
       "      <th>0000003</th>\n",
       "      <td>METHOD TO REMOVE LEAKAGE PROBLEMS IN PIPES PRO...</td>\n",
       "      <td>Method to remove leakage problems in pipes pro...</td>\n",
       "      <td>CLAIMS Claim 1 ) A new method in which choke a...</td>\n",
       "      <td>SPECIFICATION METHOD TO REMOVE LEAKAGE PROBLEM...</td>\n",
       "    </tr>\n",
       "    <tr>\n",
       "      <th>0000004</th>\n",
       "      <td>PRESSURE RELEASE VALVE</td>\n",
       "      <td>A pressure release valve is disclosed ideally ...</td>\n",
       "      <td>CLAIMS 1. A pressure release valve comprising ...</td>\n",
       "      <td>Pressure Release Valve This invention relates ...</td>\n",
       "    </tr>\n",
       "    <tr>\n",
       "      <th>0000005</th>\n",
       "      <td>ROLL-OVER MECHANISM FOR A PRESSURE RELEASE VALVE</td>\n",
       "      <td>A rollover mechanism for a pressure valve is d...</td>\n",
       "      <td>CLAIMS 1. A roll-over mechanism for a valve, s...</td>\n",
       "      <td>Roll-over mechanism for a pressure release val...</td>\n",
       "    </tr>\n",
       "  </tbody>\n",
       "</table>\n",
       "</div>"
      ],
      "text/plain": [
       "                                                     title  \\\n",
       "doc_num                                                      \n",
       "0000001  INTEGRAL MULTIFUNCTIONAL SYSTEM FOR MOTOR VEHICLE   \n",
       "0000002                 TURBINE DRIVEN WITH A FLUID MEDIUM   \n",
       "0000003  METHOD TO REMOVE LEAKAGE PROBLEMS IN PIPES PRO...   \n",
       "0000004                             PRESSURE RELEASE VALVE   \n",
       "0000005   ROLL-OVER MECHANISM FOR A PRESSURE RELEASE VALVE   \n",
       "\n",
       "                                                  abstract  \\\n",
       "doc_num                                                      \n",
       "0000001  The system finds application with the motor ve...   \n",
       "0000002  Turbine driven by a flowing medium to generate...   \n",
       "0000003  Method to remove leakage problems in pipes pro...   \n",
       "0000004  A pressure release valve is disclosed ideally ...   \n",
       "0000005  A rollover mechanism for a pressure valve is d...   \n",
       "\n",
       "                                                     claim  \\\n",
       "doc_num                                                      \n",
       "0000001  CLAIMS 1. Integral multifunctional system for ...   \n",
       "0000002  Claims 1. Turbine driven by a flowing medium t...   \n",
       "0000003  CLAIMS Claim 1 ) A new method in which choke a...   \n",
       "0000004  CLAIMS 1. A pressure release valve comprising ...   \n",
       "0000005  CLAIMS 1. A roll-over mechanism for a valve, s...   \n",
       "\n",
       "                                                      desc  \n",
       "doc_num                                                     \n",
       "0000001  INTEGRAL MULTIFUNCTIONAL SYSTEM FOR MOTOR VEHI...  \n",
       "0000002  TURBINE DRIVEN WITH A FLUID MEDIUM. Technical ...  \n",
       "0000003  SPECIFICATION METHOD TO REMOVE LEAKAGE PROBLEM...  \n",
       "0000004  Pressure Release Valve This invention relates ...  \n",
       "0000005  Roll-over mechanism for a pressure release val...  "
      ]
     },
     "execution_count": 6,
     "metadata": {},
     "output_type": "execute_result"
    }
   ],
   "source": [
    "X.head()"
   ]
  },
  {
   "cell_type": "code",
   "execution_count": 7,
   "metadata": {
    "ExecuteTime": {
     "end_time": "2018-07-31T07:53:47.754717Z",
     "start_time": "2018-07-31T07:53:47.732575Z"
    }
   },
   "outputs": [
    {
     "data": {
      "text/html": [
       "<div>\n",
       "<style scoped>\n",
       "    .dataframe tbody tr th:only-of-type {\n",
       "        vertical-align: middle;\n",
       "    }\n",
       "\n",
       "    .dataframe tbody tr th {\n",
       "        vertical-align: top;\n",
       "    }\n",
       "\n",
       "    .dataframe thead th {\n",
       "        text-align: right;\n",
       "    }\n",
       "</style>\n",
       "<table border=\"1\" class=\"dataframe\">\n",
       "  <thead>\n",
       "    <tr style=\"text-align: right;\">\n",
       "      <th></th>\n",
       "      <th>label1</th>\n",
       "      <th>label2</th>\n",
       "      <th>label3</th>\n",
       "      <th>label4</th>\n",
       "      <th>label5</th>\n",
       "      <th>label6</th>\n",
       "      <th>label7</th>\n",
       "      <th>label8</th>\n",
       "    </tr>\n",
       "    <tr>\n",
       "      <th>doc_num</th>\n",
       "      <th></th>\n",
       "      <th></th>\n",
       "      <th></th>\n",
       "      <th></th>\n",
       "      <th></th>\n",
       "      <th></th>\n",
       "      <th></th>\n",
       "      <th></th>\n",
       "    </tr>\n",
       "  </thead>\n",
       "  <tbody>\n",
       "    <tr>\n",
       "      <th>0000001</th>\n",
       "      <td>F02B</td>\n",
       "      <td>None</td>\n",
       "      <td>None</td>\n",
       "      <td>None</td>\n",
       "      <td>None</td>\n",
       "      <td>None</td>\n",
       "      <td>None</td>\n",
       "      <td>None</td>\n",
       "    </tr>\n",
       "    <tr>\n",
       "      <th>0000002</th>\n",
       "      <td>F03D</td>\n",
       "      <td>F03B</td>\n",
       "      <td>None</td>\n",
       "      <td>None</td>\n",
       "      <td>None</td>\n",
       "      <td>None</td>\n",
       "      <td>None</td>\n",
       "      <td>None</td>\n",
       "    </tr>\n",
       "    <tr>\n",
       "      <th>0000003</th>\n",
       "      <td>F16L</td>\n",
       "      <td>None</td>\n",
       "      <td>None</td>\n",
       "      <td>None</td>\n",
       "      <td>None</td>\n",
       "      <td>None</td>\n",
       "      <td>None</td>\n",
       "      <td>None</td>\n",
       "    </tr>\n",
       "    <tr>\n",
       "      <th>0000004</th>\n",
       "      <td>F16K</td>\n",
       "      <td>None</td>\n",
       "      <td>None</td>\n",
       "      <td>None</td>\n",
       "      <td>None</td>\n",
       "      <td>None</td>\n",
       "      <td>None</td>\n",
       "      <td>None</td>\n",
       "    </tr>\n",
       "    <tr>\n",
       "      <th>0000005</th>\n",
       "      <td>F16K</td>\n",
       "      <td>None</td>\n",
       "      <td>None</td>\n",
       "      <td>None</td>\n",
       "      <td>None</td>\n",
       "      <td>None</td>\n",
       "      <td>None</td>\n",
       "      <td>None</td>\n",
       "    </tr>\n",
       "  </tbody>\n",
       "</table>\n",
       "</div>"
      ],
      "text/plain": [
       "        label1 label2 label3 label4 label5 label6 label7 label8\n",
       "doc_num                                                        \n",
       "0000001   F02B   None   None   None   None   None   None   None\n",
       "0000002   F03D   F03B   None   None   None   None   None   None\n",
       "0000003   F16L   None   None   None   None   None   None   None\n",
       "0000004   F16K   None   None   None   None   None   None   None\n",
       "0000005   F16K   None   None   None   None   None   None   None"
      ]
     },
     "execution_count": 7,
     "metadata": {},
     "output_type": "execute_result"
    }
   ],
   "source": [
    "Y.head()"
   ]
  },
  {
   "cell_type": "code",
   "execution_count": 7,
   "metadata": {
    "ExecuteTime": {
     "end_time": "2018-07-31T08:45:39.260209Z",
     "start_time": "2018-07-31T08:45:30.465906Z"
    }
   },
   "outputs": [
    {
     "name": "stdout",
     "output_type": "stream",
     "text": [
      "0 documents with null title\n",
      "0 documents with null claims\n",
      "0 documents with null abstract\n",
      "0 documents with null description\n"
     ]
    }
   ],
   "source": [
    "# data cleaning \n",
    "assert Y['label1'].isnull().sum() == 0 # there is no document with \n",
    "\n",
    "print(\"{} documents with null title\".format(X['title'].isnull().sum()))\n",
    "print(\"{} documents with null claims\".format(X['claim'].isnull().sum()))\n",
    "print(\"{} documents with null abstract\".format(X['abstract'].isnull().sum()))\n",
    "print(\"{} documents with null description\".format(X['desc'].isnull().sum()))\n",
    "\n",
    "# remove documents with null sections (title and abstract)\n",
    "X_clean = X.dropna(how='any')\n",
    "null_idx = X[~X.index.isin(X_clean.index)].index # storing the removed indices (i.e. document numbers)\n",
    "assert X.shape[0] - null_idx.shape[0] == X_clean.shape[0] # making sure the row counts match\n",
    "\n",
    "# removing the documents with null sections from the labels as well \n",
    "Y_clean = Y.loc[X_clean.index]\n",
    "\n",
    "# some checks\n",
    "assert X_clean.shape[0] == Y_clean.shape[0]\n",
    "assert ((Y_clean.index == X_clean.index)*1).sum() == X_clean.shape[0]\n",
    "\n",
    "# lower-casing everything\n",
    "X_clean = X_clean.apply(lambda x: x.str.lower())\n",
    "Y_clean = Y_clean.apply(lambda x: x.str.lower())"
   ]
  },
  {
   "cell_type": "code",
   "execution_count": 8,
   "metadata": {
    "ExecuteTime": {
     "end_time": "2018-07-31T08:45:40.290069Z",
     "start_time": "2018-07-31T08:45:40.287155Z"
    }
   },
   "outputs": [
    {
     "name": "stdout",
     "output_type": "stream",
     "text": [
      "(78372, 4)\n",
      "(78372, 8)\n"
     ]
    }
   ],
   "source": [
    "print(X_clean.shape)\n",
    "print(Y_clean.shape)"
   ]
  },
  {
   "cell_type": "code",
   "execution_count": 9,
   "metadata": {
    "ExecuteTime": {
     "end_time": "2018-07-31T07:53:54.685593Z",
     "start_time": "2018-07-31T07:53:54.660732Z"
    }
   },
   "outputs": [
    {
     "data": {
      "text/html": [
       "<div>\n",
       "<style scoped>\n",
       "    .dataframe tbody tr th:only-of-type {\n",
       "        vertical-align: middle;\n",
       "    }\n",
       "\n",
       "    .dataframe tbody tr th {\n",
       "        vertical-align: top;\n",
       "    }\n",
       "\n",
       "    .dataframe thead th {\n",
       "        text-align: right;\n",
       "    }\n",
       "</style>\n",
       "<table border=\"1\" class=\"dataframe\">\n",
       "  <thead>\n",
       "    <tr style=\"text-align: right;\">\n",
       "      <th></th>\n",
       "      <th>title</th>\n",
       "      <th>abstract</th>\n",
       "      <th>claim</th>\n",
       "      <th>desc</th>\n",
       "    </tr>\n",
       "    <tr>\n",
       "      <th>doc_num</th>\n",
       "      <th></th>\n",
       "      <th></th>\n",
       "      <th></th>\n",
       "      <th></th>\n",
       "    </tr>\n",
       "  </thead>\n",
       "  <tbody>\n",
       "    <tr>\n",
       "      <th>0000001</th>\n",
       "      <td>integral multifunctional system for motor vehicle</td>\n",
       "      <td>the system finds application with the motor ve...</td>\n",
       "      <td>claims 1. integral multifunctional system for ...</td>\n",
       "      <td>integral multifunctional system for motor vehi...</td>\n",
       "    </tr>\n",
       "    <tr>\n",
       "      <th>0000002</th>\n",
       "      <td>turbine driven with a fluid medium</td>\n",
       "      <td>turbine driven by a flowing medium to generate...</td>\n",
       "      <td>claims 1. turbine driven by a flowing medium t...</td>\n",
       "      <td>turbine driven with a fluid medium. technical ...</td>\n",
       "    </tr>\n",
       "    <tr>\n",
       "      <th>0000003</th>\n",
       "      <td>method to remove leakage problems in pipes pro...</td>\n",
       "      <td>method to remove leakage problems in pipes pro...</td>\n",
       "      <td>claims claim 1 ) a new method in which choke a...</td>\n",
       "      <td>specification method to remove leakage problem...</td>\n",
       "    </tr>\n",
       "    <tr>\n",
       "      <th>0000004</th>\n",
       "      <td>pressure release valve</td>\n",
       "      <td>a pressure release valve is disclosed ideally ...</td>\n",
       "      <td>claims 1. a pressure release valve comprising ...</td>\n",
       "      <td>pressure release valve this invention relates ...</td>\n",
       "    </tr>\n",
       "    <tr>\n",
       "      <th>0000005</th>\n",
       "      <td>roll-over mechanism for a pressure release valve</td>\n",
       "      <td>a rollover mechanism for a pressure valve is d...</td>\n",
       "      <td>claims 1. a roll-over mechanism for a valve, s...</td>\n",
       "      <td>roll-over mechanism for a pressure release val...</td>\n",
       "    </tr>\n",
       "  </tbody>\n",
       "</table>\n",
       "</div>"
      ],
      "text/plain": [
       "                                                     title  \\\n",
       "doc_num                                                      \n",
       "0000001  integral multifunctional system for motor vehicle   \n",
       "0000002                 turbine driven with a fluid medium   \n",
       "0000003  method to remove leakage problems in pipes pro...   \n",
       "0000004                             pressure release valve   \n",
       "0000005   roll-over mechanism for a pressure release valve   \n",
       "\n",
       "                                                  abstract  \\\n",
       "doc_num                                                      \n",
       "0000001  the system finds application with the motor ve...   \n",
       "0000002  turbine driven by a flowing medium to generate...   \n",
       "0000003  method to remove leakage problems in pipes pro...   \n",
       "0000004  a pressure release valve is disclosed ideally ...   \n",
       "0000005  a rollover mechanism for a pressure valve is d...   \n",
       "\n",
       "                                                     claim  \\\n",
       "doc_num                                                      \n",
       "0000001  claims 1. integral multifunctional system for ...   \n",
       "0000002  claims 1. turbine driven by a flowing medium t...   \n",
       "0000003  claims claim 1 ) a new method in which choke a...   \n",
       "0000004  claims 1. a pressure release valve comprising ...   \n",
       "0000005  claims 1. a roll-over mechanism for a valve, s...   \n",
       "\n",
       "                                                      desc  \n",
       "doc_num                                                     \n",
       "0000001  integral multifunctional system for motor vehi...  \n",
       "0000002  turbine driven with a fluid medium. technical ...  \n",
       "0000003  specification method to remove leakage problem...  \n",
       "0000004  pressure release valve this invention relates ...  \n",
       "0000005  roll-over mechanism for a pressure release val...  "
      ]
     },
     "execution_count": 9,
     "metadata": {},
     "output_type": "execute_result"
    }
   ],
   "source": [
    "X_clean.head()"
   ]
  },
  {
   "cell_type": "code",
   "execution_count": 10,
   "metadata": {
    "ExecuteTime": {
     "end_time": "2018-07-31T07:53:54.710387Z",
     "start_time": "2018-07-31T07:53:54.687511Z"
    }
   },
   "outputs": [
    {
     "data": {
      "text/html": [
       "<div>\n",
       "<style scoped>\n",
       "    .dataframe tbody tr th:only-of-type {\n",
       "        vertical-align: middle;\n",
       "    }\n",
       "\n",
       "    .dataframe tbody tr th {\n",
       "        vertical-align: top;\n",
       "    }\n",
       "\n",
       "    .dataframe thead th {\n",
       "        text-align: right;\n",
       "    }\n",
       "</style>\n",
       "<table border=\"1\" class=\"dataframe\">\n",
       "  <thead>\n",
       "    <tr style=\"text-align: right;\">\n",
       "      <th></th>\n",
       "      <th>label1</th>\n",
       "      <th>label2</th>\n",
       "      <th>label3</th>\n",
       "      <th>label4</th>\n",
       "      <th>label5</th>\n",
       "      <th>label6</th>\n",
       "      <th>label7</th>\n",
       "      <th>label8</th>\n",
       "    </tr>\n",
       "    <tr>\n",
       "      <th>doc_num</th>\n",
       "      <th></th>\n",
       "      <th></th>\n",
       "      <th></th>\n",
       "      <th></th>\n",
       "      <th></th>\n",
       "      <th></th>\n",
       "      <th></th>\n",
       "      <th></th>\n",
       "    </tr>\n",
       "  </thead>\n",
       "  <tbody>\n",
       "    <tr>\n",
       "      <th>0000001</th>\n",
       "      <td>f02b</td>\n",
       "      <td>None</td>\n",
       "      <td>None</td>\n",
       "      <td>None</td>\n",
       "      <td>None</td>\n",
       "      <td>None</td>\n",
       "      <td>None</td>\n",
       "      <td>None</td>\n",
       "    </tr>\n",
       "    <tr>\n",
       "      <th>0000002</th>\n",
       "      <td>f03d</td>\n",
       "      <td>f03b</td>\n",
       "      <td>None</td>\n",
       "      <td>None</td>\n",
       "      <td>None</td>\n",
       "      <td>None</td>\n",
       "      <td>None</td>\n",
       "      <td>None</td>\n",
       "    </tr>\n",
       "    <tr>\n",
       "      <th>0000003</th>\n",
       "      <td>f16l</td>\n",
       "      <td>None</td>\n",
       "      <td>None</td>\n",
       "      <td>None</td>\n",
       "      <td>None</td>\n",
       "      <td>None</td>\n",
       "      <td>None</td>\n",
       "      <td>None</td>\n",
       "    </tr>\n",
       "    <tr>\n",
       "      <th>0000004</th>\n",
       "      <td>f16k</td>\n",
       "      <td>None</td>\n",
       "      <td>None</td>\n",
       "      <td>None</td>\n",
       "      <td>None</td>\n",
       "      <td>None</td>\n",
       "      <td>None</td>\n",
       "      <td>None</td>\n",
       "    </tr>\n",
       "    <tr>\n",
       "      <th>0000005</th>\n",
       "      <td>f16k</td>\n",
       "      <td>None</td>\n",
       "      <td>None</td>\n",
       "      <td>None</td>\n",
       "      <td>None</td>\n",
       "      <td>None</td>\n",
       "      <td>None</td>\n",
       "      <td>None</td>\n",
       "    </tr>\n",
       "  </tbody>\n",
       "</table>\n",
       "</div>"
      ],
      "text/plain": [
       "        label1 label2 label3 label4 label5 label6 label7 label8\n",
       "doc_num                                                        \n",
       "0000001   f02b   None   None   None   None   None   None   None\n",
       "0000002   f03d   f03b   None   None   None   None   None   None\n",
       "0000003   f16l   None   None   None   None   None   None   None\n",
       "0000004   f16k   None   None   None   None   None   None   None\n",
       "0000005   f16k   None   None   None   None   None   None   None"
      ]
     },
     "execution_count": 10,
     "metadata": {},
     "output_type": "execute_result"
    }
   ],
   "source": [
    "Y_clean.head()"
   ]
  },
  {
   "cell_type": "code",
   "execution_count": 11,
   "metadata": {
    "ExecuteTime": {
     "end_time": "2018-07-31T08:45:49.668809Z",
     "start_time": "2018-07-31T08:45:46.504307Z"
    }
   },
   "outputs": [],
   "source": [
    "# Creating dataset \n",
    "data = pd.DataFrame()\n",
    "\n",
    "# concat the text of all patent sections and join the labels\n",
    "data['full_text'] = X_clean['title'] + \" \" + X_clean['claim'] + \" \" + X_clean['abstract'] + \" \" + X_clean['desc']\n",
    "\n",
    "# using only the first label  \n",
    "data['label1'] = Y_clean['label1'] \n",
    "\n",
    "# using all labels, merging them in a list and removing None values\n",
    "data['labels'] = Y_clean.values.tolist()\n",
    "data['labels'] = data['labels'].apply(lambda x: list(filter(None, x)))"
   ]
  },
  {
   "cell_type": "code",
   "execution_count": 12,
   "metadata": {
    "ExecuteTime": {
     "end_time": "2018-07-31T07:53:58.998564Z",
     "start_time": "2018-07-31T07:53:58.987926Z"
    },
    "scrolled": true
   },
   "outputs": [
    {
     "data": {
      "text/html": [
       "<div>\n",
       "<style scoped>\n",
       "    .dataframe tbody tr th:only-of-type {\n",
       "        vertical-align: middle;\n",
       "    }\n",
       "\n",
       "    .dataframe tbody tr th {\n",
       "        vertical-align: top;\n",
       "    }\n",
       "\n",
       "    .dataframe thead th {\n",
       "        text-align: right;\n",
       "    }\n",
       "</style>\n",
       "<table border=\"1\" class=\"dataframe\">\n",
       "  <thead>\n",
       "    <tr style=\"text-align: right;\">\n",
       "      <th></th>\n",
       "      <th>full_text</th>\n",
       "      <th>label1</th>\n",
       "      <th>labels</th>\n",
       "    </tr>\n",
       "    <tr>\n",
       "      <th>doc_num</th>\n",
       "      <th></th>\n",
       "      <th></th>\n",
       "      <th></th>\n",
       "    </tr>\n",
       "  </thead>\n",
       "  <tbody>\n",
       "    <tr>\n",
       "      <th>0000001</th>\n",
       "      <td>integral multifunctional system for motor vehi...</td>\n",
       "      <td>f02b</td>\n",
       "      <td>[f02b]</td>\n",
       "    </tr>\n",
       "    <tr>\n",
       "      <th>0000002</th>\n",
       "      <td>turbine driven with a fluid medium claims 1. t...</td>\n",
       "      <td>f03d</td>\n",
       "      <td>[f03d, f03b]</td>\n",
       "    </tr>\n",
       "    <tr>\n",
       "      <th>0000003</th>\n",
       "      <td>method to remove leakage problems in pipes pro...</td>\n",
       "      <td>f16l</td>\n",
       "      <td>[f16l]</td>\n",
       "    </tr>\n",
       "    <tr>\n",
       "      <th>0000004</th>\n",
       "      <td>pressure release valve claims 1. a pressure re...</td>\n",
       "      <td>f16k</td>\n",
       "      <td>[f16k]</td>\n",
       "    </tr>\n",
       "    <tr>\n",
       "      <th>0000005</th>\n",
       "      <td>roll-over mechanism for a pressure release val...</td>\n",
       "      <td>f16k</td>\n",
       "      <td>[f16k]</td>\n",
       "    </tr>\n",
       "  </tbody>\n",
       "</table>\n",
       "</div>"
      ],
      "text/plain": [
       "                                                 full_text label1  \\\n",
       "doc_num                                                             \n",
       "0000001  integral multifunctional system for motor vehi...   f02b   \n",
       "0000002  turbine driven with a fluid medium claims 1. t...   f03d   \n",
       "0000003  method to remove leakage problems in pipes pro...   f16l   \n",
       "0000004  pressure release valve claims 1. a pressure re...   f16k   \n",
       "0000005  roll-over mechanism for a pressure release val...   f16k   \n",
       "\n",
       "               labels  \n",
       "doc_num                \n",
       "0000001        [f02b]  \n",
       "0000002  [f03d, f03b]  \n",
       "0000003        [f16l]  \n",
       "0000004        [f16k]  \n",
       "0000005        [f16k]  "
      ]
     },
     "execution_count": 12,
     "metadata": {},
     "output_type": "execute_result"
    }
   ],
   "source": [
    "data.head()"
   ]
  },
  {
   "cell_type": "code",
   "execution_count": 14,
   "metadata": {
    "ExecuteTime": {
     "end_time": "2018-07-31T08:47:07.142233Z",
     "start_time": "2018-07-31T08:45:55.942110Z"
    }
   },
   "outputs": [
    {
     "data": {
      "image/png": "[encoded data removed]",
      "text/plain": [
       "<matplotlib.figure.Figure at 0x7efc436b9ba8>"
      ]
     },
     "metadata": {},
     "output_type": "display_data"
    }
   ],
   "source": [
    "# histogram of document length \n",
    "doc_lenghts = data.full_text.str.split().apply(lambda x: len(x))\n",
    "plt.figure(figsize=(12,5))\n",
    "plt.hist(doc_lenghts, bins=100)\n",
    "plt.xlim((0,40000))\n",
    "plt.xlabel('Document Length')\n",
    "plt.ylabel('Frequency')\n",
    "plt.show()"
   ]
  },
  {
   "cell_type": "code",
   "execution_count": null,
   "metadata": {
    "ExecuteTime": {
     "end_time": "2018-07-31T08:48:17.904946Z",
     "start_time": "2018-07-31T08:48:17.713245Z"
    }
   },
   "outputs": [],
   "source": [
    "# Bokeh for plotting.\n",
    "import bokeh.plotting as bp\n",
    "from bokeh.models import HoverTool\n",
    "bp.output_notebook()\n",
    "\n",
    "# Helper code for plotting histograms\n",
    "def plot_length_histogram(lengths, x_range=[0,40000], bins=40, normed=False):\n",
    "    hist, bin_edges = np.histogram(a=lengths, bins=bins, normed=normed, range=x_range)\n",
    "    bin_centers = (bin_edges[1:] + bin_edges[:-1])/2\n",
    "    bin_widths =  (bin_edges[1:] - bin_edges[:-1])\n",
    "\n",
    "    hover = HoverTool(tooltips=[(\"bucket\", \"@x\"), (\"count\", \"@top\")], mode=\"vline\")\n",
    "    fig = bp.figure(plot_width=800, plot_height=400, tools=[hover])\n",
    "    fig.vbar(x=bin_centers, width=bin_widths, top=hist, hover_fill_color=\"firebrick\")\n",
    "    fig.y_range.start = 0\n",
    "    fig.x_range.start = 0\n",
    "    fig.xaxis.axis_label = \"Document Length\"\n",
    "    fig.yaxis.axis_label = \"Frequency\"\n",
    "    bp.output_file(\"hist.html\")\n",
    "    bp.show(fig)\n",
    "    \n",
    "plot_length_histogram(doc_lenghts)"
   ]
  },
  {
   "cell_type": "code",
   "execution_count": 16,
   "metadata": {
    "ExecuteTime": {
     "end_time": "2018-07-31T08:55:01.216991Z",
     "start_time": "2018-07-31T08:55:01.208397Z"
    }
   },
   "outputs": [
    {
     "name": "stdout",
     "output_type": "stream",
     "text": [
      "Average document length: 4433 words\n",
      "Median document length: 3488.0 words\n",
      "Max document length: 174233 words\n",
      "Min document length: 48 words\n"
     ]
    }
   ],
   "source": [
    "# examing the document length \n",
    "print(\"Average document length: {} words\".format(round(np.mean(doc_lenghts))))\n",
    "print(\"Median document length: {} words\".format(round(np.median(doc_lenghts))))\n",
    "print(\"Max document length: {} words\".format(round(np.max(doc_lenghts))))\n",
    "print(\"Min document length: {} words\".format(round(np.min(doc_lenghts))))"
   ]
  },
  {
   "cell_type": "code",
   "execution_count": 17,
   "metadata": {
    "ExecuteTime": {
     "end_time": "2018-07-31T08:56:52.213867Z",
     "start_time": "2018-07-31T08:56:52.182857Z"
    }
   },
   "outputs": [
    {
     "name": "stdout",
     "output_type": "stream",
     "text": [
      "Avg. number of labels in dataset: 1.394949726943296\n"
     ]
    }
   ],
   "source": [
    "# average number of labels per document \n",
    "print(\"Avg. number of labels in dataset: {}\".format(data['labels'].apply(lambda x: len(x)).mean()))"
   ]
  },
  {
   "cell_type": "markdown",
   "metadata": {},
   "source": [
    "#### Note: we remove documents with less than 200 words"
   ]
  },
  {
   "cell_type": "code",
   "execution_count": 18,
   "metadata": {},
   "outputs": [],
   "source": [
    "# filtering out documents with fewer words \n",
    "data[\"doc_lenghts\"] = data.full_text.str.split().apply(lambda x: len(x))"
   ]
  },
  {
   "cell_type": "code",
   "execution_count": 19,
   "metadata": {},
   "outputs": [],
   "source": [
    "# data[data[\"doc_lenghts\"]<200].shape"
   ]
  },
  {
   "cell_type": "code",
   "execution_count": 20,
   "metadata": {},
   "outputs": [
    {
     "data": {
      "text/plain": [
       "(78372, 4)"
      ]
     },
     "execution_count": 20,
     "metadata": {},
     "output_type": "execute_result"
    }
   ],
   "source": [
    "data.shape"
   ]
  },
  {
   "cell_type": "code",
   "execution_count": 21,
   "metadata": {},
   "outputs": [],
   "source": [
    "data = data[data[\"doc_lenghts\"]>200]"
   ]
  },
  {
   "cell_type": "code",
   "execution_count": 22,
   "metadata": {},
   "outputs": [
    {
     "data": {
      "text/plain": [
       "(78172, 4)"
      ]
     },
     "execution_count": 22,
     "metadata": {},
     "output_type": "execute_result"
    }
   ],
   "source": [
    "data.shape"
   ]
  },
  {
   "cell_type": "markdown",
   "metadata": {},
   "source": [
    "### Encoding Labels with MultiLabelBinarizer"
   ]
  },
  {
   "cell_type": "code",
   "execution_count": 27,
   "metadata": {
    "ExecuteTime": {
     "end_time": "2018-07-31T07:54:38.796900Z",
     "start_time": "2018-07-31T07:54:38.782931Z"
    },
    "scrolled": true
   },
   "outputs": [
    {
     "data": {
      "text/plain": [
       "doc_num\n",
       "0000001          [f02b]\n",
       "0000002    [f03d, f03b]\n",
       "0000003          [f16l]\n",
       "0000004          [f16k]\n",
       "0000005          [f16k]\n",
       "Name: labels, dtype: object"
      ]
     },
     "execution_count": 27,
     "metadata": {},
     "output_type": "execute_result"
    }
   ],
   "source": [
    "data['labels'].head()"
   ]
  },
  {
   "cell_type": "code",
   "execution_count": 28,
   "metadata": {
    "ExecuteTime": {
     "end_time": "2018-07-31T08:58:19.948400Z",
     "start_time": "2018-07-31T08:58:13.002631Z"
    }
   },
   "outputs": [],
   "source": [
    "# converting labels into a binarized matrix with the labels as columns \n",
    "# and each patent document represented in one row\n",
    "mlb = preprocessing.MultiLabelBinarizer()\n",
    "labels = mlb.fit_transform(data['labels'])\n",
    "\n",
    "# checking that the conversion worked as desired by verifying the counts of labels for each document prior and post \n",
    "assert data['labels'].apply(lambda x: len(x)).values.sum() == np.array(pd.DataFrame(labels).apply(lambda x: x.sum(),axis=1)).sum()"
   ]
  },
  {
   "cell_type": "code",
   "execution_count": 29,
   "metadata": {
    "ExecuteTime": {
     "end_time": "2018-07-31T07:54:44.699009Z",
     "start_time": "2018-07-31T07:54:44.696866Z"
    },
    "scrolled": true
   },
   "outputs": [],
   "source": [
    "# labels_df.iloc[:,[538]].sum()   #470"
   ]
  },
  {
   "cell_type": "code",
   "execution_count": 30,
   "metadata": {
    "ExecuteTime": {
     "end_time": "2018-07-31T07:54:44.731188Z",
     "start_time": "2018-07-31T07:54:44.700691Z"
    },
    "scrolled": false
   },
   "outputs": [
    {
     "data": {
      "text/html": [
       "<div>\n",
       "<style scoped>\n",
       "    .dataframe tbody tr th:only-of-type {\n",
       "        vertical-align: middle;\n",
       "    }\n",
       "\n",
       "    .dataframe tbody tr th {\n",
       "        vertical-align: top;\n",
       "    }\n",
       "\n",
       "    .dataframe thead th {\n",
       "        text-align: right;\n",
       "    }\n",
       "</style>\n",
       "<table border=\"1\" class=\"dataframe\">\n",
       "  <thead>\n",
       "    <tr style=\"text-align: right;\">\n",
       "      <th></th>\n",
       "      <th>f01b</th>\n",
       "      <th>f01c</th>\n",
       "      <th>f01d</th>\n",
       "      <th>f01k</th>\n",
       "      <th>f01l</th>\n",
       "      <th>f01m</th>\n",
       "      <th>f01n</th>\n",
       "      <th>f01p</th>\n",
       "      <th>f02b</th>\n",
       "      <th>f02c</th>\n",
       "      <th>...</th>\n",
       "      <th>f41a</th>\n",
       "      <th>f41b</th>\n",
       "      <th>f41c</th>\n",
       "      <th>f41f</th>\n",
       "      <th>f41g</th>\n",
       "      <th>f41h</th>\n",
       "      <th>f41j</th>\n",
       "      <th>f42b</th>\n",
       "      <th>f42c</th>\n",
       "      <th>f42d</th>\n",
       "    </tr>\n",
       "  </thead>\n",
       "  <tbody>\n",
       "    <tr>\n",
       "      <th>0</th>\n",
       "      <td>0</td>\n",
       "      <td>0</td>\n",
       "      <td>0</td>\n",
       "      <td>0</td>\n",
       "      <td>0</td>\n",
       "      <td>0</td>\n",
       "      <td>0</td>\n",
       "      <td>0</td>\n",
       "      <td>1</td>\n",
       "      <td>0</td>\n",
       "      <td>...</td>\n",
       "      <td>0</td>\n",
       "      <td>0</td>\n",
       "      <td>0</td>\n",
       "      <td>0</td>\n",
       "      <td>0</td>\n",
       "      <td>0</td>\n",
       "      <td>0</td>\n",
       "      <td>0</td>\n",
       "      <td>0</td>\n",
       "      <td>0</td>\n",
       "    </tr>\n",
       "    <tr>\n",
       "      <th>1</th>\n",
       "      <td>0</td>\n",
       "      <td>0</td>\n",
       "      <td>0</td>\n",
       "      <td>0</td>\n",
       "      <td>0</td>\n",
       "      <td>0</td>\n",
       "      <td>0</td>\n",
       "      <td>0</td>\n",
       "      <td>0</td>\n",
       "      <td>0</td>\n",
       "      <td>...</td>\n",
       "      <td>0</td>\n",
       "      <td>0</td>\n",
       "      <td>0</td>\n",
       "      <td>0</td>\n",
       "      <td>0</td>\n",
       "      <td>0</td>\n",
       "      <td>0</td>\n",
       "      <td>0</td>\n",
       "      <td>0</td>\n",
       "      <td>0</td>\n",
       "    </tr>\n",
       "    <tr>\n",
       "      <th>2</th>\n",
       "      <td>0</td>\n",
       "      <td>0</td>\n",
       "      <td>0</td>\n",
       "      <td>0</td>\n",
       "      <td>0</td>\n",
       "      <td>0</td>\n",
       "      <td>0</td>\n",
       "      <td>0</td>\n",
       "      <td>0</td>\n",
       "      <td>0</td>\n",
       "      <td>...</td>\n",
       "      <td>0</td>\n",
       "      <td>0</td>\n",
       "      <td>0</td>\n",
       "      <td>0</td>\n",
       "      <td>0</td>\n",
       "      <td>0</td>\n",
       "      <td>0</td>\n",
       "      <td>0</td>\n",
       "      <td>0</td>\n",
       "      <td>0</td>\n",
       "    </tr>\n",
       "    <tr>\n",
       "      <th>3</th>\n",
       "      <td>0</td>\n",
       "      <td>0</td>\n",
       "      <td>0</td>\n",
       "      <td>0</td>\n",
       "      <td>0</td>\n",
       "      <td>0</td>\n",
       "      <td>0</td>\n",
       "      <td>0</td>\n",
       "      <td>0</td>\n",
       "      <td>0</td>\n",
       "      <td>...</td>\n",
       "      <td>0</td>\n",
       "      <td>0</td>\n",
       "      <td>0</td>\n",
       "      <td>0</td>\n",
       "      <td>0</td>\n",
       "      <td>0</td>\n",
       "      <td>0</td>\n",
       "      <td>0</td>\n",
       "      <td>0</td>\n",
       "      <td>0</td>\n",
       "    </tr>\n",
       "    <tr>\n",
       "      <th>4</th>\n",
       "      <td>0</td>\n",
       "      <td>0</td>\n",
       "      <td>0</td>\n",
       "      <td>0</td>\n",
       "      <td>0</td>\n",
       "      <td>0</td>\n",
       "      <td>0</td>\n",
       "      <td>0</td>\n",
       "      <td>0</td>\n",
       "      <td>0</td>\n",
       "      <td>...</td>\n",
       "      <td>0</td>\n",
       "      <td>0</td>\n",
       "      <td>0</td>\n",
       "      <td>0</td>\n",
       "      <td>0</td>\n",
       "      <td>0</td>\n",
       "      <td>0</td>\n",
       "      <td>0</td>\n",
       "      <td>0</td>\n",
       "      <td>0</td>\n",
       "    </tr>\n",
       "  </tbody>\n",
       "</table>\n",
       "<p>5 rows × 96 columns</p>\n",
       "</div>"
      ],
      "text/plain": [
       "   f01b  f01c  f01d  f01k  f01l  f01m  f01n  f01p  f02b  f02c  ...   f41a  \\\n",
       "0     0     0     0     0     0     0     0     0     1     0  ...      0   \n",
       "1     0     0     0     0     0     0     0     0     0     0  ...      0   \n",
       "2     0     0     0     0     0     0     0     0     0     0  ...      0   \n",
       "3     0     0     0     0     0     0     0     0     0     0  ...      0   \n",
       "4     0     0     0     0     0     0     0     0     0     0  ...      0   \n",
       "\n",
       "   f41b  f41c  f41f  f41g  f41h  f41j  f42b  f42c  f42d  \n",
       "0     0     0     0     0     0     0     0     0     0  \n",
       "1     0     0     0     0     0     0     0     0     0  \n",
       "2     0     0     0     0     0     0     0     0     0  \n",
       "3     0     0     0     0     0     0     0     0     0  \n",
       "4     0     0     0     0     0     0     0     0     0  \n",
       "\n",
       "[5 rows x 96 columns]"
      ]
     },
     "execution_count": 30,
     "metadata": {},
     "output_type": "execute_result"
    }
   ],
   "source": [
    "labels_df = pd.DataFrame(labels, columns=mlb.classes_)  #.apply(lambda x: x.sum(),axis=1)\n",
    "labels_df.head()"
   ]
  },
  {
   "cell_type": "code",
   "execution_count": 31,
   "metadata": {
    "ExecuteTime": {
     "end_time": "2018-07-31T08:58:27.567411Z",
     "start_time": "2018-07-31T08:58:27.563179Z"
    }
   },
   "outputs": [
    {
     "name": "stdout",
     "output_type": "stream",
     "text": [
      "We have 96 classes\n"
     ]
    }
   ],
   "source": [
    "print(\"We have {} classes\".format(len(mlb.classes_)))\n",
    "# print(\"\")\n",
    "# for i in mlb.classes_: \n",
    "#     print(i)"
   ]
  },
  {
   "cell_type": "code",
   "execution_count": 32,
   "metadata": {
    "ExecuteTime": {
     "end_time": "2018-07-31T08:58:37.372905Z",
     "start_time": "2018-07-31T08:58:37.287211Z"
    },
    "scrolled": true
   },
   "outputs": [],
   "source": [
    "# checking how many times does each label (i.e. class) appear in the data \n",
    "# we observe that the classes are a little unbalanced \n",
    "pl = labels_df.apply(lambda x: x.sum(),axis=0).sort_values(ascending=False)  #.plot.bar()"
   ]
  },
  {
   "cell_type": "code",
   "execution_count": 33,
   "metadata": {},
   "outputs": [
    {
     "data": {
      "text/plain": [
       "f16h    6030\n",
       "f16l    5606\n",
       "f02b    5209\n",
       "f16k    4528\n",
       "f02d    4504\n",
       "f16d    4265\n",
       "f02m    4262\n",
       "f16c    3541\n",
       "f16b    3447\n",
       "f04b    3311\n",
       "dtype: int64"
      ]
     },
     "execution_count": 33,
     "metadata": {},
     "output_type": "execute_result"
    }
   ],
   "source": [
    "pl.head(10)"
   ]
  },
  {
   "cell_type": "code",
   "execution_count": 21,
   "metadata": {},
   "outputs": [
    {
     "data": {
      "text/plain": [
       "f41f    84\n",
       "f16t    77\n",
       "f22d    58\n",
       "f03h    52\n",
       "f23h    51\n",
       "f16s    47\n",
       "f22g    40\n",
       "f23b    34\n",
       "f21h     6\n",
       "f17b     6\n",
       "dtype: int64"
      ]
     },
     "execution_count": 21,
     "metadata": {},
     "output_type": "execute_result"
    }
   ],
   "source": [
    "pl.tail(10)"
   ]
  },
  {
   "cell_type": "code",
   "execution_count": null,
   "metadata": {
    "ExecuteTime": {
     "end_time": "2018-07-31T08:58:49.708176Z",
     "start_time": "2018-07-31T08:58:49.579443Z"
    }
   },
   "outputs": [],
   "source": [
    "from bokeh.io import show, output_file\n",
    "from bokeh.plotting import figure\n",
    "import bokeh.plotting as bp\n",
    "bp.output_notebook()\n",
    "\n",
    "output_file(\"bars.html\")\n",
    "p = figure(x_range=list(pl.index), plot_height=250, title=\"Label Counts\",\n",
    "           toolbar_location=None, tools=\"\")\n",
    "p.vbar(x=list(pl.index), top=pl.values, width=0.1)\n",
    "p.xgrid.grid_line_color = None\n",
    "p.y_range.start = 0\n",
    "show(p)"
   ]
  },
  {
   "cell_type": "markdown",
   "metadata": {},
   "source": [
    "### Advanced text processing and TF_IDF \n",
    "The following processing was applied to `data['full_text']`:\n",
    "\n",
    "- removing punctuation \n",
    "- lowercasing\n",
    "- removing stop words \n",
    "- romoving common / rare words (did not run this)\n",
    "- lemmatization or stemming (we chose lemmatization)\n",
    "- remove digits\n",
    "- filtering 600 best words in each document based on tf_idf algorithm \n",
    "\n",
    "Future: \n",
    "- Detect and Remove non-english documents "
   ]
  },
  {
   "cell_type": "code",
   "execution_count": 32,
   "metadata": {},
   "outputs": [
    {
     "data": {
      "text/plain": [
       "doc_num\n",
       "0000001    integral multifunctional system for motor vehi...\n",
       "0000002    turbine driven with a fluid medium claims 1. t...\n",
       "0000003    method to remove leakage problems in pipes pro...\n",
       "0000004    pressure release valve claims 1. a pressure re...\n",
       "0000005    roll-over mechanism for a pressure release val...\n",
       "0000007    device by ball valve c l a i m s 1. a valve, i...\n",
       "0000008    composite electroconducting material claims 1....\n",
       "0000009    process and apparatus for agglomeration of pow...\n",
       "0000011    heating unit for rock material claims 1. a hea...\n",
       "0000012    a method and apparatus for microwave processin...\n",
       "Name: full_text, dtype: object"
      ]
     },
     "execution_count": 32,
     "metadata": {},
     "output_type": "execute_result"
    }
   ],
   "source": [
    "data['full_text'].head(10)"
   ]
  },
  {
   "cell_type": "markdown",
   "metadata": {},
   "source": [
    "### 1. Advanced Processing"
   ]
  },
  {
   "cell_type": "code",
   "execution_count": 42,
   "metadata": {},
   "outputs": [
    {
     "data": {
      "text/plain": [
       "doc_num\n",
       "0000001    integral multifunctional system for motor vehi...\n",
       "0000002    turbine driven with a fluid medium claims 1 tu...\n",
       "0000003    method to remove leakage problems in pipes pro...\n",
       "0000004    pressure release valve claims 1 a pressure rel...\n",
       "0000005    rollover mechanism for a pressure release valv...\n",
       "0000007    device by ball valve c l a i m s 1 a valve in ...\n",
       "0000008    composite electroconducting material claims 1 ...\n",
       "0000009    process and apparatus for agglomeration of pow...\n",
       "0000011    heating unit for rock material claims 1 a heat...\n",
       "0000012    a method and apparatus for microwave processin...\n",
       "Name: full_text_proc, dtype: object"
      ]
     },
     "execution_count": 42,
     "metadata": {},
     "output_type": "execute_result"
    }
   ],
   "source": [
    "# removing punctuation \n",
    "data['full_text_proc'] = data['full_text'].str.replace('[^\\w\\s]','')\n",
    "data['full_text_proc'].head(10)"
   ]
  },
  {
   "cell_type": "code",
   "execution_count": null,
   "metadata": {
    "scrolled": true
   },
   "outputs": [],
   "source": [
    "# lower - casing \n",
    "data['full_text_proc'] = data['full_text_proc'].apply(lambda x: \" \".join(x.lower() for x in x.split()))"
   ]
  },
  {
   "cell_type": "code",
   "execution_count": 43,
   "metadata": {},
   "outputs": [
    {
     "name": "stdout",
     "output_type": "stream",
     "text": [
      "[nltk_data] Downloading package stopwords to\n",
      "[nltk_data]     /home/c.papadimitriou/nltk_data...\n",
      "[nltk_data]   Package stopwords is already up-to-date!\n"
     ]
    }
   ],
   "source": [
    "# removing stop words \n",
    "\n",
    "nltk.download('stopwords')\n",
    "# stop = nltk.corpus.stopwords.words('english')\n",
    "# data['full_text_proc'] = data['full_text_proc'].apply(lambda x: \" \".join(x for x in x.split() if x not in stop))\n",
    "# data['full_text_proc'].head()\n",
    "stop = nltk.corpus.stopwords.words('english')\n",
    "pattern_stop = r'\\b(?:{})\\b'.format('|'.join(stop))\n",
    "data['full_text_proc_no_stop'] = data['full_text_proc'].str.replace(pattern_stop, '')\n",
    "data['full_text_proc_no_stop'] = data['full_text_proc_no_stop'].str.replace(r'\\s+', ' ')\n",
    "data['full_text_proc'] = data['full_text_proc_no_stop']"
   ]
  },
  {
   "cell_type": "markdown",
   "metadata": {},
   "source": [
    "#### Note: we will not run common and rare word removal cells. This will be taken care of with TF-IDF later. "
   ]
  },
  {
   "cell_type": "code",
   "execution_count": null,
   "metadata": {},
   "outputs": [],
   "source": [
    "# Common word removal \n",
    "# we can remove common words as their presence will not be of any use for our classification problem \n",
    "freq_words = pd.Series(' '.join(data['full_text_proc']).split()).value_counts()[:10] # chose the number here \n",
    "freq_words"
   ]
  },
  {
   "cell_type": "code",
   "execution_count": null,
   "metadata": {},
   "outputs": [],
   "source": [
    "# Decide if we want to remove these\n",
    "freq_words = list(freq_words.index)\n",
    "pattern_freq_words = r'\\b(?:{})\\b'.format('|'.join(freq_words))\n",
    "\n",
    "data['full_text_proc'] = data['full_text_proc'].replace(to_replace=pattern_freq_words, value=\"\",regex=True)\n",
    "data['full_text_proc'] = data['full_text_proc'].str.replace(r'\\s+', ' ')"
   ]
  },
  {
   "cell_type": "code",
   "execution_count": 38,
   "metadata": {},
   "outputs": [
    {
     "data": {
      "text/plain": [
       "tetrastearate    1\n",
       "atmio16de10      1\n",
       "carottier        1\n",
       "tesse            1\n",
       "rastlippen       1\n",
       "9624705          1\n",
       "albe             1\n",
       "carimali         1\n",
       "65gcm3           1\n",
       "tremities        1\n",
       "dtype: int64"
      ]
     },
     "execution_count": 38,
     "metadata": {},
     "output_type": "execute_result"
    }
   ],
   "source": [
    "# Rare word removal \n",
    "# Similarly, just as we removed the most common words, this time let’s remove rarely occurring words from the text. \n",
    "# Because they’re so rare, the association between them and other words is dominated by noise. \n",
    "rare_words = pd.Series(' '.join(data['full_text_proc']).split()).value_counts()[-10:]\n",
    "rare_words"
   ]
  },
  {
   "cell_type": "code",
   "execution_count": 41,
   "metadata": {},
   "outputs": [],
   "source": [
    "rare_words = list(rare_words.index)\n",
    "pattern_rare_words = r'\\b(?:{})\\b'.format('|'.join(rare_words))\n",
    "data['full_text_proc'] = data['full_text_proc'].replace(to_replace=pattern_rare_words, value=\"\",regex=True)\n",
    "data['full_text_proc'] = data['full_text_proc'].str.replace(r'\\s+', ' ')"
   ]
  },
  {
   "cell_type": "code",
   "execution_count": 21,
   "metadata": {},
   "outputs": [
    {
     "data": {
      "text/plain": [
       "doc_num\n",
       "0000001    integral multifunctional system motor vehicle ...\n",
       "0000002    turbine driven fluid medium claims 1 turbine d...\n",
       "0000003    method remove leakage problems pipes produced ...\n",
       "0000004    pressure release valve claims 1 pressure relea...\n",
       "0000005    rollover mechanism pressure release valve clai...\n",
       "Name: full_text_proc, dtype: object"
      ]
     },
     "execution_count": 21,
     "metadata": {},
     "output_type": "execute_result"
    }
   ],
   "source": [
    "data['full_text_proc'].head()"
   ]
  },
  {
   "cell_type": "code",
   "execution_count": null,
   "metadata": {},
   "outputs": [],
   "source": [
    "# Spelling correction (this will take a while to run - lets think if we need it. Maybe fo the foreign language words?)\n",
    "# Maybe there is another library to remove foreign language text? \n",
    "\n",
    "# from textblob import TextBlob\n",
    "# data['full_text_proc'] = data['full_text_proc'][:5].apply(lambda x: str(TextBlob(x).correct()))"
   ]
  },
  {
   "cell_type": "code",
   "execution_count": null,
   "metadata": {},
   "outputs": [],
   "source": [
    "# Stemming: removal of suffices, like “ing”, “ly”, “s”, etc.\n",
    "# from nltk.stem import PorterStemmer\n",
    "# st = PorterStemmer()\n",
    "# data['full_text_proc'] = data['full_text_proc'].apply(lambda x: \" \".join([st.stem(word) for word in x.split()]))"
   ]
  },
  {
   "cell_type": "code",
   "execution_count": 48,
   "metadata": {},
   "outputs": [
    {
     "name": "stdout",
     "output_type": "stream",
     "text": [
      "[nltk_data] Downloading package wordnet to\n",
      "[nltk_data]     /home/c.papadimitriou/nltk_data...\n",
      "[nltk_data]   Package wordnet is already up-to-date!\n"
     ]
    },
    {
     "data": {
      "text/plain": [
       "doc_num\n",
       "0000001    integral multifunctional system motor vehicle ...\n",
       "0000002    turbine driven fluid medium claim 1 turbine dr...\n",
       "0000003    method remove leakage problem pipe produced pl...\n",
       "0000004    pressure release valve claim 1 pressure releas...\n",
       "0000005    rollover mechanism pressure release valve clai...\n",
       "Name: full_text_proc, dtype: object"
      ]
     },
     "execution_count": 48,
     "metadata": {},
     "output_type": "execute_result"
    }
   ],
   "source": [
    "# Lemmatization: converts the word into its root word, rather than just stripping the suffices.\n",
    "# use this instead of stemming \n",
    "nltk.download('wordnet')\n",
    "\n",
    "from textblob import Word\n",
    "data['full_text_proc'] = data['full_text_proc'].apply(lambda x: \" \".join([Word(word).lemmatize() for word in x.split()]))\n",
    "data['full_text_proc'].head()"
   ]
  },
  {
   "cell_type": "code",
   "execution_count": 51,
   "metadata": {},
   "outputs": [],
   "source": [
    "# Remove Digits \n",
    "import re\n",
    "data['full_text_proc'] = data['full_text_proc'].apply(lambda x : re.sub(\"\\d+\", \"\", x))"
   ]
  },
  {
   "cell_type": "markdown",
   "metadata": {},
   "source": [
    "### PICKLE CHECKPOINT:"
   ]
  },
  {
   "cell_type": "code",
   "execution_count": 53,
   "metadata": {},
   "outputs": [],
   "source": [
    "# SAVE\n",
    "data.to_pickle('./saved_df_zipped/data_after_advanced_proc.pkl.gz', compression='gzip')\n",
    "\n",
    "# LOAD\n",
    "# data = pd.DataFrame()\n",
    "# data = pd.read_pickle(\"./saved_df_zipped/data_after_advanced_proc.pkl.gz\", compression='gzip')\n",
    "# data.info()\n",
    "# data.head"
   ]
  },
  {
   "cell_type": "code",
   "execution_count": 54,
   "metadata": {},
   "outputs": [
    {
     "data": {
      "text/html": [
       "<div>\n",
       "<style scoped>\n",
       "    .dataframe tbody tr th:only-of-type {\n",
       "        vertical-align: middle;\n",
       "    }\n",
       "\n",
       "    .dataframe tbody tr th {\n",
       "        vertical-align: top;\n",
       "    }\n",
       "\n",
       "    .dataframe thead th {\n",
       "        text-align: right;\n",
       "    }\n",
       "</style>\n",
       "<table border=\"1\" class=\"dataframe\">\n",
       "  <thead>\n",
       "    <tr style=\"text-align: right;\">\n",
       "      <th></th>\n",
       "      <th>full_text</th>\n",
       "      <th>label1</th>\n",
       "      <th>labels</th>\n",
       "      <th>doc_lenghts</th>\n",
       "      <th>full_text_proc</th>\n",
       "      <th>full_text_proc_no_stop</th>\n",
       "    </tr>\n",
       "    <tr>\n",
       "      <th>doc_num</th>\n",
       "      <th></th>\n",
       "      <th></th>\n",
       "      <th></th>\n",
       "      <th></th>\n",
       "      <th></th>\n",
       "      <th></th>\n",
       "    </tr>\n",
       "  </thead>\n",
       "  <tbody>\n",
       "    <tr>\n",
       "      <th>0000001</th>\n",
       "      <td>integral multifunctional system for motor vehi...</td>\n",
       "      <td>f02b</td>\n",
       "      <td>[f02b]</td>\n",
       "      <td>6385</td>\n",
       "      <td>integral multifunctional system motor vehicle ...</td>\n",
       "      <td>integral multifunctional system motor vehicle ...</td>\n",
       "    </tr>\n",
       "    <tr>\n",
       "      <th>0000002</th>\n",
       "      <td>turbine driven with a fluid medium claims 1. t...</td>\n",
       "      <td>f03d</td>\n",
       "      <td>[f03d, f03b]</td>\n",
       "      <td>3236</td>\n",
       "      <td>turbine driven fluid medium claim  turbine dri...</td>\n",
       "      <td>turbine driven fluid medium claims 1 turbine d...</td>\n",
       "    </tr>\n",
       "    <tr>\n",
       "      <th>0000003</th>\n",
       "      <td>method to remove leakage problems in pipes pro...</td>\n",
       "      <td>f16l</td>\n",
       "      <td>[f16l]</td>\n",
       "      <td>645</td>\n",
       "      <td>method remove leakage problem pipe produced pl...</td>\n",
       "      <td>method remove leakage problems pipes produced ...</td>\n",
       "    </tr>\n",
       "    <tr>\n",
       "      <th>0000004</th>\n",
       "      <td>pressure release valve claims 1. a pressure re...</td>\n",
       "      <td>f16k</td>\n",
       "      <td>[f16k]</td>\n",
       "      <td>2967</td>\n",
       "      <td>pressure release valve claim  pressure release...</td>\n",
       "      <td>pressure release valve claims 1 pressure relea...</td>\n",
       "    </tr>\n",
       "    <tr>\n",
       "      <th>0000005</th>\n",
       "      <td>roll-over mechanism for a pressure release val...</td>\n",
       "      <td>f16k</td>\n",
       "      <td>[f16k]</td>\n",
       "      <td>3711</td>\n",
       "      <td>rollover mechanism pressure release valve clai...</td>\n",
       "      <td>rollover mechanism pressure release valve clai...</td>\n",
       "    </tr>\n",
       "  </tbody>\n",
       "</table>\n",
       "</div>"
      ],
      "text/plain": [
       "                                                 full_text label1  \\\n",
       "doc_num                                                             \n",
       "0000001  integral multifunctional system for motor vehi...   f02b   \n",
       "0000002  turbine driven with a fluid medium claims 1. t...   f03d   \n",
       "0000003  method to remove leakage problems in pipes pro...   f16l   \n",
       "0000004  pressure release valve claims 1. a pressure re...   f16k   \n",
       "0000005  roll-over mechanism for a pressure release val...   f16k   \n",
       "\n",
       "               labels  doc_lenghts  \\\n",
       "doc_num                              \n",
       "0000001        [f02b]         6385   \n",
       "0000002  [f03d, f03b]         3236   \n",
       "0000003        [f16l]          645   \n",
       "0000004        [f16k]         2967   \n",
       "0000005        [f16k]         3711   \n",
       "\n",
       "                                            full_text_proc  \\\n",
       "doc_num                                                      \n",
       "0000001  integral multifunctional system motor vehicle ...   \n",
       "0000002  turbine driven fluid medium claim  turbine dri...   \n",
       "0000003  method remove leakage problem pipe produced pl...   \n",
       "0000004  pressure release valve claim  pressure release...   \n",
       "0000005  rollover mechanism pressure release valve clai...   \n",
       "\n",
       "                                    full_text_proc_no_stop  \n",
       "doc_num                                                     \n",
       "0000001  integral multifunctional system motor vehicle ...  \n",
       "0000002  turbine driven fluid medium claims 1 turbine d...  \n",
       "0000003  method remove leakage problems pipes produced ...  \n",
       "0000004  pressure release valve claims 1 pressure relea...  \n",
       "0000005  rollover mechanism pressure release valve clai...  "
      ]
     },
     "execution_count": 54,
     "metadata": {},
     "output_type": "execute_result"
    }
   ],
   "source": [
    "data.head()"
   ]
  },
  {
   "cell_type": "markdown",
   "metadata": {},
   "source": [
    "### 2. TF-IDF "
   ]
  },
  {
   "cell_type": "code",
   "execution_count": 55,
   "metadata": {},
   "outputs": [],
   "source": [
    "from sklearn.feature_extraction.text import TfidfVectorizer"
   ]
  },
  {
   "cell_type": "code",
   "execution_count": 56,
   "metadata": {},
   "outputs": [],
   "source": [
    "max_length = 600\n",
    "col_names =  ['i','top_words']\n",
    "data_tfidf  = pd.DataFrame(columns = col_names)"
   ]
  },
  {
   "cell_type": "code",
   "execution_count": 57,
   "metadata": {},
   "outputs": [
    {
     "data": {
      "text/plain": [
       "doc_num\n",
       "0000001    integral multifunctional system motor vehicle ...\n",
       "0000002    turbine driven fluid medium claim  turbine dri...\n",
       "0000003    method remove leakage problem pipe produced pl...\n",
       "0000004    pressure release valve claim  pressure release...\n",
       "0000005    rollover mechanism pressure release valve clai...\n",
       "Name: full_text_proc, dtype: object"
      ]
     },
     "execution_count": 57,
     "metadata": {},
     "output_type": "execute_result"
    }
   ],
   "source": [
    "data['full_text_proc'].head()"
   ]
  },
  {
   "cell_type": "code",
   "execution_count": 58,
   "metadata": {},
   "outputs": [],
   "source": [
    "# TF-IDF to eliminate word count\n",
    "# We can also perform basic pre-processing steps like lower-casing and removal of stopwords (but we did this earlier)\n",
    "\n",
    "tfidf = TfidfVectorizer(lowercase=True, analyzer='word', smooth_idf=False, sublinear_tf=False, norm=None,\n",
    "                        stop_words='english', ngram_range=(1,1)) \n",
    "\n",
    "text_transformed = tfidf.fit_transform(data['full_text_proc'])"
   ]
  },
  {
   "cell_type": "code",
   "execution_count": 59,
   "metadata": {},
   "outputs": [
    {
     "name": "stdout",
     "output_type": "stream",
     "text": [
      "2018-08-04 15:33:43.611360\n",
      "2018-08-04 16:14:57.113929\n"
     ]
    }
   ],
   "source": [
    "import datetime\n",
    "print(datetime.datetime.now())\n",
    "feature_names = np.array(tfidf.get_feature_names())\n",
    "\n",
    "for i in range(text_transformed.shape[0]):\n",
    "    f_index = text_transformed[i,:].nonzero()[1]\n",
    "    tfid_score = zip(f_index,[text_transformed[i,x] for x in f_index])\n",
    "    \n",
    "    word = []\n",
    "    score = []\n",
    "\n",
    "    for w,s in [(feature_names[i],s) for i,s in tfid_score]:\n",
    "        word.append(w)\n",
    "        score.append(s)\n",
    "    score = np.array(score)\n",
    "    word = np.array(word)\n",
    "    txt = \" \".join(word[(-score).argsort()[:max_length]])\n",
    "    data_tfidf.loc[len(data_tfidf)] = [i,txt]\n",
    "print(datetime.datetime.now())"
   ]
  },
  {
   "cell_type": "code",
   "execution_count": 61,
   "metadata": {
    "scrolled": true
   },
   "outputs": [
    {
     "data": {
      "text/html": [
       "<div>\n",
       "<style scoped>\n",
       "    .dataframe tbody tr th:only-of-type {\n",
       "        vertical-align: middle;\n",
       "    }\n",
       "\n",
       "    .dataframe tbody tr th {\n",
       "        vertical-align: top;\n",
       "    }\n",
       "\n",
       "    .dataframe thead th {\n",
       "        text-align: right;\n",
       "    }\n",
       "</style>\n",
       "<table border=\"1\" class=\"dataframe\">\n",
       "  <thead>\n",
       "    <tr style=\"text-align: right;\">\n",
       "      <th></th>\n",
       "      <th>i</th>\n",
       "      <th>top_words</th>\n",
       "    </tr>\n",
       "  </thead>\n",
       "  <tbody>\n",
       "    <tr>\n",
       "      <th>0</th>\n",
       "      <td>0</td>\n",
       "      <td>hydraulic accumulator microcomputer engine liq...</td>\n",
       "    </tr>\n",
       "    <tr>\n",
       "      <th>1</th>\n",
       "      <td>1</td>\n",
       "      <td>foil turbine longitual discoidal shaft angel m...</td>\n",
       "    </tr>\n",
       "    <tr>\n",
       "      <th>2</th>\n",
       "      <td>2</td>\n",
       "      <td>muff plasticbase choke pipe gasket clampsystem...</td>\n",
       "    </tr>\n",
       "    <tr>\n",
       "      <th>3</th>\n",
       "      <td>3</td>\n",
       "      <td>tanker valve rollover plunger pressure petrol ...</td>\n",
       "    </tr>\n",
       "    <tr>\n",
       "      <th>4</th>\n",
       "      <td>4</td>\n",
       "      <td>tanker rollover pendulum valve float petrol me...</td>\n",
       "    </tr>\n",
       "  </tbody>\n",
       "</table>\n",
       "</div>"
      ],
      "text/plain": [
       "   i                                          top_words\n",
       "0  0  hydraulic accumulator microcomputer engine liq...\n",
       "1  1  foil turbine longitual discoidal shaft angel m...\n",
       "2  2  muff plasticbase choke pipe gasket clampsystem...\n",
       "3  3  tanker valve rollover plunger pressure petrol ...\n",
       "4  4  tanker rollover pendulum valve float petrol me..."
      ]
     },
     "execution_count": 61,
     "metadata": {},
     "output_type": "execute_result"
    }
   ],
   "source": [
    "data_tfidf.head()"
   ]
  },
  {
   "cell_type": "code",
   "execution_count": 72,
   "metadata": {},
   "outputs": [],
   "source": [
    "data['full_text_proc_final'] = data_tfidf.set_index(data.index).top_words"
   ]
  },
  {
   "cell_type": "code",
   "execution_count": 166,
   "metadata": {},
   "outputs": [
    {
     "data": {
      "text/html": [
       "<div>\n",
       "<style scoped>\n",
       "    .dataframe tbody tr th:only-of-type {\n",
       "        vertical-align: middle;\n",
       "    }\n",
       "\n",
       "    .dataframe tbody tr th {\n",
       "        vertical-align: top;\n",
       "    }\n",
       "\n",
       "    .dataframe thead th {\n",
       "        text-align: right;\n",
       "    }\n",
       "</style>\n",
       "<table border=\"1\" class=\"dataframe\">\n",
       "  <thead>\n",
       "    <tr style=\"text-align: right;\">\n",
       "      <th></th>\n",
       "      <th>full_text</th>\n",
       "      <th>label1</th>\n",
       "      <th>labels</th>\n",
       "      <th>doc_lenghts</th>\n",
       "      <th>full_text_proc</th>\n",
       "      <th>full_text_proc_no_stop</th>\n",
       "      <th>full_text_proc_final</th>\n",
       "    </tr>\n",
       "    <tr>\n",
       "      <th>doc_num</th>\n",
       "      <th></th>\n",
       "      <th></th>\n",
       "      <th></th>\n",
       "      <th></th>\n",
       "      <th></th>\n",
       "      <th></th>\n",
       "      <th></th>\n",
       "    </tr>\n",
       "  </thead>\n",
       "  <tbody>\n",
       "    <tr>\n",
       "      <th>0000001</th>\n",
       "      <td>integral multifunctional system for motor vehi...</td>\n",
       "      <td>f02b</td>\n",
       "      <td>[f02b]</td>\n",
       "      <td>6385</td>\n",
       "      <td>integral multifunctional system motor vehicle ...</td>\n",
       "      <td>integral multifunctional system motor vehicle ...</td>\n",
       "      <td>hydraulic accumulator microcomputer engine liq...</td>\n",
       "    </tr>\n",
       "    <tr>\n",
       "      <th>0000002</th>\n",
       "      <td>turbine driven with a fluid medium claims 1. t...</td>\n",
       "      <td>f03d</td>\n",
       "      <td>[f03d, f03b]</td>\n",
       "      <td>3236</td>\n",
       "      <td>turbine driven fluid medium claim  turbine dri...</td>\n",
       "      <td>turbine driven fluid medium claims 1 turbine d...</td>\n",
       "      <td>foil turbine longitual discoidal shaft angel m...</td>\n",
       "    </tr>\n",
       "    <tr>\n",
       "      <th>0000003</th>\n",
       "      <td>method to remove leakage problems in pipes pro...</td>\n",
       "      <td>f16l</td>\n",
       "      <td>[f16l]</td>\n",
       "      <td>645</td>\n",
       "      <td>method remove leakage problem pipe produced pl...</td>\n",
       "      <td>method remove leakage problems pipes produced ...</td>\n",
       "      <td>muff plasticbase choke pipe gasket clampsystem...</td>\n",
       "    </tr>\n",
       "    <tr>\n",
       "      <th>0000004</th>\n",
       "      <td>pressure release valve claims 1. a pressure re...</td>\n",
       "      <td>f16k</td>\n",
       "      <td>[f16k]</td>\n",
       "      <td>2967</td>\n",
       "      <td>pressure release valve claim  pressure release...</td>\n",
       "      <td>pressure release valve claims 1 pressure relea...</td>\n",
       "      <td>tanker valve rollover plunger pressure petrol ...</td>\n",
       "    </tr>\n",
       "    <tr>\n",
       "      <th>0000005</th>\n",
       "      <td>roll-over mechanism for a pressure release val...</td>\n",
       "      <td>f16k</td>\n",
       "      <td>[f16k]</td>\n",
       "      <td>3711</td>\n",
       "      <td>rollover mechanism pressure release valve clai...</td>\n",
       "      <td>rollover mechanism pressure release valve clai...</td>\n",
       "      <td>tanker rollover pendulum valve float petrol me...</td>\n",
       "    </tr>\n",
       "  </tbody>\n",
       "</table>\n",
       "</div>"
      ],
      "text/plain": [
       "                                                 full_text label1  \\\n",
       "doc_num                                                             \n",
       "0000001  integral multifunctional system for motor vehi...   f02b   \n",
       "0000002  turbine driven with a fluid medium claims 1. t...   f03d   \n",
       "0000003  method to remove leakage problems in pipes pro...   f16l   \n",
       "0000004  pressure release valve claims 1. a pressure re...   f16k   \n",
       "0000005  roll-over mechanism for a pressure release val...   f16k   \n",
       "\n",
       "               labels  doc_lenghts  \\\n",
       "doc_num                              \n",
       "0000001        [f02b]         6385   \n",
       "0000002  [f03d, f03b]         3236   \n",
       "0000003        [f16l]          645   \n",
       "0000004        [f16k]         2967   \n",
       "0000005        [f16k]         3711   \n",
       "\n",
       "                                            full_text_proc  \\\n",
       "doc_num                                                      \n",
       "0000001  integral multifunctional system motor vehicle ...   \n",
       "0000002  turbine driven fluid medium claim  turbine dri...   \n",
       "0000003  method remove leakage problem pipe produced pl...   \n",
       "0000004  pressure release valve claim  pressure release...   \n",
       "0000005  rollover mechanism pressure release valve clai...   \n",
       "\n",
       "                                    full_text_proc_no_stop  \\\n",
       "doc_num                                                      \n",
       "0000001  integral multifunctional system motor vehicle ...   \n",
       "0000002  turbine driven fluid medium claims 1 turbine d...   \n",
       "0000003  method remove leakage problems pipes produced ...   \n",
       "0000004  pressure release valve claims 1 pressure relea...   \n",
       "0000005  rollover mechanism pressure release valve clai...   \n",
       "\n",
       "                                      full_text_proc_final  \n",
       "doc_num                                                     \n",
       "0000001  hydraulic accumulator microcomputer engine liq...  \n",
       "0000002  foil turbine longitual discoidal shaft angel m...  \n",
       "0000003  muff plasticbase choke pipe gasket clampsystem...  \n",
       "0000004  tanker valve rollover plunger pressure petrol ...  \n",
       "0000005  tanker rollover pendulum valve float petrol me...  "
      ]
     },
     "execution_count": 166,
     "metadata": {},
     "output_type": "execute_result"
    }
   ],
   "source": [
    "data.head()"
   ]
  },
  {
   "cell_type": "code",
   "execution_count": 136,
   "metadata": {},
   "outputs": [],
   "source": [
    "#data.reset_index()[data.reset_index().doc_num=='85110305']\n",
    "# data.reset_index()[data.reset_index().doc_num=='0000007']\n",
    "# data.reset_index()[data.reset_index().doc_num=='85110305'].full_text_proc_final.values\n",
    "# data.reset_index()[data.reset_index().doc_num=='85110305'].full_text.values"
   ]
  },
  {
   "cell_type": "markdown",
   "metadata": {},
   "source": [
    "### PICKLE CHECKPOINT:"
   ]
  },
  {
   "cell_type": "code",
   "execution_count": 22,
   "metadata": {
    "scrolled": true
   },
   "outputs": [
    {
     "name": "stdout",
     "output_type": "stream",
     "text": [
      "<class 'pandas.core.frame.DataFrame'>\n",
      "Index: 78172 entries, 0000001 to 99974199\n",
      "Data columns (total 7 columns):\n",
      "full_text                 78172 non-null object\n",
      "label1                    78172 non-null object\n",
      "labels                    78172 non-null object\n",
      "doc_lenghts               78172 non-null int64\n",
      "full_text_proc            78172 non-null object\n",
      "full_text_proc_no_stop    78172 non-null object\n",
      "full_text_proc_final      78172 non-null object\n",
      "dtypes: int64(1), object(6)\n",
      "memory usage: 4.8+ MB\n"
     ]
    }
   ],
   "source": [
    "# SAVE\n",
    "# data.to_pickle('./saved_df_zipped/data_after_tfidf.pkl.gz', compression='gzip')\n",
    "\n",
    "# LOAD\n",
    "data = pd.DataFrame()\n",
    "data = pd.read_pickle(\"./saved_df_zipped/data_after_tfidf.pkl.gz\", compression='gzip')\n",
    "data.info()\n",
    "#data.head"
   ]
  },
  {
   "cell_type": "code",
   "execution_count": null,
   "metadata": {},
   "outputs": [],
   "source": [
    "# OLD TFIDF ATTEMPT\n",
    "# tfidf = TfidfVectorizer(lowercase=True, analyzer='word', smooth_idf=False, sublinear_tf=False, norm=None,\n",
    "#                         stop_words='english', ngram_range=(1,1)) \n",
    "\n",
    "# text_transformed = tfidf.fit_transform(data['full_text_proc']).toarray() # CHANGE THIS TO ALL DOCS\n",
    "# feature_names = np.array(tfidf.get_feature_names())\n",
    "# test_words = feature_names[np.argsort(text_transformed)][:,-max_length:]\n",
    "\n",
    "# z = []\n",
    "# for i,t in (enumerate(list(test_words))):\n",
    "#     a = (set(t))\n",
    "#     b = (set(re.sub(\"[^\\w]\", \" \",  (data['full_text_proc'][:20000][i])).split()))\n",
    "#     z.append(list(a.intersection(b)))\n",
    "\n",
    "# data['full_text_proc_final'] = pd.Series(z, index=data.index).apply(lambda x : \" \".join(x))"
   ]
  },
  {
   "cell_type": "markdown",
   "metadata": {},
   "source": [
    "#### Examining document length distribution after tfidf "
   ]
  },
  {
   "cell_type": "code",
   "execution_count": 35,
   "metadata": {},
   "outputs": [
    {
     "data": {
      "image/png": "[encoded data removed]",
      "text/plain": [
       "<matplotlib.figure.Figure at 0x7efc35185f60>"
      ]
     },
     "metadata": {},
     "output_type": "display_data"
    }
   ],
   "source": [
    "# histogram of document length \n",
    "doc_lenghts_tfidf = data.full_text_proc_final.str.split().apply(lambda x: len(x))\n",
    "plt.figure(figsize=(12,5))\n",
    "plt.hist(doc_lenghts_tfidf, bins=100)\n",
    "plt.xlim((0,601))\n",
    "plt.xlabel('Document Length')\n",
    "plt.ylabel('Frequency')\n",
    "plt.show()"
   ]
  },
  {
   "cell_type": "code",
   "execution_count": null,
   "metadata": {},
   "outputs": [],
   "source": [
    "# Bokeh for plotting.\n",
    "import bokeh.plotting as bp\n",
    "from bokeh.models import HoverTool\n",
    "bp.output_notebook()\n",
    "\n",
    "# Helper code for plotting histograms\n",
    "def plot_length_histogram(lengths, x_range=[0,600], bins=40, normed=False):\n",
    "    hist, bin_edges = np.histogram(a=lengths, bins=bins, normed=normed, range=x_range)\n",
    "    bin_centers = (bin_edges[1:] + bin_edges[:-1])/2\n",
    "    bin_widths =  (bin_edges[1:] - bin_edges[:-1])\n",
    "\n",
    "    hover = HoverTool(tooltips=[(\"bucket\", \"@x\"), (\"count\", \"@top\")], mode=\"vline\")\n",
    "    fig = bp.figure(plot_width=800, plot_height=400, tools=[hover])\n",
    "    fig.vbar(x=bin_centers, width=bin_widths, top=hist, hover_fill_color=\"firebrick\")\n",
    "    fig.y_range.start = 0\n",
    "    fig.x_range.start = 0\n",
    "    fig.xaxis.axis_label = \"Document Length\"\n",
    "    fig.yaxis.axis_label = \"Frequency\"\n",
    "    bp.output_file(\"hist_tfidf.html\")\n",
    "    bp.show(fig)\n",
    "    \n",
    "plot_length_histogram(doc_lenghts_tfidf)"
   ]
  },
  {
   "cell_type": "code",
   "execution_count": 36,
   "metadata": {},
   "outputs": [
    {
     "name": "stdout",
     "output_type": "stream",
     "text": [
      "Average document length: 386 words\n",
      "Median document length: 380.0 words\n",
      "Max document length: 600 words\n",
      "Min document length: 29 words\n"
     ]
    }
   ],
   "source": [
    "print(\"Average document length: {} words\".format(round(np.mean(doc_lenghts_tfidf))))\n",
    "print(\"Median document length: {} words\".format(round(np.median(doc_lenghts_tfidf))))\n",
    "print(\"Max document length: {} words\".format(round(np.max(doc_lenghts_tfidf))))\n",
    "print(\"Min document length: {} words\".format(round(np.min(doc_lenghts_tfidf))))"
   ]
  },
  {
   "cell_type": "markdown",
   "metadata": {},
   "source": [
    "### Train Test Split"
   ]
  },
  {
   "cell_type": "code",
   "execution_count": 34,
   "metadata": {
    "ExecuteTime": {
     "end_time": "2018-07-31T08:59:27.481833Z",
     "start_time": "2018-07-31T08:59:27.407250Z"
    },
    "scrolled": true
   },
   "outputs": [
    {
     "name": "stdout",
     "output_type": "stream",
     "text": [
      "(62537,)\n",
      "(15635,)\n",
      "(62537, 96)\n",
      "(15635, 96)\n"
     ]
    }
   ],
   "source": [
    "# train test split \n",
    "# you can change to data['label1'] to include only the first label \n",
    "X_train, X_test, Y_train, Y_test = model_selection.train_test_split(data['full_text_proc_final'], labels, test_size=0.2)\n",
    "\n",
    "print(X_train.shape)\n",
    "print(X_test.shape)\n",
    "print(Y_train.shape)\n",
    "print(Y_test.shape)"
   ]
  },
  {
   "cell_type": "code",
   "execution_count": 35,
   "metadata": {
    "ExecuteTime": {
     "end_time": "2018-07-31T07:54:45.108606Z",
     "start_time": "2018-07-31T07:54:45.103591Z"
    },
    "scrolled": true
   },
   "outputs": [
    {
     "data": {
      "text/plain": [
       "doc_num\n",
       "98111390    sealing flock fibre socket surface spigot slid...\n",
       "9902206     lobe element shaft functional cam location fea...\n",
       "88114946    freezer cryogen fan nitrogen tunnel controller...\n",
       "01305597    reservoir oil generator fluid pressure sump ou...\n",
       "87307034    waste vessel oxidation gaseous reaction reduct...\n",
       "Name: full_text_proc_final, dtype: object"
      ]
     },
     "execution_count": 35,
     "metadata": {},
     "output_type": "execute_result"
    }
   ],
   "source": [
    "X_train.head()"
   ]
  },
  {
   "cell_type": "code",
   "execution_count": 175,
   "metadata": {
    "ExecuteTime": {
     "end_time": "2018-07-31T07:54:45.113527Z",
     "start_time": "2018-07-31T07:54:45.110205Z"
    },
    "scrolled": true
   },
   "outputs": [],
   "source": [
    "# print(\"Avg. number of labels in train set: {}\".format(Y_train.apply(lambda x: len(x)).mean()))\n",
    "# print(\"Avg. number of labels in test set: {}\".format(Y_test.apply(lambda x: len(x)).mean()))"
   ]
  },
  {
   "cell_type": "markdown",
   "metadata": {},
   "source": [
    "### Word Embeddings"
   ]
  },
  {
   "cell_type": "markdown",
   "metadata": {},
   "source": [
    "### 1. Loading pre-trained Embeddings"
   ]
  },
  {
   "cell_type": "markdown",
   "metadata": {},
   "source": [
    "**Load the pre-trained embeddings using this command:**\n",
    "\n",
    "`nohup curl -O https://s3-us-west-1.amazonaws.com/fasttext-vectors/wiki-news-300d-1M.vec.zip > curl.nohup.out 2>&1 &`\n",
    "\n",
    "Check loading progress with this: `cat curl.nohup.out`\n",
    "\n",
    "Unzipping the file with python: "
   ]
  },
  {
   "cell_type": "code",
   "execution_count": 45,
   "metadata": {},
   "outputs": [],
   "source": [
    "# sequence length is set to 600 (we will choose the 600 most frequent words in each document)\n",
    "sequence_length = 600\n",
    "embedding_dim = 300"
   ]
  },
  {
   "cell_type": "code",
   "execution_count": 15,
   "metadata": {},
   "outputs": [],
   "source": [
    "# DO NOT RUN IF USING OUR TRAINED EMBEDDINGS \n",
    "\n",
    "# word-embeddings: representing documents using a dense vector representation\n",
    "# Word embeddings can be trained using the input corpus itself or \n",
    "# can be generated using pre-trained word embeddings such as Glove, FastText, and Word2Vec\n",
    "\n",
    "# step 1. Loading the pretrained word embeddings\n",
    "\n",
    "df_tmp1=pd.read_table('../wiki-news-300d-1M.vec.zip', compression='zip', sep='\\s+', header=None, engine='python', skiprows=1)\n",
    "columns=['word', 'vector']\n",
    "df_tmp2=pd.DataFrame(columns=columns)\n",
    "df_tmp2['word']=df_tmp1[df_tmp1.columns[0]]\n",
    "df_tmp2['vector']=np.asarray(df_tmp1[df_tmp1.columns[1:]], dtype='float32').tolist()\n",
    "embeddings_index=pd.Series(df_tmp2.vector.values, index=df_tmp2.word).to_dict()"
   ]
  },
  {
   "cell_type": "markdown",
   "metadata": {},
   "source": [
    "Link to Tokenizer keras object: https://keras.io/preprocessing/text/\n",
    "\n",
    "This takes care of:\n",
    "- num of words to keep based on frequency (`num_words`).\n",
    "- filtering out punctuation: The **default** is all punctuation, plus tabs and line breaks, minus the ' character.\n",
    "- lower-casing: convert the texts to lowercase."
   ]
  },
  {
   "cell_type": "code",
   "execution_count": 46,
   "metadata": {
    "ExecuteTime": {
     "end_time": "2018-07-31T09:05:45.882848Z",
     "start_time": "2018-07-31T09:00:15.890336Z"
    }
   },
   "outputs": [],
   "source": [
    "# step 2. Creating a tokenizer object using Keras preprocessing object\n",
    "# the tokenizer has a default filter that removes all punctuation, plus tabs and line breaks, minus the ' character.\n",
    "token = text.Tokenizer(filters='.') # num_words=sequence_length lower=True\n",
    "token.fit_on_texts(data['full_text_proc']) # full_text_proc\n",
    "word_index = token.word_index"
   ]
  },
  {
   "cell_type": "code",
   "execution_count": 84,
   "metadata": {
    "ExecuteTime": {
     "end_time": "2018-07-31T08:08:09.371956Z",
     "start_time": "2018-07-31T08:08:09.368625Z"
    }
   },
   "outputs": [
    {
     "name": "stdout",
     "output_type": "stream",
     "text": [
      "Number of words in our vocabulary: 565769\n"
     ]
    }
   ],
   "source": [
    "print('Number of words in our vocabulary: {}'.format(len(word_index.keys())))"
   ]
  },
  {
   "cell_type": "code",
   "execution_count": 47,
   "metadata": {
    "ExecuteTime": {
     "end_time": "2018-07-31T09:15:24.929704Z",
     "start_time": "2018-07-31T09:10:25.433710Z"
    }
   },
   "outputs": [],
   "source": [
    "# step 3. Transforming text documents to sequence of tokens and padding them to ensure equal length vectors\n",
    "# choosing the median document length as max length for padding \n",
    "X_train_seq = sequence.pad_sequences(token.texts_to_sequences(X_train), maxlen=sequence_length)\n",
    "X_test_seq = sequence.pad_sequences(token.texts_to_sequences(X_test), maxlen=sequence_length)"
   ]
  },
  {
   "cell_type": "code",
   "execution_count": 86,
   "metadata": {
    "scrolled": true
   },
   "outputs": [],
   "source": [
    "# checking out what this did to the first patent\n",
    "#X_train_seq[0]"
   ]
  },
  {
   "cell_type": "code",
   "execution_count": 48,
   "metadata": {
    "ExecuteTime": {
     "end_time": "2018-07-31T09:15:42.036274Z",
     "start_time": "2018-07-31T09:15:42.032419Z"
    }
   },
   "outputs": [
    {
     "name": "stdout",
     "output_type": "stream",
     "text": [
      "(62537, 600)\n",
      "(15635, 600)\n"
     ]
    }
   ],
   "source": [
    "print(X_train_seq.shape)\n",
    "print(X_test_seq.shape)"
   ]
  },
  {
   "cell_type": "code",
   "execution_count": null,
   "metadata": {
    "ExecuteTime": {
     "end_time": "2018-07-31T09:15:51.243943Z",
     "start_time": "2018-07-31T09:15:50.882699Z"
    }
   },
   "outputs": [],
   "source": [
    "# DO NOT RUN IF USING OUR TRAINED EMBEDDINGS \n",
    "\n",
    "# step 4. Creating a mapping of tokens and their respective embeddings\n",
    "embedding_matrix = np.zeros((len(word_index) + 1, embedding_dim))\n",
    "for word, i in word_index.items():\n",
    "    embedding_vector = embeddings_index.get(word)\n",
    "    if embedding_vector is not None:\n",
    "        # words not found in embedding index will be all-zeros.\n",
    "        embedding_matrix[i] = embedding_vector"
   ]
  },
  {
   "cell_type": "code",
   "execution_count": 131,
   "metadata": {
    "ExecuteTime": {
     "end_time": "2018-07-31T08:17:54.565652Z",
     "start_time": "2018-07-31T08:17:54.561780Z"
    }
   },
   "outputs": [
    {
     "data": {
      "text/plain": [
       "(525033, 300)"
      ]
     },
     "execution_count": 131,
     "metadata": {},
     "output_type": "execute_result"
    }
   ],
   "source": [
    "np.array(pd.DataFrame(embedding_matrix)).shape"
   ]
  },
  {
   "cell_type": "code",
   "execution_count": 132,
   "metadata": {},
   "outputs": [
    {
     "data": {
      "text/plain": [
       "(525033, 300)"
      ]
     },
     "execution_count": 132,
     "metadata": {},
     "output_type": "execute_result"
    }
   ],
   "source": [
    "embedding_matrix.shape"
   ]
  },
  {
   "cell_type": "markdown",
   "metadata": {},
   "source": [
    "### 2. Training Word Embeddings with word2vec"
   ]
  },
  {
   "cell_type": "code",
   "execution_count": 47,
   "metadata": {},
   "outputs": [],
   "source": [
    "# remove URLs\n",
    "# re_url = re.compile(r\"((http|https)\\:\\/\\/)?[a-zA-Z0-9\\.\\/\\?\\:@\\-_=#]+\\\n",
    "#                     .([a-zA-Z]){2,6}([a-zA-Z0-9\\.\\&\\/\\?\\:@\\-_=#])*\",\n",
    "#                     re.MULTILINE|re.UNICODE)\n",
    "# data['full_text_proc'] = data['full_text_proc'].apply(lambda x : re_url.sub(\"\", x))"
   ]
  },
  {
   "cell_type": "code",
   "execution_count": 88,
   "metadata": {},
   "outputs": [
    {
     "name": "stderr",
     "output_type": "stream",
     "text": [
      "100%|██████████| 78172/78172 [01:45<00:00, 743.56it/s]\n"
     ]
    },
    {
     "name": "stdout",
     "output_type": "stream",
     "text": [
      "Number of word vectors: 565769\n"
     ]
    }
   ],
   "source": [
    "from nltk.tokenize import WordPunctTokenizer\n",
    "from collections import Counter\n",
    "from string import punctuation, ascii_lowercase\n",
    "import re\n",
    "from tqdm import tqdm\n",
    "from gensim.models import Word2Vec\n",
    "\n",
    "vocab = Counter()\n",
    "tokenizer_word = WordPunctTokenizer()\n",
    "\n",
    "\n",
    "def text_to_wordlist(text, lower=False):\n",
    "    \n",
    "   # Tokenize\n",
    "    text = tokenizer_word.tokenize(text)\n",
    "    \n",
    "   # optional: lower case\n",
    "    if lower:\n",
    "        text = [t.lower() for t in text]\n",
    "    \n",
    "   # Return a list of words\n",
    "    vocab.update(text)\n",
    "    return text\n",
    "\n",
    "def process_comments(list_sentences, lower=False):\n",
    "    comments = []\n",
    "    for text in tqdm(list_sentences):\n",
    "        txt = text_to_wordlist(text, lower=lower)\n",
    "        comments.append(txt)\n",
    "    return comments\n",
    "comments = process_comments(list(data['full_text_proc']), lower=False)\n",
    "###################################\n",
    "# print(datetime.datetime.now())\n",
    "model1 = Word2Vec(comments, size=100, window=3, min_count=0, workers=16, sg=0,negative=5)\n",
    "word_vectors1 = model1.wv\n",
    "# print(datetime.datetime.now())\n",
    "print(\"Number of word vectors: {}\".format(len(word_vectors1.vocab)))\n",
    "#####################################\n",
    "# embedding_matrix_word2vec = np.zeros((len(word_vectors1.vocab), 100))\n",
    "# for i in range(len(word_vectors1.vocab)):\n",
    "#     embedding_vector = model1.wv[word_vectors1.index2word[i]]\n",
    "#     if embedding_vector is not None:\n",
    "#         embedding_matrix_word2vec[i] = embedding_vector\n",
    "\n",
    "# step 4. Creating a mapping of tokens and their respective embeddings\n",
    "embedding_matrix_word2vec = np.zeros((len(word_index) + 1, 100))\n",
    "for word, i in word_index.items():\n",
    "    embedding_vector = model1.wv[word]\n",
    "    if embedding_vector is not None:\n",
    "        # words not found in embedding index will be all-zeros.\n",
    "        embedding_matrix_word2vec[i] = embedding_vector\n",
    "        "
   ]
  },
  {
   "cell_type": "markdown",
   "metadata": {},
   "source": [
    "### PICKLE "
   ]
  },
  {
   "cell_type": "code",
   "execution_count": 103,
   "metadata": {},
   "outputs": [],
   "source": [
    "# SAVE\n",
    "pd.DataFrame(embedding_matrix_word2vec).to_pickle('./word2vec_embeddings/embedding_matrix_word2vec.pkl.gz', compression='gzip')"
   ]
  },
  {
   "cell_type": "code",
   "execution_count": 36,
   "metadata": {},
   "outputs": [
    {
     "data": {
      "text/plain": [
       "(565770, 100)"
      ]
     },
     "execution_count": 36,
     "metadata": {},
     "output_type": "execute_result"
    }
   ],
   "source": [
    "# LOAD\n",
    "embeddings = pd.DataFrame()\n",
    "embeddings = pd.read_pickle(\"./word2vec_embeddings/embedding_matrix_word2vec.pkl.gz\", compression='gzip')\n",
    "\n",
    "embedding_matrix_word2vec = np.array(embeddings)\n",
    "embedding_matrix_word2vec.shape"
   ]
  },
  {
   "cell_type": "markdown",
   "metadata": {},
   "source": [
    "## Definining Models"
   ]
  },
  {
   "cell_type": "markdown",
   "metadata": {},
   "source": [
    "**Note:** if we want to train our own embeddings we can try the `embeddings_initializer=\"uniform\"` parameter instead of `weights=[embedding_matrix]` in the embedding layer."
   ]
  },
  {
   "cell_type": "markdown",
   "metadata": {},
   "source": [
    "### CNN model"
   ]
  },
  {
   "cell_type": "code",
   "execution_count": 192,
   "metadata": {
    "ExecuteTime": {
     "end_time": "2018-07-31T09:16:19.525147Z",
     "start_time": "2018-07-31T09:16:19.518709Z"
    }
   },
   "outputs": [],
   "source": [
    "# CNN Model Hyper-parameters \n",
    "vocabulary_size = len(word_index) + 1\n",
    "sequence_length = sequence_length\n",
    "embedding_dim = embedding_dim\n",
    "num_filters = 100\n",
    "#filter_sizes = [3]\n",
    "kernel_size = 3  \n",
    "units = Y_train.shape[1]  # we need the output nodes to equal the number of classes (96)\n",
    "\n",
    "learning_rate = 1e-4"
   ]
  },
  {
   "cell_type": "code",
   "execution_count": 211,
   "metadata": {
    "ExecuteTime": {
     "end_time": "2018-07-31T09:16:23.714291Z",
     "start_time": "2018-07-31T09:16:23.573179Z"
    }
   },
   "outputs": [],
   "source": [
    "def CNN_model():    \n",
    "    \n",
    "    # Input Layer\n",
    "    input_layer = Input(shape=(sequence_length,), dtype='int32')\n",
    "\n",
    "    # Word embedding Layer\n",
    "    embedding_layer = Embedding(input_dim=vocabulary_size, output_dim=embedding_dim, input_length=sequence_length, \n",
    "                                weights=[embedding_matrix], trainable=False)(input_layer)\n",
    "    embedding_layer = SpatialDropout1D(0.2)(embedding_layer)\n",
    "\n",
    "    # Convolutional Layer\n",
    "    conv_layer = Conv1D(num_filters, kernel_size=kernel_size, activation=\"relu\")(embedding_layer)\n",
    "\n",
    "    # Pooling Layer\n",
    "    pooling_layer = GlobalMaxPool1D()(conv_layer)\n",
    "\n",
    "    # Output Layers\n",
    "    output_layer1 = Dense(50, activation=\"relu\")(pooling_layer)\n",
    "    output_layer1 = Dropout(0.25)(output_layer1)\n",
    "    output_layer2 = Dense(units=units, activation=\"sigmoid\")(output_layer1) \n",
    "\n",
    "    # Compile the model\n",
    "    # NOTE: we compile the model using binary cross entropy rather than categorical CE, since the goal \n",
    "    # is to treat each output labels as an independent Bernoulli distribution \n",
    "    model = models.Model(inputs=input_layer, outputs=output_layer2,)\n",
    "    model.compile(optimizer=optimizers.Adam(lr=learning_rate), \n",
    "                  loss='binary_crossentropy', \n",
    "                  metrics=['accuracy']) # 'f1score', 'precision', 'recall' ,  recall, precision, f1\n",
    "\n",
    "    return model "
   ]
  },
  {
   "cell_type": "code",
   "execution_count": 196,
   "metadata": {},
   "outputs": [
    {
     "name": "stdout",
     "output_type": "stream",
     "text": [
      "_________________________________________________________________\n",
      "Layer (type)                 Output Shape              Param #   \n",
      "=================================================================\n",
      "input_3 (InputLayer)         (None, 600)               0         \n",
      "_________________________________________________________________\n",
      "embedding_2 (Embedding)      (None, 600, 300)          157509900 \n",
      "_________________________________________________________________\n",
      "spatial_dropout1d_2 (Spatial (None, 600, 300)          0         \n",
      "_________________________________________________________________\n",
      "conv1d_2 (Conv1D)            (None, 598, 100)          90100     \n",
      "_________________________________________________________________\n",
      "global_max_pooling1d_2 (Glob (None, 100)               0         \n",
      "_________________________________________________________________\n",
      "dense_3 (Dense)              (None, 50)                5050      \n",
      "_________________________________________________________________\n",
      "dropout_2 (Dropout)          (None, 50)                0         \n",
      "_________________________________________________________________\n",
      "dense_4 (Dense)              (None, 96)                4896      \n",
      "=================================================================\n",
      "Total params: 157,609,946\n",
      "Trainable params: 100,046\n",
      "Non-trainable params: 157,509,900\n",
      "_________________________________________________________________\n"
     ]
    }
   ],
   "source": [
    "model_tmp = CNN_model()  \n",
    "model_tmp.summary()"
   ]
  },
  {
   "cell_type": "markdown",
   "metadata": {},
   "source": [
    "### CNN + BiLSTM"
   ]
  },
  {
   "cell_type": "code",
   "execution_count": 89,
   "metadata": {},
   "outputs": [],
   "source": [
    "# Model Hyper-parameters \n",
    "# vocabulary_size = len(word_index) + 1\n",
    "vocabulary_size = embedding_matrix_word2vec.shape[0]\n",
    "embedding_dim = embedding_matrix_word2vec.shape[1]\n",
    "sequence_length = sequence_length\n",
    "num_filters = 100\n",
    "kernel_size = 4\n",
    "pool_size = 4\n",
    "units = Y_train.shape[1]  # we need the output nodes to equal the number of classes (96)\n",
    "lstm_units = 100\n",
    "\n",
    "learning_rate = 1e-4"
   ]
  },
  {
   "cell_type": "code",
   "execution_count": 90,
   "metadata": {},
   "outputs": [],
   "source": [
    "def CNN_BiLSTM_model():\n",
    "\n",
    "    # Input Layer\n",
    "    input_layer = Input(shape=(sequence_length,), dtype='int32')\n",
    "\n",
    "    # Word embedding Layer\n",
    "    embedding_layer = Embedding(input_dim=vocabulary_size, output_dim=embedding_dim, input_length=sequence_length,\n",
    "                                weights=[embedding_matrix_word2vec], trainable=False)(input_layer) # embedding_matrix\n",
    "    embedding_layer = SpatialDropout1D(0.2)(embedding_layer)\n",
    "    #embedding_layer = Dropout(0.2)(embedding_layer)\n",
    "\n",
    "    # Convolutional Layer\n",
    "    conv_layer = Conv1D(num_filters, kernel_size=kernel_size, activation=\"relu\")(embedding_layer)\n",
    "\n",
    "    # The paper doesn't include a pooling layer !!!\n",
    "    # Pooling Layer\n",
    "    #pooling_layer = GlobalMaxPool1D()(conv_layer)\n",
    "    pooling_layer = MaxPooling1D(pool_size=4)(conv_layer) #default pool size is 2\n",
    "\n",
    "    # bi-LSTM layer\n",
    "    bilstm_layer = Bidirectional(LSTM(lstm_units))(pooling_layer)\n",
    "\n",
    "    # Output layer\n",
    "    # output_layer1 = Dense(50, activation=\"relu\")(pooling_layer)\n",
    "    output_layer1 = Dropout(0.25)(bilstm_layer)\n",
    "    output_layer2 = Dense(units=units, activation=\"sigmoid\")(output_layer1)\n",
    "\n",
    "    # Compile the model\n",
    "    # NOTE: we compile the model using binary cross entropy rather than categorical CE, since the goal\n",
    "    # is to treat each output labels as an independent Bernoulli distribution\n",
    "    model = models.Model(inputs=input_layer, outputs=output_layer2,)\n",
    "    model.compile(optimizer=optimizers.Adam(lr=learning_rate),\n",
    "                  loss='binary_crossentropy',\n",
    "                  metrics=['accuracy']) # 'f1score', 'precision', 'recall' ,  recall, precision, f1\n",
    "\n",
    "    return model"
   ]
  },
  {
   "cell_type": "markdown",
   "metadata": {},
   "source": [
    "### Capsnet "
   ]
  },
  {
   "cell_type": "code",
   "execution_count": 66,
   "metadata": {},
   "outputs": [],
   "source": [
    "# Model Hyper-parameters \n",
    "vocabulary_size = embedding_matrix_word2vec.shape[0]\n",
    "embedding_dim = embedding_matrix_word2vec.shape[1]\n",
    "sequence_length = 600\n",
    "\n",
    "num_filters = 100\n",
    "kernel_size = 4\n",
    "#pool_size = 4\n",
    "units = Y_train.shape[1]  # we need the output nodes to equal the number of classes (96)\n",
    "lstm_units = 128\n",
    "\n",
    "Num_capsule = 10\n",
    "Dim_capsule = 16\n",
    "Routings = 5\n",
    "\n",
    "learning_rate = 0.001"
   ]
  },
  {
   "cell_type": "code",
   "execution_count": 68,
   "metadata": {},
   "outputs": [],
   "source": [
    "from keras.engine import Layer\n",
    "from keras.layers import K\n",
    "\n",
    "def squash(x, axis=-1):\n",
    "    s_squared_norm = K.sum(K.square(x), axis, keepdims=True)\n",
    "    scale = K.sqrt(s_squared_norm + K.epsilon())\n",
    "    return x / scale\n",
    "\n",
    "class Capsule(Layer):\n",
    "    def __init__(self, num_capsule, dim_capsule, routings=3, kernel_size=(9, 1), share_weights=True,\n",
    "                 activation='default', **kwargs):\n",
    "        super(Capsule, self).__init__(**kwargs)\n",
    "        self.num_capsule = num_capsule\n",
    "        self.dim_capsule = dim_capsule\n",
    "        self.routings = routings\n",
    "        self.kernel_size = kernel_size\n",
    "        self.share_weights = share_weights\n",
    "        if activation == 'default':\n",
    "            self.activation = squash\n",
    "        else:\n",
    "            self.activation = Activation(activation)\n",
    "\n",
    "    def build(self, input_shape):\n",
    "        super(Capsule, self).build(input_shape)\n",
    "        input_dim_capsule = input_shape[-1]\n",
    "        if self.share_weights:\n",
    "            self.W = self.add_weight(name='capsule_kernel',\n",
    "                                     shape=(1, input_dim_capsule,\n",
    "                                            self.num_capsule * self.dim_capsule),\n",
    "                                     # shape=self.kernel_size,\n",
    "                                     initializer='glorot_uniform',\n",
    "                                     trainable=True)\n",
    "        else:\n",
    "            input_num_capsule = input_shape[-2]\n",
    "            self.W = self.add_weight(name='capsule_kernel',\n",
    "                                     shape=(input_num_capsule,\n",
    "                                            input_dim_capsule,\n",
    "                                            self.num_capsule * self.dim_capsule),\n",
    "                                     initializer='glorot_uniform',\n",
    "                                     trainable=True)\n",
    "\n",
    "    def call(self, u_vecs):\n",
    "        if self.share_weights:\n",
    "            u_hat_vecs = K.conv1d(u_vecs, self.W)\n",
    "        else:\n",
    "            u_hat_vecs = K.local_conv1d(u_vecs, self.W, [1], [1])\n",
    "\n",
    "        batch_size = K.shape(u_vecs)[0]\n",
    "        input_num_capsule = K.shape(u_vecs)[1]\n",
    "        u_hat_vecs = K.reshape(u_hat_vecs, (batch_size, input_num_capsule,\n",
    "                                            self.num_capsule, self.dim_capsule))\n",
    "        u_hat_vecs = K.permute_dimensions(u_hat_vecs, (0, 2, 1, 3))\n",
    "        # final u_hat_vecs.shape = [None, num_capsule, input_num_capsule, dim_capsule]\n",
    "\n",
    "        b = K.zeros_like(u_hat_vecs[:, :, :, 0])  # shape = [None, num_capsule, input_num_capsule]\n",
    "        for i in range(self.routings):\n",
    "            b = K.permute_dimensions(b, (0, 2, 1))  # shape = [None, input_num_capsule, num_capsule]\n",
    "            c = K.softmax(b)\n",
    "            c = K.permute_dimensions(c, (0, 2, 1))\n",
    "            b = K.permute_dimensions(b, (0, 2, 1))\n",
    "            outputs = self.activation(K.batch_dot(c, u_hat_vecs, [2, 2]))\n",
    "            if i < self.routings - 1:\n",
    "                b = K.batch_dot(outputs, u_hat_vecs, [2, 3])\n",
    "\n",
    "        return outputs\n",
    "\n",
    "    def compute_output_shape(self, input_shape):\n",
    "        return (None, self.num_capsule, self.dim_capsule)\n",
    "\n",
    "\n",
    "\n",
    "def CapsNet_model():\n",
    "\n",
    "    # Input Layer\n",
    "    input_layer = Input(shape=(sequence_length,), dtype='int32')\n",
    "\n",
    "    # Word embedding Layer\n",
    "    embedding_layer = Embedding(input_dim=vocabulary_size, output_dim=embedding_dim, input_length=sequence_length,\n",
    "                                weights=[embedding_matrix_word2vec], trainable=False)(input_layer)\n",
    "    embedding_layer = SpatialDropout1D(0.1)(embedding_layer)\n",
    "#     embedding_layer = Dropout(0.2)(embedding_layer)\n",
    "\n",
    "    # Convolutional Layer\n",
    "    conv_layer = Conv1D(num_filters, kernel_size=kernel_size, activation=\"relu\")(embedding_layer)\n",
    "\n",
    "#     # bi-LSTM layer\n",
    "#     bilstm_layer = Bidirectional(LSTM(lstm_units))(conv_layer)\n",
    "\n",
    "    #OR \n",
    "    x = Bidirectional(\n",
    "    GRU(128, activation='relu', dropout=0.2, recurrent_dropout=0.2, return_sequences=True))(conv_layer)\n",
    "\n",
    "    capsule = Capsule(num_capsule=Num_capsule, dim_capsule=Dim_capsule, routings=Routings,\n",
    "                      share_weights=True)(x)\n",
    "    capsule = Flatten()(capsule)\n",
    "\n",
    "    # Output layer\n",
    "#     output_layer1 = Dense(50, activation=\"relu\")(capsule)\n",
    "    output_layer1 = Dropout(0.2)(capsule)\n",
    "    output_layer2 = Dense(units=units, activation=\"sigmoid\")(output_layer1)\n",
    "\n",
    "    # Compile the model\n",
    "    # NOTE: we compile the model using binary cross entropy rather than categorical CE, since the goal\n",
    "    # is to treat each output labels as an independent Bernoulli distribution\n",
    "    model = models.Model(inputs=input_layer, outputs=output_layer2,)\n",
    "    model.compile(optimizer=optimizers.Adam(lr=learning_rate),\n",
    "                  loss='binary_crossentropy',\n",
    "                  metrics=['accuracy']) # 'f1score', 'precision', 'recall' ,  recall, precision, f1\n",
    "\n",
    "    return model"
   ]
  },
  {
   "cell_type": "code",
   "execution_count": 69,
   "metadata": {},
   "outputs": [
    {
     "name": "stdout",
     "output_type": "stream",
     "text": [
      "_________________________________________________________________\n",
      "Layer (type)                 Output Shape              Param #   \n",
      "=================================================================\n",
      "input_10 (InputLayer)        (None, 600)               0         \n",
      "_________________________________________________________________\n",
      "embedding_10 (Embedding)     (None, 600, 100)          56577000  \n",
      "_________________________________________________________________\n",
      "spatial_dropout1d_3 (Spatial (None, 600, 100)          0         \n",
      "_________________________________________________________________\n",
      "conv1d_9 (Conv1D)            (None, 597, 100)          40100     \n",
      "_________________________________________________________________\n",
      "bidirectional_9 (Bidirection (None, 597, 256)          175872    \n",
      "_________________________________________________________________\n",
      "capsule_9 (Capsule)          (None, 10, 16)            40960     \n",
      "_________________________________________________________________\n",
      "flatten_9 (Flatten)          (None, 160)               0         \n",
      "_________________________________________________________________\n",
      "dropout_14 (Dropout)         (None, 160)               0         \n",
      "_________________________________________________________________\n",
      "dense_14 (Dense)             (None, 96)                15456     \n",
      "=================================================================\n",
      "Total params: 56,849,388\n",
      "Trainable params: 272,388\n",
      "Non-trainable params: 56,577,000\n",
      "_________________________________________________________________\n"
     ]
    }
   ],
   "source": [
    "model_tmp = CapsNet_model()  \n",
    "model_tmp.summary()"
   ]
  },
  {
   "cell_type": "markdown",
   "metadata": {},
   "source": [
    "## Training"
   ]
  },
  {
   "cell_type": "markdown",
   "metadata": {},
   "source": [
    "### Training: CNN"
   ]
  },
  {
   "cell_type": "code",
   "execution_count": 212,
   "metadata": {
    "ExecuteTime": {
     "end_time": "2018-07-31T07:55:21.716183Z",
     "start_time": "2018-07-31T07:52:51.171Z"
    }
   },
   "outputs": [
    {
     "name": "stdout",
     "output_type": "stream",
     "text": [
      "_________________________________________________________________\n",
      "Layer (type)                 Output Shape              Param #   \n",
      "=================================================================\n",
      "input_8 (InputLayer)         (None, 600)               0         \n",
      "_________________________________________________________________\n",
      "embedding_7 (Embedding)      (None, 600, 300)          157509900 \n",
      "_________________________________________________________________\n",
      "spatial_dropout1d_4 (Spatial (None, 600, 300)          0         \n",
      "_________________________________________________________________\n",
      "conv1d_4 (Conv1D)            (None, 598, 100)          90100     \n",
      "_________________________________________________________________\n",
      "global_max_pooling1d_4 (Glob (None, 100)               0         \n",
      "_________________________________________________________________\n",
      "dense_13 (Dense)             (None, 50)                5050      \n",
      "_________________________________________________________________\n",
      "dropout_7 (Dropout)          (None, 50)                0         \n",
      "_________________________________________________________________\n",
      "dense_14 (Dense)             (None, 96)                4896      \n",
      "=================================================================\n",
      "Total params: 157,609,946\n",
      "Trainable params: 100,046\n",
      "Non-trainable params: 157,509,900\n",
      "_________________________________________________________________\n"
     ]
    }
   ],
   "source": [
    "# Define Training Parameters \n",
    "batch_size = 100\n",
    "epochs = 5\n",
    "\n",
    "# Choosing Model \n",
    "model = CNN_model() \n",
    "model.summary()"
   ]
  },
  {
   "cell_type": "code",
   "execution_count": 213,
   "metadata": {
    "ExecuteTime": {
     "end_time": "2018-07-31T07:55:21.716941Z",
     "start_time": "2018-07-31T07:52:51.173Z"
    },
    "scrolled": true
   },
   "outputs": [
    {
     "name": "stdout",
     "output_type": "stream",
     "text": [
      "Train on 56283 samples, validate on 6254 samples\n",
      "Epoch 1/5\n",
      "56283/56283 [==============================] - 131s 2ms/step - loss: 0.2626 - acc: 0.8962 - val_loss: 0.0711 - val_acc: 0.9855\n",
      "Epoch 2/5\n",
      "56283/56283 [==============================] - 129s 2ms/step - loss: 0.0860 - acc: 0.9838 - val_loss: 0.0681 - val_acc: 0.9855\n",
      "Epoch 3/5\n",
      "56283/56283 [==============================] - 129s 2ms/step - loss: 0.0793 - acc: 0.9850 - val_loss: 0.0671 - val_acc: 0.9855\n",
      "Epoch 4/5\n",
      "56283/56283 [==============================] - 128s 2ms/step - loss: 0.0758 - acc: 0.9853 - val_loss: 0.0664 - val_acc: 0.9855\n",
      "Epoch 5/5\n",
      "56283/56283 [==============================] - 128s 2ms/step - loss: 0.0733 - acc: 0.9854 - val_loss: 0.0654 - val_acc: 0.9855\n"
     ]
    }
   ],
   "source": [
    "# Training CNN\n",
    "history = model.fit(X_train_seq, Y_train,\n",
    "                    batch_size=batch_size,\n",
    "                    epochs=epochs,\n",
    "                    verbose=1,\n",
    "                    validation_split=0.1)"
   ]
  },
  {
   "cell_type": "markdown",
   "metadata": {},
   "source": [
    "### Training: CNN+BiLSTM"
   ]
  },
  {
   "cell_type": "code",
   "execution_count": 137,
   "metadata": {},
   "outputs": [
    {
     "name": "stdout",
     "output_type": "stream",
     "text": [
      "_________________________________________________________________\n",
      "Layer (type)                 Output Shape              Param #   \n",
      "=================================================================\n",
      "input_5 (InputLayer)         (None, 600)               0         \n",
      "_________________________________________________________________\n",
      "embedding_4 (Embedding)      (None, 600, 300)          157509900 \n",
      "_________________________________________________________________\n",
      "spatial_dropout1d_4 (Spatial (None, 600, 300)          0         \n",
      "_________________________________________________________________\n",
      "conv1d_4 (Conv1D)            (None, 597, 100)          120100    \n",
      "_________________________________________________________________\n",
      "bidirectional_4 (Bidirection (None, 200)               160800    \n",
      "_________________________________________________________________\n",
      "dropout_4 (Dropout)          (None, 200)               0         \n",
      "_________________________________________________________________\n",
      "dense_4 (Dense)              (None, 96)                19296     \n",
      "=================================================================\n",
      "Total params: 157,810,096\n",
      "Trainable params: 300,196\n",
      "Non-trainable params: 157,509,900\n",
      "_________________________________________________________________\n"
     ]
    }
   ],
   "source": [
    "# Define Training Parameters \n",
    "batch_size = 100\n",
    "epochs = 5\n",
    "\n",
    "# Choosing Model \n",
    "model = CNN_BiLSTM_model() \n",
    "model.summary()"
   ]
  },
  {
   "cell_type": "markdown",
   "metadata": {},
   "source": [
    "Run this to start tensorboard: `tensorboard --logdir /home/c.papadimitriou/W266-Final-Project/Graph --port 6006`\n",
    "\n",
    "Then in your browser, open: http://localhost:6006"
   ]
  },
  {
   "cell_type": "code",
   "execution_count": 62,
   "metadata": {},
   "outputs": [],
   "source": [
    "from keras import callbacks\n",
    "tbCallBack = callbacks.TensorBoard(log_dir='./Graph', histogram_freq=0, write_graph=True, write_images=True)"
   ]
  },
  {
   "cell_type": "code",
   "execution_count": 141,
   "metadata": {},
   "outputs": [
    {
     "name": "stdout",
     "output_type": "stream",
     "text": [
      "Train on 56283 samples, validate on 6254 samples\n",
      "Epoch 1/5\n",
      "56283/56283 [==============================] - 582s 10ms/step - loss: 0.1275 - acc: 0.9743 - val_loss: 0.0677 - val_acc: 0.9855\n",
      "Epoch 2/5\n",
      "56283/56283 [==============================] - 582s 10ms/step - loss: 0.0703 - acc: 0.9855 - val_loss: 0.0673 - val_acc: 0.9855\n",
      "Epoch 3/5\n",
      "56283/56283 [==============================] - 581s 10ms/step - loss: 0.0698 - acc: 0.9855 - val_loss: 0.0673 - val_acc: 0.9855\n",
      "Epoch 4/5\n",
      "56283/56283 [==============================] - 580s 10ms/step - loss: 0.0695 - acc: 0.9855 - val_loss: 0.0672 - val_acc: 0.9855\n",
      "Epoch 5/5\n",
      "56283/56283 [==============================] - 579s 10ms/step - loss: 0.0691 - acc: 0.9855 - val_loss: 0.0672 - val_acc: 0.9855\n"
     ]
    }
   ],
   "source": [
    "# Training CNN-BiLSTM\n",
    "history = model.fit(X_train_seq, Y_train,\n",
    "                    batch_size=batch_size,\n",
    "                    epochs=epochs,\n",
    "                    verbose=1,\n",
    "                    validation_split=0.1, \n",
    "                    callbacks=[tbCallBack])"
   ]
  },
  {
   "cell_type": "markdown",
   "metadata": {},
   "source": [
    "### Training: CNN+BiLSTM with our word2vec Embedding"
   ]
  },
  {
   "cell_type": "code",
   "execution_count": 91,
   "metadata": {},
   "outputs": [
    {
     "name": "stdout",
     "output_type": "stream",
     "text": [
      "_________________________________________________________________\n",
      "Layer (type)                 Output Shape              Param #   \n",
      "=================================================================\n",
      "input_1 (InputLayer)         (None, 600)               0         \n",
      "_________________________________________________________________\n",
      "embedding_1 (Embedding)      (None, 600, 100)          56577000  \n",
      "_________________________________________________________________\n",
      "spatial_dropout1d_1 (Spatial (None, 600, 100)          0         \n",
      "_________________________________________________________________\n",
      "conv1d_1 (Conv1D)            (None, 597, 100)          40100     \n",
      "_________________________________________________________________\n",
      "max_pooling1d_1 (MaxPooling1 (None, 149, 100)          0         \n",
      "_________________________________________________________________\n",
      "bidirectional_1 (Bidirection (None, 200)               160800    \n",
      "_________________________________________________________________\n",
      "dropout_1 (Dropout)          (None, 200)               0         \n",
      "_________________________________________________________________\n",
      "dense_1 (Dense)              (None, 96)                19296     \n",
      "=================================================================\n",
      "Total params: 56,797,196\n",
      "Trainable params: 220,196\n",
      "Non-trainable params: 56,577,000\n",
      "_________________________________________________________________\n"
     ]
    }
   ],
   "source": [
    "# Define Training Parameters \n",
    "batch_size = 100\n",
    "epochs = 5\n",
    "\n",
    "# Choosing Model \n",
    "model = CNN_BiLSTM_model() \n",
    "model.summary()"
   ]
  },
  {
   "cell_type": "code",
   "execution_count": 92,
   "metadata": {},
   "outputs": [
    {
     "name": "stdout",
     "output_type": "stream",
     "text": [
      "Train on 56283 samples, validate on 6254 samples\n",
      "Epoch 1/5\n",
      "56283/56283 [==============================] - 169s 3ms/step - loss: 0.1480 - acc: 0.9585 - val_loss: 0.0680 - val_acc: 0.9855\n",
      "Epoch 2/5\n",
      "56283/56283 [==============================] - 167s 3ms/step - loss: 0.0704 - acc: 0.9854 - val_loss: 0.0673 - val_acc: 0.9855\n",
      "Epoch 3/5\n",
      "56283/56283 [==============================] - 167s 3ms/step - loss: 0.0694 - acc: 0.9854 - val_loss: 0.0659 - val_acc: 0.9855\n",
      "Epoch 4/5\n",
      "56283/56283 [==============================] - 167s 3ms/step - loss: 0.0674 - acc: 0.9854 - val_loss: 0.0637 - val_acc: 0.9855\n",
      "Epoch 5/5\n",
      "56283/56283 [==============================] - 167s 3ms/step - loss: 0.0637 - acc: 0.9855 - val_loss: 0.0592 - val_acc: 0.9855\n"
     ]
    }
   ],
   "source": [
    "# Training CNN-BiLSTM with our own embeddings \n",
    "history = model.fit(X_train_seq, Y_train,  # class_weight=class_weight_dict,\n",
    "                    batch_size=batch_size,\n",
    "                    epochs=epochs,\n",
    "                    verbose=1,\n",
    "                    validation_split=0.1)"
   ]
  },
  {
   "cell_type": "markdown",
   "metadata": {},
   "source": [
    "### Training: CapsNet"
   ]
  },
  {
   "cell_type": "code",
   "execution_count": 70,
   "metadata": {},
   "outputs": [
    {
     "name": "stdout",
     "output_type": "stream",
     "text": [
      "_________________________________________________________________\n",
      "Layer (type)                 Output Shape              Param #   \n",
      "=================================================================\n",
      "input_11 (InputLayer)        (None, 600)               0         \n",
      "_________________________________________________________________\n",
      "embedding_11 (Embedding)     (None, 600, 100)          56577000  \n",
      "_________________________________________________________________\n",
      "spatial_dropout1d_4 (Spatial (None, 600, 100)          0         \n",
      "_________________________________________________________________\n",
      "conv1d_10 (Conv1D)           (None, 597, 100)          40100     \n",
      "_________________________________________________________________\n",
      "bidirectional_10 (Bidirectio (None, 597, 256)          175872    \n",
      "_________________________________________________________________\n",
      "capsule_10 (Capsule)         (None, 10, 16)            40960     \n",
      "_________________________________________________________________\n",
      "flatten_10 (Flatten)         (None, 160)               0         \n",
      "_________________________________________________________________\n",
      "dropout_15 (Dropout)         (None, 160)               0         \n",
      "_________________________________________________________________\n",
      "dense_15 (Dense)             (None, 96)                15456     \n",
      "=================================================================\n",
      "Total params: 56,849,388\n",
      "Trainable params: 272,388\n",
      "Non-trainable params: 56,577,000\n",
      "_________________________________________________________________\n"
     ]
    }
   ],
   "source": [
    "# Define Training Parameters \n",
    "batch_size = 100\n",
    "epochs = 20\n",
    "\n",
    "# Choosing Model \n",
    "model = CapsNet_model() \n",
    "model.summary()"
   ]
  },
  {
   "cell_type": "code",
   "execution_count": 71,
   "metadata": {},
   "outputs": [
    {
     "name": "stdout",
     "output_type": "stream",
     "text": [
      "Train on 56283 samples, validate on 6254 samples\n",
      "Epoch 1/20\n",
      "56283/56283 [==============================] - 949s 17ms/step - loss: 0.1012 - acc: 0.9822 - val_loss: 0.0563 - val_acc: 0.9860\n",
      "Epoch 2/20\n",
      "56283/56283 [==============================] - 948s 17ms/step - loss: 0.0494 - acc: 0.9868 - val_loss: 0.0409 - val_acc: 0.9890\n",
      "Epoch 3/20\n",
      "56283/56283 [==============================] - 956s 17ms/step - loss: 0.0392 - acc: 0.9887 - val_loss: 0.0342 - val_acc: 0.9901\n",
      "Epoch 4/20\n",
      "56283/56283 [==============================] - 959s 17ms/step - loss: 0.0342 - acc: 0.9897 - val_loss: 0.0308 - val_acc: 0.9908\n",
      "Epoch 5/20\n",
      "56283/56283 [==============================] - 956s 17ms/step - loss: 0.0314 - acc: 0.9903 - val_loss: 0.0286 - val_acc: 0.9909\n",
      "Epoch 6/20\n",
      "56283/56283 [==============================] - 955s 17ms/step - loss: 0.0295 - acc: 0.9906 - val_loss: 0.0274 - val_acc: 0.9911\n",
      "Epoch 7/20\n",
      "56283/56283 [==============================] - 951s 17ms/step - loss: 0.0281 - acc: 0.9909 - val_loss: 0.0260 - val_acc: 0.9915\n",
      "Epoch 8/20\n",
      "56283/56283 [==============================] - 950s 17ms/step - loss: 0.0271 - acc: 0.9911 - val_loss: 0.0255 - val_acc: 0.9916\n",
      "Epoch 9/20\n",
      "56283/56283 [==============================] - 953s 17ms/step - loss: 0.0264 - acc: 0.9913 - val_loss: 0.0251 - val_acc: 0.9916\n",
      "Epoch 10/20\n",
      "56283/56283 [==============================] - 957s 17ms/step - loss: 0.0258 - acc: 0.9914 - val_loss: 0.0248 - val_acc: 0.9917\n",
      "Epoch 11/20\n",
      "56283/56283 [==============================] - 955s 17ms/step - loss: 0.0252 - acc: 0.9915 - val_loss: 0.0242 - val_acc: 0.9919\n",
      "Epoch 12/20\n",
      "56283/56283 [==============================] - 879s 16ms/step - loss: 0.0248 - acc: 0.9917 - val_loss: 0.0239 - val_acc: 0.9920\n",
      "Epoch 13/20\n",
      "56283/56283 [==============================] - 849s 15ms/step - loss: 0.0247 - acc: 0.9916 - val_loss: 0.0243 - val_acc: 0.9919\n",
      "Epoch 14/20\n",
      "56283/56283 [==============================] - 852s 15ms/step - loss: 0.0242 - acc: 0.9918 - val_loss: 0.0237 - val_acc: 0.9918\n",
      "Epoch 15/20\n",
      "56283/56283 [==============================] - 846s 15ms/step - loss: 0.0240 - acc: 0.9918 - val_loss: 0.0238 - val_acc: 0.9919\n",
      "Epoch 16/20\n",
      "56283/56283 [==============================] - 843s 15ms/step - loss: 0.0238 - acc: 0.9919 - val_loss: 0.0233 - val_acc: 0.9920\n",
      "Epoch 17/20\n",
      "56283/56283 [==============================] - 844s 15ms/step - loss: 0.0236 - acc: 0.9919 - val_loss: 0.0232 - val_acc: 0.9920\n",
      "Epoch 18/20\n",
      "56283/56283 [==============================] - 845s 15ms/step - loss: 0.0233 - acc: 0.9920 - val_loss: 0.0234 - val_acc: 0.9919\n",
      "Epoch 19/20\n",
      "56283/56283 [==============================] - 844s 15ms/step - loss: 0.0232 - acc: 0.9921 - val_loss: 0.0231 - val_acc: 0.9920\n",
      "Epoch 20/20\n",
      "56283/56283 [==============================] - 846s 15ms/step - loss: 0.0230 - acc: 0.9921 - val_loss: 0.0230 - val_acc: 0.9921\n"
     ]
    }
   ],
   "source": [
    "# Training CapsNet \n",
    "history = model.fit(X_train_seq, Y_train, \n",
    "                    batch_size=batch_size,\n",
    "                    epochs=epochs,\n",
    "                    verbose=1,\n",
    "                    validation_split=0.1,\n",
    "                   callbacks=[tbCallBack])"
   ]
  },
  {
   "cell_type": "markdown",
   "metadata": {},
   "source": [
    "## Evaluation"
   ]
  },
  {
   "cell_type": "markdown",
   "metadata": {},
   "source": [
    "### Evaluation Metrics:\n",
    "\n",
    "**True Positives (TP)**: the number of labels predicted by our approach (prediction labels) that\n",
    "matched the IPC labels (true labels), without taking the exact order into account.\n",
    "\n",
    "**False Positives (FP)**: the labels predicted by our approach (prediction labels) that do not match the true IPC labels. \n",
    "\n",
    "**False Negatives (FN)**: the labels that should have been predicted by our approach, but were not.\n",
    "\n",
    "**True Negatives (TN)**: the labels that, correctly, were not predicted by our approach. \n",
    "\n",
    "\n",
    "$$ Precision = \\frac{TP}{TP + FP} = \\frac{trueLabels \\cap predictionLabels}{predictionLabels} $$\n",
    "\n",
    "$$ Recall = \\frac{TP}{TP + FN} = \\frac{trueLabels \\cap predictionLabels}{trueLabels} $$\n",
    "\n",
    "**Precision** shows the ratio of the predicted labels that are true labels.\n",
    "\n",
    "**Recall** shows the ratio of the true labels that were predicted correctly. \n",
    "\n",
    "After calculating the above metrics for each patent document, we calculate the final Precision, Recall and F1-score across all documents as follows: \n",
    "\n",
    "$$Precision_{total} = \\frac{1}{TotalSamples} \\sum_{n=i}^{TotalSamples} Precision_i$$\n",
    "\n",
    "$$Recall_{total} = \\frac{1}{TotalSamples} \\sum_{n=i}^{TotalSamples} Recall_i$$\n",
    "\n",
    "$$F1_{total} = 2* \\frac{Precision_{total}*Recall_{total}}{Precision_{total}+Recall_{total}}  $$"
   ]
  },
  {
   "cell_type": "code",
   "execution_count": 73,
   "metadata": {},
   "outputs": [],
   "source": [
    "def get_pred_classes(X_test_seq, number_of_labels = 1):\n",
    "\n",
    "    preds = np.zeros(shape=model.predict(X_test_seq).shape)\n",
    "    pred_proba = model.predict(X_test_seq)\n",
    "\n",
    "    for i in range(pred_proba.shape[0]): \n",
    "        idxs = np.argsort(pred_proba[i])[::-1][:number_of_labels]\n",
    "        preds[i][idxs] = 1\n",
    "    \n",
    "    return preds"
   ]
  },
  {
   "cell_type": "markdown",
   "metadata": {},
   "source": [
    "### CNN Model Results"
   ]
  },
  {
   "cell_type": "markdown",
   "metadata": {},
   "source": [
    "#### Top 1 label prediction"
   ]
  },
  {
   "cell_type": "code",
   "execution_count": 215,
   "metadata": {
    "ExecuteTime": {
     "end_time": "2018-07-31T07:55:21.724271Z",
     "start_time": "2018-07-31T07:52:51.191Z"
    }
   },
   "outputs": [
    {
     "name": "stdout",
     "output_type": "stream",
     "text": [
      "precision: 0.1700671570195075\n",
      "recall: 0.13218267927573973\n",
      "f1: 0.14316825802914707\n"
     ]
    }
   ],
   "source": [
    "pred_classes = get_pred_classes(X_test_seq, number_of_labels = 1)\n",
    "print(\"precision:\" , metrics.precision_score(Y_test, pred_classes, average = 'samples'))\n",
    "print(\"recall:\" , metrics.recall_score(Y_test, pred_classes, average = 'samples'))\n",
    "print(\"f1:\" , metrics.f1_score(Y_test, pred_classes, average = 'samples'))"
   ]
  },
  {
   "cell_type": "markdown",
   "metadata": {},
   "source": [
    "#### Top 2 labels prediction"
   ]
  },
  {
   "cell_type": "code",
   "execution_count": 216,
   "metadata": {
    "ExecuteTime": {
     "end_time": "2018-07-31T07:55:21.725119Z",
     "start_time": "2018-07-31T07:52:51.195Z"
    }
   },
   "outputs": [
    {
     "name": "stdout",
     "output_type": "stream",
     "text": [
      "precision: 0.1133674448353054\n",
      "recall: 0.17169552438820104\n",
      "f1: 0.13083837137882548\n"
     ]
    }
   ],
   "source": [
    "pred_classes = get_pred_classes(X_test_seq, number_of_labels = 2)\n",
    "print(\"precision:\" , metrics.precision_score(Y_test, pred_classes, average = 'samples'))\n",
    "print(\"recall:\" , metrics.recall_score(Y_test, pred_classes, average = 'samples'))\n",
    "print(\"f1:\" , metrics.f1_score(Y_test, pred_classes, average = 'samples'))"
   ]
  },
  {
   "cell_type": "markdown",
   "metadata": {},
   "source": [
    "#### Top 10 labels prediction"
   ]
  },
  {
   "cell_type": "code",
   "execution_count": 217,
   "metadata": {
    "ExecuteTime": {
     "end_time": "2018-07-31T07:55:21.725945Z",
     "start_time": "2018-07-31T07:52:51.197Z"
    }
   },
   "outputs": [
    {
     "name": "stdout",
     "output_type": "stream",
     "text": [
      "precision: 0.06415733930284619\n",
      "recall: 0.4851943898761935\n",
      "f1: 0.11093627767793948\n"
     ]
    }
   ],
   "source": [
    "pred_classes = get_pred_classes(X_test_seq, number_of_labels = 10)\n",
    "print(\"precision:\" , metrics.precision_score(Y_test, pred_classes, average = 'samples'))\n",
    "print(\"recall:\" , metrics.recall_score(Y_test, pred_classes, average = 'samples'))\n",
    "print(\"f1:\" , metrics.f1_score(Y_test, pred_classes, average = 'samples'))"
   ]
  },
  {
   "cell_type": "code",
   "execution_count": 218,
   "metadata": {
    "ExecuteTime": {
     "end_time": "2018-07-31T07:55:21.726757Z",
     "start_time": "2018-07-31T07:52:51.200Z"
    }
   },
   "outputs": [
    {
     "data": {
      "text/plain": [
       "<matplotlib.legend.Legend at 0x7f43b0f97dd8>"
      ]
     },
     "execution_count": 218,
     "metadata": {},
     "output_type": "execute_result"
    },
    {
     "data": {
      "image/png": "[encoded data removed]",
      "text/plain": [
       "<matplotlib.figure.Figure at 0x7f43aa992400>"
      ]
     },
     "metadata": {},
     "output_type": "display_data"
    }
   ],
   "source": [
    "# Ploting the loss \n",
    "\n",
    "plt.figure(figsize=(15,5))\n",
    "N = epochs\n",
    "plt.plot(np.arange(0, N), history.history[\"loss\"], label=\"train_loss\")\n",
    "plt.plot(np.arange(0, N), history.history[\"val_loss\"], label=\"val_loss\")\n",
    "plt.title(\"Training Loss (CNN)\")\n",
    "plt.xlabel(\"Epochs\")\n",
    "plt.grid()\n",
    "#plt.ylabel(\"Loss/Accuracy\")\n",
    "plt.legend(loc=\"upper right\")"
   ]
  },
  {
   "cell_type": "markdown",
   "metadata": {},
   "source": [
    "### CNN+BiLSTM Model Results"
   ]
  },
  {
   "cell_type": "markdown",
   "metadata": {},
   "source": [
    "#### Top 1 label prediction"
   ]
  },
  {
   "cell_type": "code",
   "execution_count": 33,
   "metadata": {},
   "outputs": [
    {
     "name": "stdout",
     "output_type": "stream",
     "text": [
      "precision: 0.2032619123760793\n",
      "recall: 0.15980066091035072\n",
      "f1: 0.17248815995857888\n"
     ]
    }
   ],
   "source": [
    "pred_classes = get_pred_classes(X_test_seq, number_of_labels = 1)\n",
    "print(\"precision:\" , metrics.precision_score(Y_test, pred_classes, average = 'samples'))\n",
    "print(\"recall:\" , metrics.recall_score(Y_test, pred_classes, average = 'samples'))\n",
    "print(\"f1:\" , metrics.f1_score(Y_test, pred_classes, average = 'samples'))"
   ]
  },
  {
   "cell_type": "markdown",
   "metadata": {},
   "source": [
    "#### Top 2 labels prediction"
   ]
  },
  {
   "cell_type": "code",
   "execution_count": 57,
   "metadata": {},
   "outputs": [
    {
     "name": "stdout",
     "output_type": "stream",
     "text": [
      "precision: 0.17125039974416373\n",
      "recall: 0.2624475002664961\n",
      "f1: 0.1987337627727778\n"
     ]
    }
   ],
   "source": [
    "pred_classes = get_pred_classes(X_test_seq, number_of_labels = 2)\n",
    "print(\"precision:\" , metrics.precision_score(Y_test, pred_classes, average = 'samples'))\n",
    "print(\"recall:\" , metrics.recall_score(Y_test, pred_classes, average = 'samples'))\n",
    "print(\"f1:\" , metrics.f1_score(Y_test, pred_classes, average = 'samples'))"
   ]
  },
  {
   "cell_type": "markdown",
   "metadata": {},
   "source": [
    "#### Top 5 labels prediction"
   ]
  },
  {
   "cell_type": "code",
   "execution_count": 58,
   "metadata": {},
   "outputs": [
    {
     "name": "stdout",
     "output_type": "stream",
     "text": [
      "precision: 0.11737767828589703\n",
      "recall: 0.44188785843726686\n",
      "f1: 0.1794488122118439\n"
     ]
    }
   ],
   "source": [
    "pred_classes = get_pred_classes(X_test_seq, number_of_labels = 5)\n",
    "print(\"precision:\" , metrics.precision_score(Y_test, pred_classes, average = 'samples'))\n",
    "print(\"recall:\" , metrics.recall_score(Y_test, pred_classes, average = 'samples'))\n",
    "print(\"f1:\" , metrics.f1_score(Y_test, pred_classes, average = 'samples'))"
   ]
  },
  {
   "cell_type": "markdown",
   "metadata": {},
   "source": [
    "#### Top 10 labels prediction"
   ]
  },
  {
   "cell_type": "code",
   "execution_count": 35,
   "metadata": {},
   "outputs": [
    {
     "name": "stdout",
     "output_type": "stream",
     "text": [
      "precision: 0.08280780300607611\n",
      "recall: 0.6142831254663681\n",
      "f1: 0.14269271768632177\n"
     ]
    }
   ],
   "source": [
    "pred_classes = get_pred_classes(X_test_seq, number_of_labels = 10)\n",
    "print(\"precision:\" , metrics.precision_score(Y_test, pred_classes, average = 'samples'))\n",
    "print(\"recall:\" , metrics.recall_score(Y_test, pred_classes, average = 'samples'))\n",
    "print(\"f1:\" , metrics.f1_score(Y_test, pred_classes, average = 'samples'))"
   ]
  },
  {
   "cell_type": "code",
   "execution_count": 36,
   "metadata": {},
   "outputs": [
    {
     "data": {
      "text/plain": [
       "<matplotlib.legend.Legend at 0x7f3d4dbef828>"
      ]
     },
     "execution_count": 36,
     "metadata": {},
     "output_type": "execute_result"
    },
    {
     "data": {
      "image/png": "[encoded data removed]",
      "text/plain": [
       "<matplotlib.figure.Figure at 0x7f3d53da10b8>"
      ]
     },
     "metadata": {},
     "output_type": "display_data"
    }
   ],
   "source": [
    "# Ploting the loss \n",
    "\n",
    "plt.figure(figsize=(15,5))\n",
    "N = epochs\n",
    "plt.plot(np.arange(0, N), history.history[\"loss\"], label=\"train_loss\")\n",
    "plt.plot(np.arange(0, N), history.history[\"val_loss\"], label=\"val_loss\")\n",
    "plt.title(\"Training Loss (CNN)\")\n",
    "plt.xlabel(\"Epochs\")\n",
    "plt.grid()\n",
    "#plt.ylabel(\"Loss/Accuracy\")\n",
    "plt.legend(loc=\"upper right\")"
   ]
  },
  {
   "cell_type": "markdown",
   "metadata": {},
   "source": [
    "### CNN+BiLSTM Model Results with our trained word2vec embeddings"
   ]
  },
  {
   "cell_type": "markdown",
   "metadata": {},
   "source": [
    "#### Top 1 label prediction"
   ]
  },
  {
   "cell_type": "code",
   "execution_count": 95,
   "metadata": {},
   "outputs": [
    {
     "name": "stdout",
     "output_type": "stream",
     "text": [
      "precision: 0.24643428205948192\n",
      "recall: 0.1944206374586931\n",
      "f1: 0.20966391033548054\n"
     ]
    }
   ],
   "source": [
    "print(\"Test Set: \")\n",
    "pred_classes = get_pred_classes(X_test_seq, number_of_labels = 1)\n",
    "print(\"precision:\" , metrics.precision_score(Y_test, pred_classes, average = 'samples'))\n",
    "print(\"recall:\" , metrics.recall_score(Y_test, pred_classes, average = 'samples'))\n",
    "print(\"f1:\" , metrics.f1_score(Y_test, pred_classes, average = 'samples'))"
   ]
  },
  {
   "cell_type": "code",
   "execution_count": 102,
   "metadata": {},
   "outputs": [
    {
     "name": "stdout",
     "output_type": "stream",
     "text": [
      "Train Set: \n",
      "precision: 0.24459120200841103\n",
      "recall: 0.19058500225009653\n",
      "f1: 0.20646028979415612\n"
     ]
    }
   ],
   "source": [
    "print(\"Train Set: \")\n",
    "pred_classes = get_pred_classes(X_train_seq, number_of_labels = 1)\n",
    "print(\"precision:\" , metrics.precision_score(Y_train, pred_classes, average = 'samples'))\n",
    "print(\"recall:\" , metrics.recall_score(Y_train, pred_classes, average = 'samples'))\n",
    "print(\"f1:\" , metrics.f1_score(Y_train, pred_classes, average = 'samples'))"
   ]
  },
  {
   "cell_type": "markdown",
   "metadata": {},
   "source": [
    "#### Top 2 labels prediction"
   ]
  },
  {
   "cell_type": "code",
   "execution_count": 99,
   "metadata": {},
   "outputs": [
    {
     "name": "stdout",
     "output_type": "stream",
     "text": [
      "precision: 0.2024944035817077\n",
      "recall: 0.31487748793153336\n",
      "f1: 0.23682615824285153\n"
     ]
    }
   ],
   "source": [
    "pred_classes = get_pred_classes(X_test_seq, number_of_labels = 2)\n",
    "print(\"precision:\" , metrics.precision_score(Y_test, pred_classes, average = 'samples'))\n",
    "print(\"recall:\" , metrics.recall_score(Y_test, pred_classes, average = 'samples'))\n",
    "print(\"f1:\" , metrics.f1_score(Y_test, pred_classes, average = 'samples'))"
   ]
  },
  {
   "cell_type": "markdown",
   "metadata": {},
   "source": [
    "#### Top 10 labels prediction"
   ]
  },
  {
   "cell_type": "code",
   "execution_count": 100,
   "metadata": {},
   "outputs": [
    {
     "name": "stdout",
     "output_type": "stream",
     "text": [
      "precision: 0.08488007675087944\n",
      "recall: 0.6311168471226034\n",
      "f1: 0.1463372653857802\n"
     ]
    }
   ],
   "source": [
    "pred_classes = get_pred_classes(X_test_seq, number_of_labels = 10)\n",
    "print(\"precision:\" , metrics.precision_score(Y_test, pred_classes, average = 'samples'))\n",
    "print(\"recall:\" , metrics.recall_score(Y_test, pred_classes, average = 'samples'))\n",
    "print(\"f1:\" , metrics.f1_score(Y_test, pred_classes, average = 'samples'))"
   ]
  },
  {
   "cell_type": "code",
   "execution_count": 101,
   "metadata": {},
   "outputs": [
    {
     "data": {
      "text/plain": [
       "<matplotlib.legend.Legend at 0x7efc1057a0b8>"
      ]
     },
     "execution_count": 101,
     "metadata": {},
     "output_type": "execute_result"
    },
    {
     "data": {
      "image/png": "[encoded data removed]",
      "text/plain": [
       "<matplotlib.figure.Figure at 0x7efc105c69b0>"
      ]
     },
     "metadata": {},
     "output_type": "display_data"
    }
   ],
   "source": [
    "# Ploting the loss \n",
    "\n",
    "plt.figure(figsize=(15,5))\n",
    "N = epochs\n",
    "plt.plot(np.arange(0, N), history.history[\"loss\"], label=\"train_loss\")\n",
    "plt.plot(np.arange(0, N), history.history[\"val_loss\"], label=\"val_loss\")\n",
    "plt.title(\"Training Loss\")\n",
    "plt.xlabel(\"Epochs\")\n",
    "plt.grid()\n",
    "plt.ylabel(\"Cross-Entropy Loss\")\n",
    "plt.legend(loc=\"upper right\")"
   ]
  },
  {
   "cell_type": "markdown",
   "metadata": {},
   "source": [
    "### CapsNet Model Results "
   ]
  },
  {
   "cell_type": "markdown",
   "metadata": {},
   "source": [
    "#### Top 1 label prediction"
   ]
  },
  {
   "cell_type": "code",
   "execution_count": 74,
   "metadata": {},
   "outputs": [
    {
     "name": "stdout",
     "output_type": "stream",
     "text": [
      "precision: 0.7918132395267029\n",
      "recall: 0.6549580458982441\n",
      "f1: 0.6959614418200922\n"
     ]
    }
   ],
   "source": [
    "pred_classes = get_pred_classes(X_test_seq, number_of_labels = 1)\n",
    "print(\"precision:\" , metrics.precision_score(Y_test, pred_classes, average = 'samples'))\n",
    "print(\"recall:\" , metrics.recall_score(Y_test, pred_classes, average = 'samples'))\n",
    "print(\"f1:\" , metrics.f1_score(Y_test, pred_classes, average = 'samples'))"
   ]
  },
  {
   "cell_type": "markdown",
   "metadata": {},
   "source": [
    "#### Top 2 labels prediction"
   ]
  },
  {
   "cell_type": "code",
   "execution_count": 75,
   "metadata": {},
   "outputs": [
    {
     "name": "stdout",
     "output_type": "stream",
     "text": [
      "precision: 0.5309561880396546\n",
      "recall: 0.8195024898350769\n",
      "f1: 0.6201224866878848\n"
     ]
    }
   ],
   "source": [
    "pred_classes = get_pred_classes(X_test_seq, number_of_labels = 2)\n",
    "print(\"precision:\" , metrics.precision_score(Y_test, pred_classes, average = 'samples'))\n",
    "print(\"recall:\" , metrics.recall_score(Y_test, pred_classes, average = 'samples'))\n",
    "print(\"f1:\" , metrics.f1_score(Y_test, pred_classes, average = 'samples'))"
   ]
  },
  {
   "cell_type": "markdown",
   "metadata": {},
   "source": [
    "#### Top 10 labels prediction"
   ]
  },
  {
   "cell_type": "code",
   "execution_count": 76,
   "metadata": {},
   "outputs": [
    {
     "name": "stdout",
     "output_type": "stream",
     "text": [
      "precision: 0.13417972497601538\n",
      "recall: 0.9728560768727063\n",
      "f1: 0.23020160226287129\n"
     ]
    }
   ],
   "source": [
    "pred_classes = get_pred_classes(X_test_seq, number_of_labels = 10)\n",
    "print(\"precision:\" , metrics.precision_score(Y_test, pred_classes, average = 'samples'))\n",
    "print(\"recall:\" , metrics.recall_score(Y_test, pred_classes, average = 'samples'))\n",
    "print(\"f1:\" , metrics.f1_score(Y_test, pred_classes, average = 'samples'))"
   ]
  },
  {
   "cell_type": "code",
   "execution_count": 77,
   "metadata": {},
   "outputs": [
    {
     "data": {
      "text/plain": [
       "<matplotlib.legend.Legend at 0x7f746c469198>"
      ]
     },
     "execution_count": 77,
     "metadata": {},
     "output_type": "execute_result"
    },
    {
     "data": {
      "image/png": "[encoded data removed]",
      "text/plain": [
       "<matplotlib.figure.Figure at 0x7f746c42c710>"
      ]
     },
     "metadata": {},
     "output_type": "display_data"
    }
   ],
   "source": [
    "# Ploting the loss \n",
    "\n",
    "plt.figure(figsize=(15,5))\n",
    "N = epochs\n",
    "plt.plot(np.arange(0, N), history.history[\"loss\"], label=\"train_loss\")\n",
    "plt.plot(np.arange(0, N), history.history[\"val_loss\"], label=\"val_loss\")\n",
    "plt.title(\"Training Loss\")\n",
    "plt.xlabel(\"Epochs\")\n",
    "plt.grid()\n",
    "plt.ylabel(\"Cross-Entropy Loss\")\n",
    "plt.legend(loc=\"upper right\")"
   ]
  },
  {
   "cell_type": "markdown",
   "metadata": {},
   "source": [
    "### Error Analysis"
   ]
  },
  {
   "cell_type": "code",
   "execution_count": 78,
   "metadata": {},
   "outputs": [],
   "source": [
    "def get_df_with_results(labels=1):\n",
    "    pred_proba = model.predict(X_test_seq)\n",
    "    all_labels = mlb.classes_\n",
    "    pred_classes = get_pred_classes(X_test_seq, number_of_labels = labels)\n",
    "\n",
    "    # Getting the predicted and actual labels in each patent in the test set\n",
    "    predicted_labels = [all_labels[np.argsort(pred_proba[i])[::-1][:labels]] for i in range(pred_proba.shape[0])]\n",
    "    actual_labels = [list(mlb.inverse_transform(Y_test)[i]) for i in range(pred_proba.shape[0])]\n",
    "\n",
    "    # Getting the individual precisions and recalls\n",
    "    precisions = [metrics.precision_score(Y_test[i], pred_classes[i]) for i in range(pred_proba.shape[0])]\n",
    "    recalls = [metrics.recall_score(Y_test[i], pred_classes[i]) for i in range(pred_proba.shape[0])]\n",
    "    \n",
    "    # Creating a dataframe with all the results\n",
    "    df_with_results = pd.DataFrame({'predicted_labels':predicted_labels,\n",
    "                                  'actual_labels':actual_labels, \n",
    "                                  'precision':precisions, \n",
    "                                  'recall':recalls}, columns = ['predicted_labels','actual_labels','precision','recall'])\n",
    "    \n",
    "    return df_with_results\n",
    "\n",
    "\n",
    "def calculate_total_scores(df_with_results):\n",
    "    total_prec = round(df_with_results.precision.mean(),3)\n",
    "    total_recall = round(df_with_results.recall.mean(),3)\n",
    "    total_f1 = round(2*(total_prec*total_recall)/(total_prec+total_recall),3)\n",
    "    return print(\"Precision: {}, Recall: {}, F1-score: {}\".format(total_prec, total_recall, total_f1))"
   ]
  },
  {
   "cell_type": "markdown",
   "metadata": {},
   "source": [
    "### CapsNet"
   ]
  },
  {
   "cell_type": "code",
   "execution_count": 84,
   "metadata": {},
   "outputs": [
    {
     "name": "stdout",
     "output_type": "stream",
     "text": [
      "Precision: 0.531, Recall: 0.82, F1-score: 0.645\n"
     ]
    }
   ],
   "source": [
    "df_with_results_label_2 = get_df_with_results(labels=2)\n",
    "calculate_total_scores(df_with_results_label_2)"
   ]
  },
  {
   "cell_type": "code",
   "execution_count": 93,
   "metadata": {
    "scrolled": true
   },
   "outputs": [
    {
     "data": {
      "text/html": [
       "<div>\n",
       "<style scoped>\n",
       "    .dataframe tbody tr th:only-of-type {\n",
       "        vertical-align: middle;\n",
       "    }\n",
       "\n",
       "    .dataframe tbody tr th {\n",
       "        vertical-align: top;\n",
       "    }\n",
       "\n",
       "    .dataframe thead th {\n",
       "        text-align: right;\n",
       "    }\n",
       "</style>\n",
       "<table border=\"1\" class=\"dataframe\">\n",
       "  <thead>\n",
       "    <tr style=\"text-align: right;\">\n",
       "      <th></th>\n",
       "      <th>predicted_labels</th>\n",
       "      <th>actual_labels</th>\n",
       "      <th>precision</th>\n",
       "      <th>recall</th>\n",
       "    </tr>\n",
       "  </thead>\n",
       "  <tbody>\n",
       "    <tr>\n",
       "      <th>12327</th>\n",
       "      <td>[f16k, f17c]</td>\n",
       "      <td>[f25d]</td>\n",
       "      <td>0.0</td>\n",
       "      <td>0.0</td>\n",
       "    </tr>\n",
       "    <tr>\n",
       "      <th>12813</th>\n",
       "      <td>[f02m, f02b]</td>\n",
       "      <td>[f01p]</td>\n",
       "      <td>0.0</td>\n",
       "      <td>0.0</td>\n",
       "    </tr>\n",
       "    <tr>\n",
       "      <th>3873</th>\n",
       "      <td>[f02d, f04b]</td>\n",
       "      <td>[f02b]</td>\n",
       "      <td>0.0</td>\n",
       "      <td>0.0</td>\n",
       "    </tr>\n",
       "    <tr>\n",
       "      <th>3875</th>\n",
       "      <td>[f23c, f23g]</td>\n",
       "      <td>[f23j]</td>\n",
       "      <td>0.0</td>\n",
       "      <td>0.0</td>\n",
       "    </tr>\n",
       "    <tr>\n",
       "      <th>12789</th>\n",
       "      <td>[f23d, f24c]</td>\n",
       "      <td>[f23l, f24d]</td>\n",
       "      <td>0.0</td>\n",
       "      <td>0.0</td>\n",
       "    </tr>\n",
       "  </tbody>\n",
       "</table>\n",
       "</div>"
      ],
      "text/plain": [
       "      predicted_labels actual_labels  precision  recall\n",
       "12327     [f16k, f17c]        [f25d]        0.0     0.0\n",
       "12813     [f02m, f02b]        [f01p]        0.0     0.0\n",
       "3873      [f02d, f04b]        [f02b]        0.0     0.0\n",
       "3875      [f23c, f23g]        [f23j]        0.0     0.0\n",
       "12789     [f23d, f24c]  [f23l, f24d]        0.0     0.0"
      ]
     },
     "execution_count": 93,
     "metadata": {},
     "output_type": "execute_result"
    }
   ],
   "source": [
    "df_with_results_label_2.sort_values(\"recall\").head()"
   ]
  },
  {
   "cell_type": "code",
   "execution_count": 94,
   "metadata": {
    "scrolled": true
   },
   "outputs": [
    {
     "data": {
      "text/html": [
       "<div>\n",
       "<style scoped>\n",
       "    .dataframe tbody tr th:only-of-type {\n",
       "        vertical-align: middle;\n",
       "    }\n",
       "\n",
       "    .dataframe tbody tr th {\n",
       "        vertical-align: top;\n",
       "    }\n",
       "\n",
       "    .dataframe thead th {\n",
       "        text-align: right;\n",
       "    }\n",
       "</style>\n",
       "<table border=\"1\" class=\"dataframe\">\n",
       "  <thead>\n",
       "    <tr style=\"text-align: right;\">\n",
       "      <th></th>\n",
       "      <th>predicted_labels</th>\n",
       "      <th>actual_labels</th>\n",
       "      <th>precision</th>\n",
       "      <th>recall</th>\n",
       "    </tr>\n",
       "  </thead>\n",
       "  <tbody>\n",
       "    <tr>\n",
       "      <th>5867</th>\n",
       "      <td>[f24f, f16p]</td>\n",
       "      <td>[f02b]</td>\n",
       "      <td>0.0</td>\n",
       "      <td>0.0</td>\n",
       "    </tr>\n",
       "    <tr>\n",
       "      <th>2205</th>\n",
       "      <td>[f17d, f04f]</td>\n",
       "      <td>[f24d]</td>\n",
       "      <td>0.0</td>\n",
       "      <td>0.0</td>\n",
       "    </tr>\n",
       "    <tr>\n",
       "      <th>13254</th>\n",
       "      <td>[f16c, f16h]</td>\n",
       "      <td>[f02p]</td>\n",
       "      <td>0.0</td>\n",
       "      <td>0.0</td>\n",
       "    </tr>\n",
       "    <tr>\n",
       "      <th>2208</th>\n",
       "      <td>[f16b, f21v]</td>\n",
       "      <td>[f16m]</td>\n",
       "      <td>0.0</td>\n",
       "      <td>0.0</td>\n",
       "    </tr>\n",
       "    <tr>\n",
       "      <th>9419</th>\n",
       "      <td>[f16j, f17c]</td>\n",
       "      <td>[f04b]</td>\n",
       "      <td>0.0</td>\n",
       "      <td>0.0</td>\n",
       "    </tr>\n",
       "  </tbody>\n",
       "</table>\n",
       "</div>"
      ],
      "text/plain": [
       "      predicted_labels actual_labels  precision  recall\n",
       "5867      [f24f, f16p]        [f02b]        0.0     0.0\n",
       "2205      [f17d, f04f]        [f24d]        0.0     0.0\n",
       "13254     [f16c, f16h]        [f02p]        0.0     0.0\n",
       "2208      [f16b, f21v]        [f16m]        0.0     0.0\n",
       "9419      [f16j, f17c]        [f04b]        0.0     0.0"
      ]
     },
     "execution_count": 94,
     "metadata": {},
     "output_type": "execute_result"
    }
   ],
   "source": [
    "df_with_results_label_2.sort_values(\"precision\").head()"
   ]
  },
  {
   "cell_type": "code",
   "execution_count": 91,
   "metadata": {},
   "outputs": [
    {
     "name": "stdout",
     "output_type": "stream",
     "text": [
      "Precision: 0.792, Recall: 0.655, F1-score: 0.717\n"
     ]
    }
   ],
   "source": [
    "df_with_results_label_1 = get_df_with_results(labels=1)\n",
    "calculate_total_scores(df_with_results_label_1)"
   ]
  },
  {
   "cell_type": "code",
   "execution_count": 95,
   "metadata": {},
   "outputs": [
    {
     "data": {
      "text/html": [
       "<div>\n",
       "<style scoped>\n",
       "    .dataframe tbody tr th:only-of-type {\n",
       "        vertical-align: middle;\n",
       "    }\n",
       "\n",
       "    .dataframe tbody tr th {\n",
       "        vertical-align: top;\n",
       "    }\n",
       "\n",
       "    .dataframe thead th {\n",
       "        text-align: right;\n",
       "    }\n",
       "</style>\n",
       "<table border=\"1\" class=\"dataframe\">\n",
       "  <thead>\n",
       "    <tr style=\"text-align: right;\">\n",
       "      <th></th>\n",
       "      <th>predicted_labels</th>\n",
       "      <th>actual_labels</th>\n",
       "      <th>precision</th>\n",
       "      <th>recall</th>\n",
       "    </tr>\n",
       "  </thead>\n",
       "  <tbody>\n",
       "    <tr>\n",
       "      <th>10135</th>\n",
       "      <td>[f16b]</td>\n",
       "      <td>[f24j]</td>\n",
       "      <td>0.0</td>\n",
       "      <td>0.0</td>\n",
       "    </tr>\n",
       "    <tr>\n",
       "      <th>3224</th>\n",
       "      <td>[f01m]</td>\n",
       "      <td>[f01p]</td>\n",
       "      <td>0.0</td>\n",
       "      <td>0.0</td>\n",
       "    </tr>\n",
       "    <tr>\n",
       "      <th>13887</th>\n",
       "      <td>[f02b]</td>\n",
       "      <td>[f01n]</td>\n",
       "      <td>0.0</td>\n",
       "      <td>0.0</td>\n",
       "    </tr>\n",
       "    <tr>\n",
       "      <th>13885</th>\n",
       "      <td>[f16c]</td>\n",
       "      <td>[f01d, f02c, f04d]</td>\n",
       "      <td>0.0</td>\n",
       "      <td>0.0</td>\n",
       "    </tr>\n",
       "    <tr>\n",
       "      <th>11570</th>\n",
       "      <td>[f16f]</td>\n",
       "      <td>[f16h]</td>\n",
       "      <td>0.0</td>\n",
       "      <td>0.0</td>\n",
       "    </tr>\n",
       "  </tbody>\n",
       "</table>\n",
       "</div>"
      ],
      "text/plain": [
       "      predicted_labels       actual_labels  precision  recall\n",
       "10135           [f16b]              [f24j]        0.0     0.0\n",
       "3224            [f01m]              [f01p]        0.0     0.0\n",
       "13887           [f02b]              [f01n]        0.0     0.0\n",
       "13885           [f16c]  [f01d, f02c, f04d]        0.0     0.0\n",
       "11570           [f16f]              [f16h]        0.0     0.0"
      ]
     },
     "execution_count": 95,
     "metadata": {},
     "output_type": "execute_result"
    }
   ],
   "source": [
    "df_with_results_label_1.sort_values(\"recall\").head()"
   ]
  },
  {
   "cell_type": "code",
   "execution_count": 96,
   "metadata": {},
   "outputs": [
    {
     "data": {
      "text/html": [
       "<div>\n",
       "<style scoped>\n",
       "    .dataframe tbody tr th:only-of-type {\n",
       "        vertical-align: middle;\n",
       "    }\n",
       "\n",
       "    .dataframe tbody tr th {\n",
       "        vertical-align: top;\n",
       "    }\n",
       "\n",
       "    .dataframe thead th {\n",
       "        text-align: right;\n",
       "    }\n",
       "</style>\n",
       "<table border=\"1\" class=\"dataframe\">\n",
       "  <thead>\n",
       "    <tr style=\"text-align: right;\">\n",
       "      <th></th>\n",
       "      <th>predicted_labels</th>\n",
       "      <th>actual_labels</th>\n",
       "      <th>precision</th>\n",
       "      <th>recall</th>\n",
       "    </tr>\n",
       "  </thead>\n",
       "  <tbody>\n",
       "    <tr>\n",
       "      <th>4351</th>\n",
       "      <td>[f22b]</td>\n",
       "      <td>[f28b, f28d]</td>\n",
       "      <td>0.0</td>\n",
       "      <td>0.0</td>\n",
       "    </tr>\n",
       "    <tr>\n",
       "      <th>12067</th>\n",
       "      <td>[f24f]</td>\n",
       "      <td>[f16b]</td>\n",
       "      <td>0.0</td>\n",
       "      <td>0.0</td>\n",
       "    </tr>\n",
       "    <tr>\n",
       "      <th>12068</th>\n",
       "      <td>[f01d]</td>\n",
       "      <td>[f01l]</td>\n",
       "      <td>0.0</td>\n",
       "      <td>0.0</td>\n",
       "    </tr>\n",
       "    <tr>\n",
       "      <th>12069</th>\n",
       "      <td>[f04b]</td>\n",
       "      <td>[f16j]</td>\n",
       "      <td>0.0</td>\n",
       "      <td>0.0</td>\n",
       "    </tr>\n",
       "    <tr>\n",
       "      <th>4489</th>\n",
       "      <td>[f16l]</td>\n",
       "      <td>[f16b]</td>\n",
       "      <td>0.0</td>\n",
       "      <td>0.0</td>\n",
       "    </tr>\n",
       "  </tbody>\n",
       "</table>\n",
       "</div>"
      ],
      "text/plain": [
       "      predicted_labels actual_labels  precision  recall\n",
       "4351            [f22b]  [f28b, f28d]        0.0     0.0\n",
       "12067           [f24f]        [f16b]        0.0     0.0\n",
       "12068           [f01d]        [f01l]        0.0     0.0\n",
       "12069           [f04b]        [f16j]        0.0     0.0\n",
       "4489            [f16l]        [f16b]        0.0     0.0"
      ]
     },
     "execution_count": 96,
     "metadata": {},
     "output_type": "execute_result"
    }
   ],
   "source": [
    "df_with_results_label_1.sort_values(\"precision\").head()"
   ]
  },
  {
   "cell_type": "code",
   "execution_count": 97,
   "metadata": {},
   "outputs": [
    {
     "name": "stdout",
     "output_type": "stream",
     "text": [
      "Precision: 0.134, Recall: 0.973, F1-score: 0.236\n"
     ]
    }
   ],
   "source": [
    "df_with_results_label_10 = get_df_with_results(labels=10)\n",
    "calculate_total_scores(df_with_results_label_10)"
   ]
  },
  {
   "cell_type": "code",
   "execution_count": 98,
   "metadata": {},
   "outputs": [
    {
     "data": {
      "text/html": [
       "<div>\n",
       "<style scoped>\n",
       "    .dataframe tbody tr th:only-of-type {\n",
       "        vertical-align: middle;\n",
       "    }\n",
       "\n",
       "    .dataframe tbody tr th {\n",
       "        vertical-align: top;\n",
       "    }\n",
       "\n",
       "    .dataframe thead th {\n",
       "        text-align: right;\n",
       "    }\n",
       "</style>\n",
       "<table border=\"1\" class=\"dataframe\">\n",
       "  <thead>\n",
       "    <tr style=\"text-align: right;\">\n",
       "      <th></th>\n",
       "      <th>predicted_labels</th>\n",
       "      <th>actual_labels</th>\n",
       "      <th>precision</th>\n",
       "      <th>recall</th>\n",
       "    </tr>\n",
       "  </thead>\n",
       "  <tbody>\n",
       "    <tr>\n",
       "      <th>4156</th>\n",
       "      <td>[f27d, f27b, f23g, f23j, f23c, f23k, f26b, f02...</td>\n",
       "      <td>[f01d, f02c]</td>\n",
       "      <td>0.0</td>\n",
       "      <td>0.0</td>\n",
       "    </tr>\n",
       "    <tr>\n",
       "      <th>8879</th>\n",
       "      <td>[f26b, f24f, f04d, f03b, f03d, f23j, f16c, f01...</td>\n",
       "      <td>[f27d]</td>\n",
       "      <td>0.0</td>\n",
       "      <td>0.0</td>\n",
       "    </tr>\n",
       "    <tr>\n",
       "      <th>2876</th>\n",
       "      <td>[f25j, f25b, f17c, f28d, f28f, f17d, f25c, f28...</td>\n",
       "      <td>[f25d]</td>\n",
       "      <td>0.0</td>\n",
       "      <td>0.0</td>\n",
       "    </tr>\n",
       "    <tr>\n",
       "      <th>4949</th>\n",
       "      <td>[f24f, f16l, f04d, f16j, f04b, f28f, f16k, f02...</td>\n",
       "      <td>[f16b]</td>\n",
       "      <td>0.0</td>\n",
       "      <td>0.0</td>\n",
       "    </tr>\n",
       "    <tr>\n",
       "      <th>9320</th>\n",
       "      <td>[f17c, f24h, f24d, f17d, f28d, f04b, f16k, f04...</td>\n",
       "      <td>[f15b]</td>\n",
       "      <td>0.0</td>\n",
       "      <td>0.0</td>\n",
       "    </tr>\n",
       "  </tbody>\n",
       "</table>\n",
       "</div>"
      ],
      "text/plain": [
       "                                       predicted_labels actual_labels  \\\n",
       "4156  [f27d, f27b, f23g, f23j, f23c, f23k, f26b, f02...  [f01d, f02c]   \n",
       "8879  [f26b, f24f, f04d, f03b, f03d, f23j, f16c, f01...        [f27d]   \n",
       "2876  [f25j, f25b, f17c, f28d, f28f, f17d, f25c, f28...        [f25d]   \n",
       "4949  [f24f, f16l, f04d, f16j, f04b, f28f, f16k, f02...        [f16b]   \n",
       "9320  [f17c, f24h, f24d, f17d, f28d, f04b, f16k, f04...        [f15b]   \n",
       "\n",
       "      precision  recall  \n",
       "4156        0.0     0.0  \n",
       "8879        0.0     0.0  \n",
       "2876        0.0     0.0  \n",
       "4949        0.0     0.0  \n",
       "9320        0.0     0.0  "
      ]
     },
     "execution_count": 98,
     "metadata": {},
     "output_type": "execute_result"
    }
   ],
   "source": [
    "df_with_results_label_10.sort_values(\"recall\").head()"
   ]
  },
  {
   "cell_type": "code",
   "execution_count": 99,
   "metadata": {},
   "outputs": [
    {
     "data": {
      "text/html": [
       "<div>\n",
       "<style scoped>\n",
       "    .dataframe tbody tr th:only-of-type {\n",
       "        vertical-align: middle;\n",
       "    }\n",
       "\n",
       "    .dataframe tbody tr th {\n",
       "        vertical-align: top;\n",
       "    }\n",
       "\n",
       "    .dataframe thead th {\n",
       "        text-align: right;\n",
       "    }\n",
       "</style>\n",
       "<table border=\"1\" class=\"dataframe\">\n",
       "  <thead>\n",
       "    <tr style=\"text-align: right;\">\n",
       "      <th></th>\n",
       "      <th>predicted_labels</th>\n",
       "      <th>actual_labels</th>\n",
       "      <th>precision</th>\n",
       "      <th>recall</th>\n",
       "    </tr>\n",
       "  </thead>\n",
       "  <tbody>\n",
       "    <tr>\n",
       "      <th>10406</th>\n",
       "      <td>[f28f, f28d, f16d, f25b, f24j, f03g, f01p, f28...</td>\n",
       "      <td>[f15b]</td>\n",
       "      <td>0.0</td>\n",
       "      <td>0.0</td>\n",
       "    </tr>\n",
       "    <tr>\n",
       "      <th>2657</th>\n",
       "      <td>[f16b, f16j, f16l, f42b, f16k, f16m, f16c, f41...</td>\n",
       "      <td>[f17c]</td>\n",
       "      <td>0.0</td>\n",
       "      <td>0.0</td>\n",
       "    </tr>\n",
       "    <tr>\n",
       "      <th>14564</th>\n",
       "      <td>[f17d, f03b, f04f, f28g, f15d, f04d, f24f, f04...</td>\n",
       "      <td>[f16l]</td>\n",
       "      <td>0.0</td>\n",
       "      <td>0.0</td>\n",
       "    </tr>\n",
       "    <tr>\n",
       "      <th>4089</th>\n",
       "      <td>[f23r, f23c, f23d, f02c, f23l, f23m, f28d, f01...</td>\n",
       "      <td>[f02m]</td>\n",
       "      <td>0.0</td>\n",
       "      <td>0.0</td>\n",
       "    </tr>\n",
       "    <tr>\n",
       "      <th>11326</th>\n",
       "      <td>[f21v, f21s, f16d, f21y, f16c, f21w, f16m, f41...</td>\n",
       "      <td>[f16p]</td>\n",
       "      <td>0.0</td>\n",
       "      <td>0.0</td>\n",
       "    </tr>\n",
       "  </tbody>\n",
       "</table>\n",
       "</div>"
      ],
      "text/plain": [
       "                                        predicted_labels actual_labels  \\\n",
       "10406  [f28f, f28d, f16d, f25b, f24j, f03g, f01p, f28...        [f15b]   \n",
       "2657   [f16b, f16j, f16l, f42b, f16k, f16m, f16c, f41...        [f17c]   \n",
       "14564  [f17d, f03b, f04f, f28g, f15d, f04d, f24f, f04...        [f16l]   \n",
       "4089   [f23r, f23c, f23d, f02c, f23l, f23m, f28d, f01...        [f02m]   \n",
       "11326  [f21v, f21s, f16d, f21y, f16c, f21w, f16m, f41...        [f16p]   \n",
       "\n",
       "       precision  recall  \n",
       "10406        0.0     0.0  \n",
       "2657         0.0     0.0  \n",
       "14564        0.0     0.0  \n",
       "4089         0.0     0.0  \n",
       "11326        0.0     0.0  "
      ]
     },
     "execution_count": 99,
     "metadata": {},
     "output_type": "execute_result"
    }
   ],
   "source": [
    "df_with_results_label_10.sort_values(\"precision\").head()"
   ]
  },
  {
   "cell_type": "code",
   "execution_count": null,
   "metadata": {},
   "outputs": [],
   "source": []
  }
 ],
 "metadata": {
  "kernelspec": {
   "display_name": "Python 3",
   "language": "python",
   "name": "python3"
  },
  "language_info": {
   "codemirror_mode": {
    "name": "ipython",
    "version": 3
   },
   "file_extension": ".py",
   "mimetype": "text/x-python",
   "name": "python",
   "nbconvert_exporter": "python",
   "pygments_lexer": "ipython3",
   "version": "3.6.4"
  },
  "notify_time": "0",
  "varInspector": {
   "cols": {
    "lenName": 16,
    "lenType": 16,
    "lenVar": 40
   },
   "kernels_config": {
    "python": {
     "delete_cmd_postfix": "",
     "delete_cmd_prefix": "del ",
     "library": "var_list.py",
     "varRefreshCmd": "print(var_dic_list())"
    },
    "r": {
     "delete_cmd_postfix": ") ",
     "delete_cmd_prefix": "rm(",
     "library": "var_list.r",
     "varRefreshCmd": "cat(var_dic_list()) "
    }
   },
   "types_to_exclude": [
    "module",
    "function",
    "builtin_function_or_method",
    "instance",
    "_Feature"
   ],
   "window_display": false
  }
 },
 "nbformat": 4,
 "nbformat_minor": 2
}
